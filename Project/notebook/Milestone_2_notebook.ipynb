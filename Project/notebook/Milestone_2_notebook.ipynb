{
 "cells": [
  {
   "cell_type": "markdown",
   "metadata": {},
   "source": [
    "# Topic Detection with LDA (Latent Dirichlet allocation)"
   ]
  },
  {
   "cell_type": "code",
   "execution_count": 72,
   "metadata": {
    "collapsed": true
   },
   "outputs": [],
   "source": [
    "from sklearn.feature_extraction.text import CountVectorizer\n",
    "from sklearn.decomposition import LatentDirichletAllocation\n",
    "from helpers import *\n",
    "import numpy as np\n",
    "import matplotlib.pyplot as plt\n",
    "import json\n",
    "import re\n",
    "import operator\n",
    "import collections\n",
    "import pandas as pd\n",
    "import os\n",
    "import glob\n",
    "import datetime"
   ]
  },
  {
   "cell_type": "markdown",
   "metadata": {},
   "source": [
    "## Loading data\n",
    "* Here we load the stopwords (their usage will be explained later) and all the data through an helper function load_data(). This function load all the data in one dictionary (all data) and two lists (condensed and master) and returns them. The dictionary values and the lists elements are pandas DataFrames. For what concerns the dictionary, we can access a DataFrame that refers to a json file using the file name without the .json extension. E.g.: all_data[\"condensed_2009\"]"
   ]
  },
  {
   "cell_type": "code",
   "execution_count": 42,
   "metadata": {
    "collapsed": true
   },
   "outputs": [],
   "source": [
    "with open('stopwords/stopwords_joined.json', 'r') as f:\n",
    "         stopwords = json.load(f)\n",
    "        \n",
    "all_data, condensed, master = load_data()"
   ]
  },
  {
   "cell_type": "markdown",
   "metadata": {},
   "source": [
    "* We decided to use only the condensed tweets and not the master ones because in the latter ones there are a lot of informations that are not useful to our analysis. Every DataFrame in the condensed list contains all the tweets of one specific year (from 2009 to 2017).\n",
    "* As explained in David Robertson's [article](http://varianceexplained.org/r/trump-tweets/) and as reproduced by us, Trump tweets from an Android phone from a laptop. All the tweets from an iPhone are tweets made by his staff, so we decided to exclude them from our analysis. We excluded as well the retweets, because they are not preparatory for studying Trump's behavior.\n",
    "* So what we are going to do is to save every text from the tweets in a list and all the info about those tweets in another list. In this way we can work with text only elements and when we will need them, it will be easy to link the text to their additional info."
   ]
  },
  {
   "cell_type": "code",
   "execution_count": 43,
   "metadata": {
    "collapsed": true
   },
   "outputs": [],
   "source": [
    "def to_flat_list(list_):\n",
    "    '''Helper function that transforms a list of list in a flat list'''\n",
    "    return [item for sublist in list_ for item in sublist]\n",
    "\n",
    "# This list will contain the texts from every tweet chosen\n",
    "condensed_text = []\n",
    "# This list will contain the dates from every tweet chosen\n",
    "condensed_date = []\n",
    "# This list will contain the retweet counts from every tweet chosen\n",
    "condensed_retweet_count = []\n",
    "# This list will contain the favorite counts from every tweet chosen\n",
    "condensed_favorite_count = []\n",
    "# This list will contain the ids from every tweet chosen\n",
    "condensed_id = []\n",
    "\n",
    "'''\n",
    "Now, for every element (DataFrame) in the condensed list, we take the informations \n",
    "above explained and we put them in the right list.\n",
    "We don't choose tweets that are retweet or that are from an iPhone.\n",
    "'''\n",
    "for x in condensed:\n",
    "    temp = x[x.is_retweet == False]\n",
    "    temp = temp[temp.source != \"Twitter for iPhone\"]\n",
    "    condensed_text.append(temp.text.tolist())\n",
    "    condensed_date.append(temp.created_at.tolist())\n",
    "    condensed_retweet_count.append(temp.retweet_count.tolist())\n",
    "    condensed_favorite_count.append(temp.favorite_count.tolist())\n",
    "    condensed_id.append(temp.id_str.tolist())\n",
    "\n",
    "'''\n",
    "Since we don't want to have a list of lists (every list inside the list now contains\n",
    "the specific data (text, date, ...) for an entire year: we don't want to make a difference\n",
    "between the years now), we make every list a flat list.\n",
    "'''\n",
    "flat_list_text = to_flat_list(condensed_text)\n",
    "flat_list_date = to_flat_list(condensed_date)\n",
    "flat_list_retweet_count = to_flat_list(condensed_retweet_count)\n",
    "flat_list_favorite_count = to_flat_list(condensed_favorite_count)\n",
    "flat_list_id = to_flat_list(condensed_id)\n",
    "\n",
    "'''\n",
    "Evert additional information (i.e. everything that is not the text of a tweet) is saved\n",
    "in a list of tuples. Every tuple is composed by (date, retweet_count, favorite_count, id).\n",
    "The elements on the same index of the two lists (flat_list_text and flat_list_info) refer\n",
    "to the same tweet.\n",
    "'''\n",
    "flat_list_info = []\n",
    "for date, ret, fav, id_ in zip(flat_list_date, flat_list_retweet_count, flat_list_favorite_count, flat_list_id):\n",
    "    flat_list_info.append((date, ret, fav, id_))"
   ]
  },
  {
   "cell_type": "markdown",
   "metadata": {},
   "source": [
    "## LDA"
   ]
  },
  {
   "cell_type": "markdown",
   "metadata": {},
   "source": [
    "* From now on, we will start the process of 'clustering' the texts in different topics.\n",
    "* Additional note: before using the stopwords, we tried to use stemming on the text. Stemming is the process that reduce every word to its root. This method didn't give us the expected results. If you are interested in the stemming process, we used PorterStemmer from nltk library. You can find all the documentation [here](http://www.nltk.org/api/nltk.stem.html)."
   ]
  },
  {
   "cell_type": "markdown",
   "metadata": {},
   "source": [
    "* We use a CountVectorized (from skelearn) that convert a collection of text documents to a matrix of token counts. We chose a max_features = 1000 in order to take account of only the 1000 most used words in the bag of words matrix.\n",
    "* The stopwords used in this script are an union between handmade stopwords and the stopwords that you can get [here](https://www.ranks.nl/stopwords) - in the section 'Long Stopword List'. Every word inside the stopwords is not used to cluster the tweets. They are really useful because without them we could find tweets in the same topic but that refer to different topics. For example, 'the' is a very common stopword, because it doesn't give any information about the topic of the tweet. If we take account of that word during the clustering, two tweets that have a lot of 'the' in their content may finish in the same topic, but it's not right!"
   ]
  },
  {
   "cell_type": "code",
   "execution_count": 44,
   "metadata": {
    "collapsed": true
   },
   "outputs": [],
   "source": [
    "no_features = 1000\n",
    "tf_vectorizer = CountVectorizer(max_df=0.95, min_df=2, max_features=no_features, stop_words=stopwords)"
   ]
  },
  {
   "cell_type": "markdown",
   "metadata": {},
   "source": [
    "* Now we are going to call two methods from the tf_vectorizer: fit_transform and get_features_names. The first one learn the vocabulary dictionary and return the term-document matrix. Every row of the matrix refer to a term and every column refer to a document. Every value is given by: tf_i,j * idf_i.\n",
    "* Let's explain them: tf_i,j is the term frequency of the i_th term on the j_th document, so tf_i,j = Nij/Dj, where Nij is the occurency of term i in document j and Dj is the length (number of words) of the document j; idf_i is the inverse document frequency and so idf_i = log10(D/number_of_documents_that_contain_i): D is the total number of documents and the denominator is self explaining. So the idf_i factor explains the importance of a term in that document. Here is an example: let's say that we have 10 documents and we take the 3rd one. In the 3rd one we choose the word 'cat', which is repeated 20 times, so tf_cat,3 = 20. We can find the word 'cat' in only 1 other document, so this means that cat is very important to describe this document, since it's very rare to find it in other documents. That's why the idf_cat will be very high: idf_cat = log10(20/2) = 1.\n",
    "* get_features_names() returns an array mapping from feature integer indices to feature name, or, in other words, the 1000 words that have been chosen by the CountVectorizer."
   ]
  },
  {
   "cell_type": "code",
   "execution_count": 45,
   "metadata": {
    "collapsed": true
   },
   "outputs": [],
   "source": [
    "tf = tf_vectorizer.fit_transform(flat_list_text)\n",
    "tf_feature_names = tf_vectorizer.get_feature_names()"
   ]
  },
  {
   "cell_type": "markdown",
   "metadata": {},
   "source": [
    "* Unluckily, the LDA algorithm can't find automatically the number of topics and so we need to give him the number of total topics that we have to find. Before finding the right number of topics and the right stopwords in order to have coherence in our topics, we had to try many times. The final result is that if we divide all the texts in 8 topics and then work a little bit with them, we find good coherence in the texts of the same topic."
   ]
  },
  {
   "cell_type": "code",
   "execution_count": 46,
   "metadata": {
    "collapsed": true
   },
   "outputs": [],
   "source": [
    "no_topics = 8\n",
    "lda_model = LatentDirichletAllocation(n_components=no_topics, max_iter=5, learning_method='online', learning_offset=50.,random_state=0).fit(tf)"
   ]
  },
  {
   "cell_type": "markdown",
   "metadata": {},
   "source": [
    "* At this point, in order to show our results, we need to find the W (topics to documents) and H (word to topics) matrices. H: every row is a topic, every column is a word (columns length = no_features); the elements inside the matrix contain the weight of every word about the topic. W: every row is a document, every column is a topic; the elements inside the matrix contain the weight of every topic in the document."
   ]
  },
  {
   "cell_type": "code",
   "execution_count": 47,
   "metadata": {
    "collapsed": true
   },
   "outputs": [],
   "source": [
    "lda_W = lda_model.transform(tf)\n",
    "lda_H = lda_model.components_"
   ]
  },
  {
   "cell_type": "markdown",
   "metadata": {},
   "source": [
    "* Here we define a function that shows the first three words and three documents and their scores of every topic. If you want to see more documents, just change the variables number_of_words and number_of_documents."
   ]
  },
  {
   "cell_type": "code",
   "execution_count": 48,
   "metadata": {
    "scrolled": false
   },
   "outputs": [
    {
     "name": "stdout",
     "output_type": "stream",
     "text": [
      "Topic 0:\n",
      "country america 2016\n",
      "The  @SuperCommittee must cut spending, not raise taxes. Washington has a spending problem, not a revenue problem.\n",
      "Score: 0.902777777062\n",
      "\n",
      "\n",
      "The Washington Establishment will never rein in government spending, waste, fraud and abuse. A great thinker and outsider is needed.\n",
      "Score: 0.890624999112\n",
      "\n",
      "\n",
      "He is destroying our country:@BarackObama has requested to raise our debt limit to over $16.4Trillion by the end (cont) http://t.co/A5DGJvhP\n",
      "Score: 0.890621265436\n",
      "\n",
      "\n",
      "Topic 1:\n",
      "vote media hotel\n",
      "Those five hotels includeTrump International Hotel & Tower New York, Trump Soho New York, Trump International Hotel & Tower Chicago...\n",
      "Score: 0.92045349805\n",
      "\n",
      "\n",
      "...Trump International Hotel Las Vegas, and Trump International Hotel & Tower Waikiki Beach Walk. http://tlworldsbest.roiresearch.com/.\n",
      "Score: 0.902777777445\n",
      "\n",
      "\n",
      "Check out Trump International Hotel & Tower New York --spectacular! http://www.trump.com/Hotel_Collection/Trump_New_york/Trump_New_York.asp\n",
      "Score: 0.874997860738\n",
      "\n",
      "\n",
      "Topic 2:\n",
      "president obama hillary\n",
      "The Keystone pipeline will create 20,000 jobs and lower gas prices. But Obama says No. Dumb.\n",
      "Score: 0.902747617842\n",
      "\n",
      "\n",
      "Govt. collapsing in Iraq only 2 weeks after withdrawal of our troops. Sadly, I called this one and please remember, I alone called it.\n",
      "Score: 0.890615442728\n",
      "\n",
      "\n",
      "President Obama strongly considering a plan to bring non-U.S. citizens with Ebola to the United States for treatment. Now I know he's nuts!\n",
      "Score: 0.874995017709\n",
      "\n",
      "\n",
      "Topic 3:\n",
      "apprenticenbc night cnn\n",
      "I appeared on David Letterman last night. And don't forget Sunday night---the first episode of Celebrity Apprentice will be on NBC at 9 pm.\n",
      "Score: 0.927083329968\n",
      "\n",
      "\n",
      "ALso coming up: The Celebrity Apprentice returns. Sunday night March 6 at 9 pm EST http://www.nbc.com/the-apprentice/\n",
      "Score: 0.920454543331\n",
      "\n",
      "\n",
      "Don't forget! Sunday night at 9 pm EST on @nbc--Celebrity Apprentice is back! Tune in for a great show. @ApprenticeNBC\n",
      "Score: 0.920454543234\n",
      "\n",
      "\n",
      "Topic 4:\n",
      "win clinton crooked\n",
      ".@AlexSalmond –the man who let terrorist (Pan Am Flight 103) al-Megrahi  go, lost another battle over ugly wind turbines in Blackdog.\n",
      "Score: 0.874998269897\n",
      "\n",
      "\n",
      "“Deals are my art form.  I like making deals, preferably big deals.” – The Art of The Deal\n",
      "Score: 0.874997785613\n",
      "\n",
      "\n",
      "Today's open call drew thousands of  eager applicants. It was an impressive group,  I enjoyed meeting them. We've got some great candidates!\n",
      "Score: 0.874997138082\n",
      "\n",
      "\n",
      "Topic 5:\n",
      "business news national\n",
      "Spent a beautiful weekend golfing at Trump National Golf Club Westchester and Trump National Golf Club Bedminster.\n",
      "Score: 0.902774476063\n",
      "\n",
      "\n",
      ".@mcuban says he is a member of Dallas National but doesn’t play golf. Who is a member of a golf club that doesn’t play?? No talent! @TMZ\n",
      "Score: 0.902714327093\n",
      "\n",
      "\n",
      "Spent the weekend in LA checking out Trump National Golf Club on the Pacific Ocean. An amazing place!  http://t.co/REIlVbo99C\n",
      "Score: 0.874997174526\n",
      "\n",
      "\n",
      "Topic 6:\n",
      "trump2016 makeamericagreatagain campaign\n",
      "Third Gun Linked to 'Fast and Furious' Identified at Border Agent's Murder Scene. When will the White House come clean?\n",
      "Score: 0.854166665992\n",
      "\n",
      "\n",
      "\"Before Kids Can Go Places, They Need a Place To Go\" -- the motto of The Police Athletic League, an organization I'm  very proud to support\n",
      "Score: 0.854166665603\n",
      "\n",
      "\n",
      "@ABCPolitics must apologize. My statement \"we're going to get them out so fast, so quick\" applied to hard core criminals &amp; gang members. LIE\n",
      "Score: 0.824999999267\n",
      "\n",
      "\n",
      "Topic 7:\n",
      "people job work\n",
      "A clip from my @foxandfriends interview discussing how  Newsmax-@iontv debate is determining the GOP primary polls http://t.co/yqIzaX1W\n",
      "Score: 0.902770346112\n",
      "\n",
      "\n",
      "My @FoxNews interview with @megynkelly discussing the 2012 election and the Newsmax-@iontv debate http://t.co/TotTpvNZ\n",
      "Score: 0.902768694732\n",
      "\n",
      "\n",
      "My interview on @theviewtv discussing #TimeToGetTough, the GOP primary and the Newsmax-@iontv  debate(starts at 23:00) http://t.co/ROcUyAXe\n",
      "Score: 0.902757538492\n",
      "\n",
      "\n"
     ]
    }
   ],
   "source": [
    "def show_topics(H, W, feature_names, documents, number_of_words, number_of_documents):\n",
    "    '''\n",
    "    If we do an inverse argsort of a topic (of a row) of matrix H, that returns the indices of the ordered list\n",
    "    of the scores/weights and we use those indices to extract words from feature_names.\n",
    "    These words will be ordered from the most to the least important.\n",
    "    We did the same reasoning for the W matrix (documents)\n",
    "    '''\n",
    "    \n",
    "    for topic_idx, topic in enumerate(H):\n",
    "        print(\"Topic %d:\" % (topic_idx))\n",
    "        print(\" \".join([feature_names[i]\n",
    "                        for i in topic.argsort()[:-no_top_words - 1:-1]]))\n",
    "        top_doc_indices = np.argsort(W[:, topic_idx])[::-1][0:no_top_documents]\n",
    "        for doc_index in top_doc_indices:\n",
    "            print(documents[doc_index])\n",
    "            print('Score: ' + str(W[doc_index, topic_idx]))\n",
    "            print('\\n')\n",
    "            \n",
    "no_top_words = 3\n",
    "no_top_documents = 3\n",
    "show_topics(lda_H, lda_W, tf_feature_names, flat_list_text, no_top_words, no_top_documents)"
   ]
  },
  {
   "cell_type": "markdown",
   "metadata": {},
   "source": [
    "* We looked through the documents in the topics and we found out that the 8 topics are divided as follows:\n",
    "     <p>0) POLITICS\n",
    "     <p>1) HOTELS AND GOLF\n",
    "     <p>2) POLITICS\n",
    "     <p>3) CELEBRITY APPRENTICE AND SHOWS\n",
    "     <p>4) BOOKS, YANKEES, QUOTATIONS\n",
    "     <p>5) GOLF, TRUMP'S BUSINESS\n",
    "     <p>6) QUATATIONS, COMMENTS OF DIFFERENT KIND\n",
    "     <p>7) INTERVIEWS AND DEBATES"
   ]
  },
  {
   "cell_type": "markdown",
   "metadata": {},
   "source": [
    "* We can see that the clustering is not perfect (category 4 and 6 are a little confused), but we are having the first results. We can see that not always there is a strong correspondance between the most common words and the real meaning of the topic, but we will take care of that.\n",
    "* First we will put together topics 1-5 in a TRUMP'S BUSINESS CATEGORY: this new cluster will contain topics such as golf, hotels, Trump's cologne, Trump Signature Collection... Secondly we will put together topics 4-6 in a VARIOUS category: this new cluster will contain topics such as general tweets, books, quotations... Lastly, we will put together topics 0-2: this new topic will contain everything that refers to politics.\n",
    "* While putting everything together, we will have to be careful in choosing the documents that refer to that topic with a score at least of the 60% in order to mantain coherence. For this reason we will not consider documents for a topic under that threshold.\n",
    "* NOTE: we can have the same document in more topics."
   ]
  },
  {
   "cell_type": "code",
   "execution_count": 49,
   "metadata": {
    "collapsed": true
   },
   "outputs": [],
   "source": [
    "business = []\n",
    "scores_business = []\n",
    "various = []\n",
    "scores_various = []\n",
    "politics = []\n",
    "scores_politics = []\n",
    "shows = []\n",
    "scores_shows = []\n",
    "interviews = []\n",
    "scores_interviews = []\n",
    "\n",
    "number_of_tweets_kept = 0\n",
    "'''In every topic list we append the text and the index of the tweet in order to get the info later'''\n",
    "for topic_idx, topic in enumerate(lda_H):\n",
    "\n",
    "    # Taking the indices of the documents ordered by importance in the topic\n",
    "    top_doc_indices_ordered = np.argsort(lda_W[:, topic_idx])[::-1]\n",
    "\n",
    "    for doc_index in top_doc_indices_ordered:\n",
    "        score = lda_W[doc_index, topic_idx]\n",
    "\n",
    "        # If the documents are less important than 0.60, I finish collecting documents for that topic\n",
    "        if (score < 0.60):\n",
    "            break\n",
    "\n",
    "        # BUSINESS\n",
    "        if topic_idx == 1 or topic_idx == 5:\n",
    "\n",
    "            business.append([flat_list_text[doc_index], doc_index])\n",
    "            scores_business.append(score)\n",
    "\n",
    "        # VARIOUS\n",
    "        elif topic_idx == 4 or topic_idx == 6:\n",
    "\n",
    "            various.append([flat_list_text[doc_index], doc_index])\n",
    "            scores_various.append(score)\n",
    "\n",
    "        # POLITICS\n",
    "        elif topic_idx == 0 or topic_idx == 2:\n",
    "            politics.append([flat_list_text[doc_index], doc_index])\n",
    "            scores_politics.append(score)\n",
    "\n",
    "        # CELEBRITY APPRENTICE AND SHOWS\n",
    "        elif topic_idx == 3:\n",
    "\n",
    "            shows.append([flat_list_text[doc_index], doc_index])\n",
    "            scores_shows.append(score)\n",
    "\n",
    "        # INTERVIEWS AND DEBATES\n",
    "        elif topic_idx == 7:\n",
    "\n",
    "            interviews.append([flat_list_text[doc_index], doc_index])\n",
    "            scores_interviews.append(score)\n",
    "        \n",
    "        number_of_tweets_kept += 1"
   ]
  },
  {
   "cell_type": "markdown",
   "metadata": {},
   "source": [
    "* Now let's see what happened! We will show just the first 5 documents in the topic, but if you are curious to see more do not hesitate to see more documents just changing the max_document value"
   ]
  },
  {
   "cell_type": "code",
   "execution_count": 50,
   "metadata": {},
   "outputs": [
    {
     "name": "stdout",
     "output_type": "stream",
     "text": [
      "NEW TOPIC: BUSINESS\n",
      "['Those five hotels includeTrump International Hotel & Tower New York, Trump Soho New York, Trump International Hotel & Tower Chicago...', 61]\n",
      "0.92045349805\n",
      "\n",
      "['...Trump International Hotel Las Vegas, and Trump International Hotel & Tower Waikiki Beach Walk. http://tlworldsbest.roiresearch.com/.', 60]\n",
      "0.902777777445\n",
      "\n",
      "['Spent a beautiful weekend golfing at Trump National Golf Club Westchester and Trump National Golf Club Bedminster.', 100]\n",
      "0.902774476063\n",
      "\n",
      "['.@mcuban says he is a member of Dallas National but doesn’t play golf. Who is a member of a golf club that doesn’t play?? No talent! @TMZ', 17281]\n",
      "0.902714327093\n",
      "\n",
      "['Check out Trump International Hotel & Tower New York --spectacular! http://www.trump.com/Hotel_Collection/Trump_New_york/Trump_New_York.asp', 96]\n",
      "0.874997860738\n",
      "\n"
     ]
    }
   ],
   "source": [
    "max_document = 5\n",
    "'''PRINT BUSINESS TOPIC'''\n",
    "scores_business_idx_ordered = np.argsort(scores_business)[::-1][:max_document]\n",
    "print(\"NEW TOPIC: BUSINESS\")\n",
    "for index in scores_business_idx_ordered:\n",
    "    print(business[index])\n",
    "    print(scores_business[index])\n",
    "    print()"
   ]
  },
  {
   "cell_type": "code",
   "execution_count": 51,
   "metadata": {},
   "outputs": [
    {
     "name": "stdout",
     "output_type": "stream",
     "text": [
      "NEW TOPIC: VARIOUS \n",
      "['.@AlexSalmond –the man who let terrorist (Pan Am Flight 103) al-Megrahi  go, lost another battle over ugly wind turbines in Blackdog.', 5288]\n",
      "0.874998269897\n",
      "\n",
      "['“Deals are my art form.  I like making deals, preferably big deals.” – The Art of The Deal', 1026]\n",
      "0.874997785613\n",
      "\n",
      "[\"Today's open call drew thousands of  eager applicants. It was an impressive group,  I enjoyed meeting them. We've got some great candidates!\", 179]\n",
      "0.874997138082\n",
      "\n",
      "['A great gift idea is my new book #TimeToGetTough, easy to order on Amazon    http://t.co/V6RmNj7x', 249]\n",
      "0.874978824221\n",
      "\n",
      "[\"Third Gun Linked to 'Fast and Furious' Identified at Border Agent's Murder Scene. When will the White House come clean?\", 666]\n",
      "0.854166665992\n",
      "\n"
     ]
    }
   ],
   "source": [
    "'''PRINT VARIOUS TOPIC'''\n",
    "scores_various_idx_ordered = np.argsort(scores_various)[::-1][:max_document]\n",
    "print(\"NEW TOPIC: VARIOUS \")\n",
    "for index in scores_various_idx_ordered:\n",
    "    print(various[index])\n",
    "    print(scores_various[index])\n",
    "    print()"
   ]
  },
  {
   "cell_type": "code",
   "execution_count": 52,
   "metadata": {},
   "outputs": [
    {
     "name": "stdout",
     "output_type": "stream",
     "text": [
      "NEW TOPIC: POLITICS \n",
      "['The  @SuperCommittee must cut spending, not raise taxes. Washington has a spending problem, not a revenue problem.', 486]\n",
      "0.902777777062\n",
      "\n",
      "['The Keystone pipeline will create 20,000 jobs and lower gas prices. But Obama says No. Dumb.', 217]\n",
      "0.902747617842\n",
      "\n",
      "['The Washington Establishment will never rein in government spending, waste, fraud and abuse. A great thinker and outsider is needed.', 198]\n",
      "0.890624999112\n",
      "\n",
      "['He is destroying our country:@BarackObama has requested to raise our debt limit to over $16.4Trillion by the end (cont) http://t.co/A5DGJvhP', 208]\n",
      "0.890621265436\n",
      "\n",
      "[\"China has 5 oil projects in Iraq and we didn't get anything from the Iraqis except asked to leave. Iraq is going (cont) http://t.co/KhujI5YC\", 210]\n",
      "0.890616822269\n",
      "\n"
     ]
    }
   ],
   "source": [
    "'''PRINT POLITICS TOPIC'''\n",
    "scores_politcs_idx_ordered = np.argsort(scores_politics)[::-1][:max_document]\n",
    "print(\"NEW TOPIC: POLITICS \")\n",
    "for index in scores_politcs_idx_ordered:\n",
    "    print(politics[index])\n",
    "    print(scores_politics[index])\n",
    "    print()"
   ]
  },
  {
   "cell_type": "code",
   "execution_count": 53,
   "metadata": {},
   "outputs": [
    {
     "name": "stdout",
     "output_type": "stream",
     "text": [
      "NEW TOPIC: SHOWS \n",
      "[\"I appeared on David Letterman last night. And don't forget Sunday night---the first episode of Celebrity Apprentice will be on NBC at 9 pm.\", 944]\n",
      "0.927083329968\n",
      "\n",
      "['ALso coming up: The Celebrity Apprentice returns. Sunday night March 6 at 9 pm EST http://www.nbc.com/the-apprentice/', 948]\n",
      "0.920454543331\n",
      "\n",
      "[\"Don't forget! Sunday night at 9 pm EST on @nbc--Celebrity Apprentice is back! Tune in for a great show. @ApprenticeNBC\", 4188]\n",
      "0.920454543234\n",
      "\n",
      "[\"Sunday night at 9 PM EST will be re-run of last week's episode of Celebrity @ApprenticeNBC, followed by new episode at 10 PM.\", 10078]\n",
      "0.91249999745\n",
      "\n",
      "['Only 10 more days until the premiere of All-Star @ApprenticeNBC. On March 3rd at 9PM EST @NBC the fireworks return to the Board Room!', 11315]\n",
      "0.912497131447\n",
      "\n"
     ]
    }
   ],
   "source": [
    "'''PRINT SHOWS TOPIC'''\n",
    "scores_shows_idx_ordered = np.argsort(scores_shows)[::-1][:max_document]\n",
    "print(\"NEW TOPIC: SHOWS \")\n",
    "for index in scores_shows_idx_ordered:\n",
    "    print(shows[index])\n",
    "    print(scores_shows[index])\n",
    "    print()"
   ]
  },
  {
   "cell_type": "code",
   "execution_count": 54,
   "metadata": {},
   "outputs": [
    {
     "name": "stdout",
     "output_type": "stream",
     "text": [
      "NEW TOPIC: INTERVIEWS AND DEBATES \n",
      "['A clip from my @foxandfriends interview discussing how  Newsmax-@iontv debate is determining the GOP primary polls http://t.co/yqIzaX1W', 313]\n",
      "0.902770346112\n",
      "\n",
      "['My @FoxNews interview with @megynkelly discussing the 2012 election and the Newsmax-@iontv debate http://t.co/TotTpvNZ', 319]\n",
      "0.902768694732\n",
      "\n",
      "['My interview on @theviewtv discussing #TimeToGetTough, the GOP primary and the Newsmax-@iontv  debate(starts at 23:00) http://t.co/ROcUyAXe', 312]\n",
      "0.902757538492\n",
      "\n",
      "['My FoxBusiness interview with Don Imus discussing #TimeToGetTough, the GOP primary and the Newsmax-@iontv debate http://t.co/ZafIoWf2', 318]\n",
      "0.890598756259\n",
      "\n",
      "['My interview with @EWErickson of @RedState discussing #TimeToGetTough, GOP primary and my 2012 options  http://t.co/SD6NqxZR', 290]\n",
      "0.874976061873\n",
      "\n"
     ]
    }
   ],
   "source": [
    "'''PRINT INTERVIEWS AND DEBATES TOPIC'''\n",
    "scores_interviews_idx_ordered = np.argsort(scores_interviews)[::-1][:max_document]\n",
    "print(\"NEW TOPIC: INTERVIEWS AND DEBATES \")\n",
    "for index in scores_interviews_idx_ordered:\n",
    "    print(interviews[index])\n",
    "    print(scores_interviews[index])\n",
    "    print()"
   ]
  },
  {
   "cell_type": "markdown",
   "metadata": {},
   "source": [
    "* Since we have chosen to keep only the documents that refered to one topic with a score of 60%, we are keeping only ~14% of the total tweets in the topic detection. We think that is fine, because the analysis that refer to the topics is not influenced by other tweets."
   ]
  },
  {
   "cell_type": "code",
   "execution_count": 55,
   "metadata": {},
   "outputs": [
    {
     "data": {
      "text/plain": [
       "(28220, 3769)"
      ]
     },
     "execution_count": 55,
     "metadata": {},
     "output_type": "execute_result"
    }
   ],
   "source": [
    "len(flat_list_text), number_of_tweets_kept"
   ]
  },
  {
   "cell_type": "code",
   "execution_count": 56,
   "metadata": {},
   "outputs": [
    {
     "name": "stdout",
     "output_type": "stream",
     "text": [
      "Number of tweets in topic politics:  1536\n",
      "Number of tweets in topic business:  691\n",
      "Number of tweets in topic various:  498\n",
      "Number of tweets in topic shows:  743\n",
      "Number of tweets in topic interviews:  301\n"
     ]
    }
   ],
   "source": [
    "print('Number of tweets in topic politics: ', len(politics))\n",
    "print('Number of tweets in topic business: ', len(business))\n",
    "print('Number of tweets in topic various: ', len(various))\n",
    "print('Number of tweets in topic shows: ', len(shows))\n",
    "print('Number of tweets in topic interviews: ', len(interviews))"
   ]
  },
  {
   "cell_type": "markdown",
   "metadata": {},
   "source": [
    "* We can clearly see that the topic with more tweets is the politic one. But if we make a research for the words 'hillary', 'clinton', 'crooked', we can find them only in 15 tweets! Probably the Clinton topic was not recognized in our clustering, but it's not a problem. We can make a keyword research from all the topics and find the ones that talk about Hillary Clinton using an helper function get_hillary_tweets_16_17. We are going to take the tweets of the last 2 years because that is the period of the elections and presidency of Trump, when he had to face his opponent."
   ]
  },
  {
   "cell_type": "code",
   "execution_count": 57,
   "metadata": {},
   "outputs": [
    {
     "data": {
      "text/plain": [
       "15"
      ]
     },
     "execution_count": 57,
     "metadata": {},
     "output_type": "execute_result"
    }
   ],
   "source": [
    "hillary_words = ['hillary', 'clinton', 'crooked']\n",
    "number_of_tweets_hillary = 0\n",
    "for tweet in politics:\n",
    "    for word in hillary_words:\n",
    "        if word in tweet[0].lower():\n",
    "            number_of_tweets_hillary += 1\n",
    "            break\n",
    "number_of_tweets_hillary"
   ]
  },
  {
   "cell_type": "code",
   "execution_count": 58,
   "metadata": {
    "collapsed": true
   },
   "outputs": [],
   "source": [
    "hillary_topic, hillary_info = get_hillary_tweets_16_17(all_data)"
   ]
  },
  {
   "cell_type": "markdown",
   "metadata": {},
   "source": [
    "* Since politics is a very big topic (it contains more than 1500 documents) we decided to split it in the most common Trump's topic about politics: China, Obama, foreign politics (contains also China topic), internal politics (contains also Obama topic) and Trump topic. The last one refers to the candidacy, the electoral campaign and tweets of political ideas of Trump. In order to do so we will load the keywords that refer to these topics (and also the keywords to find Hillary tweets)."
   ]
  },
  {
   "cell_type": "code",
   "execution_count": 59,
   "metadata": {
    "collapsed": true
   },
   "outputs": [],
   "source": [
    "with open('keywords/china_keywords.json', 'r') as fp:\n",
    "    china_keywords = json.load(fp)\n",
    "    \n",
    "with open('keywords/obama_keywords.json', 'r') as fp:\n",
    "    obama_keywords = json.load(fp)\n",
    "    \n",
    "with open('keywords/hillary_keywords.json', 'r') as fp:\n",
    "    hillary_keywords = json.load(fp)\n",
    "    \n",
    "with open('keywords/foreign_politics_keywords.json', 'r') as fp:\n",
    "    foreign_politics_keywords = json.load(fp)\n",
    "    \n",
    "with open('keywords/internal_politics_keywords.json', 'r') as fp:\n",
    "    internal_politics_keywords = json.load(fp)\n",
    "    \n",
    "with open('keywords/trump_keywords.json', 'r') as fp:\n",
    "    trump_keywords = json.load(fp)"
   ]
  },
  {
   "cell_type": "markdown",
   "metadata": {},
   "source": [
    "* In the next lines of code, we are going to detect if at least one of the keywords of the topic is inside the text of the tweet. If so we will add that tweet to his topic list and we will search for the keywords of another topic. If we found one keyword, we add the text and then break the for loop on the keywords because the topic is already been detected. If a tweet is not put in any topic, it will finish in the not_got list. The not_got list is a way to clean a little more our clusters.\n",
    "* Before doing everything explained above, we are going to remove the tweets that refer to Hillary Clinton from the politcs topic. We are doing this because every topic that refer to Hillary is already in the Hillary topic and we don't want duplicates\n",
    "* The commentated code is the code that we used to create the json file that we will use later."
   ]
  },
  {
   "cell_type": "code",
   "execution_count": 85,
   "metadata": {
    "collapsed": true
   },
   "outputs": [],
   "source": [
    "# Removing the tweets in politics that contain hillary, because we are going to add every tweet that refers to hillary\n",
    "# later and we don't want to have duplicates\n",
    "for tweet in list(politics):\n",
    "    for hil_word in hillary_keywords:\n",
    "        if hil_word in tweet[0]:\n",
    "            politics.remove(tweet)\n",
    "            break\n",
    "\n",
    "\n",
    "china_topic = []\n",
    "obama_topic = []\n",
    "foreign_politics_topic = []\n",
    "internal_politics_topic = []\n",
    "trump_4pre_topic = []\n",
    "not_got = []\n",
    "\n",
    "for tweet in politics:\n",
    "\n",
    "    control = 0\n",
    "\n",
    "    # date, ret, fav, id_ = flat_list_info[tweet[1]]\n",
    "    # json_file = {\n",
    "    #     'created_at': str(date),\n",
    "    #     'id': id_,\n",
    "    #     'retweet_count': ret,\n",
    "    #     'favorite_count': fav,\n",
    "    #     'text': tweet[0],\n",
    "    #     'topic': ''\n",
    "    # }\n",
    "\n",
    "    for keyword in china_keywords:\n",
    "        if keyword in tweet[0]:\n",
    "            china_topic.append(tweet)\n",
    "\n",
    "            # json_file['topic'] = 'china'\n",
    "            # china_json.append(json_file.copy())\n",
    "\n",
    "            control += 1\n",
    "            break\n",
    "\n",
    "    for keyword in obama_keywords:\n",
    "        if keyword in tweet[0]:\n",
    "            obama_topic.append(tweet)\n",
    "\n",
    "            # json_file['topic'] = 'obama'\n",
    "            # obama_json.append(json_file.copy())\n",
    "\n",
    "            control += 1\n",
    "            break\n",
    "\n",
    "    for keyword in foreign_politics_keywords:\n",
    "        if keyword in tweet[0]:\n",
    "            foreign_politics_topic.append(tweet)\n",
    "\n",
    "            # json_file['topic'] = 'foreign_politics'\n",
    "            # foreign_politics_json.append(json_file.copy())\n",
    "\n",
    "            control += 1\n",
    "            break\n",
    "\n",
    "    for keyword in internal_politics_keywords:\n",
    "        if keyword in tweet[0]:\n",
    "            internal_politics_topic.append(tweet)\n",
    "\n",
    "            # json_file['topic'] = 'internal_politics'\n",
    "            # internal_politics_json.append(json_file.copy())\n",
    "\n",
    "            control += 1\n",
    "            break\n",
    "\n",
    "    for keyword in trump_keywords:\n",
    "        if keyword in tweet[0]:\n",
    "            trump_4pre_topic.append(tweet)\n",
    "\n",
    "            # json_file['topic'] = 'trump_politcs'\n",
    "            # trump_4pre_json.append(json_file.copy())\n",
    "\n",
    "            control += 1\n",
    "            break\n",
    "\n",
    "    if control == 0:\n",
    "        not_got.append(tweet)"
   ]
  },
  {
   "cell_type": "code",
   "execution_count": 86,
   "metadata": {},
   "outputs": [
    {
     "data": {
      "text/plain": [
       "[['WASTE--HUD is spending $70M to teach grant recipients how to spend the money from their grants http://t.co/zKgdVbCd  Does it get any dumber?',\n",
       "  3467],\n",
       " ['The reason great dealmakers do not OPENLY celebrate a deal, especially one that is not complete, is that it shows weakness to the other side',\n",
       "  4962],\n",
       " ['Negotiation tip #1:  The worst thing you can possibly do in a deal is seem desperate to make it.',\n",
       "  1158],\n",
       " ['As usual, the \"storm of the century\" was not nearly as bad as forecast. What a waste of time, energy and money!',\n",
       "  24542],\n",
       " ['The more time you spend feeling sorry for yourself, the more time you waste after a setback. Move on and quickly embrace the next challenge!',\n",
       "  4641]]"
      ]
     },
     "execution_count": 86,
     "metadata": {},
     "output_type": "execute_result"
    }
   ],
   "source": [
    "not_got[:5]"
   ]
  },
  {
   "cell_type": "code",
   "execution_count": 87,
   "metadata": {},
   "outputs": [
    {
     "data": {
      "text/plain": [
       "157"
      ]
     },
     "execution_count": 87,
     "metadata": {},
     "output_type": "execute_result"
    }
   ],
   "source": [
    "len(not_got)"
   ]
  },
  {
   "cell_type": "markdown",
   "metadata": {},
   "source": [
    "* As we can see from the 5 documents on the not_got, they don't really refer to politics. Luckily, just a little more of 150 documents where outsiders."
   ]
  },
  {
   "cell_type": "markdown",
   "metadata": {},
   "source": [
    "## Sentiment of the tweets"
   ]
  },
  {
   "cell_type": "markdown",
   "metadata": {},
   "source": [
    "* We wanted to study the sentiments that these tweets contain. We started with an easy inspection.\n",
    "* We downloaded the [NRC Emotion Lexicon](http://saifmohammad.com/WebPages/NRC-Emotion-Lexicon.htm) kindly offered by the National Research Council Canada, created by Saif Mohammad. We used the 'NRC-Emotion-Lexicon-Wordlevel-v0.92' dataset, that contains 14.000 words. Every word is associated with 8 emotions and a positive or negative value."
   ]
  },
  {
   "cell_type": "markdown",
   "metadata": {},
   "source": [
    "### Sentiment of the tweets associated to a topic\n",
    "\n",
    "* We searched for every word in every tweet and we summed the values of every sentiment associated.\n",
    "* It takes a few time to compute every sentiment for every tweet: you can decide to run the following cell or to run the next one that load the pre-computed dataframe from a csv file."
   ]
  },
  {
   "cell_type": "code",
   "execution_count": 88,
   "metadata": {},
   "outputs": [
    {
     "data": {
      "text/plain": [
       "'Loading files'"
      ]
     },
     "execution_count": 88,
     "metadata": {},
     "output_type": "execute_result"
    }
   ],
   "source": [
    "'''\n",
    "This is an helper function that load the 'lexicons? (word -> emotion) from a file and returns\n",
    "a pandas DataFrame with a column 'term' and other 10 columns that are the emotions associated.\n",
    "'''\n",
    "# lexicons = load_lexicons()\n",
    "\n",
    "'''Loading files'''\n",
    "# dir_path = 'topic_tweets'\n",
    "# directory = os.fsencode(dir_path)\n",
    "# \n",
    "# first = True\n",
    "# tweets = pd.DataFrame()\n",
    "# for file in os.listdir(directory):\n",
    "#     filename = os.fsdecode(file)\n",
    "#     if filename == '.DS_Store':\n",
    "#         continue\n",
    "#     if first:\n",
    "#         tweets = pd.read_json(dir_path + '/' + filename)\n",
    "#         first = False\n",
    "#     else:\n",
    "#         tweets = tweets.append(pd.read_json(dir_path + '/' + filename))\n",
    "# \n",
    "# length = lexicons.shape[0]\n",
    "\n",
    "# We create a column for every emotion\n",
    "# tweets['anger'] = 0\n",
    "# tweets['anticipation'] = 0\n",
    "# tweets['disgust'] = 0\n",
    "# tweets['fear'] = 0\n",
    "# tweets['joy'] = 0\n",
    "# tweets['negative'] = 0\n",
    "# tweets['positive'] = 0\n",
    "# tweets['sadness'] = 0\n",
    "# tweets['surprise'] = 0\n",
    "# tweets['trust'] = 0\n",
    "# \n",
    "# for index, lexicon in lexicons.iterrows():\n",
    "#     # print('Iterations to the end: %s...' % (length - index))\n",
    "# \n",
    "#     tweets_with_lexicon = tweets['text'].str.contains(lexicon.term, case=False)\n",
    "# \n",
    "#     # We take the emotions\n",
    "#     emotions = lexicon.drop(['term'])\n",
    "# \n",
    "#     # For every emotion we update the value in the df\n",
    "#     if any(tweets_with_lexicon.values):\n",
    "#         for attribute, value in zip(emotions.index.values, emotions.values):\n",
    "#             if value != 0:\n",
    "#                 tweets.loc[tweets_with_lexicon, attribute] += value\n",
    "\n",
    "# tweets.to_csv('data/tweets_topic_em.csv')"
   ]
  },
  {
   "cell_type": "code",
   "execution_count": 89,
   "metadata": {
    "collapsed": true
   },
   "outputs": [],
   "source": [
    "tweets_topic_em = pd.read_csv('data/tweets_topic_em.csv', index_col=0)\n",
    "tweets_topic_em.set_index('id', inplace=True)"
   ]
  },
  {
   "cell_type": "code",
   "execution_count": 90,
   "metadata": {},
   "outputs": [
    {
     "data": {
      "text/html": [
       "<div>\n",
       "<style>\n",
       "    .dataframe thead tr:only-child th {\n",
       "        text-align: right;\n",
       "    }\n",
       "\n",
       "    .dataframe thead th {\n",
       "        text-align: left;\n",
       "    }\n",
       "\n",
       "    .dataframe tbody tr th {\n",
       "        vertical-align: top;\n",
       "    }\n",
       "</style>\n",
       "<table border=\"1\" class=\"dataframe\">\n",
       "  <thead>\n",
       "    <tr style=\"text-align: right;\">\n",
       "      <th></th>\n",
       "      <th>created_at</th>\n",
       "      <th>favorite_count</th>\n",
       "      <th>retweet_count</th>\n",
       "      <th>text</th>\n",
       "      <th>topic</th>\n",
       "      <th>anger</th>\n",
       "      <th>anticipation</th>\n",
       "      <th>disgust</th>\n",
       "      <th>fear</th>\n",
       "      <th>joy</th>\n",
       "      <th>negative</th>\n",
       "      <th>positive</th>\n",
       "      <th>sadness</th>\n",
       "      <th>surprise</th>\n",
       "      <th>trust</th>\n",
       "    </tr>\n",
       "    <tr>\n",
       "      <th>id</th>\n",
       "      <th></th>\n",
       "      <th></th>\n",
       "      <th></th>\n",
       "      <th></th>\n",
       "      <th></th>\n",
       "      <th></th>\n",
       "      <th></th>\n",
       "      <th></th>\n",
       "      <th></th>\n",
       "      <th></th>\n",
       "      <th></th>\n",
       "      <th></th>\n",
       "      <th></th>\n",
       "      <th></th>\n",
       "      <th></th>\n",
       "    </tr>\n",
       "  </thead>\n",
       "  <tbody>\n",
       "    <tr>\n",
       "      <th>14358664722776064</th>\n",
       "      <td>2010-12-13 16:39:07</td>\n",
       "      <td>6</td>\n",
       "      <td>14</td>\n",
       "      <td>Those five hotels includeTrump International H...</td>\n",
       "      <td>business</td>\n",
       "      <td>1.0</td>\n",
       "      <td>0.0</td>\n",
       "      <td>0.0</td>\n",
       "      <td>0.0</td>\n",
       "      <td>0.0</td>\n",
       "      <td>1.0</td>\n",
       "      <td>2.0</td>\n",
       "      <td>1.0</td>\n",
       "      <td>1.0</td>\n",
       "      <td>1.0</td>\n",
       "    </tr>\n",
       "    <tr>\n",
       "      <th>14359503306752000</th>\n",
       "      <td>2010-12-13 16:42:27</td>\n",
       "      <td>6</td>\n",
       "      <td>12</td>\n",
       "      <td>...Trump International Hotel Las Vegas, and Tr...</td>\n",
       "      <td>business</td>\n",
       "      <td>2.0</td>\n",
       "      <td>0.0</td>\n",
       "      <td>0.0</td>\n",
       "      <td>0.0</td>\n",
       "      <td>1.0</td>\n",
       "      <td>3.0</td>\n",
       "      <td>2.0</td>\n",
       "      <td>1.0</td>\n",
       "      <td>1.0</td>\n",
       "      <td>1.0</td>\n",
       "    </tr>\n",
       "    <tr>\n",
       "      <th>22812888292</th>\n",
       "      <td>2010-09-02 16:37:23</td>\n",
       "      <td>10</td>\n",
       "      <td>21</td>\n",
       "      <td>Check out Trump International Hotel &amp; Tower Ne...</td>\n",
       "      <td>business</td>\n",
       "      <td>1.0</td>\n",
       "      <td>1.0</td>\n",
       "      <td>0.0</td>\n",
       "      <td>1.0</td>\n",
       "      <td>0.0</td>\n",
       "      <td>1.0</td>\n",
       "      <td>1.0</td>\n",
       "      <td>1.0</td>\n",
       "      <td>2.0</td>\n",
       "      <td>1.0</td>\n",
       "    </tr>\n",
       "    <tr>\n",
       "      <th>301817282286460928</th>\n",
       "      <td>2013-02-13 22:17:02</td>\n",
       "      <td>72</td>\n",
       "      <td>131</td>\n",
       "      <td>Wow, Trump International Hotel &amp;amp; Tower Tor...</td>\n",
       "      <td>business</td>\n",
       "      <td>1.0</td>\n",
       "      <td>0.0</td>\n",
       "      <td>0.0</td>\n",
       "      <td>0.0</td>\n",
       "      <td>0.0</td>\n",
       "      <td>1.0</td>\n",
       "      <td>1.0</td>\n",
       "      <td>1.0</td>\n",
       "      <td>1.0</td>\n",
       "      <td>1.0</td>\n",
       "    </tr>\n",
       "    <tr>\n",
       "      <th>572852786657828864</th>\n",
       "      <td>2015-03-03 20:15:22</td>\n",
       "      <td>47</td>\n",
       "      <td>30</td>\n",
       "      <td>Trump International Hotel &amp;amp; Tower, Vancouv...</td>\n",
       "      <td>business</td>\n",
       "      <td>2.0</td>\n",
       "      <td>1.0</td>\n",
       "      <td>1.0</td>\n",
       "      <td>1.0</td>\n",
       "      <td>0.0</td>\n",
       "      <td>2.0</td>\n",
       "      <td>1.0</td>\n",
       "      <td>2.0</td>\n",
       "      <td>2.0</td>\n",
       "      <td>1.0</td>\n",
       "    </tr>\n",
       "  </tbody>\n",
       "</table>\n",
       "</div>"
      ],
      "text/plain": [
       "                             created_at  favorite_count  retweet_count  \\\n",
       "id                                                                       \n",
       "14358664722776064   2010-12-13 16:39:07               6             14   \n",
       "14359503306752000   2010-12-13 16:42:27               6             12   \n",
       "22812888292         2010-09-02 16:37:23              10             21   \n",
       "301817282286460928  2013-02-13 22:17:02              72            131   \n",
       "572852786657828864  2015-03-03 20:15:22              47             30   \n",
       "\n",
       "                                                                 text  \\\n",
       "id                                                                      \n",
       "14358664722776064   Those five hotels includeTrump International H...   \n",
       "14359503306752000   ...Trump International Hotel Las Vegas, and Tr...   \n",
       "22812888292         Check out Trump International Hotel & Tower Ne...   \n",
       "301817282286460928  Wow, Trump International Hotel &amp; Tower Tor...   \n",
       "572852786657828864  Trump International Hotel &amp; Tower, Vancouv...   \n",
       "\n",
       "                       topic  anger  anticipation  disgust  fear  joy  \\\n",
       "id                                                                      \n",
       "14358664722776064   business    1.0           0.0      0.0   0.0  0.0   \n",
       "14359503306752000   business    2.0           0.0      0.0   0.0  1.0   \n",
       "22812888292         business    1.0           1.0      0.0   1.0  0.0   \n",
       "301817282286460928  business    1.0           0.0      0.0   0.0  0.0   \n",
       "572852786657828864  business    2.0           1.0      1.0   1.0  0.0   \n",
       "\n",
       "                    negative  positive  sadness  surprise  trust  \n",
       "id                                                                \n",
       "14358664722776064        1.0       2.0      1.0       1.0    1.0  \n",
       "14359503306752000        3.0       2.0      1.0       1.0    1.0  \n",
       "22812888292              1.0       1.0      1.0       2.0    1.0  \n",
       "301817282286460928       1.0       1.0      1.0       1.0    1.0  \n",
       "572852786657828864       2.0       1.0      2.0       2.0    1.0  "
      ]
     },
     "execution_count": 90,
     "metadata": {},
     "output_type": "execute_result"
    }
   ],
   "source": [
    "tweets_topic_em.head()"
   ]
  },
  {
   "cell_type": "code",
   "execution_count": 91,
   "metadata": {},
   "outputs": [
    {
     "data": {
      "text/html": [
       "<div>\n",
       "<style>\n",
       "    .dataframe thead tr:only-child th {\n",
       "        text-align: right;\n",
       "    }\n",
       "\n",
       "    .dataframe thead th {\n",
       "        text-align: left;\n",
       "    }\n",
       "\n",
       "    .dataframe tbody tr th {\n",
       "        vertical-align: top;\n",
       "    }\n",
       "</style>\n",
       "<table border=\"1\" class=\"dataframe\">\n",
       "  <thead>\n",
       "    <tr style=\"text-align: right;\">\n",
       "      <th></th>\n",
       "      <th>created_at</th>\n",
       "      <th>favorite_count</th>\n",
       "      <th>retweet_count</th>\n",
       "      <th>text</th>\n",
       "      <th>topic</th>\n",
       "      <th>anger</th>\n",
       "      <th>anticipation</th>\n",
       "      <th>disgust</th>\n",
       "      <th>fear</th>\n",
       "      <th>joy</th>\n",
       "      <th>negative</th>\n",
       "      <th>positive</th>\n",
       "      <th>sadness</th>\n",
       "      <th>surprise</th>\n",
       "      <th>trust</th>\n",
       "    </tr>\n",
       "    <tr>\n",
       "      <th>id</th>\n",
       "      <th></th>\n",
       "      <th></th>\n",
       "      <th></th>\n",
       "      <th></th>\n",
       "      <th></th>\n",
       "      <th></th>\n",
       "      <th></th>\n",
       "      <th></th>\n",
       "      <th></th>\n",
       "      <th></th>\n",
       "      <th></th>\n",
       "      <th></th>\n",
       "      <th></th>\n",
       "      <th></th>\n",
       "      <th></th>\n",
       "    </tr>\n",
       "  </thead>\n",
       "  <tbody>\n",
       "    <tr>\n",
       "      <th>585596721918513152</th>\n",
       "      <td>2015-04-08 00:15:13</td>\n",
       "      <td>64</td>\n",
       "      <td>40</td>\n",
       "      <td>\"@SportsTalkCSN: TONIGHT at 10 on CSN:@CHICKat...</td>\n",
       "      <td>various</td>\n",
       "      <td>0.0</td>\n",
       "      <td>0.0</td>\n",
       "      <td>0.0</td>\n",
       "      <td>1.0</td>\n",
       "      <td>0.0</td>\n",
       "      <td>2.0</td>\n",
       "      <td>3.0</td>\n",
       "      <td>0.0</td>\n",
       "      <td>0.0</td>\n",
       "      <td>1.0</td>\n",
       "    </tr>\n",
       "    <tr>\n",
       "      <th>176775397143347200</th>\n",
       "      <td>2012-03-05 21:05:13</td>\n",
       "      <td>20</td>\n",
       "      <td>91</td>\n",
       "      <td>I fully support the @NYPD, @MayorBloomberg and...</td>\n",
       "      <td>various</td>\n",
       "      <td>2.0</td>\n",
       "      <td>2.0</td>\n",
       "      <td>4.0</td>\n",
       "      <td>4.0</td>\n",
       "      <td>1.0</td>\n",
       "      <td>5.0</td>\n",
       "      <td>8.0</td>\n",
       "      <td>3.0</td>\n",
       "      <td>0.0</td>\n",
       "      <td>5.0</td>\n",
       "    </tr>\n",
       "    <tr>\n",
       "      <th>785302681560748032</th>\n",
       "      <td>2016-10-10 02:15:24</td>\n",
       "      <td>28559</td>\n",
       "      <td>11184</td>\n",
       "      <td>In my administration, EVERY American will be t...</td>\n",
       "      <td>various</td>\n",
       "      <td>2.0</td>\n",
       "      <td>1.0</td>\n",
       "      <td>4.0</td>\n",
       "      <td>4.0</td>\n",
       "      <td>1.0</td>\n",
       "      <td>4.0</td>\n",
       "      <td>10.0</td>\n",
       "      <td>3.0</td>\n",
       "      <td>1.0</td>\n",
       "      <td>5.0</td>\n",
       "    </tr>\n",
       "    <tr>\n",
       "      <th>672384440270782464</th>\n",
       "      <td>2015-12-03 11:58:37</td>\n",
       "      <td>1829</td>\n",
       "      <td>898</td>\n",
       "      <td>\"@iliveamongyou: @chucktodd APOLOGIZE HYPOCRIT...</td>\n",
       "      <td>various</td>\n",
       "      <td>0.0</td>\n",
       "      <td>2.0</td>\n",
       "      <td>2.0</td>\n",
       "      <td>2.0</td>\n",
       "      <td>2.0</td>\n",
       "      <td>2.0</td>\n",
       "      <td>5.0</td>\n",
       "      <td>1.0</td>\n",
       "      <td>1.0</td>\n",
       "      <td>3.0</td>\n",
       "    </tr>\n",
       "    <tr>\n",
       "      <th>329579793530109952</th>\n",
       "      <td>2013-05-01 12:55:20</td>\n",
       "      <td>76</td>\n",
       "      <td>242</td>\n",
       "      <td>Money is really cheap so this is a great time ...</td>\n",
       "      <td>various</td>\n",
       "      <td>1.0</td>\n",
       "      <td>3.0</td>\n",
       "      <td>0.0</td>\n",
       "      <td>0.0</td>\n",
       "      <td>1.0</td>\n",
       "      <td>1.0</td>\n",
       "      <td>6.0</td>\n",
       "      <td>0.0</td>\n",
       "      <td>1.0</td>\n",
       "      <td>4.0</td>\n",
       "    </tr>\n",
       "  </tbody>\n",
       "</table>\n",
       "</div>"
      ],
      "text/plain": [
       "                             created_at  favorite_count  retweet_count  \\\n",
       "id                                                                       \n",
       "585596721918513152  2015-04-08 00:15:13              64             40   \n",
       "176775397143347200  2012-03-05 21:05:13              20             91   \n",
       "785302681560748032  2016-10-10 02:15:24           28559          11184   \n",
       "672384440270782464  2015-12-03 11:58:37            1829            898   \n",
       "329579793530109952  2013-05-01 12:55:20              76            242   \n",
       "\n",
       "                                                                 text  \\\n",
       "id                                                                      \n",
       "585596721918513152  \"@SportsTalkCSN: TONIGHT at 10 on CSN:@CHICKat...   \n",
       "176775397143347200  I fully support the @NYPD, @MayorBloomberg and...   \n",
       "785302681560748032  In my administration, EVERY American will be t...   \n",
       "672384440270782464  \"@iliveamongyou: @chucktodd APOLOGIZE HYPOCRIT...   \n",
       "329579793530109952  Money is really cheap so this is a great time ...   \n",
       "\n",
       "                      topic  anger  anticipation  disgust  fear  joy  \\\n",
       "id                                                                     \n",
       "585596721918513152  various    0.0           0.0      0.0   1.0  0.0   \n",
       "176775397143347200  various    2.0           2.0      4.0   4.0  1.0   \n",
       "785302681560748032  various    2.0           1.0      4.0   4.0  1.0   \n",
       "672384440270782464  various    0.0           2.0      2.0   2.0  2.0   \n",
       "329579793530109952  various    1.0           3.0      0.0   0.0  1.0   \n",
       "\n",
       "                    negative  positive  sadness  surprise  trust  \n",
       "id                                                                \n",
       "585596721918513152       2.0       3.0      0.0       0.0    1.0  \n",
       "176775397143347200       5.0       8.0      3.0       0.0    5.0  \n",
       "785302681560748032       4.0      10.0      3.0       1.0    5.0  \n",
       "672384440270782464       2.0       5.0      1.0       1.0    3.0  \n",
       "329579793530109952       1.0       6.0      0.0       1.0    4.0  "
      ]
     },
     "execution_count": 91,
     "metadata": {},
     "output_type": "execute_result"
    }
   ],
   "source": [
    "tweets_topic_em.tail()"
   ]
  },
  {
   "cell_type": "markdown",
   "metadata": {},
   "source": [
    "* What we are going to do now is to group the dataframe by the topic and see the differences between the sentiments in the different topics"
   ]
  },
  {
   "cell_type": "code",
   "execution_count": 92,
   "metadata": {
    "collapsed": true
   },
   "outputs": [],
   "source": [
    "sentiment = tweets_topic_em.drop(['created_at', 'text']).groupby('topic').mean()"
   ]
  },
  {
   "cell_type": "code",
   "execution_count": 93,
   "metadata": {},
   "outputs": [
    {
     "data": {
      "text/html": [
       "<div>\n",
       "<style>\n",
       "    .dataframe thead tr:only-child th {\n",
       "        text-align: right;\n",
       "    }\n",
       "\n",
       "    .dataframe thead th {\n",
       "        text-align: left;\n",
       "    }\n",
       "\n",
       "    .dataframe tbody tr th {\n",
       "        vertical-align: top;\n",
       "    }\n",
       "</style>\n",
       "<table border=\"1\" class=\"dataframe\">\n",
       "  <thead>\n",
       "    <tr style=\"text-align: right;\">\n",
       "      <th></th>\n",
       "      <th>favorite_count</th>\n",
       "      <th>retweet_count</th>\n",
       "      <th>anger</th>\n",
       "      <th>anticipation</th>\n",
       "      <th>disgust</th>\n",
       "      <th>fear</th>\n",
       "      <th>joy</th>\n",
       "      <th>negative</th>\n",
       "      <th>positive</th>\n",
       "      <th>sadness</th>\n",
       "      <th>surprise</th>\n",
       "      <th>trust</th>\n",
       "    </tr>\n",
       "    <tr>\n",
       "      <th>topic</th>\n",
       "      <th></th>\n",
       "      <th></th>\n",
       "      <th></th>\n",
       "      <th></th>\n",
       "      <th></th>\n",
       "      <th></th>\n",
       "      <th></th>\n",
       "      <th></th>\n",
       "      <th></th>\n",
       "      <th></th>\n",
       "      <th></th>\n",
       "      <th></th>\n",
       "    </tr>\n",
       "  </thead>\n",
       "  <tbody>\n",
       "    <tr>\n",
       "      <th>business</th>\n",
       "      <td>765.389291</td>\n",
       "      <td>284.600579</td>\n",
       "      <td>0.848046</td>\n",
       "      <td>1.015919</td>\n",
       "      <td>0.806078</td>\n",
       "      <td>0.865412</td>\n",
       "      <td>1.014472</td>\n",
       "      <td>1.881331</td>\n",
       "      <td>3.551375</td>\n",
       "      <td>0.855282</td>\n",
       "      <td>1.153401</td>\n",
       "      <td>1.986975</td>\n",
       "    </tr>\n",
       "    <tr>\n",
       "      <th>china</th>\n",
       "      <td>1084.668874</td>\n",
       "      <td>483.291391</td>\n",
       "      <td>1.509934</td>\n",
       "      <td>1.072848</td>\n",
       "      <td>1.099338</td>\n",
       "      <td>1.649007</td>\n",
       "      <td>0.821192</td>\n",
       "      <td>3.278146</td>\n",
       "      <td>3.099338</td>\n",
       "      <td>1.516556</td>\n",
       "      <td>0.536424</td>\n",
       "      <td>1.768212</td>\n",
       "    </tr>\n",
       "    <tr>\n",
       "      <th>foreign_politics</th>\n",
       "      <td>2722.202505</td>\n",
       "      <td>1050.772443</td>\n",
       "      <td>1.530271</td>\n",
       "      <td>1.083507</td>\n",
       "      <td>1.164927</td>\n",
       "      <td>1.734864</td>\n",
       "      <td>0.789144</td>\n",
       "      <td>3.240084</td>\n",
       "      <td>3.277662</td>\n",
       "      <td>1.586639</td>\n",
       "      <td>0.611691</td>\n",
       "      <td>1.862213</td>\n",
       "    </tr>\n",
       "    <tr>\n",
       "      <th>hillary</th>\n",
       "      <td>29381.834884</td>\n",
       "      <td>10625.983721</td>\n",
       "      <td>2.839535</td>\n",
       "      <td>1.202326</td>\n",
       "      <td>2.476744</td>\n",
       "      <td>2.497674</td>\n",
       "      <td>0.900000</td>\n",
       "      <td>5.169767</td>\n",
       "      <td>3.513953</td>\n",
       "      <td>2.309302</td>\n",
       "      <td>0.665116</td>\n",
       "      <td>1.930233</td>\n",
       "    </tr>\n",
       "    <tr>\n",
       "      <th>internal_politics</th>\n",
       "      <td>3274.918263</td>\n",
       "      <td>1111.786718</td>\n",
       "      <td>1.379310</td>\n",
       "      <td>1.203065</td>\n",
       "      <td>1.146871</td>\n",
       "      <td>1.664112</td>\n",
       "      <td>0.859515</td>\n",
       "      <td>3.256705</td>\n",
       "      <td>3.661558</td>\n",
       "      <td>1.831418</td>\n",
       "      <td>0.614304</td>\n",
       "      <td>2.049808</td>\n",
       "    </tr>\n",
       "    <tr>\n",
       "      <th>interviews_debates</th>\n",
       "      <td>2669.996678</td>\n",
       "      <td>945.425249</td>\n",
       "      <td>0.973422</td>\n",
       "      <td>1.096346</td>\n",
       "      <td>0.823920</td>\n",
       "      <td>1.009967</td>\n",
       "      <td>0.870432</td>\n",
       "      <td>2.215947</td>\n",
       "      <td>3.594684</td>\n",
       "      <td>1.438538</td>\n",
       "      <td>0.754153</td>\n",
       "      <td>2.013289</td>\n",
       "    </tr>\n",
       "    <tr>\n",
       "      <th>obama</th>\n",
       "      <td>1452.431718</td>\n",
       "      <td>764.962555</td>\n",
       "      <td>1.352423</td>\n",
       "      <td>1.085903</td>\n",
       "      <td>1.072687</td>\n",
       "      <td>1.561674</td>\n",
       "      <td>0.850220</td>\n",
       "      <td>3.343612</td>\n",
       "      <td>3.266520</td>\n",
       "      <td>2.022026</td>\n",
       "      <td>0.572687</td>\n",
       "      <td>1.808370</td>\n",
       "    </tr>\n",
       "    <tr>\n",
       "      <th>shows</th>\n",
       "      <td>770.577389</td>\n",
       "      <td>223.056528</td>\n",
       "      <td>1.076716</td>\n",
       "      <td>1.567968</td>\n",
       "      <td>1.002692</td>\n",
       "      <td>1.006729</td>\n",
       "      <td>1.154778</td>\n",
       "      <td>1.952894</td>\n",
       "      <td>3.445491</td>\n",
       "      <td>0.815612</td>\n",
       "      <td>1.119785</td>\n",
       "      <td>2.720054</td>\n",
       "    </tr>\n",
       "    <tr>\n",
       "      <th>various</th>\n",
       "      <td>2761.224900</td>\n",
       "      <td>1099.192771</td>\n",
       "      <td>1.048193</td>\n",
       "      <td>1.453815</td>\n",
       "      <td>0.971888</td>\n",
       "      <td>1.291165</td>\n",
       "      <td>1.182731</td>\n",
       "      <td>2.178715</td>\n",
       "      <td>3.730924</td>\n",
       "      <td>1.206827</td>\n",
       "      <td>1.271084</td>\n",
       "      <td>2.168675</td>\n",
       "    </tr>\n",
       "  </tbody>\n",
       "</table>\n",
       "</div>"
      ],
      "text/plain": [
       "                    favorite_count  retweet_count     anger  anticipation  \\\n",
       "topic                                                                       \n",
       "business                765.389291     284.600579  0.848046      1.015919   \n",
       "china                  1084.668874     483.291391  1.509934      1.072848   \n",
       "foreign_politics       2722.202505    1050.772443  1.530271      1.083507   \n",
       "hillary               29381.834884   10625.983721  2.839535      1.202326   \n",
       "internal_politics      3274.918263    1111.786718  1.379310      1.203065   \n",
       "interviews_debates     2669.996678     945.425249  0.973422      1.096346   \n",
       "obama                  1452.431718     764.962555  1.352423      1.085903   \n",
       "shows                   770.577389     223.056528  1.076716      1.567968   \n",
       "various                2761.224900    1099.192771  1.048193      1.453815   \n",
       "\n",
       "                     disgust      fear       joy  negative  positive  \\\n",
       "topic                                                                  \n",
       "business            0.806078  0.865412  1.014472  1.881331  3.551375   \n",
       "china               1.099338  1.649007  0.821192  3.278146  3.099338   \n",
       "foreign_politics    1.164927  1.734864  0.789144  3.240084  3.277662   \n",
       "hillary             2.476744  2.497674  0.900000  5.169767  3.513953   \n",
       "internal_politics   1.146871  1.664112  0.859515  3.256705  3.661558   \n",
       "interviews_debates  0.823920  1.009967  0.870432  2.215947  3.594684   \n",
       "obama               1.072687  1.561674  0.850220  3.343612  3.266520   \n",
       "shows               1.002692  1.006729  1.154778  1.952894  3.445491   \n",
       "various             0.971888  1.291165  1.182731  2.178715  3.730924   \n",
       "\n",
       "                     sadness  surprise     trust  \n",
       "topic                                             \n",
       "business            0.855282  1.153401  1.986975  \n",
       "china               1.516556  0.536424  1.768212  \n",
       "foreign_politics    1.586639  0.611691  1.862213  \n",
       "hillary             2.309302  0.665116  1.930233  \n",
       "internal_politics   1.831418  0.614304  2.049808  \n",
       "interviews_debates  1.438538  0.754153  2.013289  \n",
       "obama               2.022026  0.572687  1.808370  \n",
       "shows               0.815612  1.119785  2.720054  \n",
       "various             1.206827  1.271084  2.168675  "
      ]
     },
     "execution_count": 93,
     "metadata": {},
     "output_type": "execute_result"
    }
   ],
   "source": [
    "sentiment"
   ]
  },
  {
   "cell_type": "code",
   "execution_count": 94,
   "metadata": {},
   "outputs": [
    {
     "data": {
      "image/png": "[encoded data removed]",
      "text/plain": [
       "<matplotlib.figure.Figure at 0x10fd91780>"
      ]
     },
     "metadata": {},
     "output_type": "display_data"
    }
   ],
   "source": [
    "fig, axs = plt.subplots(3, 3, figsize=(20,22))\n",
    "\n",
    "sentiment.loc['business'].drop(['favorite_count', 'retweet_count']).plot(kind='bar', ax=axs[0,0])\n",
    "axs[0,0].set_title(\"BUSINESS\")\n",
    "\n",
    "sentiment.loc['china'].drop(['favorite_count', 'retweet_count']).plot(kind='bar', ax=axs[0,1])\n",
    "axs[0,1].set_title(\"CHINA\")\n",
    "\n",
    "sentiment.loc['foreign_politics'].drop(['favorite_count', 'retweet_count']).plot(kind='bar', ax=axs[0,2])\n",
    "axs[0,2].set_title(\"FOREIGN POLITICS\")\n",
    "\n",
    "sentiment.loc['hillary'].drop(['favorite_count', 'retweet_count']).plot(kind='bar', ax=axs[1,0])\n",
    "axs[1,0].set_title(\"HILLARY CLINTON\")\n",
    "\n",
    "sentiment.loc['internal_politics'].drop(['favorite_count', 'retweet_count']).plot(kind='bar', ax=axs[1,1])\n",
    "axs[1,1].set_title(\"INTERNAL POLITICS\")\n",
    "\n",
    "sentiment.loc['interviews_debates'].drop(['favorite_count', 'retweet_count']).plot(kind='bar', ax=axs[1,2])\n",
    "axs[1,2].set_title(\"INTERVIEWS\")\n",
    "\n",
    "sentiment.loc['obama'].drop(['favorite_count', 'retweet_count']).plot(kind='bar', ax=axs[2,0])\n",
    "axs[2,0].set_title(\"OBAMA\")\n",
    "\n",
    "sentiment.loc['shows'].drop(['favorite_count', 'retweet_count']).plot(kind='bar', ax=axs[2,1])\n",
    "axs[2,1].set_title(\"SHOWS\")\n",
    "\n",
    "sentiment.loc['various'].drop(['favorite_count', 'retweet_count']).plot(kind='bar', ax=axs[2,2])\n",
    "axs[2,2].set_title(\"VARIOUS\")\n",
    "plt.show()"
   ]
  },
  {
   "cell_type": "markdown",
   "metadata": {},
   "source": [
    "* We can see that generally Trump have more positive tweets than negative, he needs people to like him for his business and for his politics. More specifically we can find a confirm of this fact lookin at the sentiments in Business, Shows and Interviews. Of course, when he speaks about his business, he has to be positive: we can see an high level of trust in his tweets. For what concerns shows, we can say very similar things: he produces and leads a tv show called 'Celebrity Apprentice' and he often tweets about it. He needs to transmit positive vibes to convince people that his show is worth watching. A very similar pattern for similar reason is found in the interviews and debate topic.\n",
    "* For what concerns politics we have different trends: there are high level of anger and fear, with an high level of trust, in every topic concerning politics except for Obama, that is a little different. When it comes to politics he generally have slightly more negative tweets than positive. The interesting thing is that his level of trust is always  highest in every topic compared to the other emotions as we expected, except when he talks about Hillary Clinton or Barack Obama.\n",
    "* Clinton: the highest emotion are anger, fear, disgust and sadness in this order. Not that it's not something that we were not expecting, but the fact that the trust level is lower than four other negative emotions it's very relevant.\n",
    "* Obama: here positive and negative emotions are almost at the same level, even if sadness is the highest emotion we can find. Levels of trust are second, so differently from Clinton topic, his more trustful when he speaks about Obama than Clinton.\n",
    "* Note that the levels of joy are often low compared to the other emotions, except for shows and business."
   ]
  },
  {
   "cell_type": "markdown",
   "metadata": {},
   "source": [
    "* Now that we have seen Trump's emotions in his tweets, it would be curious to discover what the Twitter's users think about those tweets. In order to understand that, we are going to analyze the number of favorite and retweet counts, that is the only information we have about Trump's public."
   ]
  },
  {
   "cell_type": "code",
   "execution_count": 95,
   "metadata": {},
   "outputs": [
    {
     "data": {
      "image/png": "[encoded data removed]",
      "text/plain": [
       "<matplotlib.figure.Figure at 0x1a370627b8>"
      ]
     },
     "metadata": {},
     "output_type": "display_data"
    }
   ],
   "source": [
    "fig, ax = plt.subplots(1, 1, figsize=(20,12))\n",
    "x = np.array([0,1,2,3,4,5,6,7,8])\n",
    "ax.bar(x - 0.2, sentiment.loc[:,'favorite_count'], width=0.2, color ='b')\n",
    "ax.bar(x + 0.2, sentiment.loc[:,'retweet_count'], width=0.2, color ='r')\n",
    "ax.set_xticks(x)\n",
    "ax.set_xticklabels(sentiment.index.values)\n",
    "ax.set_xlabel('topic')\n",
    "ax.set_ylabel('number of retweets/favorites')\n",
    "ax.set_title(\"Number of retweets and favorites in different topics\")\n",
    "ax.legend(['favorite count', 'retweet count'])\n",
    "\n",
    "plt.show()"
   ]
  },
  {
   "cell_type": "markdown",
   "metadata": {},
   "source": [
    "* We can clearly see that the number of retweet and favorite are way higher when they are about Hillary Clinton. These tweets are from 2016 and 2017, so as we know, during the election campaign Trump's tweets reached a very high popularity.\n",
    "\n",
    "* We would like to see when the other topics with \"high\" count (internal and foreign politics and interviews and debates) of favorite and retweet count reached their maximum peaks. "
   ]
  },
  {
   "cell_type": "code",
   "execution_count": 96,
   "metadata": {},
   "outputs": [
    {
     "name": "stderr",
     "output_type": "stream",
     "text": [
      "/Users/lorenzotara/anaconda/lib/python3.6/site-packages/pandas/core/generic.py:3110: SettingWithCopyWarning: \n",
      "A value is trying to be set on a copy of a slice from a DataFrame.\n",
      "Try using .loc[row_indexer,col_indexer] = value instead\n",
      "\n",
      "See the caveats in the documentation: http://pandas.pydata.org/pandas-docs/stable/indexing.html#indexing-view-versus-copy\n",
      "  self[name] = value\n"
     ]
    },
    {
     "data": {
      "image/png": "[encoded data removed]",
      "text/plain": [
       "<matplotlib.figure.Figure at 0x1a565de240>"
      ]
     },
     "metadata": {},
     "output_type": "display_data"
    }
   ],
   "source": [
    "fig, axs = plt.subplots(1, 3, figsize=(15,8), sharey=True)\n",
    "\n",
    "int_pol = tweets_topic_em[tweets_topic_em.topic == 'internal_politics']\n",
    "int_pol.created_at = int_pol.created_at.apply(pd.to_datetime)\n",
    "int_pol.reset_index(inplace=True)\n",
    "\n",
    "for_pol = tweets_topic_em[tweets_topic_em.topic == 'foreign_politics']\n",
    "for_pol.created_at = for_pol.created_at.apply(pd.to_datetime)\n",
    "for_pol.reset_index(inplace=True)\n",
    "\n",
    "interv = tweets_topic_em[tweets_topic_em.topic == 'interviews_debates']\n",
    "interv.created_at = interv.created_at.apply(pd.to_datetime)\n",
    "interv.reset_index(inplace=True)\n",
    "\n",
    "int_pol.plot(kind='area', x='created_at', y=['favorite_count','retweet_count'],\n",
    "             ax=axs[0], title='User reaction for internal politics in time')\n",
    "for_pol.plot(kind='area', x='created_at', y=['favorite_count','retweet_count'],\n",
    "             ax=axs[1], title='User reaction for foreign politics in time')\n",
    "interv.plot(kind='area', x='created_at', y=['favorite_count','retweet_count'],\n",
    "             ax=axs[2], title='User reaction for interviews and debates in time')\n",
    "plt.gcf().autofmt_xdate()\n",
    "plt.show()"
   ]
  },
  {
   "cell_type": "markdown",
   "metadata": {},
   "source": [
    "* It's clear that during the campaign and his first periods of presidency, Trump's tweets popularity arised with a very strong trend."
   ]
  },
  {
   "cell_type": "markdown",
   "metadata": {},
   "source": [
    "### Sentiment of every tweet (not from iPhone)"
   ]
  },
  {
   "cell_type": "markdown",
   "metadata": {},
   "source": [
    "* Following the same method that we used before, we created a json file that contains every tweet with the associated emotions. Now we are interested in a more general and larger view of the emotions of the tweets of Trump."
   ]
  },
  {
   "cell_type": "code",
   "execution_count": 97,
   "metadata": {},
   "outputs": [
    {
     "data": {
      "text/html": [
       "<div>\n",
       "<style>\n",
       "    .dataframe thead tr:only-child th {\n",
       "        text-align: right;\n",
       "    }\n",
       "\n",
       "    .dataframe thead th {\n",
       "        text-align: left;\n",
       "    }\n",
       "\n",
       "    .dataframe tbody tr th {\n",
       "        vertical-align: top;\n",
       "    }\n",
       "</style>\n",
       "<table border=\"1\" class=\"dataframe\">\n",
       "  <thead>\n",
       "    <tr style=\"text-align: right;\">\n",
       "      <th></th>\n",
       "      <th>anger</th>\n",
       "      <th>anticipation</th>\n",
       "      <th>created_at</th>\n",
       "      <th>disgust</th>\n",
       "      <th>favorite_count</th>\n",
       "      <th>fear</th>\n",
       "      <th>id</th>\n",
       "      <th>in_reply_to_user_id_str</th>\n",
       "      <th>is_retweet</th>\n",
       "      <th>joy</th>\n",
       "      <th>negative</th>\n",
       "      <th>positive</th>\n",
       "      <th>retweet_count</th>\n",
       "      <th>sadness</th>\n",
       "      <th>source</th>\n",
       "      <th>surprise</th>\n",
       "      <th>text</th>\n",
       "      <th>topic</th>\n",
       "      <th>trust</th>\n",
       "    </tr>\n",
       "  </thead>\n",
       "  <tbody>\n",
       "    <tr>\n",
       "      <th>33637</th>\n",
       "      <td>0.0</td>\n",
       "      <td>4.0</td>\n",
       "      <td>2017-01-01 06:49:33</td>\n",
       "      <td>0.0</td>\n",
       "      <td>0</td>\n",
       "      <td>0.0</td>\n",
       "      <td>815449868739211264</td>\n",
       "      <td>NaN</td>\n",
       "      <td>True</td>\n",
       "      <td>2.0</td>\n",
       "      <td>0.0</td>\n",
       "      <td>3.0</td>\n",
       "      <td>6847</td>\n",
       "      <td>0.0</td>\n",
       "      <td>Twitter for iPhone</td>\n",
       "      <td>2.0</td>\n",
       "      <td>RT @DonaldJTrumpJr: Happy new year everyone. #...</td>\n",
       "      <td>NaN</td>\n",
       "      <td>2.0</td>\n",
       "    </tr>\n",
       "    <tr>\n",
       "      <th>33638</th>\n",
       "      <td>2.0</td>\n",
       "      <td>0.0</td>\n",
       "      <td>2017-01-01 05:44:17</td>\n",
       "      <td>1.0</td>\n",
       "      <td>0</td>\n",
       "      <td>1.0</td>\n",
       "      <td>815433444591304704</td>\n",
       "      <td>NaN</td>\n",
       "      <td>True</td>\n",
       "      <td>1.0</td>\n",
       "      <td>2.0</td>\n",
       "      <td>3.0</td>\n",
       "      <td>6941</td>\n",
       "      <td>1.0</td>\n",
       "      <td>Twitter for iPhone</td>\n",
       "      <td>1.0</td>\n",
       "      <td>RT @EricTrump: 2016 was such an incredible yea...</td>\n",
       "      <td>NaN</td>\n",
       "      <td>1.0</td>\n",
       "    </tr>\n",
       "    <tr>\n",
       "      <th>33639</th>\n",
       "      <td>2.0</td>\n",
       "      <td>7.0</td>\n",
       "      <td>2017-01-01 05:43:23</td>\n",
       "      <td>3.0</td>\n",
       "      <td>0</td>\n",
       "      <td>4.0</td>\n",
       "      <td>815433217595547648</td>\n",
       "      <td>NaN</td>\n",
       "      <td>True</td>\n",
       "      <td>6.0</td>\n",
       "      <td>5.0</td>\n",
       "      <td>11.0</td>\n",
       "      <td>7144</td>\n",
       "      <td>3.0</td>\n",
       "      <td>Twitter for iPhone</td>\n",
       "      <td>3.0</td>\n",
       "      <td>RT @Reince: Happy New Year + God's blessings t...</td>\n",
       "      <td>NaN</td>\n",
       "      <td>9.0</td>\n",
       "    </tr>\n",
       "    <tr>\n",
       "      <th>33640</th>\n",
       "      <td>0.0</td>\n",
       "      <td>2.0</td>\n",
       "      <td>2017-01-01 05:39:13</td>\n",
       "      <td>0.0</td>\n",
       "      <td>0</td>\n",
       "      <td>0.0</td>\n",
       "      <td>815432169464197120</td>\n",
       "      <td>NaN</td>\n",
       "      <td>True</td>\n",
       "      <td>1.0</td>\n",
       "      <td>0.0</td>\n",
       "      <td>1.0</td>\n",
       "      <td>5548</td>\n",
       "      <td>0.0</td>\n",
       "      <td>Twitter for iPhone</td>\n",
       "      <td>2.0</td>\n",
       "      <td>RT @DanScavino: On behalf of our next #POTUS &amp;...</td>\n",
       "      <td>NaN</td>\n",
       "      <td>2.0</td>\n",
       "    </tr>\n",
       "    <tr>\n",
       "      <th>33641</th>\n",
       "      <td>1.0</td>\n",
       "      <td>7.0</td>\n",
       "      <td>2017-01-01 05:00:10</td>\n",
       "      <td>2.0</td>\n",
       "      <td>126230</td>\n",
       "      <td>2.0</td>\n",
       "      <td>815422340540547072</td>\n",
       "      <td>NaN</td>\n",
       "      <td>False</td>\n",
       "      <td>8.0</td>\n",
       "      <td>3.0</td>\n",
       "      <td>10.0</td>\n",
       "      <td>32665</td>\n",
       "      <td>2.0</td>\n",
       "      <td>Twitter for iPhone</td>\n",
       "      <td>3.0</td>\n",
       "      <td>TO ALL AMERICANS-\\n#HappyNewYear &amp;amp; many bl...</td>\n",
       "      <td>NaN</td>\n",
       "      <td>6.0</td>\n",
       "    </tr>\n",
       "  </tbody>\n",
       "</table>\n",
       "</div>"
      ],
      "text/plain": [
       "       anger  anticipation           created_at  disgust  favorite_count  \\\n",
       "33637    0.0           4.0  2017-01-01 06:49:33      0.0               0   \n",
       "33638    2.0           0.0  2017-01-01 05:44:17      1.0               0   \n",
       "33639    2.0           7.0  2017-01-01 05:43:23      3.0               0   \n",
       "33640    0.0           2.0  2017-01-01 05:39:13      0.0               0   \n",
       "33641    1.0           7.0  2017-01-01 05:00:10      2.0          126230   \n",
       "\n",
       "       fear                  id  in_reply_to_user_id_str is_retweet  joy  \\\n",
       "33637   0.0  815449868739211264                      NaN       True  2.0   \n",
       "33638   1.0  815433444591304704                      NaN       True  1.0   \n",
       "33639   4.0  815433217595547648                      NaN       True  6.0   \n",
       "33640   0.0  815432169464197120                      NaN       True  1.0   \n",
       "33641   2.0  815422340540547072                      NaN      False  8.0   \n",
       "\n",
       "       negative  positive  retweet_count  sadness              source  \\\n",
       "33637       0.0       3.0           6847      0.0  Twitter for iPhone   \n",
       "33638       2.0       3.0           6941      1.0  Twitter for iPhone   \n",
       "33639       5.0      11.0           7144      3.0  Twitter for iPhone   \n",
       "33640       0.0       1.0           5548      0.0  Twitter for iPhone   \n",
       "33641       3.0      10.0          32665      2.0  Twitter for iPhone   \n",
       "\n",
       "       surprise                                               text topic  \\\n",
       "33637       2.0  RT @DonaldJTrumpJr: Happy new year everyone. #...   NaN   \n",
       "33638       1.0  RT @EricTrump: 2016 was such an incredible yea...   NaN   \n",
       "33639       3.0  RT @Reince: Happy New Year + God's blessings t...   NaN   \n",
       "33640       2.0  RT @DanScavino: On behalf of our next #POTUS &...   NaN   \n",
       "33641       3.0  TO ALL AMERICANS-\\n#HappyNewYear &amp; many bl...   NaN   \n",
       "\n",
       "       trust  \n",
       "33637    2.0  \n",
       "33638    1.0  \n",
       "33639    9.0  \n",
       "33640    2.0  \n",
       "33641    6.0  "
      ]
     },
     "execution_count": 97,
     "metadata": {},
     "output_type": "execute_result"
    }
   ],
   "source": [
    "data_path = 'data/both_tweets_and_emotion_on_all.json'\n",
    "\n",
    "with open(data_path) as f:\n",
    "    data = json.load(f)\n",
    "all_tweets = pd.DataFrame(data)\n",
    "all_tweets.tail()"
   ]
  },
  {
   "cell_type": "code",
   "execution_count": 98,
   "metadata": {
    "collapsed": true
   },
   "outputs": [],
   "source": [
    "mean_all = all_tweets.describe().drop(['id', 'in_reply_to_user_id_str'], axis=1).loc['mean']"
   ]
  },
  {
   "cell_type": "code",
   "execution_count": 99,
   "metadata": {},
   "outputs": [
    {
     "data": {
      "image/png": "[encoded data removed]",
      "text/plain": [
       "<matplotlib.figure.Figure at 0x1a28107898>"
      ]
     },
     "metadata": {},
     "output_type": "display_data"
    }
   ],
   "source": [
    "fig, ax = plt.subplots(figsize=(10,7))\n",
    "mean_all.drop(['favorite_count', 'retweet_count']).plot(kind='bar', title='Average of the emotions on all tweets', ax=ax)\n",
    "plt.show()"
   ]
  },
  {
   "cell_type": "markdown",
   "metadata": {},
   "source": [
    "* We can see that our assumption that Trump's tweets are generally more positive holds. As we already stated studying the topics, the trust emotion is generally the most relevant and joy is the lowest with surprise. The other emotions lay on the same level."
   ]
  },
  {
   "cell_type": "markdown",
   "metadata": {},
   "source": [
    "## Word Usage - put stopwords in a json file - add viz"
   ]
  },
  {
   "cell_type": "code",
   "execution_count": 100,
   "metadata": {
    "collapsed": true
   },
   "outputs": [],
   "source": [
    "with open('stopwords/stopwords_wordcount.json', 'r') as fp:\n",
    "    stopwords_wordcount = json.load(fp)\n",
    "\n",
    "strip_special_chars = re.compile(\"[^A-Za-z0-9 ]+\")\n",
    "def clean_sentences(string):\n",
    "    string = string.lower().replace(\"<br />\", \" \")\n",
    "    return re.sub(strip_special_chars, \"\", string.lower())"
   ]
  },
  {
   "cell_type": "code",
   "execution_count": 101,
   "metadata": {
    "collapsed": true
   },
   "outputs": [],
   "source": [
    "topic_word_count = {}\n",
    "topics = tweets_topic_em.topic.unique()\n",
    "for topic in topics:\n",
    "    topic_dict = {}\n",
    "    temp = tweets_topic_em[tweets_topic_em.topic == topic]\n",
    "\n",
    "    for index, row in temp.iterrows():\n",
    "        text = clean_sentences(row.text.lower()).split()\n",
    "\n",
    "        text = [word for word in text if word not in stopwords]\n",
    "\n",
    "        counter = collections.Counter(text)\n",
    "        for word, count in counter.items():\n",
    "\n",
    "            if word in topic_dict:\n",
    "                topic_dict[word] += count\n",
    "            else:\n",
    "                topic_dict[word] = count\n",
    "                \n",
    "    ordered_dict = dict(sorted(topic_dict.items(), key=operator.itemgetter(1), reverse=True))\n",
    "    topic_word_count[topic] = ordered_dict"
   ]
  },
  {
   "cell_type": "code",
   "execution_count": 102,
   "metadata": {},
   "outputs": [
    {
     "name": "stdout",
     "output_type": "stream",
     "text": [
      "TOPIC:  BUSINESS\n",
      "The 20 most used words are: \n",
      "golf: 109\n",
      "hotel: 72\n",
      "macys: 65\n",
      "national: 54\n",
      "ties: 54\n",
      "international: 51\n",
      "tower: 50\n",
      "shirts: 38\n",
      "scotland: 37\n",
      "doral: 35\n",
      "chicago: 34\n",
      "blue: 33\n",
      "club: 32\n",
      "monster: 31\n",
      "success: 30\n",
      "building: 28\n",
      "collection: 27\n",
      "business: 24\n",
      "signature: 24\n",
      "links: 23\n",
      "\n",
      "\n",
      "TOPIC:  CHINA\n",
      "The 20 most used words are: \n",
      "china: 152\n",
      "barackobama: 33\n",
      "cont: 27\n",
      "chinese: 26\n",
      "oil: 23\n",
      "currency: 16\n",
      "jobs: 14\n",
      "laughing: 14\n",
      "america: 13\n",
      "leaders: 12\n",
      "chinas: 10\n",
      "government: 9\n",
      "deal: 9\n",
      "iran: 9\n",
      "money: 9\n",
      "debt: 8\n",
      "iraq: 7\n",
      "russia: 7\n",
      "continue: 7\n",
      "steal: 6\n",
      "\n",
      "\n",
      "TOPIC:  FOREIGN_POLITICS\n",
      "The 20 most used words are: \n",
      "china: 152\n",
      "iran: 72\n",
      "oil: 71\n",
      "iraq: 69\n",
      "barackobama: 65\n",
      "cont: 57\n",
      "obama: 48\n",
      "deal: 37\n",
      "america: 31\n",
      "gas: 30\n",
      "nuclear: 27\n",
      "chinese: 26\n",
      "leaders: 25\n",
      "isis: 25\n",
      "military: 25\n",
      "russia: 23\n",
      "country: 23\n",
      "foreign: 22\n",
      "jobs: 20\n",
      "laughing: 19\n",
      "\n",
      "\n",
      "TOPIC:  HILLARY\n",
      "The 20 most used words are: \n",
      "hillary: 337\n",
      "crooked: 180\n",
      "clinton: 162\n",
      "bernie: 35\n",
      "media: 32\n",
      "people: 26\n",
      "president: 26\n",
      "debate: 25\n",
      "obama: 24\n",
      "cnn: 23\n",
      "beat: 23\n",
      "years: 22\n",
      "hillaryclinton: 22\n",
      "judgement: 21\n",
      "rigged: 20\n",
      "isis: 20\n",
      "bill: 19\n",
      "america: 19\n",
      "dont: 18\n",
      "emails: 18\n",
      "\n",
      "\n",
      "TOPIC:  INTERNAL_POLITICS\n",
      "The 20 most used words are: \n",
      "barackobama: 187\n",
      "obama: 157\n",
      "country: 96\n",
      "president: 88\n",
      "china: 82\n",
      "cont: 76\n",
      "jobs: 76\n",
      "obamacare: 65\n",
      "america: 65\n",
      "debt: 54\n",
      "republicans: 46\n",
      "government: 41\n",
      "deal: 36\n",
      "washington: 33\n",
      "money: 31\n",
      "barackobamas: 30\n",
      "leadership: 29\n",
      "taxes: 28\n",
      "spending: 27\n",
      "budget: 26\n",
      "\n",
      "\n",
      "TOPIC:  INTERVIEWS_DEBATES\n",
      "The 20 most used words are: \n",
      "interview: 89\n",
      "people: 55\n",
      "discussing: 49\n",
      "foxnews: 45\n",
      "job: 40\n",
      "gop: 33\n",
      "work: 33\n",
      "debate: 29\n",
      "foxandfriends: 25\n",
      "megynkelly: 20\n",
      "poll: 20\n",
      "mittromney: 19\n",
      "2012: 18\n",
      "seanhannity: 16\n",
      "gretawire: 16\n",
      "numbers: 16\n",
      "primary: 15\n",
      "iowa: 13\n",
      "timetogettough: 12\n",
      "squawkcnbc: 12\n",
      "\n",
      "\n",
      "TOPIC:  OBAMA\n",
      "The 20 most used words are: \n",
      "barackobama: 187\n",
      "obama: 157\n",
      "obamacare: 65\n",
      "president: 60\n",
      "cont: 51\n",
      "china: 44\n",
      "jobs: 33\n",
      "barackobamas: 30\n",
      "debt: 28\n",
      "obamas: 25\n",
      "budget: 22\n",
      "country: 21\n",
      "america: 21\n",
      "plan: 19\n",
      "deal: 18\n",
      "republicans: 16\n",
      "money: 16\n",
      "iran: 16\n",
      "college: 16\n",
      "disaster: 15\n",
      "\n",
      "\n",
      "TOPIC:  SHOWS\n",
      "The 20 most used words are: \n",
      "apprenticenbc: 178\n",
      "apprentice: 176\n",
      "celebapprentice: 150\n",
      "nbc: 141\n",
      "celebrity: 140\n",
      "season: 120\n",
      "pm: 91\n",
      "night: 88\n",
      "sunday: 68\n",
      "9: 60\n",
      "live: 58\n",
      "allstar: 50\n",
      "celebrityapprentice: 50\n",
      "episode: 45\n",
      "cast: 40\n",
      "star: 38\n",
      "march: 37\n",
      "ratings: 37\n",
      "brandiglanville: 37\n",
      "tv: 36\n",
      "\n",
      "\n",
      "TOPIC:  VARIOUS\n",
      "The 20 most used words are: \n",
      "deal: 90\n",
      "art: 75\n",
      "book: 53\n",
      "america: 45\n",
      "read: 35\n",
      "win: 30\n",
      "haters: 27\n",
      "dont: 25\n",
      "losers: 22\n",
      "yankees: 22\n",
      "god: 17\n",
      "arod: 16\n",
      "cont: 16\n",
      "trump2016: 15\n",
      "talk: 14\n",
      "deals: 13\n",
      "reading: 13\n",
      "wind: 12\n",
      "turbines: 12\n",
      "order: 12\n",
      "\n",
      "\n"
     ]
    }
   ],
   "source": [
    "for (key, value) in topic_word_count.items():\n",
    "    print('TOPIC: ', key.upper())\n",
    "    print('The 20 most used words are: ')\n",
    "    i = 20\n",
    "    for (word, count) in value.items():\n",
    "        print(word + ': ' + str(count))\n",
    "        i -= 1\n",
    "        if i == 0:\n",
    "            break\n",
    "    print('\\n')"
   ]
  },
  {
   "cell_type": "code",
   "execution_count": null,
   "metadata": {
    "collapsed": true
   },
   "outputs": [],
   "source": []
  },
  {
   "cell_type": "markdown",
   "metadata": {},
   "source": [
    "# CHRIS PART"
   ]
  },
  {
   "cell_type": "markdown",
   "metadata": {},
   "source": [
    "## Analysis of source usage (android iPhone)"
   ]
  },
  {
   "cell_type": "markdown",
   "metadata": {},
   "source": [
    "In this part we decided to analyze the main source from which the tweets were sent during campaign period and the presidency period. We decided to do it in order to see if there is a major change in the source usage from the results obtained in the article already cited: http://varianceexplained.org/r/trump-tweets/. This is because the article was published on the 9th of August 2016.\n",
    "- First, we will create separate columns for tweets from iphone and tweets from android\n",
    "- Then, we will group by month and we apply the count method to the new columns\n",
    "- Finally, we will show a bar plot for the results."
   ]
  },
  {
   "cell_type": "markdown",
   "metadata": {},
   "source": [
    "Here, we retrieve the data for the two periods:"
   ]
  },
  {
   "cell_type": "code",
   "execution_count": 51,
   "metadata": {},
   "outputs": [
    {
     "name": "stderr",
     "output_type": "stream",
     "text": [
      "C:\\Users\\Christian\\Anaconda3\\lib\\site-packages\\ipykernel_launcher.py:12: SettingWithCopyWarning: \n",
      "A value is trying to be set on a copy of a slice from a DataFrame.\n",
      "Try using .loc[row_indexer,col_indexer] = value instead\n",
      "\n",
      "See the caveats in the documentation: http://pandas.pydata.org/pandas-docs/stable/indexing.html#indexing-view-versus-copy\n",
      "  if sys.path[0] == '':\n",
      "C:\\Users\\Christian\\Anaconda3\\lib\\site-packages\\ipykernel_launcher.py:21: SettingWithCopyWarning: \n",
      "A value is trying to be set on a copy of a slice from a DataFrame.\n",
      "Try using .loc[row_indexer,col_indexer] = value instead\n",
      "\n",
      "See the caveats in the documentation: http://pandas.pydata.org/pandas-docs/stable/indexing.html#indexing-view-versus-copy\n"
     ]
    }
   ],
   "source": [
    "# retrieving all data from Trump's tweets dataset\n",
    "all_data, condensed, master = load_data()\n",
    "\n",
    "# getting the condensed version for year 2016 and 2017\n",
    "condensed_2016 = all_data[\"condensed_2016\"]\n",
    "condensed_2017 = all_data[\"condensed_2017\"]\n",
    "\n",
    "# creating a dataframe for campaign period\n",
    "cond_US_campaign_2016 = select_time_interval(condensed_2016, 'created_at',\n",
    "                                             np.datetime64('2016-02-01'), np.datetime64('2016-11-08'))\n",
    "\n",
    "cond_US_campaign_2016['Month'] = cond_US_campaign_2016['created_at'].dt.month\n",
    "\n",
    "cond_US_campaign_2016 = cond_US_campaign_2016.sort_values('created_at')\n",
    "\n",
    "\n",
    "# creating a dataframe for presidency period\n",
    "cond_president_period_df = select_time_interval(condensed_2017, 'created_at',\n",
    "                                                np.datetime64('2017-01-20'), np.datetime64('2017-11-05'))\n",
    "\n",
    "cond_president_period_df['month'] = cond_president_period_df['created_at'].dt.month\n",
    "\n",
    "cond_president_period_df = cond_president_period_df.sort_values('created_at')"
   ]
  },
  {
   "cell_type": "markdown",
   "metadata": {},
   "source": [
    "- we start with the campaign period"
   ]
  },
  {
   "cell_type": "code",
   "execution_count": 52,
   "metadata": {},
   "outputs": [
    {
     "data": {
      "image/png": "[encoded data removed]",
      "text/plain": [
       "<matplotlib.figure.Figure at 0x2bfa54b47b8>"
      ]
     },
     "metadata": {},
     "output_type": "display_data"
    }
   ],
   "source": [
    "# tweets from Iphone source\n",
    "tweets_iphone_campaign_df = cond_US_campaign_2016.loc[cond_US_campaign_2016['source']\n",
    "                                                      == 'Twitter for iPhone', ['Month', 'source']]\n",
    "\n",
    "tweets_iphone_campaign_df.rename(columns={'source': 'tweets_from_iphone'}, inplace=True)\n",
    "\n",
    "# tweets from android source\n",
    "tweets_android_campaign_df = cond_US_campaign_2016.loc[cond_US_campaign_2016['source']\n",
    "                                                       == 'Twitter for Android', ['Month', 'source']]\n",
    "\n",
    "tweets_android_campaign_df.rename(columns={'source': 'tweets_from_android'}, inplace=True)\n",
    "\n",
    "# final dataframe with the two new columns\n",
    "tweets_source_campaign_df = tweets_iphone_campaign_df.append(tweets_android_campaign_df)\n",
    "\n",
    "# here we group by month and use the count method on the two columns\n",
    "tweets_source_campaign_month = tweets_source_campaign_df.groupby('Month').agg({'tweets_from_iphone': 'count',\n",
    "                                                                               'tweets_from_android': 'count'})\n",
    "# reorder the dataframe by month\n",
    "tweets_source_campaign_month.sort_index(inplace=True)\n",
    "\n",
    "# creating a bar chart to visualize our results\n",
    "barchart_tweets_source = tweets_source_campaign_month.plot(kind='bar', title=\"tweets source campaign\",\n",
    "                                                           legend=True, fontsize=12, figsize=(20, 10))\n",
    "\n",
    "barchart_tweets_source.set_xlabel(\"Month\", fontsize=12)\n",
    "barchart_tweets_source.set_ylabel(\"number of tweets\", fontsize=12)\n",
    "\n",
    "plt.show()"
   ]
  },
  {
   "cell_type": "markdown",
   "metadata": {},
   "source": [
    "Nothing in particular can be noticed, as this period was almost completely covered by the article."
   ]
  },
  {
   "cell_type": "markdown",
   "metadata": {},
   "source": [
    "- Now, we will do the same for the presidency period:"
   ]
  },
  {
   "cell_type": "code",
   "execution_count": 53,
   "metadata": {},
   "outputs": [
    {
     "data": {
      "image/png": "[encoded data removed]",
      "text/plain": [
       "<matplotlib.figure.Figure at 0x2bfba68dc18>"
      ]
     },
     "metadata": {},
     "output_type": "display_data"
    }
   ],
   "source": [
    "# tweets from Iphone source\n",
    "tweets_iphone_presidency_df = cond_president_period_df.loc[cond_president_period_df['source']\n",
    "                                                           == 'Twitter for iPhone', ['month', 'source']]\n",
    "\n",
    "tweets_iphone_presidency_df.rename(columns={'source': 'tweets_from_iphone'}, inplace=True)\n",
    "\n",
    "# tweets from android source\n",
    "tweets_android_presidency_df = cond_president_period_df.loc[cond_president_period_df['source']\n",
    "                                                           == 'Twitter for Android', ['month', 'source']]\n",
    "\n",
    "tweets_android_presidency_df.rename(columns={'source': 'tweets_from_android'}, inplace=True)\n",
    "\n",
    "# final dataframe with the two new columns\n",
    "tweets_source_presidency_df = tweets_iphone_presidency_df.append(tweets_android_presidency_df)\n",
    "\n",
    "\n",
    "# now we group by month and we count the number of tweets for the two columns\n",
    "tweets_source_presidency_month = tweets_source_presidency_df.groupby('month').agg({'tweets_from_iphone': 'count',\n",
    "                                                                                   'tweets_from_android': 'count'})\n",
    "# we sort the dataframe by month\n",
    "tweets_source_presidency_month.sort_index(inplace=True)\n",
    "\n",
    "# we create a bar chart to visualize our results\n",
    "barchart_tweets_source_pres = tweets_source_presidency_month.plot(kind='bar', title=\"tweets source presidency\",\n",
    "                                                                legend=True, fontsize=12, figsize=(20, 10))\n",
    "\n",
    "barchart_tweets_source_pres.set_xlabel(\"Month\", fontsize=12)\n",
    "barchart_tweets_source_pres.set_ylabel(\"number of tweets\", fontsize=12)\n",
    "\n",
    "plt.show()"
   ]
  },
  {
   "cell_type": "markdown",
   "metadata": {},
   "source": [
    "Surprisingly, it is clear that in March 2017, the president switched completely to iPhone. Obviously this fact cannot be reached by the analysis of the article, it was published the 9th of August 2016. "
   ]
  },
  {
   "cell_type": "markdown",
   "metadata": {
    "collapsed": true
   },
   "source": [
    "# Fake news term usage analysis"
   ]
  },
  {
   "cell_type": "markdown",
   "metadata": {},
   "source": [
    "For this task we decided to consider three different period of time in order to see when the term \"fake news\" arise. We took the campaign period, the president-elect period and the presidency period. The main goal of this part is to see when the president started using this term, how many times he uses it and see if we can get a correlation between when he uses the term and some specific situations as scandals or periods of high pressure on his work and his administration. First of all we create a dataframe for each of these periods. "
   ]
  },
  {
   "cell_type": "markdown",
   "metadata": {},
   "source": [
    "- Here we create the three dataframes:"
   ]
  },
  {
   "cell_type": "code",
   "execution_count": 54,
   "metadata": {
    "collapsed": true
   },
   "outputs": [],
   "source": [
    "# retrieving all data from Trump's tweets dataset\n",
    "all_data, condensed, master = load_data()\n",
    "\n",
    "# getting the condensed version for year 2016 and 2017\n",
    "condensed_2016 = all_data[\"condensed_2016\"]\n",
    "condensed_2017 = all_data[\"condensed_2017\"]\n",
    "\n",
    "# creating a dataframe for campaign period\n",
    "cond_US_campaign_2016 = select_time_interval(condensed_2016, 'created_at',\n",
    "                                             np.datetime64('2016-02-01'), np.datetime64('2016-11-08'))\n",
    "\n",
    "cond_US_campaign_2016 = cond_US_campaign_2016.sort_values('created_at')\n",
    "\n",
    "\n",
    "# creating a dataframe for president elect period\n",
    "cond_pres_elect_df = select_time_interval(condensed_2016, 'created_at',\n",
    "                                          np.datetime64('2016-11-09'), np.datetime64('2016-12-31'))\n",
    "\n",
    "cond_pres_elect_df_2017 = select_time_interval(condensed_2017, 'created_at',\n",
    "                                               np.datetime64('2017-01-01'), np.datetime64('2017-01-20'))\n",
    "\n",
    "cond_pres_elect_df = cond_pres_elect_df.append(cond_pres_elect_df_2017)\n",
    "\n",
    "cond_pres_elect_df = cond_pres_elect_df.sort_values('created_at')\n",
    "\n",
    "\n",
    "# creating a dataframe for presidency period\n",
    "cond_president_period_df = select_time_interval(condensed_2017, 'created_at',\n",
    "                                                np.datetime64('2017-01-20'), np.datetime64('2017-11-05'))\n",
    "\n",
    "cond_president_period_df = cond_president_period_df.sort_values('created_at')"
   ]
  },
  {
   "cell_type": "markdown",
   "metadata": {},
   "source": [
    "### The campaign period"
   ]
  },
  {
   "cell_type": "markdown",
   "metadata": {},
   "source": [
    "- Now we will search in each tweets for the term \"fake news\". We used a simple regex and we do not consider case sensitive. We create a new column of boolean values 'fake_news_used' in our dataframe using the 'contains' method. After this we create useful columns with Month, week/year and day values in order to make a groupby with them and see some interesting patterns in the usage of the term."
   ]
  },
  {
   "cell_type": "code",
   "execution_count": 55,
   "metadata": {
    "collapsed": true
   },
   "outputs": [],
   "source": [
    "# creating the column with boolean values for the matches of the regex:\n",
    "cond_US_campaign_2016['fake_news_used'] = cond_US_campaign_2016['text'].str.contains('fake news|fakenews', case=False)\n",
    "\n",
    "# creating the columns 'Month', 'week/year' and 'Date'\n",
    "cond_US_campaign_2016['Month'] = cond_US_campaign_2016['created_at'].dt.month\n",
    "cond_US_campaign_2016['week/year'] = cond_US_campaign_2016['created_at'].apply(lambda x: \"%d/%d\" % (x.week, x.year))\n",
    "cond_US_campaign_2016['Date'] = cond_US_campaign_2016['created_at'].dt.date\n"
   ]
  },
  {
   "cell_type": "markdown",
   "metadata": {},
   "source": [
    "- Now first we count how many positive results we had:"
   ]
  },
  {
   "cell_type": "code",
   "execution_count": 56,
   "metadata": {},
   "outputs": [
    {
     "data": {
      "text/plain": [
       "0"
      ]
     },
     "execution_count": 56,
     "metadata": {},
     "output_type": "execute_result"
    }
   ],
   "source": [
    "cond_US_campaign_2016['fake_news_used'].sum()"
   ]
  },
  {
   "cell_type": "markdown",
   "metadata": {},
   "source": [
    "As you can see, during his campaign period, the 'fake news' did not appear in any of his tweets. In order to be sure we search for the words 'fake' and 'news' separately and these are the results:"
   ]
  },
  {
   "cell_type": "code",
   "execution_count": 57,
   "metadata": {},
   "outputs": [
    {
     "name": "stdout",
     "output_type": "stream",
     "text": [
      "[ '\"@ddpick18: @realDonaldTrump This Texan will be voting Trump March 1st. Cruz is a fake Texan!\"'\n",
      " '@elizabethforma Goofy Elizabeth Warren, sometimes referred to as Pocahontas because she faked the fact she is native American, is a lowlife!'\n",
      " '\"@JimVitari:  @ABC @washingtonpost we know they\\'re fake just like poles during primary. I\\'m sure u will crush #CrookedHillary in general\"'\n",
      " '\"@brazosboys: Hillary read \"sigh\" off the Teleprompter, She\\'s so fake she has to be told how to feel: https://t.co/ENXliW2m77 @FoxNews']\n"
     ]
    },
    {
     "data": {
      "text/html": [
       "<div>\n",
       "<style>\n",
       "    .dataframe thead tr:only-child th {\n",
       "        text-align: right;\n",
       "    }\n",
       "\n",
       "    .dataframe thead th {\n",
       "        text-align: left;\n",
       "    }\n",
       "\n",
       "    .dataframe tbody tr th {\n",
       "        vertical-align: top;\n",
       "    }\n",
       "</style>\n",
       "<table border=\"1\" class=\"dataframe\">\n",
       "  <thead>\n",
       "    <tr style=\"text-align: right;\">\n",
       "      <th></th>\n",
       "      <th>text</th>\n",
       "      <th>fake_usage</th>\n",
       "    </tr>\n",
       "  </thead>\n",
       "  <tbody>\n",
       "    <tr>\n",
       "      <th>3349</th>\n",
       "      <td>\"@ddpick18: @realDonaldTrump This Texan will b...</td>\n",
       "      <td>True</td>\n",
       "    </tr>\n",
       "    <tr>\n",
       "      <th>2228</th>\n",
       "      <td>@elizabethforma Goofy Elizabeth Warren, someti...</td>\n",
       "      <td>True</td>\n",
       "    </tr>\n",
       "    <tr>\n",
       "      <th>1898</th>\n",
       "      <td>\"@JimVitari:  @ABC @washingtonpost we know the...</td>\n",
       "      <td>True</td>\n",
       "    </tr>\n",
       "    <tr>\n",
       "      <th>1897</th>\n",
       "      <td>\"@brazosboys: Hillary read \"sigh\" off the Tele...</td>\n",
       "      <td>True</td>\n",
       "    </tr>\n",
       "  </tbody>\n",
       "</table>\n",
       "</div>"
      ],
      "text/plain": [
       "                                                   text  fake_usage\n",
       "3349  \"@ddpick18: @realDonaldTrump This Texan will b...        True\n",
       "2228  @elizabethforma Goofy Elizabeth Warren, someti...        True\n",
       "1898  \"@JimVitari:  @ABC @washingtonpost we know the...        True\n",
       "1897  \"@brazosboys: Hillary read \"sigh\" off the Tele...        True"
      ]
     },
     "execution_count": 57,
     "metadata": {},
     "output_type": "execute_result"
    }
   ],
   "source": [
    "# search for the word fake\n",
    "match_df = cond_US_campaign_2016.loc[:,['text']]\n",
    "match_df['fake_usage'] = cond_US_campaign_2016['text'].str.contains('fake', case=False)\n",
    "temp_df = match_df[match_df['fake_usage'] == True]\n",
    "\n",
    "print(str(temp_df.text.values))\n",
    "temp_df\n"
   ]
  },
  {
   "cell_type": "code",
   "execution_count": 58,
   "metadata": {},
   "outputs": [
    {
     "data": {
      "text/html": [
       "<div>\n",
       "<style>\n",
       "    .dataframe thead tr:only-child th {\n",
       "        text-align: right;\n",
       "    }\n",
       "\n",
       "    .dataframe thead th {\n",
       "        text-align: left;\n",
       "    }\n",
       "\n",
       "    .dataframe tbody tr th {\n",
       "        vertical-align: top;\n",
       "    }\n",
       "</style>\n",
       "<table border=\"1\" class=\"dataframe\">\n",
       "  <thead>\n",
       "    <tr style=\"text-align: right;\">\n",
       "      <th></th>\n",
       "      <th>text</th>\n",
       "      <th>news_usage</th>\n",
       "    </tr>\n",
       "  </thead>\n",
       "  <tbody>\n",
       "    <tr>\n",
       "      <th>3705</th>\n",
       "      <td>I will be interviewed on @greta at 7:00 P.M. E...</td>\n",
       "      <td>True</td>\n",
       "    </tr>\n",
       "    <tr>\n",
       "      <th>3601</th>\n",
       "      <td>Dopey Mort Zuckerman, owner of the worthless @...</td>\n",
       "      <td>True</td>\n",
       "    </tr>\n",
       "    <tr>\n",
       "      <th>3600</th>\n",
       "      <td>Worthless @NYDailyNews, which dopey Mort Zucke...</td>\n",
       "      <td>True</td>\n",
       "    </tr>\n",
       "    <tr>\n",
       "      <th>3599</th>\n",
       "      <td>Like the worthless @NYDailyNews, looks like @p...</td>\n",
       "      <td>True</td>\n",
       "    </tr>\n",
       "    <tr>\n",
       "      <th>3591</th>\n",
       "      <td>There are no buyers for the worthless @NYDaily...</td>\n",
       "      <td>True</td>\n",
       "    </tr>\n",
       "  </tbody>\n",
       "</table>\n",
       "</div>"
      ],
      "text/plain": [
       "                                                   text  news_usage\n",
       "3705  I will be interviewed on @greta at 7:00 P.M. E...        True\n",
       "3601  Dopey Mort Zuckerman, owner of the worthless @...        True\n",
       "3600  Worthless @NYDailyNews, which dopey Mort Zucke...        True\n",
       "3599  Like the worthless @NYDailyNews, looks like @p...        True\n",
       "3591  There are no buyers for the worthless @NYDaily...        True"
      ]
     },
     "execution_count": 58,
     "metadata": {},
     "output_type": "execute_result"
    }
   ],
   "source": [
    "# search for the word 'news'\n",
    "match_df = cond_US_campaign_2016.loc[:,['text']]\n",
    "match_df['news_usage'] = cond_US_campaign_2016['text'].str.contains('news', case=False)\n",
    "temp_df = match_df[match_df['news_usage'] == True]\n",
    "\n",
    "# showing the results\n",
    "temp_df.head()"
   ]
  },
  {
   "cell_type": "code",
   "execution_count": 59,
   "metadata": {},
   "outputs": [
    {
     "data": {
      "text/plain": [
       "147"
      ]
     },
     "execution_count": 59,
     "metadata": {},
     "output_type": "execute_result"
    }
   ],
   "source": [
    "# number of positive matches:\n",
    "temp_df.news_usage.sum()"
   ]
  },
  {
   "cell_type": "markdown",
   "metadata": {},
   "source": [
    "For the 'news' term we found mostly tweets with hashtags of media or other tweets that are related with 'fake news' term.\n",
    "Therefore, we conlcude what we have said before, in the campaign period there is no sign of the 'fake news' term in his tweets. We can go ahead with the president-elect period."
   ]
  },
  {
   "cell_type": "markdown",
   "metadata": {},
   "source": [
    "### President elect period"
   ]
  },
  {
   "cell_type": "markdown",
   "metadata": {},
   "source": [
    "- Here we repeat the same process that we have done for the campaign period:"
   ]
  },
  {
   "cell_type": "code",
   "execution_count": 60,
   "metadata": {},
   "outputs": [
    {
     "data": {
      "text/plain": [
       "11"
      ]
     },
     "execution_count": 60,
     "metadata": {},
     "output_type": "execute_result"
    }
   ],
   "source": [
    "# creating the column with boolean values for the matches of the regex:\n",
    "cond_pres_elect_df['fake_news_used'] = cond_pres_elect_df['text'].str.contains('fake news|fakenews', case=False)\n",
    "\n",
    "# creating the columns 'month', 'week/year' and 'date'\n",
    "cond_pres_elect_df['month'] = cond_pres_elect_df['created_at'].dt.month\n",
    "cond_pres_elect_df['week/year'] = cond_pres_elect_df['created_at'].apply(lambda x: \"%d/%d\" % (x.week, x.year))\n",
    "cond_pres_elect_df['date'] = cond_pres_elect_df['created_at'].dt.date\n",
    "\n",
    "# showing the number of positive matches:\n",
    "cond_pres_elect_df['fake_news_used'].sum()"
   ]
  },
  {
   "cell_type": "markdown",
   "metadata": {},
   "source": [
    "- We have few positive matches, let's continue with the analysis:\n",
    "- first we display all the tweets:"
   ]
  },
  {
   "cell_type": "code",
   "execution_count": 61,
   "metadata": {},
   "outputs": [
    {
     "name": "stdout",
     "output_type": "stream",
     "text": [
      "[ 'Reports by @CNN that I will be working on The Apprentice during my Presidency, even part time, are ridiculous &amp; untrue - FAKE NEWS!'\n",
      " 'FAKE NEWS - A TOTAL POLITICAL WITCH HUNT!'\n",
      " 'RT @MichaelCohen212: I have never been to Prague in my life. #fakenews https://t.co/CMil9Rha3D'\n",
      " \"'BuzzFeed Runs Unverifiable Trump-Russia Claims' #FakeNews \\nhttps://t.co/d6daCFZHNh\"\n",
      " 'I win an election easily, a great \"movement\" is verified, and crooked opponents try to belittle our victory with FAKE NEWS. A sorry state!'\n",
      " 'Intelligence agencies should never have allowed this fake news to \"leak\" into the public. One last shot at me.Are we living in Nazi Germany?'\n",
      " \"We had a great News Conference at Trump Tower today. A couple of FAKE NEWS organizations were there but the people truly get what's going on\"\n",
      " '.@CNN is in a total meltdown with their FAKE NEWS because their ratings are tanking since election and their credibility will soon be gone!'\n",
      " 'Totally made up facts by sleazebag political operatives, both Democrats and Republicans - FAKE NEWS! Russia says nothing exists. Probably...'\n",
      " 'much worse - just look at Syria (red line), Crimea, Ukraine and the build-up of Russian nukes. Not good! Was this the leaker of Fake News?'\n",
      " \"to the U.S., but had nothing to do with TRUMP, is more FAKE NEWS. Ask top CEO's of those companies for real facts. Came back because of me!\"]\n"
     ]
    },
    {
     "data": {
      "text/html": [
       "<div>\n",
       "<style>\n",
       "    .dataframe thead tr:only-child th {\n",
       "        text-align: right;\n",
       "    }\n",
       "\n",
       "    .dataframe thead th {\n",
       "        text-align: left;\n",
       "    }\n",
       "\n",
       "    .dataframe tbody tr th {\n",
       "        vertical-align: top;\n",
       "    }\n",
       "</style>\n",
       "<table border=\"1\" class=\"dataframe\">\n",
       "  <thead>\n",
       "    <tr style=\"text-align: right;\">\n",
       "      <th></th>\n",
       "      <th>date</th>\n",
       "      <th>text</th>\n",
       "    </tr>\n",
       "  </thead>\n",
       "  <tbody>\n",
       "    <tr>\n",
       "      <th>91</th>\n",
       "      <td>2016-12-10</td>\n",
       "      <td>Reports by @CNN that I will be working on The ...</td>\n",
       "    </tr>\n",
       "    <tr>\n",
       "      <th>2123</th>\n",
       "      <td>2017-01-11</td>\n",
       "      <td>FAKE NEWS - A TOTAL POLITICAL WITCH HUNT!</td>\n",
       "    </tr>\n",
       "    <tr>\n",
       "      <th>2122</th>\n",
       "      <td>2017-01-11</td>\n",
       "      <td>RT @MichaelCohen212: I have never been to Prag...</td>\n",
       "    </tr>\n",
       "    <tr>\n",
       "      <th>2121</th>\n",
       "      <td>2017-01-11</td>\n",
       "      <td>'BuzzFeed Runs Unverifiable Trump-Russia Claim...</td>\n",
       "    </tr>\n",
       "    <tr>\n",
       "      <th>2118</th>\n",
       "      <td>2017-01-11</td>\n",
       "      <td>I win an election easily, a great \"movement\" i...</td>\n",
       "    </tr>\n",
       "    <tr>\n",
       "      <th>2117</th>\n",
       "      <td>2017-01-11</td>\n",
       "      <td>Intelligence agencies should never have allowe...</td>\n",
       "    </tr>\n",
       "    <tr>\n",
       "      <th>2116</th>\n",
       "      <td>2017-01-12</td>\n",
       "      <td>We had a great News Conference at Trump Tower ...</td>\n",
       "    </tr>\n",
       "    <tr>\n",
       "      <th>2112</th>\n",
       "      <td>2017-01-12</td>\n",
       "      <td>.@CNN is in a total meltdown with their FAKE N...</td>\n",
       "    </tr>\n",
       "    <tr>\n",
       "      <th>2108</th>\n",
       "      <td>2017-01-13</td>\n",
       "      <td>Totally made up facts by sleazebag political o...</td>\n",
       "    </tr>\n",
       "    <tr>\n",
       "      <th>2090</th>\n",
       "      <td>2017-01-16</td>\n",
       "      <td>much worse - just look at Syria (red line), Cr...</td>\n",
       "    </tr>\n",
       "    <tr>\n",
       "      <th>2073</th>\n",
       "      <td>2017-01-18</td>\n",
       "      <td>to the U.S., but had nothing to do with TRUMP,...</td>\n",
       "    </tr>\n",
       "  </tbody>\n",
       "</table>\n",
       "</div>"
      ],
      "text/plain": [
       "            date                                               text\n",
       "91    2016-12-10  Reports by @CNN that I will be working on The ...\n",
       "2123  2017-01-11          FAKE NEWS - A TOTAL POLITICAL WITCH HUNT!\n",
       "2122  2017-01-11  RT @MichaelCohen212: I have never been to Prag...\n",
       "2121  2017-01-11  'BuzzFeed Runs Unverifiable Trump-Russia Claim...\n",
       "2118  2017-01-11  I win an election easily, a great \"movement\" i...\n",
       "2117  2017-01-11  Intelligence agencies should never have allowe...\n",
       "2116  2017-01-12  We had a great News Conference at Trump Tower ...\n",
       "2112  2017-01-12  .@CNN is in a total meltdown with their FAKE N...\n",
       "2108  2017-01-13  Totally made up facts by sleazebag political o...\n",
       "2090  2017-01-16  much worse - just look at Syria (red line), Cr...\n",
       "2073  2017-01-18  to the U.S., but had nothing to do with TRUMP,..."
      ]
     },
     "execution_count": 61,
     "metadata": {},
     "output_type": "execute_result"
    }
   ],
   "source": [
    "match_df = cond_pres_elect_df.loc[cond_pres_elect_df['fake_news_used'] == True, ['date','text']]\n",
    "match_df = match_df.sort_values('date')\n",
    "from IPython.display import display\n",
    "print(str(match_df.text.values))\n",
    "match_df\n"
   ]
  },
  {
   "cell_type": "markdown",
   "metadata": {},
   "source": [
    "- We noticed that in this 11 tweets the fake news term was related mostly with CNN and Russia. Specially the rise of the term was due to release of a non-verified paper by Buzzfeed containing strong claims about Trump and Russia ties and possibility that Trump could be blackmailed by the Russian governement. He over reacted to this leak, attacking the intelligence agencies and trying to discredit the Media. For more information, here you have the story described by the New York Times: https://www.nytimes.com/2017/01/10/business/buzzfeed-donald-trump-russia.html"
   ]
  },
  {
   "cell_type": "markdown",
   "metadata": {},
   "source": [
    "\n",
    "- Due to the small number of tweets with the 'fake news' term we can go ahead with the next period."
   ]
  },
  {
   "cell_type": "markdown",
   "metadata": {},
   "source": [
    "## Presidency period"
   ]
  },
  {
   "cell_type": "markdown",
   "metadata": {},
   "source": [
    "Again, we prepare the dataframe creating the column for the match:"
   ]
  },
  {
   "cell_type": "code",
   "execution_count": 62,
   "metadata": {},
   "outputs": [
    {
     "data": {
      "text/plain": [
       "132"
      ]
     },
     "execution_count": 62,
     "metadata": {},
     "output_type": "execute_result"
    }
   ],
   "source": [
    "# creating the column with boolean values from the regex result:\n",
    "cond_president_period_df['fake_news_used'] = cond_president_period_df['text'].str.contains('fake news|fakenews', case=False)\n",
    "\n",
    "# showing the number of positive results:\n",
    "cond_president_period_df['fake_news_used'].sum()\n"
   ]
  },
  {
   "cell_type": "markdown",
   "metadata": {},
   "source": [
    "- Considered that we have a period of 10 month, we have an interesting number of postive matches, so we can start a deeper analysis conidering the months, the week/year and by date:"
   ]
  },
  {
   "cell_type": "code",
   "execution_count": 63,
   "metadata": {
    "collapsed": true
   },
   "outputs": [],
   "source": [
    "# adding month, date and week/year columns in order to make groupby operations\n",
    "cond_president_period_df['month'] = cond_president_period_df['created_at'].dt.month\n",
    "cond_president_period_df['date'] = cond_president_period_df['created_at'].dt.date\n",
    "cond_president_period_df['week/year'] = cond_president_period_df['created_at'].apply(lambda x: \"%d/%d\" % (x.week, x.year))\n"
   ]
  },
  {
   "cell_type": "markdown",
   "metadata": {},
   "source": [
    "### analysis by month"
   ]
  },
  {
   "cell_type": "markdown",
   "metadata": {},
   "source": [
    "- For a first insight, we will groupby by Month columns and count the usage of the term per month, showing it with a bar plot:"
   ]
  },
  {
   "cell_type": "code",
   "execution_count": 64,
   "metadata": {},
   "outputs": [
    {
     "data": {
      "image/png": "[encoded data removed]",
      "text/plain": [
       "<matplotlib.figure.Figure at 0x2bfc2c92320>"
      ]
     },
     "metadata": {},
     "output_type": "display_data"
    }
   ],
   "source": [
    "month_analysis_df = cond_president_period_df[['month', 'fake_news_used']]\n",
    "month_analysis_df = month_analysis_df.groupby(['month']).sum()\n",
    "\n",
    "bar_month_plot = month_analysis_df.plot(kind='bar', title=\"fake news term usage by month\", legend=True, fontsize=12, figsize=(14, 7))\n",
    "bar_month_plot.set_xlabel(\"Month\", fontsize=12)\n",
    "bar_month_plot.set_ylabel(\"count\", fontsize=12)\n",
    "plt.show()"
   ]
  },
  {
   "cell_type": "markdown",
   "metadata": {},
   "source": [
    "- We reorder the dataset by the number of times he used the term and show again the plot:"
   ]
  },
  {
   "cell_type": "code",
   "execution_count": 65,
   "metadata": {},
   "outputs": [
    {
     "data": {
      "text/html": [
       "<div>\n",
       "<style>\n",
       "    .dataframe thead tr:only-child th {\n",
       "        text-align: right;\n",
       "    }\n",
       "\n",
       "    .dataframe thead th {\n",
       "        text-align: left;\n",
       "    }\n",
       "\n",
       "    .dataframe tbody tr th {\n",
       "        vertical-align: top;\n",
       "    }\n",
       "</style>\n",
       "<table border=\"1\" class=\"dataframe\">\n",
       "  <thead>\n",
       "    <tr style=\"text-align: right;\">\n",
       "      <th></th>\n",
       "      <th>fake_news_used</th>\n",
       "    </tr>\n",
       "    <tr>\n",
       "      <th>month</th>\n",
       "      <th></th>\n",
       "    </tr>\n",
       "  </thead>\n",
       "  <tbody>\n",
       "    <tr>\n",
       "      <th>10</th>\n",
       "      <td>23.0</td>\n",
       "    </tr>\n",
       "    <tr>\n",
       "      <th>7</th>\n",
       "      <td>20.0</td>\n",
       "    </tr>\n",
       "    <tr>\n",
       "      <th>2</th>\n",
       "      <td>18.0</td>\n",
       "    </tr>\n",
       "    <tr>\n",
       "      <th>8</th>\n",
       "      <td>18.0</td>\n",
       "    </tr>\n",
       "    <tr>\n",
       "      <th>5</th>\n",
       "      <td>14.0</td>\n",
       "    </tr>\n",
       "    <tr>\n",
       "      <th>6</th>\n",
       "      <td>13.0</td>\n",
       "    </tr>\n",
       "    <tr>\n",
       "      <th>9</th>\n",
       "      <td>12.0</td>\n",
       "    </tr>\n",
       "    <tr>\n",
       "      <th>3</th>\n",
       "      <td>7.0</td>\n",
       "    </tr>\n",
       "    <tr>\n",
       "      <th>1</th>\n",
       "      <td>3.0</td>\n",
       "    </tr>\n",
       "    <tr>\n",
       "      <th>4</th>\n",
       "      <td>3.0</td>\n",
       "    </tr>\n",
       "    <tr>\n",
       "      <th>11</th>\n",
       "      <td>1.0</td>\n",
       "    </tr>\n",
       "  </tbody>\n",
       "</table>\n",
       "</div>"
      ],
      "text/plain": [
       "       fake_news_used\n",
       "month                \n",
       "10               23.0\n",
       "7                20.0\n",
       "2                18.0\n",
       "8                18.0\n",
       "5                14.0\n",
       "6                13.0\n",
       "9                12.0\n",
       "3                 7.0\n",
       "1                 3.0\n",
       "4                 3.0\n",
       "11                1.0"
      ]
     },
     "execution_count": 65,
     "metadata": {},
     "output_type": "execute_result"
    }
   ],
   "source": [
    "month_analysis_df = month_analysis_df.sort_values('fake_news_used', ascending=False)\n",
    "\n",
    "#showing the dataframe\n",
    "month_analysis_df"
   ]
  },
  {
   "cell_type": "code",
   "execution_count": 66,
   "metadata": {},
   "outputs": [
    {
     "data": {
      "image/png": "[encoded data removed]",
      "text/plain": [
       "<matplotlib.figure.Figure at 0x2bfa193e908>"
      ]
     },
     "metadata": {},
     "output_type": "display_data"
    }
   ],
   "source": [
    "# showing the bar plot\n",
    "bar_month_plot = month_analysis_df.plot(kind='bar', title=\"fake news term usage by month\", legend=True, fontsize=12, figsize=(14, 7))\n",
    "bar_month_plot.set_xlabel(\"Month\", fontsize=12)\n",
    "bar_month_plot.set_ylabel(\"count\", fontsize=12)\n",
    "plt.show()"
   ]
  },
  {
   "cell_type": "markdown",
   "metadata": {},
   "source": [
    "- It is to be said that we have small values for january 2017 because the presidency period starts the 20th of january.\n",
    "- dividing by month it is clear that we need to restrict the period of time of the groupby in order to see if we can obtain clear peak in the term usage."
   ]
  },
  {
   "cell_type": "markdown",
   "metadata": {},
   "source": [
    "- Before moving on the week/year period we want to see the tweets in the month of october in order to see if they are all tied with a particular fact:"
   ]
  },
  {
   "cell_type": "code",
   "execution_count": 67,
   "metadata": {},
   "outputs": [
    {
     "name": "stdout",
     "output_type": "stream",
     "text": [
      "[ 'We have done a great job with the almost impossible situation in Puerto Rico. Outside of the Fake News or politically motivated ingrates,...'\n",
      " 'Wow, so many Fake News stories today. No matter what I do or say, they will not write or speak truth. The Fake News Media is out of control!'\n",
      " 'NBC news is #FakeNews and more dishonest than even CNN. They are a disgrace to good reporting. No wonder their news ratings are way down!'\n",
      " 'The @NBCNews story has just been totally refuted by Sec. Tillerson and @VP Pence. It is #FakeNews. They should issue an apology to AMERICA!'\n",
      " \"RT @FoxNews: Geraldo Blasts 'Fake News' Reports About Trump's Visit to Puerto Rico https://t.co/9jO0D3BMvE\"\n",
      " \"Why Isn't the Senate Intel Committee looking into the Fake News Networks in OUR country to see why so much of our news is just made up-FAKE!\"\n",
      " 'Rex Tillerson never threatened to resign. This is Fake News put out by @NBCNews. Low news and reporting standards. No verification from me.'\n",
      " 'The Fake News is at it again, this time trying to hurt one of the finest people I know, General John Kelly, by saying he will soon be.....'\n",
      " 'It would be really nice if the Fake News Media would report the virtually unprecedented Stock Market growth since the election.Need tax cuts'\n",
      " 'With all of the Fake News coming out of NBC and the Networks, at what point is it appropriate to challenge their License? Bad for country!'\n",
      " 'The Fake News Is going all out in order to demean and denigrate! Such hatred!'\n",
      " 'People are just now starting to find out how dishonest and disgusting (FakeNews) @NBCNews is. Viewers beware. May be worse than even @CNN!'\n",
      " 'Sadly, they and others are Fake News, and the public is just beginning to figure it out! https://t.co/8B8AyA7V1s'\n",
      " 'So much Fake News being put in dying magazines and newspapers. Only place worse may be @NBCNews, @CBSNews, @ABC and @CNN. Fiction writers!'\n",
      " 'The Fake News is going crazy with wacky Congresswoman Wilson(D), who was SECRETLY on a very personal call, and gave a total lie on content!'\n",
      " 'I hope the Fake News Media keeps talking about Wacky Congresswoman Wilson in that she, as a representative, is killing the Democrat Party!'\n",
      " \"Stock Market hits another all time high on Friday. 5.3 trillion dollars up since Election. Fake News doesn't spent much time on this!\"\n",
      " 'Keep hearing about \"tiny\" amount of money spent on Facebook ads. What about the billions of dollars of Fake News on CNN, ABC, NBC &amp; CBS?'\n",
      " 'It is finally sinking through. 46% OF PEOPLE BELIEVE MAJOR NATIONAL NEWS ORGS FABRICATE STORIES ABOUT ME. FAKE NEWS, even worse! Lost cred.'\n",
      " '\"Clinton campaign &amp; DNC paid for research that led to the anti-Trump Fake News Dossier. The victim here is the President.\" @FoxNews'\n",
      " 'Just read the nice remarks by President Jimmy Carter about me and how badly I am treated by the press (Fake News). Thank you Mr. President!'\n",
      " 'The Fake News is working overtime. As Paul Manaforts lawyer said, there was \"no collusion\" and events mentioned took place long before he...'\n",
      " '....earth shattering. He and his brother could Drain The Swamp, which would be yet another campaign promise fulfilled. Fake News weak!']\n"
     ]
    },
    {
     "data": {
      "text/html": [
       "<div>\n",
       "<style>\n",
       "    .dataframe thead tr:only-child th {\n",
       "        text-align: right;\n",
       "    }\n",
       "\n",
       "    .dataframe thead th {\n",
       "        text-align: left;\n",
       "    }\n",
       "\n",
       "    .dataframe tbody tr th {\n",
       "        vertical-align: top;\n",
       "    }\n",
       "</style>\n",
       "<table border=\"1\" class=\"dataframe\">\n",
       "  <thead>\n",
       "    <tr style=\"text-align: right;\">\n",
       "      <th></th>\n",
       "      <th>text</th>\n",
       "    </tr>\n",
       "  </thead>\n",
       "  <tbody>\n",
       "    <tr>\n",
       "      <th>346</th>\n",
       "      <td>We have done a great job with the almost impos...</td>\n",
       "    </tr>\n",
       "    <tr>\n",
       "      <th>326</th>\n",
       "      <td>Wow, so many Fake News stories today. No matte...</td>\n",
       "    </tr>\n",
       "    <tr>\n",
       "      <th>325</th>\n",
       "      <td>NBC news is #FakeNews and more dishonest than ...</td>\n",
       "    </tr>\n",
       "    <tr>\n",
       "      <th>324</th>\n",
       "      <td>The @NBCNews story has just been totally refut...</td>\n",
       "    </tr>\n",
       "    <tr>\n",
       "      <th>320</th>\n",
       "      <td>RT @FoxNews: Geraldo Blasts 'Fake News' Report...</td>\n",
       "    </tr>\n",
       "    <tr>\n",
       "      <th>314</th>\n",
       "      <td>Why Isn't the Senate Intel Committee looking i...</td>\n",
       "    </tr>\n",
       "    <tr>\n",
       "      <th>312</th>\n",
       "      <td>Rex Tillerson never threatened to resign. This...</td>\n",
       "    </tr>\n",
       "    <tr>\n",
       "      <th>271</th>\n",
       "      <td>The Fake News is at it again, this time trying...</td>\n",
       "    </tr>\n",
       "    <tr>\n",
       "      <th>267</th>\n",
       "      <td>It would be really nice if the Fake News Media...</td>\n",
       "    </tr>\n",
       "    <tr>\n",
       "      <th>263</th>\n",
       "      <td>With all of the Fake News coming out of NBC an...</td>\n",
       "    </tr>\n",
       "    <tr>\n",
       "      <th>248</th>\n",
       "      <td>The Fake News Is going all out in order to dem...</td>\n",
       "    </tr>\n",
       "    <tr>\n",
       "      <th>244</th>\n",
       "      <td>People are just now starting to find out how d...</td>\n",
       "    </tr>\n",
       "    <tr>\n",
       "      <th>240</th>\n",
       "      <td>Sadly, they and others are Fake News, and the ...</td>\n",
       "    </tr>\n",
       "    <tr>\n",
       "      <th>201</th>\n",
       "      <td>So much Fake News being put in dying magazines...</td>\n",
       "    </tr>\n",
       "    <tr>\n",
       "      <th>172</th>\n",
       "      <td>The Fake News is going crazy with wacky Congre...</td>\n",
       "    </tr>\n",
       "    <tr>\n",
       "      <th>161</th>\n",
       "      <td>I hope the Fake News Media keeps talking about...</td>\n",
       "    </tr>\n",
       "    <tr>\n",
       "      <th>157</th>\n",
       "      <td>Stock Market hits another all time high on Fri...</td>\n",
       "    </tr>\n",
       "    <tr>\n",
       "      <th>154</th>\n",
       "      <td>Keep hearing about \"tiny\" amount of money spen...</td>\n",
       "    </tr>\n",
       "    <tr>\n",
       "      <th>146</th>\n",
       "      <td>It is finally sinking through. 46% OF PEOPLE B...</td>\n",
       "    </tr>\n",
       "    <tr>\n",
       "      <th>133</th>\n",
       "      <td>\"Clinton campaign &amp;amp; DNC paid for research ...</td>\n",
       "    </tr>\n",
       "    <tr>\n",
       "      <th>91</th>\n",
       "      <td>Just read the nice remarks by President Jimmy ...</td>\n",
       "    </tr>\n",
       "    <tr>\n",
       "      <th>73</th>\n",
       "      <td>The Fake News is working overtime. As Paul Man...</td>\n",
       "    </tr>\n",
       "    <tr>\n",
       "      <th>69</th>\n",
       "      <td>....earth shattering. He and his brother could...</td>\n",
       "    </tr>\n",
       "  </tbody>\n",
       "</table>\n",
       "</div>"
      ],
      "text/plain": [
       "                                                  text\n",
       "346  We have done a great job with the almost impos...\n",
       "326  Wow, so many Fake News stories today. No matte...\n",
       "325  NBC news is #FakeNews and more dishonest than ...\n",
       "324  The @NBCNews story has just been totally refut...\n",
       "320  RT @FoxNews: Geraldo Blasts 'Fake News' Report...\n",
       "314  Why Isn't the Senate Intel Committee looking i...\n",
       "312  Rex Tillerson never threatened to resign. This...\n",
       "271  The Fake News is at it again, this time trying...\n",
       "267  It would be really nice if the Fake News Media...\n",
       "263  With all of the Fake News coming out of NBC an...\n",
       "248  The Fake News Is going all out in order to dem...\n",
       "244  People are just now starting to find out how d...\n",
       "240  Sadly, they and others are Fake News, and the ...\n",
       "201  So much Fake News being put in dying magazines...\n",
       "172  The Fake News is going crazy with wacky Congre...\n",
       "161  I hope the Fake News Media keeps talking about...\n",
       "157  Stock Market hits another all time high on Fri...\n",
       "154  Keep hearing about \"tiny\" amount of money spen...\n",
       "146  It is finally sinking through. 46% OF PEOPLE B...\n",
       "133  \"Clinton campaign &amp; DNC paid for research ...\n",
       "91   Just read the nice remarks by President Jimmy ...\n",
       "73   The Fake News is working overtime. As Paul Man...\n",
       "69   ....earth shattering. He and his brother could..."
      ]
     },
     "execution_count": 67,
     "metadata": {},
     "output_type": "execute_result"
    }
   ],
   "source": [
    "# get the matched tweets in October:\n",
    "month_match_df = cond_president_period_df.loc[cond_president_period_df['fake_news_used'] == True, ['month', 'text']]\n",
    "\n",
    "# showing all the tweets:\n",
    "print(str(month_match_df[month_match_df['month'] == 10].text.values))\n",
    "\n",
    "month_match_df.loc[month_match_df['month'] == 10, ['text']]"
   ]
  },
  {
   "cell_type": "markdown",
   "metadata": {},
   "source": [
    "As we imagined, the tweets are not related to only one main topic or event, but it is interesting to note that some of them they are related to these events: \n",
    "- the problematic situation with the claims made by the Secretary of State Rex Tillerson, namely that he thought about quitting is role and that he called the president \"a moron\", as reported in an article of NBC news: https://www.nbcnews.com/politics/white-house/tillerson-s-fury-trump-required-intervention-pence-n806451\n",
    "- Reports about the unhappiness and the risk of resign of the White House chief of staff John Kelly: http://edition.cnn.com/2017/10/12/politics/john-kelly-unusual-news-conference/index.html\n",
    "- new developments in the investigation of Russia influence in the USA election 2016, where A former Trump campaign foreign policy adviser confessed about making a false statement to the FBI after he lied about his interactions with foreign officials close to the Russian government: https://www.theguardian.com/us-news/2017/oct/30/george-papadopoulos-trump-campaign-aide-pleaded-guilty-lying-agents-russia-inquiry"
   ]
  },
  {
   "cell_type": "markdown",
   "metadata": {},
   "source": [
    "This could be a first clue about the relationship between the term usage in his tweets and specific problematic situations for him (scandals or pressure for his administration). Now we will procede using the week interval, hoping to find more clear insights."
   ]
  },
  {
   "cell_type": "markdown",
   "metadata": {},
   "source": [
    "### analysis by week/year"
   ]
  },
  {
   "cell_type": "markdown",
   "metadata": {},
   "source": [
    "Let's refine our analysis considering the week/year:"
   ]
  },
  {
   "cell_type": "code",
   "execution_count": 68,
   "metadata": {},
   "outputs": [
    {
     "data": {
      "image/png": "[encoded data removed]",
      "text/plain": [
       "<matplotlib.figure.Figure at 0x2bf96b9b0b8>"
      ]
     },
     "metadata": {},
     "output_type": "display_data"
    }
   ],
   "source": [
    "week_analysis_df = cond_president_period_df[['week/year', 'fake_news_used']]\n",
    "week_analysis_df = week_analysis_df.groupby(['week/year']).sum()\n",
    "\n",
    "bar_week_plot = week_analysis_df.plot(kind='bar', title=\"fake news term usage by week\", legend=True, fontsize=12, figsize=(14, 7))\n",
    "bar_week_plot.set_xlabel(\"week\", fontsize=12)\n",
    "bar_week_plot.set_ylabel(\"count\", fontsize=12)\n",
    "plt.show()"
   ]
  },
  {
   "cell_type": "markdown",
   "metadata": {},
   "source": [
    "- We have two clear peaks: the 26th week of the year (from June 26, 2017 to July 2, 2017) and the 39th week of the year (from September 25, 2017 to October 1, 2017).\n"
   ]
  },
  {
   "cell_type": "markdown",
   "metadata": {},
   "source": [
    "- let us see the tweets of those two weeks:"
   ]
  },
  {
   "cell_type": "code",
   "execution_count": 69,
   "metadata": {},
   "outputs": [
    {
     "name": "stdout",
     "output_type": "stream",
     "text": [
      "[[ 'Wow, CNN had to retract big story on \"Russia,\" with 3 employees forced to resign. What about all the other phony stories they do? FAKE NEWS!']\n",
      " [ 'Fake News CNN is looking at big management changes now that they got caught falsely pushing their phony Russian stories. Ratings way down!']\n",
      " [ 'So they caught Fake News CNN cold, but what about NBC, CBS &amp; ABC? What about the failing @nytimes &amp; @washingtonpost? They are all Fake News!']\n",
      " [ \"The failing @nytimes writes false story after false story about me. They don't even call to verify the facts of a story. A Fake News Joke!\"]\n",
      " [ 'Some of the Fake News Media likes to say that I am not totally engaged in healthcare. Wrong, I know the subject well &amp; want victory for U.S.']\n",
      " [ 'The #AmazonWashingtonPost, sometimes referred to as the guardian of Amazon not paying internet taxes (which they should) is FAKE NEWS!']\n",
      " [ 'Watched low rated @Morning_Joe for first time in long time. FAKE NEWS. He called me to stop a National Enquirer article. I said no! Bad show']\n",
      " [ \"I am extremely pleased to see that @CNN has finally been exposed as #FakeNews and garbage journalism. It's about time!\"]\n",
      " [ '....the 2016 election with interviews, speeches and social media. I had to beat #FakeNews, and did. We will continue to WIN!']\n",
      " ['I am thinking about changing the name #FakeNews CNN to #FraudNewsCNN!']]\n"
     ]
    }
   ],
   "source": [
    "# printing the matched tweets in the 26th week\n",
    "week_analysis_df = cond_president_period_df.loc[cond_president_period_df['fake_news_used'] == True, ['week/year', 'text']]\n",
    "week_26 = week_analysis_df.loc[week_analysis_df['week/year'] == '26/2017', ['text']]\n",
    "\n",
    "print(str(week_26.values))"
   ]
  },
  {
   "cell_type": "markdown",
   "metadata": {},
   "source": [
    "- Trump again over reacted about an article by CNN that was proposed as an investigation into a meeting between an associate of Donald Trump (Anthony Scaramucci) and the head of a Russian investment fund. The article was removed from the website after a day of the publication because it was written without following any check or standard. As result, three CNN employees resigned and Trump used this situation to strongly attack the media again. For more information: https://www.theguardian.com/media/2017/jun/27/three-cnn-journalists-resign-over-retracted-trump-russia-story"
   ]
  },
  {
   "cell_type": "markdown",
   "metadata": {},
   "source": [
    "- now we consider the 39th week:"
   ]
  },
  {
   "cell_type": "code",
   "execution_count": 70,
   "metadata": {},
   "outputs": [
    {
     "name": "stdout",
     "output_type": "stream",
     "text": [
      "[[ '.@CNN is #FakeNews. Just reported COS (John Kelly) was opposed to my stance on NFL players disrespecting FLAG, ANTHEM, COUNTRY. Total lie!']\n",
      " [ 'Facebook was always anti-Trump.The Networks were always anti-Trump hence,Fake News, @nytimes(apologized) &amp; @WaPo were anti-Trump. Collusion?']\n",
      " [ 'Fake News CNN and NBC are going out of their way to disparage our great First Responders as a way to \"get Trump.\" Not fair to FR or effort!']\n",
      " [ \"The Fake News Networks are working overtime in Puerto Rico doing their best to take the spirit away from our soldiers and first R's. Shame!\"]\n",
      " [ 'Despite the Fake News Media in conjunction with the Dems, an amazing job is being done in Puerto Rico. Great people!']\n",
      " [ 'To the people of Puerto Rico:\\nDo not believe the #FakeNews!\\n#PRStrong🇵🇷']\n",
      " [ \"@ricardorossello ......#FakeNews critics are working overtime, but we're getting great marks from the people that truly matter! \\n#PRStrong🇵🇷\"]\n",
      " [ 'Because of #FakeNews my people are not getting the credit they deserve for doing a great job. As seen here, they are ALL doing a GREAT JOB! https://t.co/1ltW2t3rwy']\n",
      " [ 'In analyzing the Alabama Primary race, Fake News always fails to mention that the candidate I endorsed went up MANY points after Election!']\n",
      " [ 'In analyzing the Alabama Primary race,FAKE NEWS always fails to mention that the candidate I endorsed went up MANY points after endorsement!']\n",
      " [ 'We have done a great job with the almost impossible situation in Puerto Rico. Outside of the Fake News or politically motivated ingrates,...']]\n"
     ]
    }
   ],
   "source": [
    "# printing the matched tweets in the 26th week\n",
    "week_39 = week_analysis_df.loc[week_analysis_df['week/year'] == '39/2017', ['text']]\n",
    "\n",
    "print(str(week_39.values))"
   ]
  },
  {
   "cell_type": "markdown",
   "metadata": {},
   "source": [
    "- the tweets are mostly dealing with the situation in Puerto Rico following the devastation caused by Hurricane Maria. Trump felt attacked becuase his administration was blamed of not taking adequate decisions in order to help Puerto Rico. He has come back to the attention of the media after he attacked the mayor of San Juan, Carmen Yulín Cruz (Cruz critized Trump administration about how they wer dealing the complex situation). Again, we can see this link between the usage of the term \"fake news\" after he is been under accuse or under stress situation; Trump over reacted and he tried to divert attention from the main problem by discrediting the media and by dividing the community. For more information see the following links:\n",
    "- https://www.washingtonpost.com/news/the-fix/wp/2017/09/30/trump-doesnt-get-it-on-puerto-rico-he-just-proved-it-by-lashing-out-at-san-juans-mayor/?utm_term=.693061c95fe5\n",
    "- http://edition.cnn.com/2017/10/01/politics/trump-tweets-puerto-rico/index.html"
   ]
  },
  {
   "cell_type": "markdown",
   "metadata": {
    "collapsed": true
   },
   "source": [
    "It will be interesting to analyse the other weeks that have a good number of times of usage, we are working on it and this is one of the two last step that we have to complete for this part before Milestone 3. Now we will move on with the analysis by date."
   ]
  },
  {
   "cell_type": "markdown",
   "metadata": {},
   "source": [
    "### analysis by date"
   ]
  },
  {
   "cell_type": "markdown",
   "metadata": {},
   "source": [
    "We will again create a dataframe with the number of times he used the term in day, then we will sort the dataframe by the number of times he used the term, after this we will also show the results in a bar plot:\n",
    "given the great number of dates, we decided to make a plot for each month with on x-axis the days of the month and on y-axis the number of time he used the term in that specific date.\n"
   ]
  },
  {
   "cell_type": "markdown",
   "metadata": {},
   "source": [
    "- Here, we will group by date and then sort the dataframe in descending order:"
   ]
  },
  {
   "cell_type": "code",
   "execution_count": 71,
   "metadata": {
    "scrolled": true
   },
   "outputs": [
    {
     "data": {
      "text/html": [
       "<div>\n",
       "<style>\n",
       "    .dataframe thead tr:only-child th {\n",
       "        text-align: right;\n",
       "    }\n",
       "\n",
       "    .dataframe thead th {\n",
       "        text-align: left;\n",
       "    }\n",
       "\n",
       "    .dataframe tbody tr th {\n",
       "        vertical-align: top;\n",
       "    }\n",
       "</style>\n",
       "<table border=\"1\" class=\"dataframe\">\n",
       "  <thead>\n",
       "    <tr style=\"text-align: right;\">\n",
       "      <th></th>\n",
       "      <th>fake_news_used</th>\n",
       "    </tr>\n",
       "    <tr>\n",
       "      <th>date</th>\n",
       "      <th></th>\n",
       "    </tr>\n",
       "  </thead>\n",
       "  <tbody>\n",
       "    <tr>\n",
       "      <th>2017-09-30</th>\n",
       "      <td>8.0</td>\n",
       "    </tr>\n",
       "    <tr>\n",
       "      <th>2017-05-28</th>\n",
       "      <td>6.0</td>\n",
       "    </tr>\n",
       "    <tr>\n",
       "      <th>2017-08-07</th>\n",
       "      <td>5.0</td>\n",
       "    </tr>\n",
       "    <tr>\n",
       "      <th>2017-06-27</th>\n",
       "      <td>3.0</td>\n",
       "    </tr>\n",
       "    <tr>\n",
       "      <th>2017-10-21</th>\n",
       "      <td>3.0</td>\n",
       "    </tr>\n",
       "    <tr>\n",
       "      <th>2017-07-01</th>\n",
       "      <td>3.0</td>\n",
       "    </tr>\n",
       "    <tr>\n",
       "      <th>2017-10-11</th>\n",
       "      <td>3.0</td>\n",
       "    </tr>\n",
       "    <tr>\n",
       "      <th>2017-10-05</th>\n",
       "      <td>3.0</td>\n",
       "    </tr>\n",
       "    <tr>\n",
       "      <th>2017-10-04</th>\n",
       "      <td>3.0</td>\n",
       "    </tr>\n",
       "    <tr>\n",
       "      <th>2017-06-28</th>\n",
       "      <td>3.0</td>\n",
       "    </tr>\n",
       "  </tbody>\n",
       "</table>\n",
       "</div>"
      ],
      "text/plain": [
       "            fake_news_used\n",
       "date                      \n",
       "2017-09-30             8.0\n",
       "2017-05-28             6.0\n",
       "2017-08-07             5.0\n",
       "2017-06-27             3.0\n",
       "2017-10-21             3.0\n",
       "2017-07-01             3.0\n",
       "2017-10-11             3.0\n",
       "2017-10-05             3.0\n",
       "2017-10-04             3.0\n",
       "2017-06-28             3.0"
      ]
     },
     "execution_count": 71,
     "metadata": {},
     "output_type": "execute_result"
    }
   ],
   "source": [
    "day_analysis_df = cond_president_period_df[['date', 'fake_news_used']]\n",
    "\n",
    "# computing the number of times he used the word by day\n",
    "day_analysis_df = day_analysis_df.groupby(['date']).sum()\n",
    "\n",
    "# sorting the dataframe\n",
    "day_analysis_df = day_analysis_df.sort_values('fake_news_used', ascending=False)\n",
    "\n",
    "day_analysis_df.head(10)"
   ]
  },
  {
   "cell_type": "markdown",
   "metadata": {},
   "source": [
    "The first three entries will be deepen after we show the bar plot:\n",
    "- First, we group by the month and the date and we obtain the number of times.\n",
    "- Then, for each month, we show the bar plot."
   ]
  },
  {
   "cell_type": "code",
   "execution_count": 73,
   "metadata": {},
   "outputs": [
    {
     "data": {
      "image/png": "[encoded data removed]",
      "text/plain": [
       "<matplotlib.figure.Figure at 0x2bf9e05aa58>"
      ]
     },
     "metadata": {},
     "output_type": "display_data"
    },
    {
     "data": {
      "image/png": "[encoded data removed]",
      "text/plain": [
       "<matplotlib.figure.Figure at 0x2bfa193e518>"
      ]
     },
     "metadata": {},
     "output_type": "display_data"
    },
    {
     "data": {
      "image/png": "[encoded data removed]",
      "text/plain": [
       "<matplotlib.figure.Figure at 0x2bfaba7eb70>"
      ]
     },
     "metadata": {},
     "output_type": "display_data"
    },
    {
     "data": {
      "image/png": "[encoded data removed]",
      "text/plain": [
       "<matplotlib.figure.Figure at 0x2bfac2a6748>"
      ]
     },
     "metadata": {},
     "output_type": "display_data"
    },
    {
     "data": {
      "image/png": "[encoded data removed]",
      "text/plain": [
       "<matplotlib.figure.Figure at 0x2bfc3b31da0>"
      ]
     },
     "metadata": {},
     "output_type": "display_data"
    },
    {
     "data": {
      "image/png": "[encoded data removed]",
      "text/plain": [
       "<matplotlib.figure.Figure at 0x2bf9f49f160>"
      ]
     },
     "metadata": {},
     "output_type": "display_data"
    },
    {
     "data": {
      "image/png": "[encoded data removed]",
      "text/plain": [
       "<matplotlib.figure.Figure at 0x2bf9dbabe80>"
      ]
     },
     "metadata": {},
     "output_type": "display_data"
    },
    {
     "data": {
      "image/png": "[encoded data removed]",
      "text/plain": [
       "<matplotlib.figure.Figure at 0x2bfc3305710>"
      ]
     },
     "metadata": {},
     "output_type": "display_data"
    },
    {
     "data": {
      "image/png": "[encoded data removed]",
      "text/plain": [
       "<matplotlib.figure.Figure at 0x2bfa49fd630>"
      ]
     },
     "metadata": {},
     "output_type": "display_data"
    },
    {
     "data": {
      "image/png": "[encoded data removed]",
      "text/plain": [
       "<matplotlib.figure.Figure at 0x2bfcac52358>"
      ]
     },
     "metadata": {},
     "output_type": "display_data"
    },
    {
     "data": {
      "image/png": "[encoded data removed]",
      "text/plain": [
       "<matplotlib.figure.Figure at 0x2bfc33348d0>"
      ]
     },
     "metadata": {},
     "output_type": "display_data"
    }
   ],
   "source": [
    "day_analysis_df = cond_president_period_df[['month','date', 'fake_news_used']]\n",
    "\n",
    "# computing the number of times he used the word by day\n",
    "day_analysis_df = day_analysis_df.groupby(['month','date']).sum()\n",
    "\n",
    "months = day_analysis_df.index.get_level_values('month').unique()\n",
    "\n",
    "# here, we create a dataframe for each month:\n",
    "dataframe_month_list = []\n",
    "for month in months:\n",
    "    dataframe_month_list.append(day_analysis_df.iloc[day_analysis_df.index.get_level_values('month') == month])\n",
    "    \n",
    "# here, for each dataframe created we show the bar plot:\n",
    "for df in dataframe_month_list:\n",
    "    df.reset_index(level=0, drop=True, inplace= True)\n",
    "    df.plot(kind='bar', title=\"fake news term usage by day\",legend=True, fontsize=12,\n",
    "            figsize=(20, 10)).set_xlabel(\"day\", fontsize=12)\n",
    "\n",
    "plt.show()\n",
    "\n",
    "\n"
   ]
  },
  {
   "cell_type": "markdown",
   "metadata": {},
   "source": [
    "### Observations\n",
    "\n",
    "from the sorting and the plots we decided to deepen the following three dates (2017-09-30, 2017-05-28 and 2017-08-07).\n",
    "We will show the tweets and try to elaborate on them:"
   ]
  },
  {
   "cell_type": "code",
   "execution_count": 74,
   "metadata": {},
   "outputs": [
    {
     "name": "stdout",
     "output_type": "stream",
     "text": [
      "[ 'It is my opinion that many of the leaks coming out of the White House are fabricated lies made up by the #FakeNews media.'\n",
      " \"Whenever you see the words 'sources say' in the fake news media, and they don't mention names....\"\n",
      " \"....it is very possible that those sources don't exsist but are made up by fake news writers. #FakeNews is the enemy!\"\n",
      " 'Does anyone notice how the Montana Congressional race was such a big deal to Dems &amp; Fake News until the Republican won? V was poorly covered'\n",
      " \"....it is very possible that those sources don't exist but are made up by fake news writers. #FakeNews is the enemy!\"\n",
      " 'Does anyone notice how the Montana Congressional race was such a big deal to Dems &amp; Fake News until the Republican won? V was poorly covered']\n"
     ]
    },
    {
     "data": {
      "text/html": [
       "<div>\n",
       "<style>\n",
       "    .dataframe thead tr:only-child th {\n",
       "        text-align: right;\n",
       "    }\n",
       "\n",
       "    .dataframe thead th {\n",
       "        text-align: left;\n",
       "    }\n",
       "\n",
       "    .dataframe tbody tr th {\n",
       "        vertical-align: top;\n",
       "    }\n",
       "</style>\n",
       "<table border=\"1\" class=\"dataframe\">\n",
       "  <thead>\n",
       "    <tr style=\"text-align: right;\">\n",
       "      <th></th>\n",
       "      <th>text</th>\n",
       "    </tr>\n",
       "  </thead>\n",
       "  <tbody>\n",
       "    <tr>\n",
       "      <th>1406</th>\n",
       "      <td>It is my opinion that many of the leaks coming...</td>\n",
       "    </tr>\n",
       "    <tr>\n",
       "      <th>1405</th>\n",
       "      <td>Whenever you see the words 'sources say' in th...</td>\n",
       "    </tr>\n",
       "    <tr>\n",
       "      <th>1404</th>\n",
       "      <td>....it is very possible that those sources don...</td>\n",
       "    </tr>\n",
       "    <tr>\n",
       "      <th>1403</th>\n",
       "      <td>Does anyone notice how the Montana Congression...</td>\n",
       "    </tr>\n",
       "    <tr>\n",
       "      <th>1402</th>\n",
       "      <td>....it is very possible that those sources don...</td>\n",
       "    </tr>\n",
       "    <tr>\n",
       "      <th>1401</th>\n",
       "      <td>Does anyone notice how the Montana Congression...</td>\n",
       "    </tr>\n",
       "  </tbody>\n",
       "</table>\n",
       "</div>"
      ],
      "text/plain": [
       "                                                   text\n",
       "1406  It is my opinion that many of the leaks coming...\n",
       "1405  Whenever you see the words 'sources say' in th...\n",
       "1404  ....it is very possible that those sources don...\n",
       "1403  Does anyone notice how the Montana Congression...\n",
       "1402  ....it is very possible that those sources don...\n",
       "1401  Does anyone notice how the Montana Congression..."
      ]
     },
     "execution_count": 74,
     "metadata": {},
     "output_type": "execute_result"
    }
   ],
   "source": [
    "# creating the specific date for the matching mask\n",
    "date = datetime.datetime.strptime('2017 05 28', '%Y %m %d').date()\n",
    "\n",
    "# getting the matched tweets in the day 2017-05-28\n",
    "day_analysis_df = cond_president_period_df.loc[cond_president_period_df['fake_news_used'] == True, ['date', 'text']]\n",
    "\n",
    "date_2017_05_28 = day_analysis_df.loc[day_analysis_df['date'] == date, ['text']]\n",
    "print(str(date_2017_05_28.text.values))\n",
    "date_2017_05_28"
   ]
  },
  {
   "cell_type": "markdown",
   "metadata": {},
   "source": [
    "- As you can see we have three tweets repeated (we do not know right now if it is due to some repetition in our original dataset, further search will be done). "
   ]
  },
  {
   "cell_type": "markdown",
   "metadata": {},
   "source": [
    "- These tweets are linked again to another difficult situation for president Trump, namely, the scandal about his son in law Jared Kushner and his ties with the russian government. It was then reported that Jared Kushner, had asked the Russian ambassador to the US to create a secret channel with Russia using Russia’s communication systems. The communications were intercepted by US intelligence and then leaked to The Washington Post. President Trump dealt with this problem trying again to label a scandal as a fake news, again he tried to take the focus away from the main situation. For further information: http://www.independent.co.uk/news/world/americas/us-politics/donald-trump-washington-mounting-crisis-jared-kusher-backchannel-russia-latest-a7760481.html"
   ]
  },
  {
   "cell_type": "markdown",
   "metadata": {},
   "source": [
    "- Now, we will procede with the date 2017-08-07:"
   ]
  },
  {
   "cell_type": "code",
   "execution_count": 75,
   "metadata": {},
   "outputs": [
    {
     "name": "stdout",
     "output_type": "stream",
     "text": [
      "[ 'The Fake News refuses to report the success of the first 6 months: S.C., surging economy &amp; jobs,border &amp; military security,ISIS &amp; MS-13 etc.'\n",
      " 'The Trump base is far bigger &amp;  stronger than ever before (despite some phony Fake News polling). Look at rallies in Penn, Iowa, Ohio.......'\n",
      " '...and West Virginia. The fact is the Fake News Russian collusion story, record Stock Market, border security, military strength, jobs.....'\n",
      " 'Hard to believe that with 24/7 #Fake News on CNN, ABC, NBC, CBS, NYTIMES &amp; WAPO, the Trump base is getting stronger!'\n",
      " \"The Fake News Media will not talk about the importance of the United Nations Security Council's 15-0 vote in favor of sanctions on N. Korea!\"]\n"
     ]
    },
    {
     "data": {
      "text/html": [
       "<div>\n",
       "<style>\n",
       "    .dataframe thead tr:only-child th {\n",
       "        text-align: right;\n",
       "    }\n",
       "\n",
       "    .dataframe thead th {\n",
       "        text-align: left;\n",
       "    }\n",
       "\n",
       "    .dataframe tbody tr th {\n",
       "        vertical-align: top;\n",
       "    }\n",
       "</style>\n",
       "<table border=\"1\" class=\"dataframe\">\n",
       "  <thead>\n",
       "    <tr style=\"text-align: right;\">\n",
       "      <th></th>\n",
       "      <th>text</th>\n",
       "    </tr>\n",
       "  </thead>\n",
       "  <tbody>\n",
       "    <tr>\n",
       "      <th>877</th>\n",
       "      <td>The Fake News refuses to report the success of...</td>\n",
       "    </tr>\n",
       "    <tr>\n",
       "      <th>874</th>\n",
       "      <td>The Trump base is far bigger &amp;amp;  stronger t...</td>\n",
       "    </tr>\n",
       "    <tr>\n",
       "      <th>873</th>\n",
       "      <td>...and West Virginia. The fact is the Fake New...</td>\n",
       "    </tr>\n",
       "    <tr>\n",
       "      <th>871</th>\n",
       "      <td>Hard to believe that with 24/7 #Fake News on C...</td>\n",
       "    </tr>\n",
       "    <tr>\n",
       "      <th>864</th>\n",
       "      <td>The Fake News Media will not talk about the im...</td>\n",
       "    </tr>\n",
       "  </tbody>\n",
       "</table>\n",
       "</div>"
      ],
      "text/plain": [
       "                                                  text\n",
       "877  The Fake News refuses to report the success of...\n",
       "874  The Trump base is far bigger &amp;  stronger t...\n",
       "873  ...and West Virginia. The fact is the Fake New...\n",
       "871  Hard to believe that with 24/7 #Fake News on C...\n",
       "864  The Fake News Media will not talk about the im..."
      ]
     },
     "execution_count": 75,
     "metadata": {},
     "output_type": "execute_result"
    }
   ],
   "source": [
    "# creating the specific date for the matching mask\n",
    "date = datetime.datetime.strptime('2017 08 07', '%Y %m %d').date()\n",
    "\n",
    "# getting the matched tweets in the day 2017-08-07\n",
    "day_analysis_df = cond_president_period_df.loc[cond_president_period_df['fake_news_used'] == True, ['date', 'text']]\n",
    "\n",
    "date_2017_08_07 = day_analysis_df.loc[day_analysis_df['date'] == date, ['text']]\n",
    "print(str(date_2017_08_07.text.values))\n",
    "date_2017_08_07"
   ]
  },
  {
   "cell_type": "markdown",
   "metadata": {},
   "source": [
    "- President trump attacked again the media after Deputy Attorney General Rod J. Rosenstein told that if the special consuel for the Russian sabotage of USA 2016 election finds evidence of crimes, the consuel can investigate them. This fact create pressure for president Trump, who decided again to blame the media (this time accused of trying to weaken up the support for the president) in order to reassure his position and hide the main problem. \n",
    "- For more information: https://www.washingtonpost.com/blogs/plum-line/wp/2017/08/07/as-mueller-closes-in-trump-prepares-his-base-for-the-worst/?utm_term=.29b36bdeaae9\n"
   ]
  },
  {
   "cell_type": "markdown",
   "metadata": {},
   "source": [
    "Finally, the tweets from the date 2017-09-30:"
   ]
  },
  {
   "cell_type": "code",
   "execution_count": 76,
   "metadata": {},
   "outputs": [
    {
     "name": "stdout",
     "output_type": "stream",
     "text": [
      "[ 'Fake News CNN and NBC are going out of their way to disparage our great First Responders as a way to \"get Trump.\" Not fair to FR or effort!'\n",
      " \"The Fake News Networks are working overtime in Puerto Rico doing their best to take the spirit away from our soldiers and first R's. Shame!\"\n",
      " 'Despite the Fake News Media in conjunction with the Dems, an amazing job is being done in Puerto Rico. Great people!'\n",
      " 'To the people of Puerto Rico:\\nDo not believe the #FakeNews!\\n#PRStrong🇵🇷'\n",
      " \"@ricardorossello ......#FakeNews critics are working overtime, but we're getting great marks from the people that truly matter! \\n#PRStrong🇵🇷\"\n",
      " 'Because of #FakeNews my people are not getting the credit they deserve for doing a great job. As seen here, they are ALL doing a GREAT JOB! https://t.co/1ltW2t3rwy'\n",
      " 'In analyzing the Alabama Primary race, Fake News always fails to mention that the candidate I endorsed went up MANY points after Election!'\n",
      " 'In analyzing the Alabama Primary race,FAKE NEWS always fails to mention that the candidate I endorsed went up MANY points after endorsement!']\n"
     ]
    },
    {
     "data": {
      "text/html": [
       "<div>\n",
       "<style>\n",
       "    .dataframe thead tr:only-child th {\n",
       "        text-align: right;\n",
       "    }\n",
       "\n",
       "    .dataframe thead th {\n",
       "        text-align: left;\n",
       "    }\n",
       "\n",
       "    .dataframe tbody tr th {\n",
       "        vertical-align: top;\n",
       "    }\n",
       "</style>\n",
       "<table border=\"1\" class=\"dataframe\">\n",
       "  <thead>\n",
       "    <tr style=\"text-align: right;\">\n",
       "      <th></th>\n",
       "      <th>text</th>\n",
       "    </tr>\n",
       "  </thead>\n",
       "  <tbody>\n",
       "    <tr>\n",
       "      <th>365</th>\n",
       "      <td>Fake News CNN and NBC are going out of their w...</td>\n",
       "    </tr>\n",
       "    <tr>\n",
       "      <th>363</th>\n",
       "      <td>The Fake News Networks are working overtime in...</td>\n",
       "    </tr>\n",
       "    <tr>\n",
       "      <th>362</th>\n",
       "      <td>Despite the Fake News Media in conjunction wit...</td>\n",
       "    </tr>\n",
       "    <tr>\n",
       "      <th>358</th>\n",
       "      <td>To the people of Puerto Rico:\\nDo not believe ...</td>\n",
       "    </tr>\n",
       "    <tr>\n",
       "      <th>356</th>\n",
       "      <td>@ricardorossello ......#FakeNews critics are w...</td>\n",
       "    </tr>\n",
       "    <tr>\n",
       "      <th>351</th>\n",
       "      <td>Because of #FakeNews my people are not getting...</td>\n",
       "    </tr>\n",
       "    <tr>\n",
       "      <th>350</th>\n",
       "      <td>In analyzing the Alabama Primary race, Fake Ne...</td>\n",
       "    </tr>\n",
       "    <tr>\n",
       "      <th>349</th>\n",
       "      <td>In analyzing the Alabama Primary race,FAKE NEW...</td>\n",
       "    </tr>\n",
       "  </tbody>\n",
       "</table>\n",
       "</div>"
      ],
      "text/plain": [
       "                                                  text\n",
       "365  Fake News CNN and NBC are going out of their w...\n",
       "363  The Fake News Networks are working overtime in...\n",
       "362  Despite the Fake News Media in conjunction wit...\n",
       "358  To the people of Puerto Rico:\\nDo not believe ...\n",
       "356  @ricardorossello ......#FakeNews critics are w...\n",
       "351  Because of #FakeNews my people are not getting...\n",
       "350  In analyzing the Alabama Primary race, Fake Ne...\n",
       "349  In analyzing the Alabama Primary race,FAKE NEW..."
      ]
     },
     "execution_count": 76,
     "metadata": {},
     "output_type": "execute_result"
    }
   ],
   "source": [
    "# creating the specific date for the matching mask\n",
    "date = datetime.datetime.strptime('2017 09 30', '%Y %m %d').date()\n",
    "\n",
    "# getting the matched tweets in the day 2017-09-30\n",
    "day_analysis_df = cond_president_period_df.loc[cond_president_period_df['fake_news_used'] == True, ['date', 'text']]\n",
    "\n",
    "date_2017_09_30 = day_analysis_df.loc[day_analysis_df['date'] == date, ['text']]\n",
    "print(str(date_2017_09_30.text.values))\n",
    "date_2017_09_30"
   ]
  },
  {
   "cell_type": "markdown",
   "metadata": {},
   "source": [
    "As we could imagine by the week of this date, it came out that these tweets are the tweets referring to the Puerto Rico situation during the disaster of the hurricane Maria. See previous comments for remind."
   ]
  },
  {
   "cell_type": "markdown",
   "metadata": {},
   "source": [
    "### Last tasks proposed for this part before the Milestone 3\n",
    "\n",
    "- Before Milestone 3 we want to refine and deepen these correlations between the term usage and the facts that happened in the same period, we will concetrate more on the week/year intervals.\n",
    "- Currently, we are working on doing a sentiment analysis only on the tweets that contain the 'fake news' term, in order to see if we can get a clear mood of his tweets when they are about fake news.\n"
   ]
  },
  {
   "cell_type": "markdown",
   "metadata": {},
   "source": [
    "# Washington Post dataset of debunked Trump's claims"
   ]
  },
  {
   "cell_type": "markdown",
   "metadata": {},
   "source": [
    "By dealing with the issue of fake news, it is natural to ask how many times Trump has not been accurate in expressing facts and truths. As a result, during the preparatory research of our data, we tried to figure out if there was a way to have data in which Trump's tweets had been unveiled or corrected because they were unreliable. After several tests we found a washingtonPost dataset where there are Trump statements from different sources (interviews, declarations, tweets, etc.) and related to each of them there is the debunked version by the washingtonPost. Since we've decided to analyze only the source of the tweets, we've only taken the parts about tweets. Below we will explain the scraping part for data capture and the resulting merge with our dataset."
   ]
  },
  {
   "cell_type": "markdown",
   "metadata": {},
   "source": [
    "### data scraping"
   ]
  },
  {
   "cell_type": "markdown",
   "metadata": {},
   "source": [
    "we begin by listing the link from the page from which we collected the data (the page is very interesting, with a good and clear date visualization). Link: https://www.washingtonpost.com/graphics/politics/trump-claims-database/?utm_term=.e3895bf3f60d\n",
    "\n",
    "- First of all, as you can see on the page, the data is loaded dynamically and you need to select filters to only get data regarding the tweets (as well as loading the data list multiple times to view them all). For this reason, at the beginning we had thought of using Selenium to emulate clicks on the page, but it would be time-consuming since it's simply possible to select the filters, upload all the data and then download the obtained html. We have followed this second choice obviously. Once we got the html, we then explored the html DOM to understand the Tags we were interested in and finally we used BeautifulSoup. Specifically the data taken for each tweet is the date, the tweet text, the washington post version, and the tweet category."
   ]
  },
  {
   "cell_type": "markdown",
   "metadata": {},
   "source": [
    "- Here you can see the functions that we implemented for the scraping and the process:"
   ]
  },
  {
   "cell_type": "code",
   "execution_count": 77,
   "metadata": {
    "collapsed": true
   },
   "outputs": [],
   "source": [
    "from bs4 import BeautifulSoup\n",
    "from dateutil.parser import parse as parse_date\n",
    "import json\n",
    "from itertools import chain\n",
    "\n",
    "\n",
    "def parse_claim(c):\n",
    "    '''\n",
    "    for each claim we call this method that retrieves all the information \n",
    "    that we want, namely, the date, the tweet text, the washington Post\n",
    "    analysis and the topic of the tweet.\n",
    "    '''\n",
    "    def get_topic():\n",
    "        t = c.find('div', class_='details not-expanded')\n",
    "        if not t:\n",
    "            t = c.find('div', class_='details expanded')\n",
    "        return t.find('p').text.split(': ')[-1]\n",
    "\n",
    "    date = parse_date(c.find('div', class_='dateline').text)\n",
    "    date = (date.day, date.month)\n",
    "\n",
    "    return {\n",
    "        'date': date,\n",
    "        'text': c.find('div', class_='claim').text,\n",
    "        'analysis': c.find('div', class_='analysis').text,\n",
    "        'topic': get_topic()\n",
    "    }\n",
    "\n",
    "# creates a dictionary with key the value: element[field], for element in the list_ argument\n",
    "def to_hash_collisions(list_, field):\n",
    "    res = {}\n",
    "    for element in list_:\n",
    "        key = element[field]\n",
    "        if key in res:\n",
    "            res[key].append(element)\n",
    "        else:\n",
    "            res[key] = [element]\n",
    "    return res\n",
    "\n",
    "\n",
    "def most_similar(list_, orig):\n",
    "    list_ = map(lambda text: set(text.split(' ')), list_)\n",
    "    orig = set(orig.split(' '))\n",
    "    closest_idx = -1\n",
    "    closest_dst = -1\n",
    "    for idx, bag in enumerate(list_):\n",
    "        score = len(list(filter(lambda word: word in orig, bag)))\n",
    "        if score > closest_dst:\n",
    "            closest_dst = score\n",
    "            closest_idx = idx\n",
    "    return closest_idx\n",
    "\n",
    "\n",
    "\n",
    "# Here we use BeautifulSoup on the saved html\n",
    "soup = BeautifulSoup(open('data/fake_tweets.html', encoding=\"utf8\"), 'html.parser')\n",
    "\n",
    "# we create a list of all the tweets analyzed in the page, again, we know the tags and attributes becuase we inspect the DOM \n",
    "claims_list = soup.find(id='claims-list')\\\n",
    "                  .findAll('div', class_='claim-row')\n",
    "\n",
    "# here we map the claim_list using on each element the 'parse_claim' method that we defined before\n",
    "claims = map(parse_claim, claims_list)\n",
    "\n",
    "# then we build a hash map indexed on (day,month) with collision lists of the data that we retrieved\n",
    "claims = to_hash_collisions(claims, 'date')\n",
    "\n",
    "# Read and prepare tweets from 2017\n",
    "with open('trump_tweets/condensed_2017.json', 'r') as f:\n",
    "    tweets17 = json.load(f)\n",
    "\n",
    "# we modify the column 'created_at' inserting only the day and the month.\n",
    "for t in tweets17:\n",
    "    date = parse_date(t['created_at'])\n",
    "    date = (date.day, date.month)\n",
    "    t['created_at'] = date\n",
    "\n",
    "# we Build a hash map indexed on (day,month) with collision lists for our dataset of tweets from 2017\n",
    "tweets17 = to_hash_collisions(tweets17, 'created_at')\n",
    "\n",
    "\n",
    "# Here we associate tweet id to each debunked tweet\n",
    "for date, debunked_list in claims.items():\n",
    "    if date not in tweets17:\n",
    "        continue\n",
    "        \n",
    "    collision_list = tweets17[date]\n",
    "    for deb in debunked_list:\n",
    "        corresponding = None\n",
    "        \n",
    "        # if there is only one tweet in our Trump's tweet dataset for\n",
    "        # that date we found the corresponding element\n",
    "        \n",
    "        if len(collision_list) == 1:\n",
    "            corresponding = collision_list[0]\n",
    "            \n",
    "        # else, we call our method 'most_similar' with arguments the list of tweets of that date\n",
    "        # and the tweet of that specific date from the debunked list.\n",
    "        \n",
    "        else:\n",
    "            idx = most_similar([o['text'] for o in collision_list], deb['text'])\n",
    "            corresponding = collision_list[idx]\n",
    "            \n",
    "        # finally we add the the tweet id of the matched tweet to our debunked element.\n",
    "        deb['tweet_id'] = corresponding['id_str']\n",
    "\n",
    "# Convert hashmap with collision lists back to list and sort by date\n",
    "claims = sorted(chain.from_iterable(claims.values()), key=lambda o: o['date'])\n",
    "claims = list(filter(lambda t: 'tweet_id' in t, claims))\n",
    "\n",
    "# Dump everything to a nice json\n",
    "with open('data/fact_checked.json', 'w') as f:\n",
    "    json.dump(claims, f)\n"
   ]
  },
  {
   "cell_type": "markdown",
   "metadata": {},
   "source": [
    "After this operation, we can add these data to our dataset of trump's tweet in 2017. We will merge the data by the tweet_id and than we will save the final dataframe in a .csv file in order to reload it for future use."
   ]
  },
  {
   "cell_type": "markdown",
   "metadata": {},
   "source": [
    "### Merge with our dataset"
   ]
  },
  {
   "cell_type": "code",
   "execution_count": 79,
   "metadata": {},
   "outputs": [
    {
     "name": "stdout",
     "output_type": "stream",
     "text": [
      "debunked tweets shape: (308, 5)\n",
      "merged tweets shape: (308, 16)\n"
     ]
    }
   ],
   "source": [
    "# loading fake news debunk files that we created from WASHINGTON_POST dataset\n",
    "facts_checked = pd.read_json('data/fact_checked.json')\n",
    "\n",
    "df_facts_checked = pd.DataFrame(facts_checked)\n",
    "\n",
    "# merging our presidency dataframe with the facts_checked dataframe by the columns 'id_str' and 'tweet_id'\n",
    "cond_president_period_df = cond_president_period_df.merge(df_facts_checked, left_on='id_str', right_on='tweet_id',\n",
    "                                                          how='outer')\n",
    "\n",
    "# saving our presidency period with fact checking in a csv file\n",
    "cond_president_period_df.to_csv('data/presidency_period_with_fact_check.csv')\n",
    "\n",
    "# temp cleaned contains only the tweets with analysis, we create this only to see if the number of \n",
    "# tweets is the same from the fact_checked dataframe.\n",
    "temp_cleaned = cond_president_period_df.drop('in_reply_to_user_id_str', axis=1)\n",
    "temp_cleaned = temp_cleaned.dropna()\n",
    "\n",
    "print(\"debunked tweets shape: \" + str(df_facts_checked.shape))\n",
    "print(\"merged tweets shape: \" + str(temp_cleaned.shape))"
   ]
  },
  {
   "cell_type": "markdown",
   "metadata": {
    "collapsed": true
   },
   "source": [
    "### Last step on this part before Milestone 3 "
   ]
  },
  {
   "cell_type": "markdown",
   "metadata": {},
   "source": [
    "The last thing we are working on this part is to produce a word usage compared to tweeted labelled as debunked and show results, trying to see if there are differences or specific terms used in these tweets compared to all his other tweets of 2017. We decided to do so in the hope of finding results that demonstrate to the reader what terms Trump uses to create a distorted version of the facts."
   ]
  },
  {
   "cell_type": "code",
   "execution_count": null,
   "metadata": {
    "collapsed": true
   },
   "outputs": [],
   "source": []
  }
 ],
 "metadata": {
  "kernelspec": {
   "display_name": "Python 3",
   "language": "python",
   "name": "python3"
  },
  "language_info": {
   "codemirror_mode": {
    "name": "ipython",
    "version": 3
   },
   "file_extension": ".py",
   "mimetype": "text/x-python",
   "name": "python",
   "nbconvert_exporter": "python",
   "pygments_lexer": "ipython3",
   "version": "3.6.1"
  }
 },
 "nbformat": 4,
 "nbformat_minor": 2
}
