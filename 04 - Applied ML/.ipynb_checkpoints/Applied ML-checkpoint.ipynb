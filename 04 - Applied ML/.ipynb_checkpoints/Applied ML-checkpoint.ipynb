{
 "cells": [
  {
   "cell_type": "code",
   "execution_count": 1,
   "metadata": {
    "collapsed": true
   },
   "outputs": [],
   "source": [
    "import pandas as pd\n",
    "import matplotlib.pyplot as plt\n",
    "import numpy as np"
   ]
  },
  {
   "cell_type": "code",
   "execution_count": 2,
   "metadata": {
    "collapsed": true
   },
   "outputs": [],
   "source": [
    "data = '/Users/lorenzotara/Documents/EPFL/Applied Data Analysis/Homeworks/ADA2017-Homeworks/04 - Applied ML/lalonde.csv'"
   ]
  },
  {
   "cell_type": "code",
   "execution_count": 3,
   "metadata": {},
   "outputs": [
    {
     "data": {
      "text/html": [
       "<div>\n",
       "<style>\n",
       "    .dataframe thead tr:only-child th {\n",
       "        text-align: right;\n",
       "    }\n",
       "\n",
       "    .dataframe thead th {\n",
       "        text-align: left;\n",
       "    }\n",
       "\n",
       "    .dataframe tbody tr th {\n",
       "        vertical-align: top;\n",
       "    }\n",
       "</style>\n",
       "<table border=\"1\" class=\"dataframe\">\n",
       "  <thead>\n",
       "    <tr style=\"text-align: right;\">\n",
       "      <th></th>\n",
       "      <th>id</th>\n",
       "      <th>treat</th>\n",
       "      <th>age</th>\n",
       "      <th>educ</th>\n",
       "      <th>black</th>\n",
       "      <th>hispan</th>\n",
       "      <th>married</th>\n",
       "      <th>nodegree</th>\n",
       "      <th>re74</th>\n",
       "      <th>re75</th>\n",
       "      <th>re78</th>\n",
       "    </tr>\n",
       "  </thead>\n",
       "  <tbody>\n",
       "    <tr>\n",
       "      <th>0</th>\n",
       "      <td>NSW1</td>\n",
       "      <td>1</td>\n",
       "      <td>37</td>\n",
       "      <td>11</td>\n",
       "      <td>1</td>\n",
       "      <td>0</td>\n",
       "      <td>1</td>\n",
       "      <td>1</td>\n",
       "      <td>0.0</td>\n",
       "      <td>0.0</td>\n",
       "      <td>9930.0460</td>\n",
       "    </tr>\n",
       "    <tr>\n",
       "      <th>1</th>\n",
       "      <td>NSW2</td>\n",
       "      <td>1</td>\n",
       "      <td>22</td>\n",
       "      <td>9</td>\n",
       "      <td>0</td>\n",
       "      <td>1</td>\n",
       "      <td>0</td>\n",
       "      <td>1</td>\n",
       "      <td>0.0</td>\n",
       "      <td>0.0</td>\n",
       "      <td>3595.8940</td>\n",
       "    </tr>\n",
       "    <tr>\n",
       "      <th>2</th>\n",
       "      <td>NSW3</td>\n",
       "      <td>1</td>\n",
       "      <td>30</td>\n",
       "      <td>12</td>\n",
       "      <td>1</td>\n",
       "      <td>0</td>\n",
       "      <td>0</td>\n",
       "      <td>0</td>\n",
       "      <td>0.0</td>\n",
       "      <td>0.0</td>\n",
       "      <td>24909.4500</td>\n",
       "    </tr>\n",
       "    <tr>\n",
       "      <th>3</th>\n",
       "      <td>NSW4</td>\n",
       "      <td>1</td>\n",
       "      <td>27</td>\n",
       "      <td>11</td>\n",
       "      <td>1</td>\n",
       "      <td>0</td>\n",
       "      <td>0</td>\n",
       "      <td>1</td>\n",
       "      <td>0.0</td>\n",
       "      <td>0.0</td>\n",
       "      <td>7506.1460</td>\n",
       "    </tr>\n",
       "    <tr>\n",
       "      <th>4</th>\n",
       "      <td>NSW5</td>\n",
       "      <td>1</td>\n",
       "      <td>33</td>\n",
       "      <td>8</td>\n",
       "      <td>1</td>\n",
       "      <td>0</td>\n",
       "      <td>0</td>\n",
       "      <td>1</td>\n",
       "      <td>0.0</td>\n",
       "      <td>0.0</td>\n",
       "      <td>289.7899</td>\n",
       "    </tr>\n",
       "  </tbody>\n",
       "</table>\n",
       "</div>"
      ],
      "text/plain": [
       "     id  treat  age  educ  black  hispan  married  nodegree  re74  re75  \\\n",
       "0  NSW1      1   37    11      1       0        1         1   0.0   0.0   \n",
       "1  NSW2      1   22     9      0       1        0         1   0.0   0.0   \n",
       "2  NSW3      1   30    12      1       0        0         0   0.0   0.0   \n",
       "3  NSW4      1   27    11      1       0        0         1   0.0   0.0   \n",
       "4  NSW5      1   33     8      1       0        0         1   0.0   0.0   \n",
       "\n",
       "         re78  \n",
       "0   9930.0460  \n",
       "1   3595.8940  \n",
       "2  24909.4500  \n",
       "3   7506.1460  \n",
       "4    289.7899  "
      ]
     },
     "execution_count": 3,
     "metadata": {},
     "output_type": "execute_result"
    }
   ],
   "source": [
    "lalonde = pd.read_csv(data)\n",
    "lalonde.head()"
   ]
  },
  {
   "cell_type": "markdown",
   "metadata": {},
   "source": [
    "## 1\n",
    "\n",
    "1. A naive analysis\n",
    "\n",
    "Compare the distribution of the outcome variable (re78) between the two groups, using plots and numbers. To summarize and compare the distributions, you may use the techniques we discussed in lectures 4 (\"Read the stats carefully\") and 6 (\"Data visualization\").\n",
    "\n",
    "What might a naive \"researcher\" conclude from this superficial analysis?"
   ]
  },
  {
   "cell_type": "markdown",
   "metadata": {},
   "source": [
    "* Here we show the distribution of re78 on the entire dataset."
   ]
  },
  {
   "cell_type": "code",
   "execution_count": 5,
   "metadata": {},
   "outputs": [
    {
     "data": {
      "image/png": "[encoded data removed]",
      "text/plain": [
       "<matplotlib.figure.Figure at 0x119dad7b8>"
      ]
     },
     "metadata": {},
     "output_type": "display_data"
    }
   ],
   "source": [
    "fig, ax = plt.subplots()\n",
    "ax.hist(lalonde.re78)\n",
    "ax.set_title(\"re78 distribution on entire dataset\")\n",
    "plt.show()"
   ]
  },
  {
   "cell_type": "markdown",
   "metadata": {},
   "source": [
    "* Here instead, we show the distributions of re78 first on treated subjects dataset and then on the not treated subjects dataset."
   ]
  },
  {
   "cell_type": "code",
   "execution_count": 71,
   "metadata": {
    "scrolled": true
   },
   "outputs": [
    {
     "data": {
      "image/png": "[encoded data removed]",
      "text/plain": [
       "<matplotlib.figure.Figure at 0x1a1e612c18>"
      ]
     },
     "metadata": {},
     "output_type": "display_data"
    }
   ],
   "source": [
    "lalonde_treat = lalonde[lalonde.treat == 1]\n",
    "lalonde_notreat = lalonde[lalonde.treat == 0]\n",
    "\n",
    "fig, axs = plt.subplots(1, 2, figsize=(12,6))\n",
    "\n",
    "axs[0].hist(lalonde_treat.re78)\n",
    "axs[0].set_title(\"re78 distribution on treated\")\n",
    "axs[1].hist(lalonde_notreat.re78)\n",
    "axs[1].set_title(\"re78 distribution on not treated\")\n",
    "plt.show()"
   ]
  },
  {
   "cell_type": "code",
   "execution_count": 100,
   "metadata": {
    "scrolled": true
   },
   "outputs": [
    {
     "data": {
      "image/png": "[encoded data removed]",
      "text/plain": [
       "<matplotlib.figure.Figure at 0x1a1da5be80>"
      ]
     },
     "metadata": {},
     "output_type": "display_data"
    }
   ],
   "source": [
    "fig, axs = plt.subplots(1, 2, figsize=(18,6))\n",
    "\n",
    "lalonde_treat[['re78']].boxplot(ax=axs[0], fontsize=15, grid=False)\n",
    "axs[0].set_title(\"re78 distribution on treated\")\n",
    "lalonde_notreat[['re78']].boxplot(ax=axs[1], fontsize=15, grid=False)\n",
    "axs[1].set_title(\"re78 distribution on not treated\")\n",
    "plt.show()"
   ]
  },
  {
   "cell_type": "code",
   "execution_count": 7,
   "metadata": {
    "scrolled": true
   },
   "outputs": [
    {
     "data": {
      "text/plain": [
       "count      185.000000\n",
       "mean      6349.143530\n",
       "std       7867.402218\n",
       "min          0.000000\n",
       "25%        485.229800\n",
       "50%       4232.309000\n",
       "75%       9642.999000\n",
       "max      60307.930000\n",
       "Name: re78, dtype: float64"
      ]
     },
     "execution_count": 7,
     "metadata": {},
     "output_type": "execute_result"
    }
   ],
   "source": [
    "lalonde_treat.re78.describe()"
   ]
  },
  {
   "cell_type": "code",
   "execution_count": 8,
   "metadata": {
    "scrolled": true
   },
   "outputs": [
    {
     "data": {
      "text/plain": [
       "count      429.000000\n",
       "mean      6984.169742\n",
       "std       7294.161791\n",
       "min          0.000000\n",
       "25%        220.181300\n",
       "50%       4975.505000\n",
       "75%      11688.820000\n",
       "max      25564.670000\n",
       "Name: re78, dtype: float64"
      ]
     },
     "execution_count": 8,
     "metadata": {},
     "output_type": "execute_result"
    }
   ],
   "source": [
    "lalonde_notreat.re78.describe()"
   ]
  },
  {
   "cell_type": "markdown",
   "metadata": {},
   "source": [
    "### With this naive analysis we can conclude that... TODO!!!"
   ]
  },
  {
   "cell_type": "markdown",
   "metadata": {},
   "source": [
    "## 2\n",
    "\n",
    "2 A closer look at the data\n",
    "\n",
    "You're not naive, of course (and even if you are, you've learned certain things in ADA), so you aren't content with a superficial analysis such as the above. You're aware of the dangers of observational studies, so you take a closer look at the data before jumping to conclusions.\n",
    "\n",
    "For each feature in the dataset, compare its distribution in the treated group with its distribution in the control group, using plots and numbers. As above, you may use the techniques we discussed in class for summarizing and comparing the distributions.\n",
    "\n",
    "What do you observe? Describe what your observations mean for the conclusions drawn by the naive \"researcher\" from his superficial analysis."
   ]
  },
  {
   "cell_type": "markdown",
   "metadata": {},
   "source": [
    "* First we will compare the features showing the differences between the two groups and then we will compare the distributions of every feature in both groups."
   ]
  },
  {
   "cell_type": "markdown",
   "metadata": {},
   "source": [
    "### Comparing features"
   ]
  },
  {
   "cell_type": "markdown",
   "metadata": {},
   "source": [
    "* In order to see the differences of the ages in the two groups, we decided to divide the feature in 7 different groups, as you can see below. We counted how many patients of the same age are in a specific range (with value_counts) and then we summed the results all together. Example: in the first subset we could have had something like: 17 = 4, 18 = 2, 19 = 1, 20 = 12, 21 = 3, 22 = 7, 23 = 1, 24 = 8, 25 = 16; if we sum everything together we will obtain how many patients are in that range.\n",
    "* Finally we plot our results."
   ]
  },
  {
   "cell_type": "code",
   "execution_count": 9,
   "metadata": {
    "collapsed": true
   },
   "outputs": [],
   "source": [
    "age_17_25_treat = lalonde_treat[lalonde_treat.age < 26].age.value_counts().sum()\n",
    "age_17_25_notreat = lalonde_notreat[lalonde_notreat.age < 26].age.value_counts().sum()\n",
    "\n",
    "age_26_30_treat = lalonde_treat[(lalonde_treat.age >= 26) & (lalonde_treat.age < 31)].age.value_counts().sum()\n",
    "age_26_30_notreat = lalonde_notreat[(lalonde_notreat.age >= 26) & (lalonde_notreat.age < 31)].age.value_counts().sum()\n",
    "\n",
    "age_31_35_treat = lalonde_treat[(lalonde_treat.age >= 31) & (lalonde_treat.age < 36)].age.value_counts().sum()\n",
    "age_31_35_notreat = lalonde_notreat[(lalonde_notreat.age >= 31) & (lalonde_notreat.age < 36)].age.value_counts().sum()\n",
    "\n",
    "age_36_40_treat = lalonde_treat[(lalonde_treat.age >= 36) & (lalonde_treat.age < 41)].age.value_counts().sum()\n",
    "age_36_40_notreat = lalonde_notreat[(lalonde_notreat.age >= 36) & (lalonde_notreat.age < 41)].age.value_counts().sum()\n",
    "\n",
    "age_41_45_treat = lalonde_treat[(lalonde_treat.age >= 36) & (lalonde_treat.age < 41)].age.value_counts().sum()\n",
    "age_41_45_notreat = lalonde_notreat[(lalonde_notreat.age >= 36) & (lalonde_notreat.age < 41)].age.value_counts().sum()\n",
    "\n",
    "age_46_50_treat = lalonde_treat[(lalonde_treat.age >= 46) & (lalonde_treat.age < 51)].age.value_counts().sum()\n",
    "age_46_50_notreat = lalonde_notreat[(lalonde_notreat.age >= 46) & (lalonde_notreat.age < 51)].age.value_counts().sum()\n",
    "\n",
    "age_51_more_treat = lalonde_treat[lalonde_treat.age >= 51].age.value_counts().sum()\n",
    "age_51_more_notreat = lalonde_notreat[lalonde_notreat.age >= 51].age.value_counts().sum()\n",
    "\n",
    "age_treated = [age_17_25_treat, age_26_30_treat, age_31_35_treat, age_36_40_treat, age_41_45_treat, age_46_50_treat, age_51_more_treat]\n",
    "age_notreated = [age_17_25_notreat, age_26_30_notreat, age_31_35_notreat, age_36_40_notreat, age_41_45_notreat, age_46_50_notreat, age_51_more_notreat]"
   ]
  },
  {
   "cell_type": "code",
   "execution_count": 10,
   "metadata": {},
   "outputs": [
    {
     "data": {
      "image/png": "[encoded data removed]",
      "text/plain": [
       "<matplotlib.figure.Figure at 0x119ed36a0>"
      ]
     },
     "metadata": {},
     "output_type": "display_data"
    }
   ],
   "source": [
    "fig, ax = plt.subplots(1, 1, figsize=(20,12))\n",
    "\n",
    "x_age = np.array([1,2,3,4,5,6,7])\n",
    "labels_age = ['17-25', '26-30', '31-35', '36-40', '41-45', '46-50', '51+']\n",
    "\n",
    "ax.bar(x_age - 0.2, age_treated, width=0.2, color ='b')\n",
    "ax.bar(x_age + 0.2, age_notreated, width=0.2, color='g')\n",
    "ax.set_xticks(x_age)\n",
    "ax.set_xticklabels(labels_age)\n",
    "ax.set_xlabel('age')\n",
    "ax.set_ylabel('number of people')\n",
    "ax.set_title(\"Number of people in different age treated and not treated\")\n",
    "ax.legend(['treated', 'not treated'])\n",
    "plt.show()"
   ]
  },
  {
   "cell_type": "markdown",
   "metadata": {},
   "source": [
    "* DESCRIBE"
   ]
  },
  {
   "cell_type": "markdown",
   "metadata": {},
   "source": [
    "* For both groups we count the number of patients for different characteristics: black, hispanic, married, with no degree.\n",
    "* Then we plot the results"
   ]
  },
  {
   "cell_type": "code",
   "execution_count": 11,
   "metadata": {},
   "outputs": [
    {
     "data": {
      "image/png": "[encoded data removed]",
      "text/plain": [
       "<matplotlib.figure.Figure at 0x119edff28>"
      ]
     },
     "metadata": {},
     "output_type": "display_data"
    }
   ],
   "source": [
    "fig, ax = plt.subplots(1, 1, figsize=(20,12))\n",
    "\n",
    "x_category = np.array([1,2,3,4])\n",
    "labels_category = [\"Black\", \"Hispan\", \"Married\", \"NoDegree\"]\n",
    "y_treat = [lalonde_treat.black.sum(), lalonde_treat.hispan.sum(), lalonde_treat.married.sum(), lalonde_treat.nodegree.sum()]\n",
    "y_notreat = [lalonde_notreat.black.sum(), lalonde_notreat.hispan.sum(), lalonde_notreat.married.sum(), lalonde_notreat.nodegree.sum()]\n",
    "ax.bar(x_category-0.2, y_treat, width=0.2, color='b')\n",
    "ax.bar(x_category+0.2, y_notreat, width=0.2, color='g')\n",
    "ax.set_xticks(x_category, minor=False)\n",
    "ax.set_xticklabels(labels_category)\n",
    "ax.set_ylabel('number of elements')\n",
    "ax.set_title(\"Categories\")\n",
    "ax.legend(['treated', 'not treated'])\n",
    "\n",
    "plt.show()"
   ]
  },
  {
   "cell_type": "markdown",
   "metadata": {},
   "source": [
    "* DESCRIBE"
   ]
  },
  {
   "cell_type": "markdown",
   "metadata": {},
   "source": [
    "* Here we want to show the difference in the two groups of years of education"
   ]
  },
  {
   "cell_type": "code",
   "execution_count": 12,
   "metadata": {},
   "outputs": [
    {
     "data": {
      "image/png": "[encoded data removed]",
      "text/plain": [
       "<matplotlib.figure.Figure at 0x11a223780>"
      ]
     },
     "metadata": {},
     "output_type": "display_data"
    }
   ],
   "source": [
    "fig, ax = plt.subplots(1, 1, figsize=(20,12))\n",
    "\n",
    "education_treat = lalonde_treat.educ.value_counts().sort_index()\n",
    "education_notreat = lalonde_notreat.educ.value_counts().sort_index()\n",
    "ax.bar(education_treat.index.values - 0.2, education_treat.values, width=0.2, color ='b')\n",
    "ax.bar(education_notreat.index.values + 0.2, education_notreat.values, width=0.2, color='g')\n",
    "ax.set_xticks(education_notreat.index.values)\n",
    "ax.set_xlabel('years of education')\n",
    "ax.set_ylabel('number of people')\n",
    "ax.set_title(\"Education per group\")\n",
    "ax.legend(['treated', 'not treated'])\n",
    "plt.show()"
   ]
  },
  {
   "cell_type": "markdown",
   "metadata": {},
   "source": [
    "* DESCRIBE"
   ]
  },
  {
   "cell_type": "markdown",
   "metadata": {},
   "source": [
    "### At this point, we can say that... TODO!!!!!"
   ]
  },
  {
   "cell_type": "markdown",
   "metadata": {},
   "source": [
    "### Distributions"
   ]
  },
  {
   "cell_type": "markdown",
   "metadata": {},
   "source": [
    "#### Age"
   ]
  },
  {
   "cell_type": "code",
   "execution_count": 13,
   "metadata": {},
   "outputs": [
    {
     "data": {
      "image/png": "[encoded data removed]",
      "text/plain": [
       "<matplotlib.figure.Figure at 0x11afa72e8>"
      ]
     },
     "metadata": {},
     "output_type": "display_data"
    }
   ],
   "source": [
    "fig, axs = plt.subplots(1, 2, figsize=(20,12), sharex=True, sharey=True)\n",
    "\n",
    "lalonde_treat.age.hist(ax=axs[0])\n",
    "lalonde_notreat.age.hist(ax=axs[1])\n",
    "axs[0].set_xlabel(\"age\")\n",
    "axs[0].set_title(\"treated\")\n",
    "axs[1].set_xlabel(\"age\")\n",
    "axs[1].set_title(\"not treated\")\n",
    "axs[0].set_ylabel(\"count\")\n",
    "plt.show()"
   ]
  },
  {
   "cell_type": "code",
   "execution_count": 14,
   "metadata": {},
   "outputs": [
    {
     "data": {
      "text/plain": [
       "count    185.000000\n",
       "mean      25.816216\n",
       "std        7.155019\n",
       "min       17.000000\n",
       "25%       20.000000\n",
       "50%       25.000000\n",
       "75%       29.000000\n",
       "max       48.000000\n",
       "Name: age, dtype: float64"
      ]
     },
     "execution_count": 14,
     "metadata": {},
     "output_type": "execute_result"
    }
   ],
   "source": [
    "lalonde_treat.age.describe()"
   ]
  },
  {
   "cell_type": "code",
   "execution_count": 15,
   "metadata": {},
   "outputs": [
    {
     "data": {
      "text/plain": [
       "count    429.000000\n",
       "mean      28.030303\n",
       "std       10.786653\n",
       "min       16.000000\n",
       "25%       19.000000\n",
       "50%       25.000000\n",
       "75%       35.000000\n",
       "max       55.000000\n",
       "Name: age, dtype: float64"
      ]
     },
     "execution_count": 15,
     "metadata": {},
     "output_type": "execute_result"
    }
   ],
   "source": [
    "lalonde_notreat.age.describe()"
   ]
  },
  {
   "cell_type": "markdown",
   "metadata": {},
   "source": [
    "* DESCRIBE"
   ]
  },
  {
   "cell_type": "markdown",
   "metadata": {},
   "source": [
    "#### Education"
   ]
  },
  {
   "cell_type": "code",
   "execution_count": 16,
   "metadata": {},
   "outputs": [
    {
     "data": {
      "image/png": "[encoded data removed]",
      "text/plain": [
       "<matplotlib.figure.Figure at 0x11aac6668>"
      ]
     },
     "metadata": {},
     "output_type": "display_data"
    }
   ],
   "source": [
    "fig, axs = plt.subplots(1, 2, figsize=(20,12), sharex=True, sharey=True)\n",
    "\n",
    "lalonde_treat.educ.hist(ax=axs[0])\n",
    "lalonde_notreat.educ.hist(ax=axs[1])\n",
    "axs[0].set_xlabel(\"years of education\")\n",
    "axs[0].set_title(\"treated\")\n",
    "axs[1].set_xlabel(\"years of education\")\n",
    "axs[1].set_title(\"not treated\")\n",
    "axs[0].set_ylabel(\"count\")\n",
    "plt.show()"
   ]
  },
  {
   "cell_type": "code",
   "execution_count": 17,
   "metadata": {},
   "outputs": [
    {
     "data": {
      "text/plain": [
       "count    185.000000\n",
       "mean      10.345946\n",
       "std        2.010650\n",
       "min        4.000000\n",
       "25%        9.000000\n",
       "50%       11.000000\n",
       "75%       12.000000\n",
       "max       16.000000\n",
       "Name: educ, dtype: float64"
      ]
     },
     "execution_count": 17,
     "metadata": {},
     "output_type": "execute_result"
    }
   ],
   "source": [
    "lalonde_treat.educ.describe()"
   ]
  },
  {
   "cell_type": "code",
   "execution_count": 18,
   "metadata": {},
   "outputs": [
    {
     "data": {
      "text/plain": [
       "count    429.000000\n",
       "mean      10.235431\n",
       "std        2.855238\n",
       "min        0.000000\n",
       "25%        9.000000\n",
       "50%       11.000000\n",
       "75%       12.000000\n",
       "max       18.000000\n",
       "Name: educ, dtype: float64"
      ]
     },
     "execution_count": 18,
     "metadata": {},
     "output_type": "execute_result"
    }
   ],
   "source": [
    "lalonde_notreat.educ.describe()"
   ]
  },
  {
   "cell_type": "markdown",
   "metadata": {},
   "source": [
    "* DESCRIBE"
   ]
  },
  {
   "cell_type": "markdown",
   "metadata": {},
   "source": [
    "#### Categories"
   ]
  },
  {
   "cell_type": "code",
   "execution_count": 19,
   "metadata": {},
   "outputs": [
    {
     "data": {
      "image/png": "[encoded data removed]",
      "text/plain": [
       "<matplotlib.figure.Figure at 0x119e95ef0>"
      ]
     },
     "metadata": {},
     "output_type": "display_data"
    }
   ],
   "source": [
    "fig, axs = plt.subplots(4, 2, figsize=(20,12), sharey=True)\n",
    "\n",
    "lalonde_treat.black.hist(ax=axs[0,0])\n",
    "lalonde_notreat.black.hist(ax=axs[0,1])\n",
    "axs[0,0].set_xticks(np.array([0,1]))\n",
    "axs[0,0].set_xticklabels(['not black', 'black'])\n",
    "axs[0,0].set_title(\"treated\")\n",
    "axs[0,1].set_xticks(np.array([0,1]))\n",
    "axs[0,1].set_xticklabels(['not black', 'black'])\n",
    "axs[0,1].set_title(\"not treated\")\n",
    "axs[0,0].set_ylabel(\"count\")\n",
    "\n",
    "lalonde_treat.hispan.hist(ax=axs[1,0])\n",
    "lalonde_notreat.hispan.hist(ax=axs[1,1])\n",
    "axs[1,0].set_xticks(np.array([0,1]))\n",
    "axs[1,0].set_xticklabels(['not hispanic', 'hispanic'])\n",
    "axs[1,0].set_title(\"treated\")\n",
    "axs[1,1].set_xticks(np.array([0,1]))\n",
    "axs[1,1].set_xticklabels(['not hispanic', 'hispanic'])\n",
    "axs[1,1].set_title(\"not treated\")\n",
    "axs[1,0].set_ylabel(\"count\")\n",
    "\n",
    "lalonde_treat.married.hist(ax=axs[2,0])\n",
    "lalonde_notreat.married.hist(ax=axs[2,1])\n",
    "axs[2,0].set_xticks(np.array([0,1]))\n",
    "axs[2,0].set_xticklabels(['not married', 'married'])\n",
    "axs[2,0].set_title(\"treated\")\n",
    "axs[2,1].set_xticks(np.array([0,1]))\n",
    "axs[2,1].set_xticklabels(['not married', 'married'])\n",
    "axs[2,1].set_title(\"not treated\")\n",
    "axs[2,0].set_ylabel(\"count\")\n",
    "\n",
    "lalonde_treat.nodegree.hist(ax=axs[3,0])\n",
    "lalonde_notreat.nodegree.hist(ax=axs[3,1])\n",
    "axs[3,0].set_xticks(np.array([0,1]))\n",
    "axs[3,0].set_xticklabels(['with degree', 'without degree'])\n",
    "axs[3,0].set_title(\"treated\")\n",
    "axs[3,1].set_xticks(np.array([0,1]))\n",
    "axs[3,1].set_xticklabels(['with degree', 'without degree'])\n",
    "axs[3,1].set_title(\"not treated\")\n",
    "axs[3,0].set_ylabel(\"count\")\n",
    "\n",
    "plt.show()"
   ]
  },
  {
   "cell_type": "markdown",
   "metadata": {},
   "source": [
    "* DESCRIBE"
   ]
  },
  {
   "cell_type": "markdown",
   "metadata": {},
   "source": [
    "#### re74, re75"
   ]
  },
  {
   "cell_type": "code",
   "execution_count": 22,
   "metadata": {},
   "outputs": [
    {
     "data": {
      "image/png": "[encoded data removed]",
      "text/plain": [
       "<matplotlib.figure.Figure at 0x11bf89b38>"
      ]
     },
     "metadata": {},
     "output_type": "display_data"
    }
   ],
   "source": [
    "fig, axs = plt.subplots(2, 2, figsize=(20,12), sharex=True, sharey=True)\n",
    "\n",
    "lalonde_treat.re74.hist(ax=axs[0,0])\n",
    "lalonde_notreat.re74.hist(ax=axs[0,1])\n",
    "lalonde_treat.re75.hist(ax=axs[1,0])\n",
    "lalonde_notreat.re75.hist(ax=axs[1,1])\n",
    "axs[0,0].set_xlabel(\"re74\")\n",
    "axs[0,0].set_title(\"treated\")\n",
    "axs[0,1].set_xlabel(\"re74\")\n",
    "axs[0,1].set_title(\"not treated\")\n",
    "axs[0,0].set_ylabel(\"count\")\n",
    "axs[1,0].set_xlabel(\"re75\")\n",
    "axs[1,0].set_title(\"treated\")\n",
    "axs[1,1].set_xlabel(\"re75\")\n",
    "axs[1,1].set_title(\"not treated\")\n",
    "axs[1,0].set_ylabel(\"count\")\n",
    "plt.show()"
   ]
  },
  {
   "cell_type": "markdown",
   "metadata": {},
   "source": [
    "* DESCRIBE"
   ]
  },
  {
   "cell_type": "markdown",
   "metadata": {},
   "source": [
    "#### re78"
   ]
  },
  {
   "cell_type": "code",
   "execution_count": 23,
   "metadata": {},
   "outputs": [
    {
     "data": {
      "image/png": "[encoded data removed]",
      "text/plain": [
       "<matplotlib.figure.Figure at 0x11b3f8be0>"
      ]
     },
     "metadata": {},
     "output_type": "display_data"
    }
   ],
   "source": [
    "fig, axs = plt.subplots(1, 2, figsize=(20,12), sharex=True, sharey=True)\n",
    "\n",
    "lalonde_treat.re78.hist(ax=axs[0])\n",
    "lalonde_notreat.re78.hist(ax=axs[1])\n",
    "axs[0].set_xlabel(\"re78\")\n",
    "axs[0].set_title(\"treated\")\n",
    "axs[1].set_xlabel(\"re78\")\n",
    "axs[1].set_title(\"not treated\")\n",
    "axs[0].set_ylabel(\"count\")\n",
    "plt.show()"
   ]
  },
  {
   "cell_type": "code",
   "execution_count": 24,
   "metadata": {},
   "outputs": [
    {
     "data": {
      "text/plain": [
       "count      185.000000\n",
       "mean      6349.143530\n",
       "std       7867.402218\n",
       "min          0.000000\n",
       "25%        485.229800\n",
       "50%       4232.309000\n",
       "75%       9642.999000\n",
       "max      60307.930000\n",
       "Name: re78, dtype: float64"
      ]
     },
     "execution_count": 24,
     "metadata": {},
     "output_type": "execute_result"
    }
   ],
   "source": [
    "lalonde_treat.re78.describe()"
   ]
  },
  {
   "cell_type": "code",
   "execution_count": 25,
   "metadata": {},
   "outputs": [
    {
     "data": {
      "text/plain": [
       "count      429.000000\n",
       "mean      6984.169742\n",
       "std       7294.161791\n",
       "min          0.000000\n",
       "25%        220.181300\n",
       "50%       4975.505000\n",
       "75%      11688.820000\n",
       "max      25564.670000\n",
       "Name: re78, dtype: float64"
      ]
     },
     "execution_count": 25,
     "metadata": {},
     "output_type": "execute_result"
    }
   ],
   "source": [
    "lalonde_notreat.re78.describe()"
   ]
  },
  {
   "cell_type": "markdown",
   "metadata": {},
   "source": [
    "* DESCRIBE"
   ]
  },
  {
   "cell_type": "markdown",
   "metadata": {},
   "source": [
    "* ### Taking a closer look to the data we observe that... Unlike the naive research, here we can state that... TODO!!!"
   ]
  },
  {
   "cell_type": "markdown",
   "metadata": {},
   "source": [
    "## 3\n",
    "\n",
    "3 A propensity score model\n",
    "\n",
    "Use logistic regression to estimate propensity scores for all points in the dataset. You may use sklearn to fit the logistic regression model and apply it to each data point to obtain propensity scores:\n",
    "\n",
    "from sklearn import linear_model\n",
    "logistic = linear_model.LogisticRegression()\n",
    "Recall that the propensity score of a data point represents its probability of receiving the treatment, based on its pre-treatment features (in this case, age, education, pre-treatment income, etc.). To brush up on propensity scores, you may read chapter 3.3 of the above-cited book by Rosenbaum or this article.\n",
    "\n",
    "Note: you do not need a train/test split here. Train and apply the model on the entire dataset. If you're wondering why this is the right thing to do in this situation, recall that the propensity score model is not used in order to make predictions about unseen data. Its sole purpose is to balance the dataset across treatment groups. (See p. 74 of Rosenbaum's book for an explanation why slight overfitting is even good for propensity scores. If you want even more information, read this article.)"
   ]
  },
  {
   "cell_type": "code",
   "execution_count": 26,
   "metadata": {
    "collapsed": true
   },
   "outputs": [],
   "source": [
    "'''\n",
    "Not used\n",
    "'''\n",
    "def build_poly(x, degree):\n",
    "    \n",
    "    new_x = x\n",
    "    ones = np.ones(new_x.shape[0])\n",
    "    \n",
    "    for deg in range(degree):\n",
    "        new_x = np.c_[new_x, new_x**degree+1]\n",
    "\n",
    "    new_x = np.c_[ones, new_x]\n",
    "    \n",
    "    return new_x\n",
    "\n",
    "'''\n",
    "Gain 2%\n",
    "'''\n",
    "def normalize(x_par):\n",
    "    \n",
    "    x = x_par\n",
    "    \n",
    "    for column in x.columns:\n",
    "        x[column] = (x[column] - x[column].mean())/x[column].std()\n",
    "        \n",
    "    return x"
   ]
  },
  {
   "cell_type": "markdown",
   "metadata": {},
   "source": [
    "* Here we fit/train logistic regression in order to obtain a propensity score model. The propensity score is the probability that a patient is being treated given some features (covariates). Describe it better\n",
    "##### Write the formula\n",
    "\n",
    "We should work a little bit more on the data maybe if we want to obtain a better score.\n",
    "* We also normalize the data because we obtain a better score. Of course we don't use the columns id and treat because they are not features - treat is the label - and also re78 because it refers to something that happened after being treated or not."
   ]
  },
  {
   "cell_type": "code",
   "execution_count": 27,
   "metadata": {},
   "outputs": [
    {
     "name": "stderr",
     "output_type": "stream",
     "text": [
      "/Users/lorenzotara/anaconda/lib/python3.6/site-packages/ipykernel_launcher.py:24: SettingWithCopyWarning: \n",
      "A value is trying to be set on a copy of a slice from a DataFrame.\n",
      "Try using .loc[row_indexer,col_indexer] = value instead\n",
      "\n",
      "See the caveats in the documentation: http://pandas.pydata.org/pandas-docs/stable/indexing.html#indexing-view-versus-copy\n"
     ]
    },
    {
     "data": {
      "text/plain": [
       "82.247557003257327"
      ]
     },
     "execution_count": 27,
     "metadata": {},
     "output_type": "execute_result"
    }
   ],
   "source": [
    "from sklearn import linear_model\n",
    "\n",
    "logistic = linear_model.LogisticRegression()\n",
    "y = lalonde.treat\n",
    "X = lalonde.drop(['id','treat', 're78'], axis=1)\n",
    "#X = pd.concat([X, np.log(X.age).rename(\"age_log\")], axis=1)\n",
    "#X = pd.concat([X, np.log(X.re78+0.1).rename(\"age_log\")], axis=1)\n",
    "\n",
    "#X = build_poly(X, 2)\n",
    "X[['age', 'educ', 're74', 're75']] = normalize(X[['age', 'educ', 're74', 're75']])\n",
    "\n",
    "logistic.fit(X, y)\n",
    "prediction = logistic.predict(X)\n",
    "accuracy = sum(prediction == y) / len(y)\n",
    "accuracy *100"
   ]
  },
  {
   "cell_type": "markdown",
   "metadata": {},
   "source": [
    "* The variable pred_proba is a ndarray of two dimensions: the first dimension is the probability that the patient is not treated (0), the second one is the propensity score, that is the probability that the patient is treated (1)."
   ]
  },
  {
   "cell_type": "code",
   "execution_count": 28,
   "metadata": {},
   "outputs": [
    {
     "data": {
      "text/plain": [
       "array([[ 0.40910643,  0.59089357],\n",
       "       [ 0.79031334,  0.20968666],\n",
       "       [ 0.3177639 ,  0.6822361 ],\n",
       "       [ 0.25265472,  0.74734528],\n",
       "       [ 0.30822102,  0.69177898],\n",
       "       [ 0.31415395,  0.68584605],\n",
       "       [ 0.33827987,  0.66172013],\n",
       "       [ 0.24030611,  0.75969389]])"
      ]
     },
     "execution_count": 28,
     "metadata": {},
     "output_type": "execute_result"
    }
   ],
   "source": [
    "pred_proba = logistic.predict_proba(X)\n",
    "pred_proba[:8]"
   ]
  },
  {
   "cell_type": "markdown",
   "metadata": {},
   "source": [
    "## 4\n",
    "\n",
    "4 Balancing the dataset via matching\n",
    "\n",
    "Use the propensity scores to match each data point from the treated group with exactly one data point from the control group, while ensuring that each data point from the control group is matched with at most one data point from the treated group. (Hint: you may explore the networkx package in Python for predefined matching functions.)\n",
    "\n",
    "Your matching should maximize the similarity between matched subjects, as captured by their propensity scores. In other words, the sum (over all matched pairs) of absolute propensity-score differences between the two matched subjects should be minimized.\n",
    "\n",
    "After matching, you have as many treated as you have control subjects. Compare the outcomes (re78) between the two groups (treated and control).\n",
    "\n",
    "Also, compare again the feature-value distributions between the two groups, as you've done in part 2 above, but now only for the matched subjects. What do you observe? Are you closer to being able to draw valid conclusions now than you were before?"
   ]
  },
  {
   "cell_type": "markdown",
   "metadata": {},
   "source": [
    "* For the moment we just take the propensity score."
   ]
  },
  {
   "cell_type": "code",
   "execution_count": 29,
   "metadata": {},
   "outputs": [
    {
     "data": {
      "text/plain": [
       "array([ 0.59089357,  0.20968666,  0.6822361 ,  0.74734528,  0.69177898,\n",
       "        0.68584605,  0.66172013,  0.75969389,  0.75623347,  0.0601449 ])"
      ]
     },
     "execution_count": 29,
     "metadata": {},
     "output_type": "execute_result"
    }
   ],
   "source": [
    "from sklearn.preprocessing import StandardScaler\n",
    "from sklearn.neighbors import NearestNeighbors\n",
    "\n",
    "pscore = pred_proba[:,1]\n",
    "pscore[:10]"
   ]
  },
  {
   "cell_type": "markdown",
   "metadata": {},
   "source": [
    "* We add the propensity score to the total df - matching_df"
   ]
  },
  {
   "cell_type": "code",
   "execution_count": 30,
   "metadata": {},
   "outputs": [
    {
     "data": {
      "text/html": [
       "<div>\n",
       "<style>\n",
       "    .dataframe thead tr:only-child th {\n",
       "        text-align: right;\n",
       "    }\n",
       "\n",
       "    .dataframe thead th {\n",
       "        text-align: left;\n",
       "    }\n",
       "\n",
       "    .dataframe tbody tr th {\n",
       "        vertical-align: top;\n",
       "    }\n",
       "</style>\n",
       "<table border=\"1\" class=\"dataframe\">\n",
       "  <thead>\n",
       "    <tr style=\"text-align: right;\">\n",
       "      <th></th>\n",
       "      <th>id</th>\n",
       "      <th>treat</th>\n",
       "      <th>age</th>\n",
       "      <th>educ</th>\n",
       "      <th>black</th>\n",
       "      <th>hispan</th>\n",
       "      <th>married</th>\n",
       "      <th>nodegree</th>\n",
       "      <th>re74</th>\n",
       "      <th>re75</th>\n",
       "      <th>re78</th>\n",
       "      <th>propensity</th>\n",
       "    </tr>\n",
       "  </thead>\n",
       "  <tbody>\n",
       "    <tr>\n",
       "      <th>0</th>\n",
       "      <td>NSW1</td>\n",
       "      <td>1</td>\n",
       "      <td>37</td>\n",
       "      <td>11</td>\n",
       "      <td>1</td>\n",
       "      <td>0</td>\n",
       "      <td>1</td>\n",
       "      <td>1</td>\n",
       "      <td>0.0</td>\n",
       "      <td>0.0</td>\n",
       "      <td>9930.0460</td>\n",
       "      <td>0.590894</td>\n",
       "    </tr>\n",
       "    <tr>\n",
       "      <th>1</th>\n",
       "      <td>NSW2</td>\n",
       "      <td>1</td>\n",
       "      <td>22</td>\n",
       "      <td>9</td>\n",
       "      <td>0</td>\n",
       "      <td>1</td>\n",
       "      <td>0</td>\n",
       "      <td>1</td>\n",
       "      <td>0.0</td>\n",
       "      <td>0.0</td>\n",
       "      <td>3595.8940</td>\n",
       "      <td>0.209687</td>\n",
       "    </tr>\n",
       "    <tr>\n",
       "      <th>2</th>\n",
       "      <td>NSW3</td>\n",
       "      <td>1</td>\n",
       "      <td>30</td>\n",
       "      <td>12</td>\n",
       "      <td>1</td>\n",
       "      <td>0</td>\n",
       "      <td>0</td>\n",
       "      <td>0</td>\n",
       "      <td>0.0</td>\n",
       "      <td>0.0</td>\n",
       "      <td>24909.4500</td>\n",
       "      <td>0.682236</td>\n",
       "    </tr>\n",
       "    <tr>\n",
       "      <th>3</th>\n",
       "      <td>NSW4</td>\n",
       "      <td>1</td>\n",
       "      <td>27</td>\n",
       "      <td>11</td>\n",
       "      <td>1</td>\n",
       "      <td>0</td>\n",
       "      <td>0</td>\n",
       "      <td>1</td>\n",
       "      <td>0.0</td>\n",
       "      <td>0.0</td>\n",
       "      <td>7506.1460</td>\n",
       "      <td>0.747345</td>\n",
       "    </tr>\n",
       "    <tr>\n",
       "      <th>4</th>\n",
       "      <td>NSW5</td>\n",
       "      <td>1</td>\n",
       "      <td>33</td>\n",
       "      <td>8</td>\n",
       "      <td>1</td>\n",
       "      <td>0</td>\n",
       "      <td>0</td>\n",
       "      <td>1</td>\n",
       "      <td>0.0</td>\n",
       "      <td>0.0</td>\n",
       "      <td>289.7899</td>\n",
       "      <td>0.691779</td>\n",
       "    </tr>\n",
       "  </tbody>\n",
       "</table>\n",
       "</div>"
      ],
      "text/plain": [
       "     id  treat  age  educ  black  hispan  married  nodegree  re74  re75  \\\n",
       "0  NSW1      1   37    11      1       0        1         1   0.0   0.0   \n",
       "1  NSW2      1   22     9      0       1        0         1   0.0   0.0   \n",
       "2  NSW3      1   30    12      1       0        0         0   0.0   0.0   \n",
       "3  NSW4      1   27    11      1       0        0         1   0.0   0.0   \n",
       "4  NSW5      1   33     8      1       0        0         1   0.0   0.0   \n",
       "\n",
       "         re78  propensity  \n",
       "0   9930.0460    0.590894  \n",
       "1   3595.8940    0.209687  \n",
       "2  24909.4500    0.682236  \n",
       "3   7506.1460    0.747345  \n",
       "4    289.7899    0.691779  "
      ]
     },
     "execution_count": 30,
     "metadata": {},
     "output_type": "execute_result"
    }
   ],
   "source": [
    "matching_df = lalonde\n",
    "matching_df['propensity'] = pscore\n",
    "matching_df.head()"
   ]
  },
  {
   "cell_type": "markdown",
   "metadata": {},
   "source": [
    "* We take the propensity score of the treated and of the not treated"
   ]
  },
  {
   "cell_type": "code",
   "execution_count": 31,
   "metadata": {},
   "outputs": [
    {
     "data": {
      "text/plain": [
       "(0    0.590894\n",
       " 1    0.209687\n",
       " 2    0.682236\n",
       " 3    0.747345\n",
       " 4    0.691779\n",
       " Name: propensity, dtype: float64, 185    0.037950\n",
       " 186    0.023885\n",
       " 187    0.032949\n",
       " 188    0.045703\n",
       " 189    0.415629\n",
       " Name: propensity, dtype: float64)"
      ]
     },
     "execution_count": 31,
     "metadata": {},
     "output_type": "execute_result"
    }
   ],
   "source": [
    "propensity_treat = matching_df[matching_df.treat == 1].propensity\n",
    "propensity_notreat = matching_df[matching_df.treat == 0].propensity\n",
    "propensity_treat.head(), propensity_notreat.head()"
   ]
  },
  {
   "cell_type": "markdown",
   "metadata": {},
   "source": [
    "* In order to have comparable data we have to... describe why with observational data you use this method.\n",
    "* We search for the nearest neighbor of a treated in the non treated taking account of only the propensity score."
   ]
  },
  {
   "cell_type": "code",
   "execution_count": 32,
   "metadata": {},
   "outputs": [
    {
     "data": {
      "text/plain": [
       "(          id  treat  age  educ  black  hispan  married  nodegree      re74  \\\n",
       " 475  PSID291      0   16     6      1       0        0         1     0.000   \n",
       " 611  PSID427      0   21    18      0       0        0         0     0.000   \n",
       " 192    PSID8      0   20    12      1       0        0         0  7392.314   \n",
       " 596  PSID412      0   53    12      1       0        0         0     0.000   \n",
       " 324  PSID140      0   19     9      1       0        0         1  1079.556   \n",
       " \n",
       "             re75      re78  propensity  \n",
       " 475     44.75806      0.00    0.586001  \n",
       " 611      0.00000      0.00    0.206358  \n",
       " 192  12396.19000  17765.23    0.682352  \n",
       " 596      0.00000      0.00    0.744589  \n",
       " 324   2873.46800  14344.29    0.693369  ,\n",
       "      id  treat  age  educ  black  hispan  married  nodegree  re74  re75  \\\n",
       " 0  NSW1      1   37    11      1       0        1         1   0.0   0.0   \n",
       " 1  NSW2      1   22     9      0       1        0         1   0.0   0.0   \n",
       " 2  NSW3      1   30    12      1       0        0         0   0.0   0.0   \n",
       " 3  NSW4      1   27    11      1       0        0         1   0.0   0.0   \n",
       " 4  NSW5      1   33     8      1       0        0         1   0.0   0.0   \n",
       " \n",
       "          re78  propensity  \n",
       " 0   9930.0460    0.590894  \n",
       " 1   3595.8940    0.209687  \n",
       " 2  24909.4500    0.682236  \n",
       " 3   7506.1460    0.747345  \n",
       " 4    289.7899    0.691779  )"
      ]
     },
     "execution_count": 32,
     "metadata": {},
     "output_type": "execute_result"
    }
   ],
   "source": [
    "nbrs = NearestNeighbors(n_neighbors=1, algorithm='ball_tree').fit(propensity_notreat.values.reshape(-1,1))\n",
    "'''\n",
    "distances is an array that contains the distance between the propensity score of the treated patient \n",
    "and his nearest neighbor in the not treated patients dataset\n",
    "'''\n",
    "distances, indices = nbrs.kneighbors(propensity_treat.values.reshape(-1,1))\n",
    "'''\n",
    "These are the indices that refers to the position (not the real index!!!)\n",
    "of the neighbor in the list propensity_notreat.values.reshape(-1,1)\n",
    "'''\n",
    "indices = indices.reshape(indices.shape[0])\n",
    "\n",
    "matches = matching_df[matching_df.treat == 0].iloc[indices]\n",
    "treated = matching_df[matching_df.treat == 1]\n",
    "matches.head(), treated.head()"
   ]
  },
  {
   "cell_type": "markdown",
   "metadata": {},
   "source": [
    "## TODO: compare distributions of every feature in the two groups, but only matched"
   ]
  },
  {
   "cell_type": "markdown",
   "metadata": {},
   "source": [
    "### Comparing distributions between treated and matches"
   ]
  },
  {
   "cell_type": "markdown",
   "metadata": {},
   "source": [
    "#### re78"
   ]
  },
  {
   "cell_type": "code",
   "execution_count": 33,
   "metadata": {},
   "outputs": [
    {
     "data": {
      "image/png": "[encoded data removed]",
      "text/plain": [
       "<matplotlib.figure.Figure at 0x11b4139b0>"
      ]
     },
     "metadata": {},
     "output_type": "display_data"
    }
   ],
   "source": [
    "fig, axs = plt.subplots(1, 2, figsize=(20,12), sharex=True, sharey=True)\n",
    "\n",
    "treated.re78.hist(ax=axs[0])\n",
    "matches.re78.hist(ax=axs[1])\n",
    "axs[0].set_xlabel(\"re78\")\n",
    "axs[0].set_title(\"treated\")\n",
    "axs[1].set_xlabel(\"re78\")\n",
    "axs[1].set_title(\"not treated - matches\")\n",
    "axs[0].set_ylabel(\"count\")\n",
    "plt.show()"
   ]
  },
  {
   "cell_type": "code",
   "execution_count": 34,
   "metadata": {},
   "outputs": [
    {
     "data": {
      "text/plain": [
       "count      185.000000\n",
       "mean      6349.143530\n",
       "std       7867.402218\n",
       "min          0.000000\n",
       "25%        485.229800\n",
       "50%       4232.309000\n",
       "75%       9642.999000\n",
       "max      60307.930000\n",
       "Name: re78, dtype: float64"
      ]
     },
     "execution_count": 34,
     "metadata": {},
     "output_type": "execute_result"
    }
   ],
   "source": [
    "treated.re78.describe()"
   ]
  },
  {
   "cell_type": "code",
   "execution_count": 35,
   "metadata": {},
   "outputs": [
    {
     "data": {
      "text/plain": [
       "count      185.000000\n",
       "mean      4660.510105\n",
       "std       6320.127154\n",
       "min          0.000000\n",
       "25%          0.000000\n",
       "50%        803.883300\n",
       "75%       7314.747000\n",
       "max      20243.380000\n",
       "Name: re78, dtype: float64"
      ]
     },
     "execution_count": 35,
     "metadata": {},
     "output_type": "execute_result"
    }
   ],
   "source": [
    "matches.re78.describe()"
   ]
  },
  {
   "cell_type": "markdown",
   "metadata": {},
   "source": [
    "### Here is clear that the treatmen worked because... TODO!!!"
   ]
  },
  {
   "cell_type": "markdown",
   "metadata": {},
   "source": [
    "#### Age"
   ]
  },
  {
   "cell_type": "code",
   "execution_count": 36,
   "metadata": {},
   "outputs": [
    {
     "data": {
      "image/png": "[encoded data removed]",
      "text/plain": [
       "<matplotlib.figure.Figure at 0x11c212c88>"
      ]
     },
     "metadata": {},
     "output_type": "display_data"
    }
   ],
   "source": [
    "fig, axs = plt.subplots(1, 2, figsize=(20,12), sharex=True, sharey=True)\n",
    "\n",
    "treated.age.hist(ax=axs[0])\n",
    "matches.age.hist(ax=axs[1])\n",
    "axs[0].set_xlabel(\"age\")\n",
    "axs[0].set_title(\"treated\")\n",
    "axs[1].set_xlabel(\"age\")\n",
    "axs[1].set_title(\"not treated - matches\")\n",
    "axs[0].set_ylabel(\"count\")\n",
    "plt.show()"
   ]
  },
  {
   "cell_type": "code",
   "execution_count": 37,
   "metadata": {},
   "outputs": [
    {
     "data": {
      "text/plain": [
       "count    185.000000\n",
       "mean      25.816216\n",
       "std        7.155019\n",
       "min       17.000000\n",
       "25%       20.000000\n",
       "50%       25.000000\n",
       "75%       29.000000\n",
       "max       48.000000\n",
       "Name: age, dtype: float64"
      ]
     },
     "execution_count": 37,
     "metadata": {},
     "output_type": "execute_result"
    }
   ],
   "source": [
    "treated.age.describe()"
   ]
  },
  {
   "cell_type": "code",
   "execution_count": 38,
   "metadata": {},
   "outputs": [
    {
     "data": {
      "text/plain": [
       "count    185.000000\n",
       "mean      24.216216\n",
       "std       10.559189\n",
       "min       16.000000\n",
       "25%       17.000000\n",
       "50%       19.000000\n",
       "75%       28.000000\n",
       "max       53.000000\n",
       "Name: age, dtype: float64"
      ]
     },
     "execution_count": 38,
     "metadata": {},
     "output_type": "execute_result"
    }
   ],
   "source": [
    "matches.age.describe()"
   ]
  },
  {
   "cell_type": "markdown",
   "metadata": {},
   "source": [
    "* DESCRIBE"
   ]
  },
  {
   "cell_type": "markdown",
   "metadata": {},
   "source": [
    "#### Education"
   ]
  },
  {
   "cell_type": "code",
   "execution_count": 39,
   "metadata": {},
   "outputs": [
    {
     "data": {
      "image/png": "[encoded data removed]",
      "text/plain": [
       "<matplotlib.figure.Figure at 0x11bfc49b0>"
      ]
     },
     "metadata": {},
     "output_type": "display_data"
    }
   ],
   "source": [
    "fig, axs = plt.subplots(1, 2, figsize=(20,12), sharex=True, sharey=True)\n",
    "\n",
    "treated.educ.hist(ax=axs[0])\n",
    "matches.educ.hist(ax=axs[1])\n",
    "axs[0].set_xlabel(\"years of education\")\n",
    "axs[0].set_title(\"treated\")\n",
    "axs[1].set_xlabel(\"years of education\")\n",
    "axs[1].set_title(\"not treated - matches\")\n",
    "axs[0].set_ylabel(\"count\")\n",
    "plt.show()"
   ]
  },
  {
   "cell_type": "code",
   "execution_count": 40,
   "metadata": {},
   "outputs": [
    {
     "data": {
      "text/plain": [
       "count    185.000000\n",
       "mean      10.345946\n",
       "std        2.010650\n",
       "min        4.000000\n",
       "25%        9.000000\n",
       "50%       11.000000\n",
       "75%       12.000000\n",
       "max       16.000000\n",
       "Name: educ, dtype: float64"
      ]
     },
     "execution_count": 40,
     "metadata": {},
     "output_type": "execute_result"
    }
   ],
   "source": [
    "treated.educ.describe()"
   ]
  },
  {
   "cell_type": "code",
   "execution_count": 41,
   "metadata": {},
   "outputs": [
    {
     "data": {
      "text/plain": [
       "count    185.000000\n",
       "mean      10.156757\n",
       "std        2.885924\n",
       "min        1.000000\n",
       "25%        8.000000\n",
       "50%       11.000000\n",
       "75%       12.000000\n",
       "max       18.000000\n",
       "Name: educ, dtype: float64"
      ]
     },
     "execution_count": 41,
     "metadata": {},
     "output_type": "execute_result"
    }
   ],
   "source": [
    "matches.educ.describe()"
   ]
  },
  {
   "cell_type": "markdown",
   "metadata": {},
   "source": [
    "* DESCRIBE"
   ]
  },
  {
   "cell_type": "markdown",
   "metadata": {},
   "source": [
    "#### Categories"
   ]
  },
  {
   "cell_type": "code",
   "execution_count": 42,
   "metadata": {},
   "outputs": [
    {
     "data": {
      "image/png": "[encoded data removed]",
      "text/plain": [
       "<matplotlib.figure.Figure at 0x1a1e2d11d0>"
      ]
     },
     "metadata": {},
     "output_type": "display_data"
    }
   ],
   "source": [
    "fig, axs = plt.subplots(4, 2, figsize=(20,12), sharey=True)\n",
    "\n",
    "treated.black.hist(ax=axs[0,0])\n",
    "matches.black.hist(ax=axs[0,1])\n",
    "axs[0,0].set_xticks(np.array([0,1]))\n",
    "axs[0,0].set_xticklabels(['not black', 'black'])\n",
    "axs[0,0].set_title(\"treated\")\n",
    "axs[0,1].set_xticks(np.array([0,1]))\n",
    "axs[0,1].set_xticklabels(['not black', 'black'])\n",
    "axs[0,1].set_title(\"not treated - matches\")\n",
    "axs[0,0].set_ylabel(\"count\")\n",
    "\n",
    "treated.hispan.hist(ax=axs[1,0])\n",
    "matches.hispan.hist(ax=axs[1,1])\n",
    "axs[1,0].set_xticks(np.array([0,1]))\n",
    "axs[1,0].set_xticklabels(['not hispanic', 'hispanic'])\n",
    "axs[1,0].set_title(\"treated\")\n",
    "axs[1,1].set_xticks(np.array([0,1]))\n",
    "axs[1,1].set_xticklabels(['not hispanic', 'hispanic'])\n",
    "axs[1,1].set_title(\"not treated - matches\")\n",
    "axs[1,0].set_ylabel(\"count\")\n",
    "\n",
    "treated.married.hist(ax=axs[2,0])\n",
    "matches.married.hist(ax=axs[2,1])\n",
    "axs[2,0].set_xticks(np.array([0,1]))\n",
    "axs[2,0].set_xticklabels(['not married', 'married'])\n",
    "axs[2,0].set_title(\"treated\")\n",
    "axs[2,1].set_xticks(np.array([0,1]))\n",
    "axs[2,1].set_xticklabels(['not married', 'married'])\n",
    "axs[2,1].set_title(\"not treated - matches\")\n",
    "axs[2,0].set_ylabel(\"count\")\n",
    "\n",
    "treated.nodegree.hist(ax=axs[3,0])\n",
    "matches.nodegree.hist(ax=axs[3,1])\n",
    "axs[3,0].set_xticks(np.array([0,1]))\n",
    "axs[3,0].set_xticklabels(['with degree', 'without degree'])\n",
    "axs[3,0].set_title(\"treated\")\n",
    "axs[3,1].set_xticks(np.array([0,1]))\n",
    "axs[3,1].set_xticklabels(['with degree', 'without degree'])\n",
    "axs[3,1].set_title(\"not treated - matches\")\n",
    "axs[3,0].set_ylabel(\"count\")\n",
    "\n",
    "plt.show()"
   ]
  },
  {
   "cell_type": "markdown",
   "metadata": {},
   "source": [
    "* DESCRIBE"
   ]
  },
  {
   "cell_type": "markdown",
   "metadata": {},
   "source": [
    "#### re74, re75"
   ]
  },
  {
   "cell_type": "code",
   "execution_count": 43,
   "metadata": {},
   "outputs": [
    {
     "data": {
      "image/png": "[encoded data removed]",
      "text/plain": [
       "<matplotlib.figure.Figure at 0x1a1df62828>"
      ]
     },
     "metadata": {},
     "output_type": "display_data"
    }
   ],
   "source": [
    "fig, axs = plt.subplots(2, 2, figsize=(20,12), sharex=True, sharey=True)\n",
    "\n",
    "treated.re74.hist(ax=axs[0,0])\n",
    "matches.re74.hist(ax=axs[0,1])\n",
    "treated.re75.hist(ax=axs[1,0])\n",
    "matches.re75.hist(ax=axs[1,1])\n",
    "axs[0,0].set_xlabel(\"re74\")\n",
    "axs[0,0].set_title(\"treated\")\n",
    "axs[0,1].set_xlabel(\"re74\")\n",
    "axs[0,1].set_title(\"not treated - matches\")\n",
    "axs[0,0].set_ylabel(\"count\")\n",
    "axs[1,0].set_xlabel(\"re75\")\n",
    "axs[1,0].set_title(\"treated\")\n",
    "axs[1,1].set_xlabel(\"re75\")\n",
    "axs[1,1].set_title(\"not treated - matches\")\n",
    "axs[1,0].set_ylabel(\"count\")\n",
    "plt.show()"
   ]
  },
  {
   "cell_type": "markdown",
   "metadata": {},
   "source": [
    "### What do you observe? Are you closer to being able to draw valid conclusions now than you were before? TODO!!!"
   ]
  },
  {
   "cell_type": "markdown",
   "metadata": {},
   "source": [
    "## 5\n",
    "\n",
    "5 Balancing the groups further\n",
    "\n",
    "Based on your comparison of feature-value distributions from part 4, are you fully satisfied with your matching? Would you say your dataset is sufficiently balanced? If not, in what ways could the \"balanced\" dataset you have obtained still not allow you to draw valid conclusions?\n",
    "\n",
    "Improve your matching by explicitly making sure that you match only subjects that have the same value for the problematic feature. Argue with numbers and plots that the two groups (treated and control) are now better balanced than after part 4."
   ]
  },
  {
   "cell_type": "markdown",
   "metadata": {},
   "source": [
    "* Answer: Based on your comparison of feature-value distributions from part 4, are you fully satisfied with your matching? Would you say your dataset is sufficiently balanced? If not, in what ways could the \"balanced\" dataset you have obtained still not allow you to draw valid conclusions?\n",
    "##### TODO"
   ]
  },
  {
   "cell_type": "markdown",
   "metadata": {},
   "source": [
    "* Improve your matching by explicitly making sure that you match only subjects that have the same value for the problematic feature. Argue with numbers and plots that the two groups (treated and control) are now better balanced than after part 4."
   ]
  },
  {
   "cell_type": "markdown",
   "metadata": {},
   "source": [
    "* We believe that the 'problematic features' are also the earnings of the person the previous year of the training and also his age. We thought that these two features are the critical ones because earnings and age are what define a job's situation of a person... REVIEW"
   ]
  },
  {
   "cell_type": "code",
   "execution_count": 44,
   "metadata": {},
   "outputs": [
    {
     "data": {
      "text/html": [
       "<div>\n",
       "<style>\n",
       "    .dataframe thead tr:only-child th {\n",
       "        text-align: right;\n",
       "    }\n",
       "\n",
       "    .dataframe thead th {\n",
       "        text-align: left;\n",
       "    }\n",
       "\n",
       "    .dataframe tbody tr th {\n",
       "        vertical-align: top;\n",
       "    }\n",
       "</style>\n",
       "<table border=\"1\" class=\"dataframe\">\n",
       "  <thead>\n",
       "    <tr style=\"text-align: right;\">\n",
       "      <th></th>\n",
       "      <th>id</th>\n",
       "      <th>treat</th>\n",
       "      <th>age</th>\n",
       "      <th>educ</th>\n",
       "      <th>black</th>\n",
       "      <th>hispan</th>\n",
       "      <th>married</th>\n",
       "      <th>nodegree</th>\n",
       "      <th>re74</th>\n",
       "      <th>re75</th>\n",
       "      <th>re78</th>\n",
       "      <th>propensity</th>\n",
       "    </tr>\n",
       "  </thead>\n",
       "  <tbody>\n",
       "    <tr>\n",
       "      <th>0</th>\n",
       "      <td>NSW1</td>\n",
       "      <td>1</td>\n",
       "      <td>37</td>\n",
       "      <td>11</td>\n",
       "      <td>1</td>\n",
       "      <td>0</td>\n",
       "      <td>1</td>\n",
       "      <td>1</td>\n",
       "      <td>0.0</td>\n",
       "      <td>0.0</td>\n",
       "      <td>9930.0460</td>\n",
       "      <td>0.590894</td>\n",
       "    </tr>\n",
       "    <tr>\n",
       "      <th>1</th>\n",
       "      <td>NSW2</td>\n",
       "      <td>1</td>\n",
       "      <td>22</td>\n",
       "      <td>9</td>\n",
       "      <td>0</td>\n",
       "      <td>1</td>\n",
       "      <td>0</td>\n",
       "      <td>1</td>\n",
       "      <td>0.0</td>\n",
       "      <td>0.0</td>\n",
       "      <td>3595.8940</td>\n",
       "      <td>0.209687</td>\n",
       "    </tr>\n",
       "    <tr>\n",
       "      <th>2</th>\n",
       "      <td>NSW3</td>\n",
       "      <td>1</td>\n",
       "      <td>30</td>\n",
       "      <td>12</td>\n",
       "      <td>1</td>\n",
       "      <td>0</td>\n",
       "      <td>0</td>\n",
       "      <td>0</td>\n",
       "      <td>0.0</td>\n",
       "      <td>0.0</td>\n",
       "      <td>24909.4500</td>\n",
       "      <td>0.682236</td>\n",
       "    </tr>\n",
       "    <tr>\n",
       "      <th>3</th>\n",
       "      <td>NSW4</td>\n",
       "      <td>1</td>\n",
       "      <td>27</td>\n",
       "      <td>11</td>\n",
       "      <td>1</td>\n",
       "      <td>0</td>\n",
       "      <td>0</td>\n",
       "      <td>1</td>\n",
       "      <td>0.0</td>\n",
       "      <td>0.0</td>\n",
       "      <td>7506.1460</td>\n",
       "      <td>0.747345</td>\n",
       "    </tr>\n",
       "    <tr>\n",
       "      <th>4</th>\n",
       "      <td>NSW5</td>\n",
       "      <td>1</td>\n",
       "      <td>33</td>\n",
       "      <td>8</td>\n",
       "      <td>1</td>\n",
       "      <td>0</td>\n",
       "      <td>0</td>\n",
       "      <td>1</td>\n",
       "      <td>0.0</td>\n",
       "      <td>0.0</td>\n",
       "      <td>289.7899</td>\n",
       "      <td>0.691779</td>\n",
       "    </tr>\n",
       "  </tbody>\n",
       "</table>\n",
       "</div>"
      ],
      "text/plain": [
       "     id  treat  age  educ  black  hispan  married  nodegree  re74  re75  \\\n",
       "0  NSW1      1   37    11      1       0        1         1   0.0   0.0   \n",
       "1  NSW2      1   22     9      0       1        0         1   0.0   0.0   \n",
       "2  NSW3      1   30    12      1       0        0         0   0.0   0.0   \n",
       "3  NSW4      1   27    11      1       0        0         1   0.0   0.0   \n",
       "4  NSW5      1   33     8      1       0        0         1   0.0   0.0   \n",
       "\n",
       "         re78  propensity  \n",
       "0   9930.0460    0.590894  \n",
       "1   3595.8940    0.209687  \n",
       "2  24909.4500    0.682236  \n",
       "3   7506.1460    0.747345  \n",
       "4    289.7899    0.691779  "
      ]
     },
     "execution_count": 44,
     "metadata": {},
     "output_type": "execute_result"
    }
   ],
   "source": [
    "matching_df.head()"
   ]
  },
  {
   "cell_type": "code",
   "execution_count": 45,
   "metadata": {},
   "outputs": [
    {
     "data": {
      "text/plain": [
       "(   age  re75  propensity\n",
       " 0   37   0.0    0.590894\n",
       " 1   22   0.0    0.209687\n",
       " 2   30   0.0    0.682236\n",
       " 3   27   0.0    0.747345\n",
       " 4   33   0.0    0.691779,      age      re75  propensity\n",
       " 185   30  18347.23    0.037950\n",
       " 186   26  17806.55    0.023885\n",
       " 187   25  15316.21    0.032949\n",
       " 188   42  14265.29    0.045703\n",
       " 189   25  13776.53    0.415629)"
      ]
     },
     "execution_count": 45,
     "metadata": {},
     "output_type": "execute_result"
    }
   ],
   "source": [
    "treated_features = matching_df[matching_df.treat == 1][['age', 're75', 'propensity']]\n",
    "notreated_features = matching_df[matching_df.treat == 0][['age', 're75', 'propensity']]\n",
    "treated_features.head(), notreated_features.head()"
   ]
  },
  {
   "cell_type": "markdown",
   "metadata": {},
   "source": [
    "* Here we use again 'nearest neighbor' in order to find the matches, this time considering not only propensity, but also age and re75."
   ]
  },
  {
   "cell_type": "code",
   "execution_count": 50,
   "metadata": {},
   "outputs": [
    {
     "data": {
      "text/plain": [
       "(     age  re75  propensity\n",
       " 584   37   0.0    0.703005\n",
       " 484   22   0.0    0.203066\n",
       " 562   30   0.0    0.072618\n",
       " 607   27   0.0    0.724299\n",
       " 563   33   0.0    0.104008,    age  re75  propensity\n",
       " 0   37   0.0    0.590894\n",
       " 1   22   0.0    0.209687\n",
       " 2   30   0.0    0.682236\n",
       " 3   27   0.0    0.747345\n",
       " 4   33   0.0    0.691779)"
      ]
     },
     "execution_count": 50,
     "metadata": {},
     "output_type": "execute_result"
    }
   ],
   "source": [
    "nbrs = NearestNeighbors(n_neighbors=1, algorithm='ball_tree').fit(notreated_features)\n",
    "'''\n",
    "distances is an array that contains the distance between the propensity score of the treated patient \n",
    "and his nearest neighbor in the not treated patients dataset\n",
    "'''\n",
    "distances, indices = nbrs.kneighbors(treated_features)\n",
    "'''\n",
    "These are the indices that refers to the position (not the real index!!!)\n",
    "of the neighbor in the list propensity_notreat.values.reshape(-1,1)\n",
    "'''\n",
    "indices = indices.reshape(indices.shape[0])\n",
    "\n",
    "matches_critical = matching_df[matching_df.treat == 0].iloc[indices]\n",
    "treated_critical = matching_df[matching_df.treat == 1]\n",
    "matches_critical[['age','re75','propensity']].head(), treated_critical[['age','re75','propensity']].head()"
   ]
  },
  {
   "cell_type": "markdown",
   "metadata": {},
   "source": [
    "### Comparing distributions between treated and matches with critical features\n",
    "\n",
    "* We should find more balance between the two groups than before because we didn't use only propensity score, but also critical features."
   ]
  },
  {
   "cell_type": "markdown",
   "metadata": {},
   "source": [
    "#### Age"
   ]
  },
  {
   "cell_type": "code",
   "execution_count": 51,
   "metadata": {},
   "outputs": [
    {
     "data": {
      "image/png": "[encoded data removed]",
      "text/plain": [
       "<matplotlib.figure.Figure at 0x1a1e47a390>"
      ]
     },
     "metadata": {},
     "output_type": "display_data"
    }
   ],
   "source": [
    "fig, axs = plt.subplots(1, 2, figsize=(20,12), sharex=True, sharey=True)\n",
    "\n",
    "treated_critical.age.hist(ax=axs[0])\n",
    "matches_critical.age.hist(ax=axs[1])\n",
    "axs[0].set_xlabel(\"age\")\n",
    "axs[0].set_title(\"treated with problematic features\")\n",
    "axs[1].set_xlabel(\"age\")\n",
    "axs[1].set_title(\"not treated with problematic features - matches\")\n",
    "axs[0].set_ylabel(\"count\")\n",
    "plt.show()"
   ]
  },
  {
   "cell_type": "markdown",
   "metadata": {},
   "source": [
    "#### Education"
   ]
  },
  {
   "cell_type": "code",
   "execution_count": 52,
   "metadata": {},
   "outputs": [
    {
     "data": {
      "image/png": "[encoded data removed]",
      "text/plain": [
       "<matplotlib.figure.Figure at 0x11bf688d0>"
      ]
     },
     "metadata": {},
     "output_type": "display_data"
    }
   ],
   "source": [
    "fig, axs = plt.subplots(1, 2, figsize=(20,12), sharex=True, sharey=True)\n",
    "\n",
    "treated_critical.educ.hist(ax=axs[0])\n",
    "matches_critical.educ.hist(ax=axs[1])\n",
    "axs[0].set_xlabel(\"years of education\")\n",
    "axs[0].set_title(\"treated with problematic features\")\n",
    "axs[1].set_xlabel(\"years of education\")\n",
    "axs[1].set_title(\"not treated with problematic features - matches\")\n",
    "axs[0].set_ylabel(\"count\")\n",
    "plt.show()"
   ]
  },
  {
   "cell_type": "markdown",
   "metadata": {},
   "source": [
    "#### Categories"
   ]
  },
  {
   "cell_type": "code",
   "execution_count": 53,
   "metadata": {},
   "outputs": [
    {
     "data": {
      "image/png": "[encoded data removed]",
      "text/plain": [
       "<matplotlib.figure.Figure at 0x1a1df314a8>"
      ]
     },
     "metadata": {},
     "output_type": "display_data"
    }
   ],
   "source": [
    "fig, axs = plt.subplots(4, 2, figsize=(20,12), sharey=True)\n",
    "\n",
    "treated_critical.black.hist(ax=axs[0,0])\n",
    "matches_critical.black.hist(ax=axs[0,1])\n",
    "axs[0,0].set_xticks(np.array([0,1]))\n",
    "axs[0,0].set_xticklabels(['not black', 'black'])\n",
    "axs[0,0].set_title(\"treated with problematic features\")\n",
    "axs[0,1].set_xticks(np.array([0,1]))\n",
    "axs[0,1].set_xticklabels(['not black', 'black'])\n",
    "axs[0,1].set_title(\"not treated with problematic features - matches\")\n",
    "axs[0,0].set_ylabel(\"count\")\n",
    "\n",
    "treated_critical.hispan.hist(ax=axs[1,0])\n",
    "matches_critical.hispan.hist(ax=axs[1,1])\n",
    "axs[1,0].set_xticks(np.array([0,1]))\n",
    "axs[1,0].set_xticklabels(['not hispanic', 'hispanic'])\n",
    "axs[1,0].set_title(\"treated with problematic features\")\n",
    "axs[1,1].set_xticks(np.array([0,1]))\n",
    "axs[1,1].set_xticklabels(['not hispanic', 'hispanic'])\n",
    "axs[1,1].set_title(\"not treated with problematic features - matches\")\n",
    "axs[1,0].set_ylabel(\"count\")\n",
    "\n",
    "treated_critical.married.hist(ax=axs[2,0])\n",
    "matches_critical.married.hist(ax=axs[2,1])\n",
    "axs[2,0].set_xticks(np.array([0,1]))\n",
    "axs[2,0].set_xticklabels(['not married', 'married'])\n",
    "axs[2,0].set_title(\"treated with problematic features\")\n",
    "axs[2,1].set_xticks(np.array([0,1]))\n",
    "axs[2,1].set_xticklabels(['not married', 'married'])\n",
    "axs[2,1].set_title(\"not treated with problematic features - matches\")\n",
    "axs[2,0].set_ylabel(\"count\")\n",
    "\n",
    "treated_critical.nodegree.hist(ax=axs[3,0])\n",
    "matches_critical.nodegree.hist(ax=axs[3,1])\n",
    "axs[3,0].set_xticks(np.array([0,1]))\n",
    "axs[3,0].set_xticklabels(['with degree', 'without degree'])\n",
    "axs[3,0].set_title(\"treated with problematic features\")\n",
    "axs[3,1].set_xticks(np.array([0,1]))\n",
    "axs[3,1].set_xticklabels(['with degree', 'without degree'])\n",
    "axs[3,1].set_title(\"not treated with problematic features - matches\")\n",
    "axs[3,0].set_ylabel(\"count\")\n",
    "\n",
    "plt.show()"
   ]
  },
  {
   "cell_type": "markdown",
   "metadata": {},
   "source": [
    "#### re74, re75"
   ]
  },
  {
   "cell_type": "code",
   "execution_count": 54,
   "metadata": {},
   "outputs": [
    {
     "data": {
      "image/png": "[encoded data removed]",
      "text/plain": [
       "<matplotlib.figure.Figure at 0x1a1e55c6d8>"
      ]
     },
     "metadata": {},
     "output_type": "display_data"
    }
   ],
   "source": [
    "fig, axs = plt.subplots(2, 2, figsize=(20,12), sharex=True, sharey=True)\n",
    "\n",
    "treated_critical.re74.hist(ax=axs[0,0])\n",
    "matches_critical.re74.hist(ax=axs[0,1])\n",
    "treated_critical.re75.hist(ax=axs[1,0])\n",
    "matches_critical.re75.hist(ax=axs[1,1])\n",
    "axs[0,0].set_xlabel(\"re74\")\n",
    "axs[0,0].set_title(\"treated with problematic features\")\n",
    "axs[0,1].set_xlabel(\"re74\")\n",
    "axs[0,1].set_title(\"not treated with problematic features - matches\")\n",
    "axs[0,0].set_ylabel(\"count\")\n",
    "axs[1,0].set_xlabel(\"re75\")\n",
    "axs[1,0].set_title(\"treated with problematic features\")\n",
    "axs[1,1].set_xlabel(\"re75\")\n",
    "axs[1,1].set_title(\"not treated with problematic features - matches\")\n",
    "axs[1,0].set_ylabel(\"count\")\n",
    "plt.show()"
   ]
  },
  {
   "cell_type": "code",
   "execution_count": 56,
   "metadata": {},
   "outputs": [
    {
     "data": {
      "text/html": [
       "<div>\n",
       "<style>\n",
       "    .dataframe thead tr:only-child th {\n",
       "        text-align: right;\n",
       "    }\n",
       "\n",
       "    .dataframe thead th {\n",
       "        text-align: left;\n",
       "    }\n",
       "\n",
       "    .dataframe tbody tr th {\n",
       "        vertical-align: top;\n",
       "    }\n",
       "</style>\n",
       "<table border=\"1\" class=\"dataframe\">\n",
       "  <thead>\n",
       "    <tr style=\"text-align: right;\">\n",
       "      <th></th>\n",
       "      <th>treat</th>\n",
       "      <th>age</th>\n",
       "      <th>educ</th>\n",
       "      <th>black</th>\n",
       "      <th>hispan</th>\n",
       "      <th>married</th>\n",
       "      <th>nodegree</th>\n",
       "      <th>re74</th>\n",
       "      <th>re75</th>\n",
       "      <th>re78</th>\n",
       "      <th>propensity</th>\n",
       "    </tr>\n",
       "  </thead>\n",
       "  <tbody>\n",
       "    <tr>\n",
       "      <th>count</th>\n",
       "      <td>185.0</td>\n",
       "      <td>185.000000</td>\n",
       "      <td>185.000000</td>\n",
       "      <td>185.000000</td>\n",
       "      <td>185.000000</td>\n",
       "      <td>185.000000</td>\n",
       "      <td>185.000000</td>\n",
       "      <td>185.000000</td>\n",
       "      <td>185.000000</td>\n",
       "      <td>185.000000</td>\n",
       "      <td>185.000000</td>\n",
       "    </tr>\n",
       "    <tr>\n",
       "      <th>mean</th>\n",
       "      <td>1.0</td>\n",
       "      <td>25.816216</td>\n",
       "      <td>10.345946</td>\n",
       "      <td>0.843243</td>\n",
       "      <td>0.059459</td>\n",
       "      <td>0.189189</td>\n",
       "      <td>0.708108</td>\n",
       "      <td>2095.573689</td>\n",
       "      <td>1532.055314</td>\n",
       "      <td>6349.143530</td>\n",
       "      <td>0.568465</td>\n",
       "    </tr>\n",
       "    <tr>\n",
       "      <th>std</th>\n",
       "      <td>0.0</td>\n",
       "      <td>7.155019</td>\n",
       "      <td>2.010650</td>\n",
       "      <td>0.364558</td>\n",
       "      <td>0.237124</td>\n",
       "      <td>0.392722</td>\n",
       "      <td>0.455867</td>\n",
       "      <td>4886.620353</td>\n",
       "      <td>3219.250870</td>\n",
       "      <td>7867.402218</td>\n",
       "      <td>0.208722</td>\n",
       "    </tr>\n",
       "    <tr>\n",
       "      <th>min</th>\n",
       "      <td>1.0</td>\n",
       "      <td>17.000000</td>\n",
       "      <td>4.000000</td>\n",
       "      <td>0.000000</td>\n",
       "      <td>0.000000</td>\n",
       "      <td>0.000000</td>\n",
       "      <td>0.000000</td>\n",
       "      <td>0.000000</td>\n",
       "      <td>0.000000</td>\n",
       "      <td>0.000000</td>\n",
       "      <td>0.034960</td>\n",
       "    </tr>\n",
       "    <tr>\n",
       "      <th>25%</th>\n",
       "      <td>1.0</td>\n",
       "      <td>20.000000</td>\n",
       "      <td>9.000000</td>\n",
       "      <td>1.000000</td>\n",
       "      <td>0.000000</td>\n",
       "      <td>0.000000</td>\n",
       "      <td>0.000000</td>\n",
       "      <td>0.000000</td>\n",
       "      <td>0.000000</td>\n",
       "      <td>485.229800</td>\n",
       "      <td>0.522221</td>\n",
       "    </tr>\n",
       "    <tr>\n",
       "      <th>50%</th>\n",
       "      <td>1.0</td>\n",
       "      <td>25.000000</td>\n",
       "      <td>11.000000</td>\n",
       "      <td>1.000000</td>\n",
       "      <td>0.000000</td>\n",
       "      <td>0.000000</td>\n",
       "      <td>1.000000</td>\n",
       "      <td>0.000000</td>\n",
       "      <td>0.000000</td>\n",
       "      <td>4232.309000</td>\n",
       "      <td>0.658737</td>\n",
       "    </tr>\n",
       "    <tr>\n",
       "      <th>75%</th>\n",
       "      <td>1.0</td>\n",
       "      <td>29.000000</td>\n",
       "      <td>12.000000</td>\n",
       "      <td>1.000000</td>\n",
       "      <td>0.000000</td>\n",
       "      <td>0.000000</td>\n",
       "      <td>1.000000</td>\n",
       "      <td>1291.468000</td>\n",
       "      <td>1817.284000</td>\n",
       "      <td>9642.999000</td>\n",
       "      <td>0.710346</td>\n",
       "    </tr>\n",
       "    <tr>\n",
       "      <th>max</th>\n",
       "      <td>1.0</td>\n",
       "      <td>48.000000</td>\n",
       "      <td>16.000000</td>\n",
       "      <td>1.000000</td>\n",
       "      <td>1.000000</td>\n",
       "      <td>1.000000</td>\n",
       "      <td>1.000000</td>\n",
       "      <td>35040.070000</td>\n",
       "      <td>25142.240000</td>\n",
       "      <td>60307.930000</td>\n",
       "      <td>0.828545</td>\n",
       "    </tr>\n",
       "  </tbody>\n",
       "</table>\n",
       "</div>"
      ],
      "text/plain": [
       "       treat         age        educ       black      hispan     married  \\\n",
       "count  185.0  185.000000  185.000000  185.000000  185.000000  185.000000   \n",
       "mean     1.0   25.816216   10.345946    0.843243    0.059459    0.189189   \n",
       "std      0.0    7.155019    2.010650    0.364558    0.237124    0.392722   \n",
       "min      1.0   17.000000    4.000000    0.000000    0.000000    0.000000   \n",
       "25%      1.0   20.000000    9.000000    1.000000    0.000000    0.000000   \n",
       "50%      1.0   25.000000   11.000000    1.000000    0.000000    0.000000   \n",
       "75%      1.0   29.000000   12.000000    1.000000    0.000000    0.000000   \n",
       "max      1.0   48.000000   16.000000    1.000000    1.000000    1.000000   \n",
       "\n",
       "         nodegree          re74          re75          re78  propensity  \n",
       "count  185.000000    185.000000    185.000000    185.000000  185.000000  \n",
       "mean     0.708108   2095.573689   1532.055314   6349.143530    0.568465  \n",
       "std      0.455867   4886.620353   3219.250870   7867.402218    0.208722  \n",
       "min      0.000000      0.000000      0.000000      0.000000    0.034960  \n",
       "25%      0.000000      0.000000      0.000000    485.229800    0.522221  \n",
       "50%      1.000000      0.000000      0.000000   4232.309000    0.658737  \n",
       "75%      1.000000   1291.468000   1817.284000   9642.999000    0.710346  \n",
       "max      1.000000  35040.070000  25142.240000  60307.930000    0.828545  "
      ]
     },
     "execution_count": 56,
     "metadata": {},
     "output_type": "execute_result"
    }
   ],
   "source": [
    "treated_critical.describe()"
   ]
  },
  {
   "cell_type": "code",
   "execution_count": 57,
   "metadata": {},
   "outputs": [
    {
     "data": {
      "text/html": [
       "<div>\n",
       "<style>\n",
       "    .dataframe thead tr:only-child th {\n",
       "        text-align: right;\n",
       "    }\n",
       "\n",
       "    .dataframe thead th {\n",
       "        text-align: left;\n",
       "    }\n",
       "\n",
       "    .dataframe tbody tr th {\n",
       "        vertical-align: top;\n",
       "    }\n",
       "</style>\n",
       "<table border=\"1\" class=\"dataframe\">\n",
       "  <thead>\n",
       "    <tr style=\"text-align: right;\">\n",
       "      <th></th>\n",
       "      <th>treat</th>\n",
       "      <th>age</th>\n",
       "      <th>educ</th>\n",
       "      <th>black</th>\n",
       "      <th>hispan</th>\n",
       "      <th>married</th>\n",
       "      <th>nodegree</th>\n",
       "      <th>re74</th>\n",
       "      <th>re75</th>\n",
       "      <th>re78</th>\n",
       "      <th>propensity</th>\n",
       "    </tr>\n",
       "  </thead>\n",
       "  <tbody>\n",
       "    <tr>\n",
       "      <th>count</th>\n",
       "      <td>185.0</td>\n",
       "      <td>185.000000</td>\n",
       "      <td>185.000000</td>\n",
       "      <td>185.000000</td>\n",
       "      <td>185.000000</td>\n",
       "      <td>185.000000</td>\n",
       "      <td>185.000000</td>\n",
       "      <td>185.000000</td>\n",
       "      <td>185.000000</td>\n",
       "      <td>185.000000</td>\n",
       "      <td>185.000000</td>\n",
       "    </tr>\n",
       "    <tr>\n",
       "      <th>mean</th>\n",
       "      <td>0.0</td>\n",
       "      <td>26.535135</td>\n",
       "      <td>11.210811</td>\n",
       "      <td>0.351351</td>\n",
       "      <td>0.097297</td>\n",
       "      <td>0.324324</td>\n",
       "      <td>0.508108</td>\n",
       "      <td>3224.794259</td>\n",
       "      <td>1493.632246</td>\n",
       "      <td>5910.067657</td>\n",
       "      <td>0.299898</td>\n",
       "    </tr>\n",
       "    <tr>\n",
       "      <th>std</th>\n",
       "      <td>0.0</td>\n",
       "      <td>8.252148</td>\n",
       "      <td>2.768984</td>\n",
       "      <td>0.478688</td>\n",
       "      <td>0.297166</td>\n",
       "      <td>0.469392</td>\n",
       "      <td>0.501291</td>\n",
       "      <td>5758.058078</td>\n",
       "      <td>2971.227038</td>\n",
       "      <td>7413.310558</td>\n",
       "      <td>0.274077</td>\n",
       "    </tr>\n",
       "    <tr>\n",
       "      <th>min</th>\n",
       "      <td>0.0</td>\n",
       "      <td>16.000000</td>\n",
       "      <td>0.000000</td>\n",
       "      <td>0.000000</td>\n",
       "      <td>0.000000</td>\n",
       "      <td>0.000000</td>\n",
       "      <td>0.000000</td>\n",
       "      <td>0.000000</td>\n",
       "      <td>0.000000</td>\n",
       "      <td>0.000000</td>\n",
       "      <td>0.017454</td>\n",
       "    </tr>\n",
       "    <tr>\n",
       "      <th>25%</th>\n",
       "      <td>0.0</td>\n",
       "      <td>20.000000</td>\n",
       "      <td>10.000000</td>\n",
       "      <td>0.000000</td>\n",
       "      <td>0.000000</td>\n",
       "      <td>0.000000</td>\n",
       "      <td>0.000000</td>\n",
       "      <td>0.000000</td>\n",
       "      <td>0.000000</td>\n",
       "      <td>31.032260</td>\n",
       "      <td>0.074406</td>\n",
       "    </tr>\n",
       "    <tr>\n",
       "      <th>50%</th>\n",
       "      <td>0.0</td>\n",
       "      <td>25.000000</td>\n",
       "      <td>11.000000</td>\n",
       "      <td>0.000000</td>\n",
       "      <td>0.000000</td>\n",
       "      <td>0.000000</td>\n",
       "      <td>1.000000</td>\n",
       "      <td>0.000000</td>\n",
       "      <td>0.000000</td>\n",
       "      <td>2284.565000</td>\n",
       "      <td>0.145755</td>\n",
       "    </tr>\n",
       "    <tr>\n",
       "      <th>75%</th>\n",
       "      <td>0.0</td>\n",
       "      <td>30.000000</td>\n",
       "      <td>13.000000</td>\n",
       "      <td>1.000000</td>\n",
       "      <td>0.000000</td>\n",
       "      <td>1.000000</td>\n",
       "      <td>1.000000</td>\n",
       "      <td>3360.143000</td>\n",
       "      <td>1822.548000</td>\n",
       "      <td>10122.430000</td>\n",
       "      <td>0.652732</td>\n",
       "    </tr>\n",
       "    <tr>\n",
       "      <th>max</th>\n",
       "      <td>0.0</td>\n",
       "      <td>53.000000</td>\n",
       "      <td>18.000000</td>\n",
       "      <td>1.000000</td>\n",
       "      <td>1.000000</td>\n",
       "      <td>1.000000</td>\n",
       "      <td>1.000000</td>\n",
       "      <td>25862.320000</td>\n",
       "      <td>18347.230000</td>\n",
       "      <td>25564.670000</td>\n",
       "      <td>0.726732</td>\n",
       "    </tr>\n",
       "  </tbody>\n",
       "</table>\n",
       "</div>"
      ],
      "text/plain": [
       "       treat         age        educ       black      hispan     married  \\\n",
       "count  185.0  185.000000  185.000000  185.000000  185.000000  185.000000   \n",
       "mean     0.0   26.535135   11.210811    0.351351    0.097297    0.324324   \n",
       "std      0.0    8.252148    2.768984    0.478688    0.297166    0.469392   \n",
       "min      0.0   16.000000    0.000000    0.000000    0.000000    0.000000   \n",
       "25%      0.0   20.000000   10.000000    0.000000    0.000000    0.000000   \n",
       "50%      0.0   25.000000   11.000000    0.000000    0.000000    0.000000   \n",
       "75%      0.0   30.000000   13.000000    1.000000    0.000000    1.000000   \n",
       "max      0.0   53.000000   18.000000    1.000000    1.000000    1.000000   \n",
       "\n",
       "         nodegree          re74          re75          re78  propensity  \n",
       "count  185.000000    185.000000    185.000000    185.000000  185.000000  \n",
       "mean     0.508108   3224.794259   1493.632246   5910.067657    0.299898  \n",
       "std      0.501291   5758.058078   2971.227038   7413.310558    0.274077  \n",
       "min      0.000000      0.000000      0.000000      0.000000    0.017454  \n",
       "25%      0.000000      0.000000      0.000000     31.032260    0.074406  \n",
       "50%      1.000000      0.000000      0.000000   2284.565000    0.145755  \n",
       "75%      1.000000   3360.143000   1822.548000  10122.430000    0.652732  \n",
       "max      1.000000  25862.320000  18347.230000  25564.670000    0.726732  "
      ]
     },
     "execution_count": 57,
     "metadata": {},
     "output_type": "execute_result"
    }
   ],
   "source": [
    "matches_critical.describe()"
   ]
  },
  {
   "cell_type": "markdown",
   "metadata": {},
   "source": [
    "#### SAY SOMETHING ABOUT THESE BALANCED PLOTS"
   ]
  },
  {
   "cell_type": "markdown",
   "metadata": {},
   "source": [
    "## 6\n",
    "\n",
    "6 A less naive analysis\n",
    "\n",
    "Compare the outcomes (re78) between treated and control subjects, as you've done in part 1, but now only for the matched dataset you've obtained from part 5. What do you conclude about the effectiveness of the job training program?"
   ]
  },
  {
   "cell_type": "markdown",
   "metadata": {},
   "source": [
    "* In this section we come back on point 1, in order to show the differcens between the first section and the 5th one."
   ]
  },
  {
   "cell_type": "code",
   "execution_count": 76,
   "metadata": {},
   "outputs": [
    {
     "data": {
      "image/png": "[encoded data removed]",
      "text/plain": [
       "<matplotlib.figure.Figure at 0x1a1e799518>"
      ]
     },
     "metadata": {},
     "output_type": "display_data"
    }
   ],
   "source": [
    "fig, ax = plt.subplots()\n",
    "ax.hist(lalonde.re78)\n",
    "ax.set_title(\"re78 distribution on entire dataset\")\n",
    "plt.show()"
   ]
  },
  {
   "cell_type": "markdown",
   "metadata": {},
   "source": [
    "* Here we show the distributions of re78 first on treated subjects dataset and then on the not treated subjects dataset."
   ]
  },
  {
   "cell_type": "code",
   "execution_count": 96,
   "metadata": {
    "scrolled": true
   },
   "outputs": [
    {
     "data": {
      "image/png": "[encoded data removed]",
      "text/plain": [
       "<matplotlib.figure.Figure at 0x1a1e49fb38>"
      ]
     },
     "metadata": {},
     "output_type": "display_data"
    }
   ],
   "source": [
    "lalonde_treat = lalonde[lalonde.treat == 1]\n",
    "lalonde_notreat = lalonde[lalonde.treat == 0]\n",
    "\n",
    "fig, axs = plt.subplots(1, 3, figsize=(18,6))\n",
    "\n",
    "axs[0].hist(lalonde_treat.re78)\n",
    "axs[0].set_title(\"re78 distribution on treated\")\n",
    "axs[1].hist(lalonde_notreat.re78)\n",
    "axs[1].set_title(\"re78 distribution on not treated\")\n",
    "axs[2].hist(matches_critical.re78)\n",
    "axs[2].set_title(\"re78 distribution on not treated with problematic features - matches\")\n",
    "plt.show()"
   ]
  },
  {
   "cell_type": "code",
   "execution_count": 101,
   "metadata": {
    "scrolled": true
   },
   "outputs": [
    {
     "data": {
      "image/png": "[encoded data removed]",
      "text/plain": [
       "<matplotlib.figure.Figure at 0x11c009550>"
      ]
     },
     "metadata": {},
     "output_type": "display_data"
    }
   ],
   "source": [
    "fig, axs = plt.subplots(1, 3, figsize=(18,6))\n",
    "\n",
    "lalonde_treat[['re78']].boxplot(ax=axs[0], fontsize=15, grid=False)\n",
    "axs[0].set_title(\"re78 distribution on treated\")\n",
    "lalonde_notreat[['re78']].boxplot(ax=axs[1], fontsize=15, grid=False)\n",
    "axs[1].set_title(\"re78 distribution on not treated\")\n",
    "matches_critical[['re78']].boxplot(ax=axs[2], fontsize=15, grid=False)\n",
    "axs[2].set_title(\"re78 distribution on not treated with problematic features - matches\")\n",
    "plt.show()"
   ]
  },
  {
   "cell_type": "code",
   "execution_count": 83,
   "metadata": {
    "scrolled": true
   },
   "outputs": [
    {
     "data": {
      "text/plain": [
       "count      185.000000\n",
       "mean      6349.143530\n",
       "std       7867.402218\n",
       "min          0.000000\n",
       "25%        485.229800\n",
       "50%       4232.309000\n",
       "75%       9642.999000\n",
       "max      60307.930000\n",
       "Name: re78, dtype: float64"
      ]
     },
     "execution_count": 83,
     "metadata": {},
     "output_type": "execute_result"
    }
   ],
   "source": [
    "lalonde_treat.re78.describe()"
   ]
  },
  {
   "cell_type": "code",
   "execution_count": 84,
   "metadata": {
    "scrolled": true
   },
   "outputs": [
    {
     "data": {
      "text/plain": [
       "count      429.000000\n",
       "mean      6984.169742\n",
       "std       7294.161791\n",
       "min          0.000000\n",
       "25%        220.181300\n",
       "50%       4975.505000\n",
       "75%      11688.820000\n",
       "max      25564.670000\n",
       "Name: re78, dtype: float64"
      ]
     },
     "execution_count": 84,
     "metadata": {},
     "output_type": "execute_result"
    }
   ],
   "source": [
    "lalonde_notreat.re78.describe()"
   ]
  },
  {
   "cell_type": "code",
   "execution_count": 102,
   "metadata": {},
   "outputs": [
    {
     "data": {
      "text/plain": [
       "count      185.000000\n",
       "mean      5910.067657\n",
       "std       7413.310558\n",
       "min          0.000000\n",
       "25%         31.032260\n",
       "50%       2284.565000\n",
       "75%      10122.430000\n",
       "max      25564.670000\n",
       "Name: re78, dtype: float64"
      ]
     },
     "execution_count": 102,
     "metadata": {},
     "output_type": "execute_result"
    }
   ],
   "source": [
    "matches_critical.re78.describe()"
   ]
  },
  {
   "cell_type": "markdown",
   "metadata": {},
   "source": [
    "### With this more complete analysis we can conclude that... What do you conclude about the effectiveness of the job training program?... TODO!!!"
   ]
  },
  {
   "cell_type": "code",
   "execution_count": null,
   "metadata": {
    "collapsed": true
   },
   "outputs": [],
   "source": []
  }
 ],
 "metadata": {
  "kernelspec": {
   "display_name": "Python 3",
   "language": "python",
   "name": "python3"
  },
  "language_info": {
   "codemirror_mode": {
    "name": "ipython",
    "version": 3
   },
   "file_extension": ".py",
   "mimetype": "text/x-python",
   "name": "python",
   "nbconvert_exporter": "python",
   "pygments_lexer": "ipython3",
   "version": "3.6.1"
  }
 },
 "nbformat": 4,
 "nbformat_minor": 2
}
