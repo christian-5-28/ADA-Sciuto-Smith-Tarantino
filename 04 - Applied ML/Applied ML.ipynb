{
 "cells": [
  {
   "cell_type": "code",
   "execution_count": 120,
   "metadata": {
    "collapsed": true
   },
   "outputs": [],
   "source": [
    "import pandas as pd\n",
    "import matplotlib.pyplot as plt\n",
    "import numpy as np"
   ]
  },
  {
   "cell_type": "code",
   "execution_count": 121,
   "metadata": {
    "collapsed": true
   },
   "outputs": [],
   "source": [
    "data = '/Users/lorenzotara/Documents/EPFL/Applied Data Analysis/Homeworks/ADA2017-Homeworks/04 - Applied ML/lalonde.csv'"
   ]
  },
  {
   "cell_type": "code",
   "execution_count": 122,
   "metadata": {},
   "outputs": [
    {
     "data": {
      "text/html": [
       "<div>\n",
       "<style>\n",
       "    .dataframe thead tr:only-child th {\n",
       "        text-align: right;\n",
       "    }\n",
       "\n",
       "    .dataframe thead th {\n",
       "        text-align: left;\n",
       "    }\n",
       "\n",
       "    .dataframe tbody tr th {\n",
       "        vertical-align: top;\n",
       "    }\n",
       "</style>\n",
       "<table border=\"1\" class=\"dataframe\">\n",
       "  <thead>\n",
       "    <tr style=\"text-align: right;\">\n",
       "      <th></th>\n",
       "      <th>id</th>\n",
       "      <th>treat</th>\n",
       "      <th>age</th>\n",
       "      <th>educ</th>\n",
       "      <th>black</th>\n",
       "      <th>hispan</th>\n",
       "      <th>married</th>\n",
       "      <th>nodegree</th>\n",
       "      <th>re74</th>\n",
       "      <th>re75</th>\n",
       "      <th>re78</th>\n",
       "    </tr>\n",
       "  </thead>\n",
       "  <tbody>\n",
       "    <tr>\n",
       "      <th>0</th>\n",
       "      <td>NSW1</td>\n",
       "      <td>1</td>\n",
       "      <td>37</td>\n",
       "      <td>11</td>\n",
       "      <td>1</td>\n",
       "      <td>0</td>\n",
       "      <td>1</td>\n",
       "      <td>1</td>\n",
       "      <td>0.0</td>\n",
       "      <td>0.0</td>\n",
       "      <td>9930.0460</td>\n",
       "    </tr>\n",
       "    <tr>\n",
       "      <th>1</th>\n",
       "      <td>NSW2</td>\n",
       "      <td>1</td>\n",
       "      <td>22</td>\n",
       "      <td>9</td>\n",
       "      <td>0</td>\n",
       "      <td>1</td>\n",
       "      <td>0</td>\n",
       "      <td>1</td>\n",
       "      <td>0.0</td>\n",
       "      <td>0.0</td>\n",
       "      <td>3595.8940</td>\n",
       "    </tr>\n",
       "    <tr>\n",
       "      <th>2</th>\n",
       "      <td>NSW3</td>\n",
       "      <td>1</td>\n",
       "      <td>30</td>\n",
       "      <td>12</td>\n",
       "      <td>1</td>\n",
       "      <td>0</td>\n",
       "      <td>0</td>\n",
       "      <td>0</td>\n",
       "      <td>0.0</td>\n",
       "      <td>0.0</td>\n",
       "      <td>24909.4500</td>\n",
       "    </tr>\n",
       "    <tr>\n",
       "      <th>3</th>\n",
       "      <td>NSW4</td>\n",
       "      <td>1</td>\n",
       "      <td>27</td>\n",
       "      <td>11</td>\n",
       "      <td>1</td>\n",
       "      <td>0</td>\n",
       "      <td>0</td>\n",
       "      <td>1</td>\n",
       "      <td>0.0</td>\n",
       "      <td>0.0</td>\n",
       "      <td>7506.1460</td>\n",
       "    </tr>\n",
       "    <tr>\n",
       "      <th>4</th>\n",
       "      <td>NSW5</td>\n",
       "      <td>1</td>\n",
       "      <td>33</td>\n",
       "      <td>8</td>\n",
       "      <td>1</td>\n",
       "      <td>0</td>\n",
       "      <td>0</td>\n",
       "      <td>1</td>\n",
       "      <td>0.0</td>\n",
       "      <td>0.0</td>\n",
       "      <td>289.7899</td>\n",
       "    </tr>\n",
       "  </tbody>\n",
       "</table>\n",
       "</div>"
      ],
      "text/plain": [
       "     id  treat  age  educ  black  hispan  married  nodegree  re74  re75  \\\n",
       "0  NSW1      1   37    11      1       0        1         1   0.0   0.0   \n",
       "1  NSW2      1   22     9      0       1        0         1   0.0   0.0   \n",
       "2  NSW3      1   30    12      1       0        0         0   0.0   0.0   \n",
       "3  NSW4      1   27    11      1       0        0         1   0.0   0.0   \n",
       "4  NSW5      1   33     8      1       0        0         1   0.0   0.0   \n",
       "\n",
       "         re78  \n",
       "0   9930.0460  \n",
       "1   3595.8940  \n",
       "2  24909.4500  \n",
       "3   7506.1460  \n",
       "4    289.7899  "
      ]
     },
     "execution_count": 122,
     "metadata": {},
     "output_type": "execute_result"
    }
   ],
   "source": [
    "lalonde = pd.read_csv(data)\n",
    "lalonde.head()"
   ]
  },
  {
   "cell_type": "markdown",
   "metadata": {},
   "source": [
    "## 1\n",
    "\n",
    "1. A naive analysis\n",
    "\n",
    "Compare the distribution of the outcome variable (re78) between the two groups, using plots and numbers. To summarize and compare the distributions, you may use the techniques we discussed in lectures 4 (\"Read the stats carefully\") and 6 (\"Data visualization\").\n",
    "\n",
    "What might a naive \"researcher\" conclude from this superficial analysis?"
   ]
  },
  {
   "cell_type": "markdown",
   "metadata": {},
   "source": [
    "Here we show the distribution of re78 on the entire dataset."
   ]
  },
  {
   "cell_type": "code",
   "execution_count": 370,
   "metadata": {},
   "outputs": [
    {
     "data": {
      "image/png": "[encoded data removed]",
      "text/plain": [
       "<matplotlib.figure.Figure at 0x11cb5b908>"
      ]
     },
     "metadata": {},
     "output_type": "display_data"
    }
   ],
   "source": [
    "fig, ax = plt.subplots()\n",
    "ax.hist(lalonde.re78)\n",
    "ax.set_title(\"re78 distribution on entire dataset\")\n",
    "plt.show()"
   ]
  },
  {
   "cell_type": "markdown",
   "metadata": {},
   "source": [
    "Here instead, we show the distributions of re78 first on treated subjects dataset and then on the not treated subjects dataset."
   ]
  },
  {
   "cell_type": "code",
   "execution_count": 371,
   "metadata": {},
   "outputs": [
    {
     "data": {
      "image/png": "[encoded data removed]",
      "text/plain": [
       "<matplotlib.figure.Figure at 0x11be6ef28>"
      ]
     },
     "metadata": {},
     "output_type": "display_data"
    }
   ],
   "source": [
    "lalonde_treat = lalonde[lalonde.treat == 1]\n",
    "lalonde_notreat = lalonde[lalonde.treat == 0]\n",
    "\n",
    "fig, axs = plt.subplots(1, 2, figsize=(12,6))\n",
    "\n",
    "axs[0].hist(lalonde_treat.re78)\n",
    "axs[0].set_title(\"re78 distribution on treated\")\n",
    "axs[1].hist(lalonde_notreat.re78)\n",
    "axs[1].set_title(\"re78 distribution on treated\")\n",
    "plt.show()"
   ]
  },
  {
   "cell_type": "code",
   "execution_count": 372,
   "metadata": {},
   "outputs": [
    {
     "data": {
      "text/plain": [
       "count      185.000000\n",
       "mean      6349.143530\n",
       "std       7867.402218\n",
       "min          0.000000\n",
       "25%        485.229800\n",
       "50%       4232.309000\n",
       "75%       9642.999000\n",
       "max      60307.930000\n",
       "Name: re78, dtype: float64"
      ]
     },
     "execution_count": 372,
     "metadata": {},
     "output_type": "execute_result"
    }
   ],
   "source": [
    "lalonde_treat.re78.describe()"
   ]
  },
  {
   "cell_type": "code",
   "execution_count": 373,
   "metadata": {},
   "outputs": [
    {
     "data": {
      "text/plain": [
       "count      429.000000\n",
       "mean      6984.169742\n",
       "std       7294.161791\n",
       "min          0.000000\n",
       "25%        220.181300\n",
       "50%       4975.505000\n",
       "75%      11688.820000\n",
       "max      25564.670000\n",
       "Name: re78, dtype: float64"
      ]
     },
     "execution_count": 373,
     "metadata": {},
     "output_type": "execute_result"
    }
   ],
   "source": [
    "lalonde_notreat.re78.describe()"
   ]
  },
  {
   "cell_type": "markdown",
   "metadata": {},
   "source": [
    "### With this naive analysis we can conclude that... TODO!!!"
   ]
  },
  {
   "cell_type": "markdown",
   "metadata": {},
   "source": [
    "## 2\n",
    "\n",
    "2 A closer look at the data\n",
    "\n",
    "You're not naive, of course (and even if you are, you've learned certain things in ADA), so you aren't content with a superficial analysis such as the above. You're aware of the dangers of observational studies, so you take a closer look at the data before jumping to conclusions.\n",
    "\n",
    "For each feature in the dataset, compare its distribution in the treated group with its distribution in the control group, using plots and numbers. As above, you may use the techniques we discussed in class for summarizing and comparing the distributions.\n",
    "\n",
    "What do you observe? Describe what your observations mean for the conclusions drawn by the naive \"researcher\" from his superficial analysis."
   ]
  },
  {
   "cell_type": "markdown",
   "metadata": {},
   "source": [
    "* First we will compare the features showing the differences between the two groups and then we will compare the distributions of every feature in both groups."
   ]
  },
  {
   "cell_type": "markdown",
   "metadata": {},
   "source": [
    "### Comparing features"
   ]
  },
  {
   "cell_type": "markdown",
   "metadata": {},
   "source": [
    "* In order to see the differences of the ages in the two groups, we decided to divide the feature in 7 different groups, as you can see below. We counted how many patients of the same age are in a specific range (with value_counts) and then we summed the results all together. Example: in the first subset we could have had something like: 17 = 4, 18 = 2, 19 = 1, 20 = 12, 21 = 3, 22 = 7, 23 = 1, 24 = 8, 25 = 16; if we sum everything together we will obtain how many patients are in that range.\n",
    "* Finally we plot our results."
   ]
  },
  {
   "cell_type": "code",
   "execution_count": 153,
   "metadata": {},
   "outputs": [],
   "source": [
    "age_17_25_treat = lalonde_treat[lalonde_treat.age < 26].age.value_counts().sum()\n",
    "age_17_25_notreat = lalonde_notreat[lalonde_notreat.age < 26].age.value_counts().sum()\n",
    "\n",
    "age_26_30_treat = lalonde_treat[(lalonde_treat.age >= 26) & (lalonde_treat.age < 31)].age.value_counts().sum()\n",
    "age_26_30_notreat = lalonde_notreat[(lalonde_notreat.age >= 26) & (lalonde_notreat.age < 31)].age.value_counts().sum()\n",
    "\n",
    "age_31_35_treat = lalonde_treat[(lalonde_treat.age >= 31) & (lalonde_treat.age < 36)].age.value_counts().sum()\n",
    "age_31_35_notreat = lalonde_notreat[(lalonde_notreat.age >= 31) & (lalonde_notreat.age < 36)].age.value_counts().sum()\n",
    "\n",
    "age_36_40_treat = lalonde_treat[(lalonde_treat.age >= 36) & (lalonde_treat.age < 41)].age.value_counts().sum()\n",
    "age_36_40_notreat = lalonde_notreat[(lalonde_notreat.age >= 36) & (lalonde_notreat.age < 41)].age.value_counts().sum()\n",
    "\n",
    "age_41_45_treat = lalonde_treat[(lalonde_treat.age >= 36) & (lalonde_treat.age < 41)].age.value_counts().sum()\n",
    "age_41_45_notreat = lalonde_notreat[(lalonde_notreat.age >= 36) & (lalonde_notreat.age < 41)].age.value_counts().sum()\n",
    "\n",
    "age_46_50_treat = lalonde_treat[(lalonde_treat.age >= 46) & (lalonde_treat.age < 51)].age.value_counts().sum()\n",
    "age_46_50_notreat = lalonde_notreat[(lalonde_notreat.age >= 46) & (lalonde_notreat.age < 51)].age.value_counts().sum()\n",
    "\n",
    "age_51_more_treat = lalonde_treat[lalonde_treat.age >= 51].age.value_counts().sum()\n",
    "age_51_more_notreat = lalonde_notreat[lalonde_notreat.age >= 51].age.value_counts().sum()\n",
    "\n",
    "age_treated = [age_17_25_treat, age_26_30_treat, age_31_35_treat, age_36_40_treat, age_41_45_treat, age_46_50_treat, age_51_more_treat]\n",
    "age_notreated = [age_17_25_notreat, age_26_30_notreat, age_31_35_notreat, age_36_40_notreat, age_41_45_notreat, age_46_50_notreat, age_51_more_notreat]"
   ]
  },
  {
   "cell_type": "code",
   "execution_count": 155,
   "metadata": {},
   "outputs": [
    {
     "data": {
      "image/png": "[encoded data removed]",
      "text/plain": [
       "<matplotlib.figure.Figure at 0x11efa8d68>"
      ]
     },
     "metadata": {},
     "output_type": "display_data"
    }
   ],
   "source": [
    "fig, ax = plt.subplots(1, 1, figsize=(20,12))\n",
    "\n",
    "x_age = np.array([1,2,3,4,5,6,7])\n",
    "labels_age = ['17-25', '26-30', '31-35', '36-40', '41-45', '46-50', '51+']\n",
    "\n",
    "ax.bar(x_age - 0.2, age_treated, width=0.2, color ='b')\n",
    "ax.bar(x_age + 0.2, age_notreated, width=0.2, color='g')\n",
    "ax.set_xticks(x_age)\n",
    "ax.set_xticklabels(labels_age)\n",
    "ax.set_xlabel('age')\n",
    "ax.set_ylabel('number of people')\n",
    "ax.set_title(\"Number of people in different age treated and not treated\")\n",
    "ax.legend(['treated', 'not treated'])\n",
    "plt.show()"
   ]
  },
  {
   "cell_type": "markdown",
   "metadata": {},
   "source": [
    "* DESCRIBE"
   ]
  },
  {
   "cell_type": "markdown",
   "metadata": {},
   "source": [
    "* For both groups we count the number of patients for different characteristics: black, hispanic, married, with no degree.\n",
    "* Then we plot the results"
   ]
  },
  {
   "cell_type": "code",
   "execution_count": 374,
   "metadata": {},
   "outputs": [
    {
     "data": {
      "image/png": "[encoded data removed]",
      "text/plain": [
       "<matplotlib.figure.Figure at 0x11ce4de10>"
      ]
     },
     "metadata": {},
     "output_type": "display_data"
    }
   ],
   "source": [
    "fig, ax = plt.subplots(1, 1, figsize=(20,12))\n",
    "#x1 = np.arange(lalonde_treat.shape[0])\n",
    "#x2 = np.arange(lalonde_notreat.shape[0])\n",
    "#\n",
    "#axs[0].scatter(x1, lalonde_treat.age)\n",
    "#axs[0].scatter(x2, lalonde_notreat.age)\n",
    "#axs[0].set_ylabel('age')\n",
    "#axs[0].set_title(\"Age per group - to delete\")\n",
    "#axs[0].legend(['treated', 'not treated'])\n",
    "\n",
    "x_category = np.array([1,2,3,4])\n",
    "labels_category = [\"Black\", \"Hispan\", \"Married\", \"NoDegree\"]\n",
    "y_treat = [lalonde_treat.black.sum(), lalonde_treat.hispan.sum(), lalonde_treat.married.sum(), lalonde_treat.nodegree.sum()]\n",
    "y_notreat = [lalonde_notreat.black.sum(), lalonde_notreat.hispan.sum(), lalonde_notreat.married.sum(), lalonde_notreat.nodegree.sum()]\n",
    "ax.bar(x_category-0.2, y_treat, width=0.2, color='b')\n",
    "ax.bar(x_category+0.2, y_notreat, width=0.2, color='g')\n",
    "ax.set_xticks(x_category, minor=False)\n",
    "ax.set_xticklabels(labels_category)\n",
    "ax.set_ylabel('number of elements')\n",
    "ax.set_title(\"Categories\")\n",
    "ax.legend(['treated', 'not treated'])\n",
    "\n",
    "plt.show()"
   ]
  },
  {
   "cell_type": "markdown",
   "metadata": {},
   "source": [
    "* DESCRIBE"
   ]
  },
  {
   "cell_type": "markdown",
   "metadata": {},
   "source": [
    "* Here we want to show the difference in the two groups of years of education"
   ]
  },
  {
   "cell_type": "code",
   "execution_count": 144,
   "metadata": {},
   "outputs": [
    {
     "data": {
      "image/png": "[encoded data removed]",
      "text/plain": [
       "<matplotlib.figure.Figure at 0x11ef9fcf8>"
      ]
     },
     "metadata": {},
     "output_type": "display_data"
    }
   ],
   "source": [
    "fig, ax = plt.subplots(1, 1, figsize=(20,12))\n",
    "\n",
    "education_treat = lalonde_treat.educ.value_counts().sort_index()\n",
    "education_notreat = lalonde_notreat.educ.value_counts().sort_index()\n",
    "ax.bar(education_treat.index.values - 0.2, education_treat.values, width=0.2, color ='b')\n",
    "ax.bar(education_notreat.index.values + 0.2, education_notreat.values, width=0.2, color='g')\n",
    "ax.set_xticks(education_notreat.index.values)\n",
    "ax.set_xlabel('years of education')\n",
    "ax.set_ylabel('number of people')\n",
    "ax.set_title(\"Education per group\")\n",
    "ax.legend(['treated', 'not treated'])\n",
    "plt.show()"
   ]
  },
  {
   "cell_type": "markdown",
   "metadata": {},
   "source": [
    "* DESCRIBE"
   ]
  },
  {
   "cell_type": "markdown",
   "metadata": {},
   "source": [
    "### At this point, we can say that... TODO!!!!!"
   ]
  },
  {
   "cell_type": "markdown",
   "metadata": {},
   "source": [
    "### Distributions"
   ]
  },
  {
   "cell_type": "markdown",
   "metadata": {},
   "source": [
    "#### Age"
   ]
  },
  {
   "cell_type": "code",
   "execution_count": 375,
   "metadata": {},
   "outputs": [
    {
     "data": {
      "image/png": "[encoded data removed]",
      "text/plain": [
       "<matplotlib.figure.Figure at 0x11e3a3940>"
      ]
     },
     "metadata": {},
     "output_type": "display_data"
    }
   ],
   "source": [
    "fig, axs = plt.subplots(1, 2, figsize=(20,12), sharex=True, sharey=True)\n",
    "\n",
    "lalonde_treat.age.hist(ax=axs[0])\n",
    "lalonde_notreat.age.hist(ax=axs[1])\n",
    "axs[0].set_xlabel(\"age\")\n",
    "axs[0].set_title(\"treated\")\n",
    "axs[1].set_xlabel(\"age\")\n",
    "axs[1].set_title(\"not treated\")\n",
    "axs[0].set_ylabel(\"count\")\n",
    "plt.show()"
   ]
  },
  {
   "cell_type": "code",
   "execution_count": 376,
   "metadata": {},
   "outputs": [
    {
     "data": {
      "text/plain": [
       "count    185.000000\n",
       "mean      25.816216\n",
       "std        7.155019\n",
       "min       17.000000\n",
       "25%       20.000000\n",
       "50%       25.000000\n",
       "75%       29.000000\n",
       "max       48.000000\n",
       "Name: age, dtype: float64"
      ]
     },
     "execution_count": 376,
     "metadata": {},
     "output_type": "execute_result"
    }
   ],
   "source": [
    "lalonde_treat.age.describe()"
   ]
  },
  {
   "cell_type": "code",
   "execution_count": 377,
   "metadata": {},
   "outputs": [
    {
     "data": {
      "text/plain": [
       "count    429.000000\n",
       "mean      28.030303\n",
       "std       10.786653\n",
       "min       16.000000\n",
       "25%       19.000000\n",
       "50%       25.000000\n",
       "75%       35.000000\n",
       "max       55.000000\n",
       "Name: age, dtype: float64"
      ]
     },
     "execution_count": 377,
     "metadata": {},
     "output_type": "execute_result"
    }
   ],
   "source": [
    "lalonde_notreat.age.describe()"
   ]
  },
  {
   "cell_type": "markdown",
   "metadata": {},
   "source": [
    "* DESCRIBE"
   ]
  },
  {
   "cell_type": "markdown",
   "metadata": {},
   "source": [
    "#### Education"
   ]
  },
  {
   "cell_type": "code",
   "execution_count": 378,
   "metadata": {},
   "outputs": [
    {
     "data": {
      "image/png": "[encoded data removed]",
      "text/plain": [
       "<matplotlib.figure.Figure at 0x11de734e0>"
      ]
     },
     "metadata": {},
     "output_type": "display_data"
    }
   ],
   "source": [
    "fig, axs = plt.subplots(1, 2, figsize=(20,12), sharex=True, sharey=True)\n",
    "\n",
    "lalonde_treat.educ.hist(ax=axs[0])\n",
    "lalonde_notreat.educ.hist(ax=axs[1])\n",
    "axs[0].set_xlabel(\"years of education\")\n",
    "axs[0].set_title(\"treated\")\n",
    "axs[1].set_xlabel(\"years of education\")\n",
    "axs[1].set_title(\"not treated\")\n",
    "axs[0].set_ylabel(\"count\")\n",
    "plt.show()"
   ]
  },
  {
   "cell_type": "code",
   "execution_count": 379,
   "metadata": {},
   "outputs": [
    {
     "data": {
      "text/plain": [
       "count    185.000000\n",
       "mean      10.345946\n",
       "std        2.010650\n",
       "min        4.000000\n",
       "25%        9.000000\n",
       "50%       11.000000\n",
       "75%       12.000000\n",
       "max       16.000000\n",
       "Name: educ, dtype: float64"
      ]
     },
     "execution_count": 379,
     "metadata": {},
     "output_type": "execute_result"
    }
   ],
   "source": [
    "lalonde_treat.educ.describe()"
   ]
  },
  {
   "cell_type": "code",
   "execution_count": 380,
   "metadata": {},
   "outputs": [
    {
     "data": {
      "text/plain": [
       "count    429.000000\n",
       "mean      10.235431\n",
       "std        2.855238\n",
       "min        0.000000\n",
       "25%        9.000000\n",
       "50%       11.000000\n",
       "75%       12.000000\n",
       "max       18.000000\n",
       "Name: educ, dtype: float64"
      ]
     },
     "execution_count": 380,
     "metadata": {},
     "output_type": "execute_result"
    }
   ],
   "source": [
    "lalonde_notreat.educ.describe()"
   ]
  },
  {
   "cell_type": "markdown",
   "metadata": {},
   "source": [
    "* DESCRIBE"
   ]
  },
  {
   "cell_type": "markdown",
   "metadata": {},
   "source": [
    "#### Categories"
   ]
  },
  {
   "cell_type": "code",
   "execution_count": 381,
   "metadata": {},
   "outputs": [
    {
     "data": {
      "image/png": "[encoded data removed]",
      "text/plain": [
       "<matplotlib.figure.Figure at 0x11cb5bac8>"
      ]
     },
     "metadata": {},
     "output_type": "display_data"
    }
   ],
   "source": [
    "fig, axs = plt.subplots(4, 2, figsize=(20,12), sharey=True)\n",
    "\n",
    "lalonde_treat.black.hist(ax=axs[0,0])\n",
    "lalonde_notreat.black.hist(ax=axs[0,1])\n",
    "axs[0,0].set_xticks(np.array([0,1]))\n",
    "axs[0,0].set_xticklabels(['not black', 'black'])\n",
    "axs[0,0].set_title(\"treated\")\n",
    "axs[0,1].set_xticks(np.array([0,1]))\n",
    "axs[0,1].set_xticklabels(['not black', 'black'])\n",
    "axs[0,1].set_title(\"not treated\")\n",
    "axs[0,0].set_ylabel(\"count\")\n",
    "\n",
    "lalonde_treat.hispan.hist(ax=axs[1,0])\n",
    "lalonde_notreat.hispan.hist(ax=axs[1,1])\n",
    "axs[1,0].set_xticks(np.array([0,1]))\n",
    "axs[1,0].set_xticklabels(['not hispanic', 'hispanic'])\n",
    "axs[1,0].set_title(\"treated\")\n",
    "axs[1,1].set_xticks(np.array([0,1]))\n",
    "axs[1,1].set_xticklabels(['not hispanic', 'hispanic'])\n",
    "axs[1,1].set_title(\"not treated\")\n",
    "axs[1,0].set_ylabel(\"count\")\n",
    "\n",
    "lalonde_treat.married.hist(ax=axs[2,0])\n",
    "lalonde_notreat.married.hist(ax=axs[2,1])\n",
    "axs[2,0].set_xticks(np.array([0,1]))\n",
    "axs[2,0].set_xticklabels(['not married', 'married'])\n",
    "axs[2,0].set_title(\"treated\")\n",
    "axs[2,1].set_xticks(np.array([0,1]))\n",
    "axs[2,1].set_xticklabels(['not married', 'married'])\n",
    "axs[2,1].set_title(\"not treated\")\n",
    "axs[2,0].set_ylabel(\"count\")\n",
    "\n",
    "lalonde_treat.nodegree.hist(ax=axs[3,0])\n",
    "lalonde_notreat.nodegree.hist(ax=axs[3,1])\n",
    "axs[3,0].set_xticks(np.array([0,1]))\n",
    "axs[3,0].set_xticklabels(['with degree', 'without degree'])\n",
    "axs[3,0].set_title(\"treated\")\n",
    "axs[3,1].set_xticks(np.array([0,1]))\n",
    "axs[3,1].set_xticklabels(['with degree', 'without degree'])\n",
    "axs[3,1].set_title(\"not treated\")\n",
    "axs[3,0].set_ylabel(\"count\")\n",
    "\n",
    "plt.show()"
   ]
  },
  {
   "cell_type": "markdown",
   "metadata": {},
   "source": [
    "* DESCRIBE\n",
    "\n",
    "### Maybe you should add also re74 and re75"
   ]
  },
  {
   "cell_type": "markdown",
   "metadata": {},
   "source": [
    "#### re78"
   ]
  },
  {
   "cell_type": "code",
   "execution_count": 382,
   "metadata": {},
   "outputs": [
    {
     "data": {
      "image/png": "[encoded data removed]",
      "text/plain": [
       "<matplotlib.figure.Figure at 0x11e3e9a20>"
      ]
     },
     "metadata": {},
     "output_type": "display_data"
    }
   ],
   "source": [
    "fig, axs = plt.subplots(1, 2, figsize=(20,12), sharex=True, sharey=True)\n",
    "\n",
    "lalonde_treat.re78.hist(ax=axs[0])\n",
    "lalonde_notreat.re78.hist(ax=axs[1])\n",
    "axs[0].set_xlabel(\"re78\")\n",
    "axs[0].set_title(\"treated\")\n",
    "axs[1].set_xlabel(\"re78\")\n",
    "axs[1].set_title(\"not treated\")\n",
    "axs[0].set_ylabel(\"count\")\n",
    "plt.show()"
   ]
  },
  {
   "cell_type": "code",
   "execution_count": 383,
   "metadata": {},
   "outputs": [
    {
     "data": {
      "text/plain": [
       "count      185.000000\n",
       "mean      6349.143530\n",
       "std       7867.402218\n",
       "min          0.000000\n",
       "25%        485.229800\n",
       "50%       4232.309000\n",
       "75%       9642.999000\n",
       "max      60307.930000\n",
       "Name: re78, dtype: float64"
      ]
     },
     "execution_count": 383,
     "metadata": {},
     "output_type": "execute_result"
    }
   ],
   "source": [
    "lalonde_treat.re78.describe()"
   ]
  },
  {
   "cell_type": "code",
   "execution_count": 384,
   "metadata": {},
   "outputs": [
    {
     "data": {
      "text/plain": [
       "count      429.000000\n",
       "mean      6984.169742\n",
       "std       7294.161791\n",
       "min          0.000000\n",
       "25%        220.181300\n",
       "50%       4975.505000\n",
       "75%      11688.820000\n",
       "max      25564.670000\n",
       "Name: re78, dtype: float64"
      ]
     },
     "execution_count": 384,
     "metadata": {},
     "output_type": "execute_result"
    }
   ],
   "source": [
    "lalonde_notreat.re78.describe()"
   ]
  },
  {
   "cell_type": "markdown",
   "metadata": {},
   "source": [
    "* DESCRIBE"
   ]
  },
  {
   "cell_type": "markdown",
   "metadata": {},
   "source": [
    "* ### Taking a closer look to the data we observe that... Unlike the naive research, here we can state that... TODO!!!"
   ]
  },
  {
   "cell_type": "markdown",
   "metadata": {},
   "source": [
    "## 3\n",
    "\n",
    "3 A propensity score model\n",
    "\n",
    "Use logistic regression to estimate propensity scores for all points in the dataset. You may use sklearn to fit the logistic regression model and apply it to each data point to obtain propensity scores:\n",
    "\n",
    "from sklearn import linear_model\n",
    "logistic = linear_model.LogisticRegression()\n",
    "Recall that the propensity score of a data point represents its probability of receiving the treatment, based on its pre-treatment features (in this case, age, education, pre-treatment income, etc.). To brush up on propensity scores, you may read chapter 3.3 of the above-cited book by Rosenbaum or this article.\n",
    "\n",
    "Note: you do not need a train/test split here. Train and apply the model on the entire dataset. If you're wondering why this is the right thing to do in this situation, recall that the propensity score model is not used in order to make predictions about unseen data. Its sole purpose is to balance the dataset across treatment groups. (See p. 74 of Rosenbaum's book for an explanation why slight overfitting is even good for propensity scores. If you want even more information, read this article.)"
   ]
  },
  {
   "cell_type": "code",
   "execution_count": 385,
   "metadata": {
    "collapsed": true
   },
   "outputs": [],
   "source": [
    "'''\n",
    "Not used\n",
    "'''\n",
    "def build_poly(x, degree):\n",
    "    \n",
    "    new_x = x\n",
    "    ones = np.ones(new_x.shape[0])\n",
    "    \n",
    "    for deg in range(degree):\n",
    "        new_x = np.c_[new_x, new_x**degree+1]\n",
    "\n",
    "    new_x = np.c_[ones, new_x]\n",
    "    \n",
    "    return new_x\n",
    "\n",
    "'''\n",
    "Gain 2%\n",
    "'''\n",
    "def normalize(x_par):\n",
    "    \n",
    "    x = x_par\n",
    "    \n",
    "    for column in x.columns:\n",
    "        x[column] = (x[column] - x[column].mean())/x[column].std()\n",
    "        \n",
    "    return x"
   ]
  },
  {
   "cell_type": "markdown",
   "metadata": {},
   "source": [
    "* Here we fit/train logistic regression in order to obtain a propensity score model. The propensity score is the probability that a patient is being treated given some features (covariates). Describe it better\n",
    "##### Write the formula\n",
    "\n",
    "We should work a little bit more on the data maybe if we want to obtain a better score.\n",
    "* We also normalize the data because we obtain a better score. Of course we don't use the columns id and treat because they are not features - treat is the label - and also re78 because it refers to something that happened after being treated or not."
   ]
  },
  {
   "cell_type": "code",
   "execution_count": 388,
   "metadata": {},
   "outputs": [
    {
     "name": "stderr",
     "output_type": "stream",
     "text": [
      "/Users/lorenzotara/anaconda/lib/python3.6/site-packages/ipykernel_launcher.py:24: SettingWithCopyWarning: \n",
      "A value is trying to be set on a copy of a slice from a DataFrame.\n",
      "Try using .loc[row_indexer,col_indexer] = value instead\n",
      "\n",
      "See the caveats in the documentation: http://pandas.pydata.org/pandas-docs/stable/indexing.html#indexing-view-versus-copy\n"
     ]
    },
    {
     "data": {
      "text/plain": [
       "81.921824104234531"
      ]
     },
     "execution_count": 388,
     "metadata": {},
     "output_type": "execute_result"
    }
   ],
   "source": [
    "from sklearn import linear_model\n",
    "\n",
    "logistic = linear_model.LogisticRegression()\n",
    "y = lalonde.treat\n",
    "X = lalonde.drop(['id','treat', 're78'], axis=1)\n",
    "#X = pd.concat([X, np.log(X.age).rename(\"age_log\")], axis=1)\n",
    "#X = pd.concat([X, np.log(X.re78+0.1).rename(\"age_log\")], axis=1)\n",
    "\n",
    "#X = build_poly(X, 2)\n",
    "X[['age', 'educ', 're74', 're75']] = normalize(X[['age', 'educ', 're74', 're75']])\n",
    "\n",
    "logistic.fit(X, y)\n",
    "prediction = logistic.predict(X)\n",
    "accuracy = sum(prediction == y) / len(y)\n",
    "accuracy *100"
   ]
  },
  {
   "cell_type": "markdown",
   "metadata": {},
   "source": [
    "* The variable pred_proba is a ndarray of two dimensions: the first dimension is the probability that the patient is not treated (0), the second one in the propensity score, that is the probability that the patient is treated (1)."
   ]
  },
  {
   "cell_type": "code",
   "execution_count": 391,
   "metadata": {},
   "outputs": [
    {
     "data": {
      "text/plain": [
       "array([[ 0.40521451,  0.59478549],\n",
       "       [ 0.79462968,  0.20537032],\n",
       "       [ 0.29272839,  0.70727161],\n",
       "       [ 0.24420496,  0.75579504],\n",
       "       [ 0.30681003,  0.69318997],\n",
       "       [ 0.30937688,  0.69062312],\n",
       "       [ 0.33905529,  0.66094471],\n",
       "       [ 0.23122339,  0.76877661]])"
      ]
     },
     "execution_count": 391,
     "metadata": {},
     "output_type": "execute_result"
    }
   ],
   "source": [
    "pred_proba = logistic.predict_proba(X)\n",
    "pred_proba[:8]"
   ]
  },
  {
   "cell_type": "markdown",
   "metadata": {},
   "source": [
    "## 4\n",
    "\n",
    "4 Balancing the dataset via matching\n",
    "\n",
    "Use the propensity scores to match each data point from the treated group with exactly one data point from the control group, while ensuring that each data point from the control group is matched with at most one data point from the treated group. (Hint: you may explore the networkx package in Python for predefined matching functions.)\n",
    "\n",
    "Your matching should maximize the similarity between matched subjects, as captured by their propensity scores. In other words, the sum (over all matched pairs) of absolute propensity-score differences between the two matched subjects should be minimized.\n",
    "\n",
    "After matching, you have as many treated as you have control subjects. Compare the outcomes (re78) between the two groups (treated and control).\n",
    "\n",
    "Also, compare again the feature-value distributions between the two groups, as you've done in part 2 above, but now only for the matched subjects. What do you observe? Are you closer to being able to draw valid conclusions now than you were before?"
   ]
  },
  {
   "cell_type": "markdown",
   "metadata": {},
   "source": [
    "* For the moment we just take the propensity score."
   ]
  },
  {
   "cell_type": "code",
   "execution_count": 392,
   "metadata": {},
   "outputs": [
    {
     "data": {
      "text/plain": [
       "array([ 0.59478549,  0.20537032,  0.70727161,  0.75579504,  0.69318997,\n",
       "        0.69062312,  0.66094471,  0.76877661,  0.76028739,  0.06094147])"
      ]
     },
     "execution_count": 392,
     "metadata": {},
     "output_type": "execute_result"
    }
   ],
   "source": [
    "from sklearn.preprocessing import StandardScaler\n",
    "from sklearn.neighbors import NearestNeighbors\n",
    "\n",
    "pscore = pred_proba[:,1]\n",
    "pscore[:10]"
   ]
  },
  {
   "cell_type": "markdown",
   "metadata": {},
   "source": [
    "* We add the propensity score to the total df"
   ]
  },
  {
   "cell_type": "code",
   "execution_count": 393,
   "metadata": {},
   "outputs": [
    {
     "data": {
      "text/html": [
       "<div>\n",
       "<style>\n",
       "    .dataframe thead tr:only-child th {\n",
       "        text-align: right;\n",
       "    }\n",
       "\n",
       "    .dataframe thead th {\n",
       "        text-align: left;\n",
       "    }\n",
       "\n",
       "    .dataframe tbody tr th {\n",
       "        vertical-align: top;\n",
       "    }\n",
       "</style>\n",
       "<table border=\"1\" class=\"dataframe\">\n",
       "  <thead>\n",
       "    <tr style=\"text-align: right;\">\n",
       "      <th></th>\n",
       "      <th>id</th>\n",
       "      <th>treat</th>\n",
       "      <th>age</th>\n",
       "      <th>educ</th>\n",
       "      <th>black</th>\n",
       "      <th>hispan</th>\n",
       "      <th>married</th>\n",
       "      <th>nodegree</th>\n",
       "      <th>re74</th>\n",
       "      <th>re75</th>\n",
       "      <th>re78</th>\n",
       "      <th>propensity</th>\n",
       "    </tr>\n",
       "  </thead>\n",
       "  <tbody>\n",
       "    <tr>\n",
       "      <th>0</th>\n",
       "      <td>NSW1</td>\n",
       "      <td>1</td>\n",
       "      <td>37</td>\n",
       "      <td>11</td>\n",
       "      <td>1</td>\n",
       "      <td>0</td>\n",
       "      <td>1</td>\n",
       "      <td>1</td>\n",
       "      <td>0.0</td>\n",
       "      <td>0.0</td>\n",
       "      <td>9930.0460</td>\n",
       "      <td>0.594785</td>\n",
       "    </tr>\n",
       "    <tr>\n",
       "      <th>1</th>\n",
       "      <td>NSW2</td>\n",
       "      <td>1</td>\n",
       "      <td>22</td>\n",
       "      <td>9</td>\n",
       "      <td>0</td>\n",
       "      <td>1</td>\n",
       "      <td>0</td>\n",
       "      <td>1</td>\n",
       "      <td>0.0</td>\n",
       "      <td>0.0</td>\n",
       "      <td>3595.8940</td>\n",
       "      <td>0.205370</td>\n",
       "    </tr>\n",
       "    <tr>\n",
       "      <th>2</th>\n",
       "      <td>NSW3</td>\n",
       "      <td>1</td>\n",
       "      <td>30</td>\n",
       "      <td>12</td>\n",
       "      <td>1</td>\n",
       "      <td>0</td>\n",
       "      <td>0</td>\n",
       "      <td>0</td>\n",
       "      <td>0.0</td>\n",
       "      <td>0.0</td>\n",
       "      <td>24909.4500</td>\n",
       "      <td>0.707272</td>\n",
       "    </tr>\n",
       "    <tr>\n",
       "      <th>3</th>\n",
       "      <td>NSW4</td>\n",
       "      <td>1</td>\n",
       "      <td>27</td>\n",
       "      <td>11</td>\n",
       "      <td>1</td>\n",
       "      <td>0</td>\n",
       "      <td>0</td>\n",
       "      <td>1</td>\n",
       "      <td>0.0</td>\n",
       "      <td>0.0</td>\n",
       "      <td>7506.1460</td>\n",
       "      <td>0.755795</td>\n",
       "    </tr>\n",
       "    <tr>\n",
       "      <th>4</th>\n",
       "      <td>NSW5</td>\n",
       "      <td>1</td>\n",
       "      <td>33</td>\n",
       "      <td>8</td>\n",
       "      <td>1</td>\n",
       "      <td>0</td>\n",
       "      <td>0</td>\n",
       "      <td>1</td>\n",
       "      <td>0.0</td>\n",
       "      <td>0.0</td>\n",
       "      <td>289.7899</td>\n",
       "      <td>0.693190</td>\n",
       "    </tr>\n",
       "  </tbody>\n",
       "</table>\n",
       "</div>"
      ],
      "text/plain": [
       "     id  treat  age  educ  black  hispan  married  nodegree  re74  re75  \\\n",
       "0  NSW1      1   37    11      1       0        1         1   0.0   0.0   \n",
       "1  NSW2      1   22     9      0       1        0         1   0.0   0.0   \n",
       "2  NSW3      1   30    12      1       0        0         0   0.0   0.0   \n",
       "3  NSW4      1   27    11      1       0        0         1   0.0   0.0   \n",
       "4  NSW5      1   33     8      1       0        0         1   0.0   0.0   \n",
       "\n",
       "         re78  propensity  \n",
       "0   9930.0460    0.594785  \n",
       "1   3595.8940    0.205370  \n",
       "2  24909.4500    0.707272  \n",
       "3   7506.1460    0.755795  \n",
       "4    289.7899    0.693190  "
      ]
     },
     "execution_count": 393,
     "metadata": {},
     "output_type": "execute_result"
    }
   ],
   "source": [
    "matching_df = lalonde\n",
    "matching_df['propensity'] = pscore\n",
    "matching_df.head()"
   ]
  },
  {
   "cell_type": "markdown",
   "metadata": {},
   "source": [
    "* We take the propensity score of the treated and of the not treated"
   ]
  },
  {
   "cell_type": "code",
   "execution_count": 394,
   "metadata": {},
   "outputs": [
    {
     "data": {
      "text/plain": [
       "(0    0.594785\n",
       " 1    0.205370\n",
       " 2    0.707272\n",
       " 3    0.755795\n",
       " 4    0.693190\n",
       " Name: propensity, dtype: float64, 185    0.041771\n",
       " 186    0.027638\n",
       " 187    0.036594\n",
       " 188    0.048268\n",
       " 189    0.393979\n",
       " Name: propensity, dtype: float64)"
      ]
     },
     "execution_count": 394,
     "metadata": {},
     "output_type": "execute_result"
    }
   ],
   "source": [
    "propensity_treat = matching_df[matching_df.treat == 1].propensity#.values.reshape(-1,1)\n",
    "propensity_notreat = matching_df[matching_df.treat == 0].propensity#.values.reshape(-1,1)\n",
    "# propensity_notreat.loc[341], propensity_notreat.iloc[156]\n",
    "propensity_treat.head(), propensity_notreat.head()"
   ]
  },
  {
   "cell_type": "markdown",
   "metadata": {},
   "source": [
    "* In order to have comparable data we have to... describe why with observational data you use this method.\n",
    "* We search for the nearest neighbor of a treated in the non treated taking account of only the propensity score."
   ]
  },
  {
   "cell_type": "code",
   "execution_count": 395,
   "metadata": {},
   "outputs": [
    {
     "data": {
      "text/plain": [
       "(          id  treat  age  educ  black  hispan  married  nodegree      re74  \\\n",
       " 552  PSID368      0   40    11      1       0        1         1     0.000   \n",
       " 215   PSID31      0   22    13      0       1        0         0  6404.843   \n",
       " 595  PSID411      0   18    10      1       0        0         1     0.000   \n",
       " 410  PSID226      0   39    10      1       0        0         1   844.444   \n",
       " 402  PSID218      0   17     9      1       0        0         1     0.000   \n",
       " \n",
       "           re75       re78  propensity  \n",
       " 552     0.0000     0.0000    0.591675  \n",
       " 215  7882.7900  9453.0170    0.203831  \n",
       " 595     0.0000  5306.5160    0.705920  \n",
       " 410   889.7903   701.9201    0.756107  \n",
       " 402   981.0968  8900.3470    0.692434  ,\n",
       "      id  treat  age  educ  black  hispan  married  nodegree  re74  re75  \\\n",
       " 0  NSW1      1   37    11      1       0        1         1   0.0   0.0   \n",
       " 1  NSW2      1   22     9      0       1        0         1   0.0   0.0   \n",
       " 2  NSW3      1   30    12      1       0        0         0   0.0   0.0   \n",
       " 3  NSW4      1   27    11      1       0        0         1   0.0   0.0   \n",
       " 4  NSW5      1   33     8      1       0        0         1   0.0   0.0   \n",
       " \n",
       "          re78  propensity  \n",
       " 0   9930.0460    0.594785  \n",
       " 1   3595.8940    0.205370  \n",
       " 2  24909.4500    0.707272  \n",
       " 3   7506.1460    0.755795  \n",
       " 4    289.7899    0.693190  )"
      ]
     },
     "execution_count": 395,
     "metadata": {},
     "output_type": "execute_result"
    }
   ],
   "source": [
    "nbrs = NearestNeighbors(n_neighbors=1, algorithm='ball_tree').fit(propensity_notreat.values.reshape(-1,1))\n",
    "'''\n",
    "distances is an array that contains the distance between the propensity score of the treated patient \n",
    "and his nearest neighbor in the not treated patients dataset\n",
    "'''\n",
    "distances, indices = nbrs.kneighbors(propensity_treat.values.reshape(-1,1))\n",
    "'''\n",
    "These are the indices that refers to the position (not the real index!!!)\n",
    "of the neighbor in the list propensity_notreat.values.reshape(-1,1)\n",
    "'''\n",
    "indices = indices.reshape(indices.shape[0])\n",
    "\n",
    "matches = matching_df[matching_df.treat == 0].iloc[indices]\n",
    "treated = matching_df[matching_df.treat == 1]\n",
    "matches.head(), treated.head()"
   ]
  },
  {
   "cell_type": "markdown",
   "metadata": {},
   "source": [
    "## TODO: compare distributions of every feature in the two groups, but only matched"
   ]
  },
  {
   "cell_type": "code",
   "execution_count": null,
   "metadata": {
    "collapsed": true
   },
   "outputs": [],
   "source": []
  }
 ],
 "metadata": {
  "kernelspec": {
   "display_name": "Python 3",
   "language": "python",
   "name": "python3"
  },
  "language_info": {
   "codemirror_mode": {
    "name": "ipython",
    "version": 3
   },
   "file_extension": ".py",
   "mimetype": "text/x-python",
   "name": "python",
   "nbconvert_exporter": "python",
   "pygments_lexer": "ipython3",
   "version": "3.6.1"
  }
 },
 "nbformat": 4,
 "nbformat_minor": 2
}
