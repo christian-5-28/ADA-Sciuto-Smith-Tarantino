{
 "cells": [
  {
   "cell_type": "code",
   "execution_count": 1,
   "metadata": {
    "collapsed": true
   },
   "outputs": [],
   "source": [
    "import pandas as pd\n",
    "import matplotlib.pyplot as plt\n",
    "import numpy as np"
   ]
  },
  {
   "cell_type": "code",
   "execution_count": 2,
   "metadata": {
    "collapsed": true
   },
   "outputs": [],
   "source": [
    "data = '/Users/lorenzotara/Documents/EPFL/Applied Data Analysis/Homeworks/ADA2017-Homeworks/04 - Applied ML/lalonde.csv'"
   ]
  },
  {
   "cell_type": "code",
   "execution_count": 3,
   "metadata": {},
   "outputs": [
    {
     "data": {
      "text/html": [
       "<div>\n",
       "<style>\n",
       "    .dataframe thead tr:only-child th {\n",
       "        text-align: right;\n",
       "    }\n",
       "\n",
       "    .dataframe thead th {\n",
       "        text-align: left;\n",
       "    }\n",
       "\n",
       "    .dataframe tbody tr th {\n",
       "        vertical-align: top;\n",
       "    }\n",
       "</style>\n",
       "<table border=\"1\" class=\"dataframe\">\n",
       "  <thead>\n",
       "    <tr style=\"text-align: right;\">\n",
       "      <th></th>\n",
       "      <th>id</th>\n",
       "      <th>treat</th>\n",
       "      <th>age</th>\n",
       "      <th>educ</th>\n",
       "      <th>black</th>\n",
       "      <th>hispan</th>\n",
       "      <th>married</th>\n",
       "      <th>nodegree</th>\n",
       "      <th>re74</th>\n",
       "      <th>re75</th>\n",
       "      <th>re78</th>\n",
       "    </tr>\n",
       "  </thead>\n",
       "  <tbody>\n",
       "    <tr>\n",
       "      <th>0</th>\n",
       "      <td>NSW1</td>\n",
       "      <td>1</td>\n",
       "      <td>37</td>\n",
       "      <td>11</td>\n",
       "      <td>1</td>\n",
       "      <td>0</td>\n",
       "      <td>1</td>\n",
       "      <td>1</td>\n",
       "      <td>0.0</td>\n",
       "      <td>0.0</td>\n",
       "      <td>9930.0460</td>\n",
       "    </tr>\n",
       "    <tr>\n",
       "      <th>1</th>\n",
       "      <td>NSW2</td>\n",
       "      <td>1</td>\n",
       "      <td>22</td>\n",
       "      <td>9</td>\n",
       "      <td>0</td>\n",
       "      <td>1</td>\n",
       "      <td>0</td>\n",
       "      <td>1</td>\n",
       "      <td>0.0</td>\n",
       "      <td>0.0</td>\n",
       "      <td>3595.8940</td>\n",
       "    </tr>\n",
       "    <tr>\n",
       "      <th>2</th>\n",
       "      <td>NSW3</td>\n",
       "      <td>1</td>\n",
       "      <td>30</td>\n",
       "      <td>12</td>\n",
       "      <td>1</td>\n",
       "      <td>0</td>\n",
       "      <td>0</td>\n",
       "      <td>0</td>\n",
       "      <td>0.0</td>\n",
       "      <td>0.0</td>\n",
       "      <td>24909.4500</td>\n",
       "    </tr>\n",
       "    <tr>\n",
       "      <th>3</th>\n",
       "      <td>NSW4</td>\n",
       "      <td>1</td>\n",
       "      <td>27</td>\n",
       "      <td>11</td>\n",
       "      <td>1</td>\n",
       "      <td>0</td>\n",
       "      <td>0</td>\n",
       "      <td>1</td>\n",
       "      <td>0.0</td>\n",
       "      <td>0.0</td>\n",
       "      <td>7506.1460</td>\n",
       "    </tr>\n",
       "    <tr>\n",
       "      <th>4</th>\n",
       "      <td>NSW5</td>\n",
       "      <td>1</td>\n",
       "      <td>33</td>\n",
       "      <td>8</td>\n",
       "      <td>1</td>\n",
       "      <td>0</td>\n",
       "      <td>0</td>\n",
       "      <td>1</td>\n",
       "      <td>0.0</td>\n",
       "      <td>0.0</td>\n",
       "      <td>289.7899</td>\n",
       "    </tr>\n",
       "  </tbody>\n",
       "</table>\n",
       "</div>"
      ],
      "text/plain": [
       "     id  treat  age  educ  black  hispan  married  nodegree  re74  re75  \\\n",
       "0  NSW1      1   37    11      1       0        1         1   0.0   0.0   \n",
       "1  NSW2      1   22     9      0       1        0         1   0.0   0.0   \n",
       "2  NSW3      1   30    12      1       0        0         0   0.0   0.0   \n",
       "3  NSW4      1   27    11      1       0        0         1   0.0   0.0   \n",
       "4  NSW5      1   33     8      1       0        0         1   0.0   0.0   \n",
       "\n",
       "         re78  \n",
       "0   9930.0460  \n",
       "1   3595.8940  \n",
       "2  24909.4500  \n",
       "3   7506.1460  \n",
       "4    289.7899  "
      ]
     },
     "execution_count": 3,
     "metadata": {},
     "output_type": "execute_result"
    }
   ],
   "source": [
    "lalonde = pd.read_csv(data)\n",
    "lalonde.head()"
   ]
  },
  {
   "cell_type": "markdown",
   "metadata": {},
   "source": [
    "## Part 1\n",
    "\n",
    "Task: A naive analysis\n",
    "\n",
    "Compare the distribution of the outcome variable (re78) between the two groups, using plots and numbers. To summarize and compare the distributions, you may use the techniques we discussed in lectures 4 (\"Read the stats carefully\") and 6 (\"Data visualization\").\n",
    "\n",
    "What might a naive \"researcher\" conclude from this superficial analysis?"
   ]
  },
  {
   "cell_type": "markdown",
   "metadata": {},
   "source": [
    "* Here we show the distribution of re78 on the entire dataset."
   ]
  },
  {
   "cell_type": "code",
   "execution_count": 4,
   "metadata": {},
   "outputs": [
    {
     "data": {
      "image/png": "[encoded data removed]",
      "text/plain": [
       "<matplotlib.figure.Figure at 0x1151a95f8>"
      ]
     },
     "metadata": {},
     "output_type": "display_data"
    }
   ],
   "source": [
    "fig, ax = plt.subplots()\n",
    "ax.hist(lalonde.re78)\n",
    "ax.set_title(\"re78 distribution on entire dataset\")\n",
    "plt.show()"
   ]
  },
  {
   "cell_type": "markdown",
   "metadata": {},
   "source": [
    "* Here instead, we show the distributions of re78 first on treated subjects dataset and then on the not treated subjects dataset."
   ]
  },
  {
   "cell_type": "code",
   "execution_count": 83,
   "metadata": {},
   "outputs": [
    {
     "data": {
      "image/png": "[encoded data removed]",
      "text/plain": [
       "<matplotlib.figure.Figure at 0x1a220dd6d8>"
      ]
     },
     "metadata": {},
     "output_type": "display_data"
    }
   ],
   "source": [
    "lalonde_treat = lalonde[lalonde.treat == 1]\n",
    "lalonde_notreat = lalonde[lalonde.treat == 0]\n",
    "\n",
    "fig, axs = plt.subplots(1, 2, figsize=(20,12))\n",
    "\n",
    "axs[0].hist(lalonde_treat.re78)\n",
    "axs[0].set_title(\"re78 distribution on treated\")\n",
    "axs[1].hist(lalonde_notreat.re78)\n",
    "axs[1].set_title(\"re78 distribution on not treated\")\n",
    "plt.show()"
   ]
  },
  {
   "cell_type": "code",
   "execution_count": 61,
   "metadata": {
    "scrolled": true
   },
   "outputs": [
    {
     "data": {
      "image/png": "[encoded data removed]",
      "text/plain": [
       "<matplotlib.figure.Figure at 0x1a220b1f98>"
      ]
     },
     "metadata": {},
     "output_type": "display_data"
    }
   ],
   "source": [
    "fig, axs = plt.subplots(1, 2, figsize=(18,6), sharey=True)\n",
    "\n",
    "lalonde_treat[['re78']].boxplot(ax=axs[0], fontsize=15, grid=False)\n",
    "axs[0].set_title(\"re78 distribution on treated\")\n",
    "lalonde_notreat[['re78']].boxplot(ax=axs[1], fontsize=15, grid=False)\n",
    "axs[1].set_title(\"re78 distribution on not treated\")\n",
    "plt.show()"
   ]
  },
  {
   "cell_type": "code",
   "execution_count": 7,
   "metadata": {
    "scrolled": true
   },
   "outputs": [
    {
     "data": {
      "text/plain": [
       "count      185.000000\n",
       "mean      6349.143530\n",
       "std       7867.402218\n",
       "min          0.000000\n",
       "25%        485.229800\n",
       "50%       4232.309000\n",
       "75%       9642.999000\n",
       "max      60307.930000\n",
       "Name: re78, dtype: float64"
      ]
     },
     "execution_count": 7,
     "metadata": {},
     "output_type": "execute_result"
    }
   ],
   "source": [
    "lalonde_treat.re78.describe()"
   ]
  },
  {
   "cell_type": "code",
   "execution_count": 8,
   "metadata": {
    "scrolled": true
   },
   "outputs": [
    {
     "data": {
      "text/plain": [
       "count      429.000000\n",
       "mean      6984.169742\n",
       "std       7294.161791\n",
       "min          0.000000\n",
       "25%        220.181300\n",
       "50%       4975.505000\n",
       "75%      11688.820000\n",
       "max      25564.670000\n",
       "Name: re78, dtype: float64"
      ]
     },
     "execution_count": 8,
     "metadata": {},
     "output_type": "execute_result"
    }
   ],
   "source": [
    "lalonde_notreat.re78.describe()"
   ]
  },
  {
   "cell_type": "markdown",
   "metadata": {},
   "source": [
    "#### Observations\n",
    "* With this naive analysis we can conclude that the treatment didn't work. If we look at the distributions and the descriptions of the two groups, we can see that they are very similar. More specifically, the median and the mean, even if it's not a robust statistics, values of the non treated group is higher. About the mean, in the first group (the treated one) there are several outliers and a very high maximum, and the mean is lower. This is another proof that can lead us to the (wrong) conclusion that the treatment wasn't successful. Of course we will change our mind going deeper in this study case."
   ]
  },
  {
   "cell_type": "markdown",
   "metadata": {},
   "source": [
    "## Part 2\n",
    "\n",
    "Task: A closer look at the data\n",
    "\n",
    "You're not naive, of course (and even if you are, you've learned certain things in ADA), so you aren't content with a superficial analysis such as the above. You're aware of the dangers of observational studies, so you take a closer look at the data before jumping to conclusions.\n",
    "\n",
    "For each feature in the dataset, compare its distribution in the treated group with its distribution in the control group, using plots and numbers. As above, you may use the techniques we discussed in class for summarizing and comparing the distributions.\n",
    "\n",
    "What do you observe? Describe what your observations mean for the conclusions drawn by the naive \"researcher\" from his superficial analysis."
   ]
  },
  {
   "cell_type": "markdown",
   "metadata": {},
   "source": [
    "* First we will compare the features showing the differences between the two groups and then we will compare the distributions of every feature in both groups."
   ]
  },
  {
   "cell_type": "markdown",
   "metadata": {},
   "source": [
    "### Comparing features\n",
    "\n",
    "#### Age"
   ]
  },
  {
   "cell_type": "markdown",
   "metadata": {},
   "source": [
    "* In order to see the differences of the ages in the two groups, we decided to divide the feature in 7 different groups, as you can see below. We counted how many patients of the same age are in a specific range (with value_counts) and then we summed the results all together. Example: in the first subset we could have had something like: 17 = 4, 18 = 2, 19 = 1, 20 = 12, 21 = 3, 22 = 7, 23 = 1, 24 = 8, 25 = 16; if we sum everything together we will obtain how many patients are in that range.\n",
    "* Finally we plot our results."
   ]
  },
  {
   "cell_type": "code",
   "execution_count": 62,
   "metadata": {
    "collapsed": true
   },
   "outputs": [],
   "source": [
    "age_17_25_treat = lalonde_treat[lalonde_treat.age < 26].age.value_counts().sum()\n",
    "age_17_25_notreat = lalonde_notreat[lalonde_notreat.age < 26].age.value_counts().sum()\n",
    "\n",
    "age_26_30_treat = lalonde_treat[(lalonde_treat.age >= 26) & (lalonde_treat.age < 31)].age.value_counts().sum()\n",
    "age_26_30_notreat = lalonde_notreat[(lalonde_notreat.age >= 26) & (lalonde_notreat.age < 31)].age.value_counts().sum()\n",
    "\n",
    "age_31_35_treat = lalonde_treat[(lalonde_treat.age >= 31) & (lalonde_treat.age < 36)].age.value_counts().sum()\n",
    "age_31_35_notreat = lalonde_notreat[(lalonde_notreat.age >= 31) & (lalonde_notreat.age < 36)].age.value_counts().sum()\n",
    "\n",
    "age_36_40_treat = lalonde_treat[(lalonde_treat.age >= 36) & (lalonde_treat.age < 41)].age.value_counts().sum()\n",
    "age_36_40_notreat = lalonde_notreat[(lalonde_notreat.age >= 36) & (lalonde_notreat.age < 41)].age.value_counts().sum()\n",
    "\n",
    "age_41_45_treat = lalonde_treat[(lalonde_treat.age >= 36) & (lalonde_treat.age < 41)].age.value_counts().sum()\n",
    "age_41_45_notreat = lalonde_notreat[(lalonde_notreat.age >= 36) & (lalonde_notreat.age < 41)].age.value_counts().sum()\n",
    "\n",
    "age_46_50_treat = lalonde_treat[(lalonde_treat.age >= 46) & (lalonde_treat.age < 51)].age.value_counts().sum()\n",
    "age_46_50_notreat = lalonde_notreat[(lalonde_notreat.age >= 46) & (lalonde_notreat.age < 51)].age.value_counts().sum()\n",
    "\n",
    "age_51_more_treat = lalonde_treat[lalonde_treat.age >= 51].age.value_counts().sum()\n",
    "age_51_more_notreat = lalonde_notreat[lalonde_notreat.age >= 51].age.value_counts().sum()\n",
    "\n",
    "age_treated = [age_17_25_treat, age_26_30_treat, age_31_35_treat, age_36_40_treat, age_41_45_treat, age_46_50_treat, age_51_more_treat]\n",
    "age_notreated = [age_17_25_notreat, age_26_30_notreat, age_31_35_notreat, age_36_40_notreat, age_41_45_notreat, age_46_50_notreat, age_51_more_notreat]"
   ]
  },
  {
   "cell_type": "code",
   "execution_count": 63,
   "metadata": {},
   "outputs": [
    {
     "data": {
      "image/png": "[encoded data removed]",
      "text/plain": [
       "<matplotlib.figure.Figure at 0x11876ef98>"
      ]
     },
     "metadata": {},
     "output_type": "display_data"
    }
   ],
   "source": [
    "fig, ax = plt.subplots(1, 1, figsize=(20,12))\n",
    "\n",
    "x_age = np.array([1,2,3,4,5,6,7])\n",
    "labels_age = ['17-25', '26-30', '31-35', '36-40', '41-45', '46-50', '51+']\n",
    "\n",
    "ax.bar(x_age - 0.2, age_treated, width=0.2, color ='b')\n",
    "ax.bar(x_age + 0.2, age_notreated, width=0.2, color='g')\n",
    "ax.set_xticks(x_age)\n",
    "ax.set_xticklabels(labels_age)\n",
    "ax.set_xlabel('age')\n",
    "ax.set_ylabel('number of people')\n",
    "ax.set_title(\"Number of people in different age treated and not treated\")\n",
    "ax.legend(['treated', 'not treated'])\n",
    "plt.show()"
   ]
  },
  {
   "cell_type": "markdown",
   "metadata": {},
   "source": [
    "* Due to the fact that the number of treated people is lower than the number of not treated ones is not so easy to read this bar chart. Anyway we can conclude that in average people are young and there is a bigger chance to be chosen to be treated if you are young than old. But we can also observe that the trends of the two groups a different: while in the treated group the trend is strictly descendent, in the non treated one, after the peak of young people (17-25), the amount of people in the same age range that have not been treated is almost the same."
   ]
  },
  {
   "cell_type": "markdown",
   "metadata": {},
   "source": [
    "#### Categories\n",
    "\n",
    "* For both groups we count the number of patients for different characteristics: black, hispanic, married, with no degree.\n",
    "* Then we plot the results."
   ]
  },
  {
   "cell_type": "code",
   "execution_count": 64,
   "metadata": {},
   "outputs": [
    {
     "data": {
      "image/png": "[encoded data removed]",
      "text/plain": [
       "<matplotlib.figure.Figure at 0x11f384358>"
      ]
     },
     "metadata": {},
     "output_type": "display_data"
    }
   ],
   "source": [
    "fig, ax = plt.subplots(1, 1, figsize=(20,12))\n",
    "\n",
    "x_category = np.array([1,2,3,4])\n",
    "labels_category = [\"Black\", \"Hispan\", \"Married\", \"NoDegree\"]\n",
    "y_treat = [lalonde_treat.black.sum(), lalonde_treat.hispan.sum(), lalonde_treat.married.sum(), lalonde_treat.nodegree.sum()]\n",
    "y_notreat = [lalonde_notreat.black.sum(), lalonde_notreat.hispan.sum(), lalonde_notreat.married.sum(), lalonde_notreat.nodegree.sum()]\n",
    "ax.bar(x_category-0.2, y_treat, width=0.2, color='b')\n",
    "ax.bar(x_category+0.2, y_notreat, width=0.2, color='g')\n",
    "ax.set_xticks(x_category, minor=False)\n",
    "ax.set_xticklabels(labels_category)\n",
    "ax.set_ylabel('number of elements')\n",
    "ax.set_title(\"Categories\")\n",
    "ax.legend(['treated', 'not treated'])\n",
    "\n",
    "plt.show()"
   ]
  },
  {
   "cell_type": "markdown",
   "metadata": {},
   "source": [
    "* We have already stated that there are more people in the non treated group than in the treated one, but there are more black people in the treated group than in the non treated one. For the other categories, the two groups follow a similar trend."
   ]
  },
  {
   "cell_type": "markdown",
   "metadata": {},
   "source": [
    "#### Education\n",
    "* Here we want to show the difference in the two groups of years of education"
   ]
  },
  {
   "cell_type": "code",
   "execution_count": 65,
   "metadata": {},
   "outputs": [
    {
     "data": {
      "image/png": "[encoded data removed]",
      "text/plain": [
       "<matplotlib.figure.Figure at 0x11870c080>"
      ]
     },
     "metadata": {},
     "output_type": "display_data"
    }
   ],
   "source": [
    "fig, ax = plt.subplots(1, 1, figsize=(20,12))\n",
    "\n",
    "education_treat = lalonde_treat.educ.value_counts().sort_index()\n",
    "education_notreat = lalonde_notreat.educ.value_counts().sort_index()\n",
    "ax.bar(education_treat.index.values - 0.2, education_treat.values, width=0.2, color ='b')\n",
    "ax.bar(education_notreat.index.values + 0.2, education_notreat.values, width=0.2, color='g')\n",
    "ax.set_xticks(education_notreat.index.values)\n",
    "ax.set_xlabel('years of education')\n",
    "ax.set_ylabel('number of people')\n",
    "ax.set_title(\"Education per group\")\n",
    "ax.legend(['treated', 'not treated'])\n",
    "plt.show()"
   ]
  },
  {
   "cell_type": "markdown",
   "metadata": {},
   "source": [
    "* From the graph we can see that people were chosen for the treatment only between [4, 16] years of study, with a peak in 11. In the non treated group there is a peak at 12 years of studies: this leads us to think that, in general, people with at least a high school diploma (6-18 years old from elementary school to the end of high school), were less probable to be chosen in the treatment than others."
   ]
  },
  {
   "cell_type": "markdown",
   "metadata": {},
   "source": [
    "* Probably visualizing the comparison of the features in this way showed us only one part of the reality that lies behind the data, so from now on we will focus on the distributions per group."
   ]
  },
  {
   "cell_type": "markdown",
   "metadata": {},
   "source": [
    "### Distributions"
   ]
  },
  {
   "cell_type": "markdown",
   "metadata": {},
   "source": [
    "#### Age"
   ]
  },
  {
   "cell_type": "code",
   "execution_count": 67,
   "metadata": {},
   "outputs": [
    {
     "data": {
      "image/png": "[encoded data removed]",
      "text/plain": [
       "<matplotlib.figure.Figure at 0x11eb19390>"
      ]
     },
     "metadata": {},
     "output_type": "display_data"
    }
   ],
   "source": [
    "fig, axs = plt.subplots(1, 2, figsize=(18,8), sharex=True)\n",
    "\n",
    "lalonde_treat.age.hist(ax=axs[0])\n",
    "lalonde_notreat.age.hist(ax=axs[1])\n",
    "axs[0].set_xlabel(\"age\")\n",
    "axs[0].set_title(\"treated\")\n",
    "axs[1].set_xlabel(\"age\")\n",
    "axs[1].set_title(\"not treated\")\n",
    "axs[0].set_ylabel(\"count\")\n",
    "plt.show()"
   ]
  },
  {
   "cell_type": "code",
   "execution_count": 68,
   "metadata": {},
   "outputs": [
    {
     "data": {
      "text/plain": [
       "count    185.000000\n",
       "mean      25.816216\n",
       "std        7.155019\n",
       "min       17.000000\n",
       "25%       20.000000\n",
       "50%       25.000000\n",
       "75%       29.000000\n",
       "max       48.000000\n",
       "Name: age, dtype: float64"
      ]
     },
     "execution_count": 68,
     "metadata": {},
     "output_type": "execute_result"
    }
   ],
   "source": [
    "lalonde_treat.age.describe()"
   ]
  },
  {
   "cell_type": "code",
   "execution_count": 69,
   "metadata": {},
   "outputs": [
    {
     "data": {
      "text/plain": [
       "count    429.000000\n",
       "mean      28.030303\n",
       "std       10.786653\n",
       "min       16.000000\n",
       "25%       19.000000\n",
       "50%       25.000000\n",
       "75%       35.000000\n",
       "max       55.000000\n",
       "Name: age, dtype: float64"
      ]
     },
     "execution_count": 69,
     "metadata": {},
     "output_type": "execute_result"
    }
   ],
   "source": [
    "lalonde_notreat.age.describe()"
   ]
  },
  {
   "cell_type": "markdown",
   "metadata": {},
   "source": [
    "* As already stated, we can observe (here even better), that people in the treatment are in average younger than people that are not in the treatment, looking at both median and mean. We can also see that people older than 48 were not chosen to be part of the treatment (probably because due to their age it was hard to expect some serious improvement in their careers)."
   ]
  },
  {
   "cell_type": "markdown",
   "metadata": {},
   "source": [
    "#### Education"
   ]
  },
  {
   "cell_type": "code",
   "execution_count": 70,
   "metadata": {},
   "outputs": [
    {
     "data": {
      "image/png": "[encoded data removed]",
      "text/plain": [
       "<matplotlib.figure.Figure at 0x1a21c942e8>"
      ]
     },
     "metadata": {},
     "output_type": "display_data"
    }
   ],
   "source": [
    "fig, axs = plt.subplots(1, 2, figsize=(20,12), sharex=True)\n",
    "\n",
    "lalonde_treat.educ.hist(ax=axs[0])\n",
    "lalonde_notreat.educ.hist(ax=axs[1])\n",
    "axs[0].set_xlabel(\"years of education\")\n",
    "axs[0].set_title(\"treated\")\n",
    "axs[1].set_xlabel(\"years of education\")\n",
    "axs[1].set_title(\"not treated\")\n",
    "axs[0].set_ylabel(\"count\")\n",
    "plt.show()"
   ]
  },
  {
   "cell_type": "code",
   "execution_count": 71,
   "metadata": {},
   "outputs": [
    {
     "data": {
      "text/plain": [
       "count    185.000000\n",
       "mean      10.345946\n",
       "std        2.010650\n",
       "min        4.000000\n",
       "25%        9.000000\n",
       "50%       11.000000\n",
       "75%       12.000000\n",
       "max       16.000000\n",
       "Name: educ, dtype: float64"
      ]
     },
     "execution_count": 71,
     "metadata": {},
     "output_type": "execute_result"
    }
   ],
   "source": [
    "lalonde_treat.educ.describe()"
   ]
  },
  {
   "cell_type": "code",
   "execution_count": 72,
   "metadata": {},
   "outputs": [
    {
     "data": {
      "text/plain": [
       "count    429.000000\n",
       "mean      10.235431\n",
       "std        2.855238\n",
       "min        0.000000\n",
       "25%        9.000000\n",
       "50%       11.000000\n",
       "75%       12.000000\n",
       "max       18.000000\n",
       "Name: educ, dtype: float64"
      ]
     },
     "execution_count": 72,
     "metadata": {},
     "output_type": "execute_result"
    }
   ],
   "source": [
    "lalonde_notreat.educ.describe()"
   ]
  },
  {
   "cell_type": "markdown",
   "metadata": {},
   "source": [
    "* The two distributions are very similar, so probably education was not an important factor in the decision for a worker to be part of the treatment or not."
   ]
  },
  {
   "cell_type": "markdown",
   "metadata": {},
   "source": [
    "#### Categories"
   ]
  },
  {
   "cell_type": "code",
   "execution_count": 73,
   "metadata": {},
   "outputs": [
    {
     "data": {
      "image/png": "[encoded data removed]",
      "text/plain": [
       "<matplotlib.figure.Figure at 0x1a21d09dd8>"
      ]
     },
     "metadata": {},
     "output_type": "display_data"
    }
   ],
   "source": [
    "fig, axs = plt.subplots(4, 2, figsize=(20,12))\n",
    "\n",
    "lalonde_treat.black.hist(ax=axs[0,0])\n",
    "lalonde_notreat.black.hist(ax=axs[0,1])\n",
    "axs[0,0].set_xticks(np.array([0,1]))\n",
    "axs[0,0].set_xticklabels(['not black', 'black'])\n",
    "axs[0,0].set_title(\"treated\")\n",
    "axs[0,1].set_xticks(np.array([0,1]))\n",
    "axs[0,1].set_xticklabels(['not black', 'black'])\n",
    "axs[0,1].set_title(\"not treated\")\n",
    "axs[0,0].set_ylabel(\"count\")\n",
    "\n",
    "lalonde_treat.hispan.hist(ax=axs[1,0])\n",
    "lalonde_notreat.hispan.hist(ax=axs[1,1])\n",
    "axs[1,0].set_xticks(np.array([0,1]))\n",
    "axs[1,0].set_xticklabels(['not hispanic', 'hispanic'])\n",
    "axs[1,0].set_title(\"treated\")\n",
    "axs[1,1].set_xticks(np.array([0,1]))\n",
    "axs[1,1].set_xticklabels(['not hispanic', 'hispanic'])\n",
    "axs[1,1].set_title(\"not treated\")\n",
    "axs[1,0].set_ylabel(\"count\")\n",
    "\n",
    "lalonde_treat.married.hist(ax=axs[2,0])\n",
    "lalonde_notreat.married.hist(ax=axs[2,1])\n",
    "axs[2,0].set_xticks(np.array([0,1]))\n",
    "axs[2,0].set_xticklabels(['not married', 'married'])\n",
    "axs[2,0].set_title(\"treated\")\n",
    "axs[2,1].set_xticks(np.array([0,1]))\n",
    "axs[2,1].set_xticklabels(['not married', 'married'])\n",
    "axs[2,1].set_title(\"not treated\")\n",
    "axs[2,0].set_ylabel(\"count\")\n",
    "\n",
    "lalonde_treat.nodegree.hist(ax=axs[3,0])\n",
    "lalonde_notreat.nodegree.hist(ax=axs[3,1])\n",
    "axs[3,0].set_xticks(np.array([0,1]))\n",
    "axs[3,0].set_xticklabels(['with degree', 'without degree'])\n",
    "axs[3,0].set_title(\"treated\")\n",
    "axs[3,1].set_xticks(np.array([0,1]))\n",
    "axs[3,1].set_xticklabels(['with degree', 'without degree'])\n",
    "axs[3,1].set_title(\"not treated\")\n",
    "axs[3,0].set_ylabel(\"count\")\n",
    "\n",
    "plt.show()"
   ]
  },
  {
   "cell_type": "markdown",
   "metadata": {},
   "source": [
    "* From these graphs two things are clear: if a person is african-american or if it is without a degree has more chances to be chosen for the treatment. Now the question is: these data are a consequence or a reason for being chosen to be part of the treatment? We will answer to this question later in the study."
   ]
  },
  {
   "cell_type": "markdown",
   "metadata": {},
   "source": [
    "#### re74, re75"
   ]
  },
  {
   "cell_type": "code",
   "execution_count": 76,
   "metadata": {},
   "outputs": [
    {
     "data": {
      "image/png": "[encoded data removed]",
      "text/plain": [
       "<matplotlib.figure.Figure at 0x1a21cd1ac8>"
      ]
     },
     "metadata": {},
     "output_type": "display_data"
    }
   ],
   "source": [
    "fig, axs = plt.subplots(2, 2, figsize=(20,12))\n",
    "\n",
    "lalonde_treat.re74.hist(ax=axs[0,0])\n",
    "lalonde_notreat.re74.hist(ax=axs[0,1])\n",
    "lalonde_treat.re75.hist(ax=axs[1,0])\n",
    "lalonde_notreat.re75.hist(ax=axs[1,1])\n",
    "axs[0,0].set_xlabel(\"re74\")\n",
    "axs[0,0].set_title(\"treated\")\n",
    "axs[0,1].set_xlabel(\"re74\")\n",
    "axs[0,1].set_title(\"not treated\")\n",
    "axs[0,0].set_ylabel(\"count\")\n",
    "axs[1,0].set_xlabel(\"re75\")\n",
    "axs[1,0].set_title(\"treated\")\n",
    "axs[1,1].set_xlabel(\"re75\")\n",
    "axs[1,1].set_title(\"not treated\")\n",
    "axs[1,0].set_ylabel(\"count\")\n",
    "plt.show()"
   ]
  },
  {
   "cell_type": "code",
   "execution_count": 77,
   "metadata": {},
   "outputs": [
    {
     "data": {
      "text/plain": [
       "count      185.000000\n",
       "mean      2095.573689\n",
       "std       4886.620353\n",
       "min          0.000000\n",
       "25%          0.000000\n",
       "50%          0.000000\n",
       "75%       1291.468000\n",
       "max      35040.070000\n",
       "Name: re74, dtype: float64"
      ]
     },
     "execution_count": 77,
     "metadata": {},
     "output_type": "execute_result"
    }
   ],
   "source": [
    "lalonde_treat.re74.describe()"
   ]
  },
  {
   "cell_type": "code",
   "execution_count": 78,
   "metadata": {},
   "outputs": [
    {
     "data": {
      "text/plain": [
       "count      429.000000\n",
       "mean      5619.236506\n",
       "std       6788.750796\n",
       "min          0.000000\n",
       "25%          0.000000\n",
       "50%       2547.047000\n",
       "75%       9277.128000\n",
       "max      25862.320000\n",
       "Name: re74, dtype: float64"
      ]
     },
     "execution_count": 78,
     "metadata": {},
     "output_type": "execute_result"
    }
   ],
   "source": [
    "lalonde_notreat.re74.describe()"
   ]
  },
  {
   "cell_type": "code",
   "execution_count": 79,
   "metadata": {},
   "outputs": [
    {
     "data": {
      "text/plain": [
       "count      185.000000\n",
       "mean      1532.055314\n",
       "std       3219.250870\n",
       "min          0.000000\n",
       "25%          0.000000\n",
       "50%          0.000000\n",
       "75%       1817.284000\n",
       "max      25142.240000\n",
       "Name: re75, dtype: float64"
      ]
     },
     "execution_count": 79,
     "metadata": {},
     "output_type": "execute_result"
    }
   ],
   "source": [
    "lalonde_treat.re75.describe()"
   ]
  },
  {
   "cell_type": "code",
   "execution_count": 80,
   "metadata": {},
   "outputs": [
    {
     "data": {
      "text/plain": [
       "count      429.000000\n",
       "mean      2466.484443\n",
       "std       3291.996183\n",
       "min          0.000000\n",
       "25%          0.000000\n",
       "50%       1086.726000\n",
       "75%       3881.419000\n",
       "max      18347.230000\n",
       "Name: re75, dtype: float64"
      ]
     },
     "execution_count": 80,
     "metadata": {},
     "output_type": "execute_result"
    }
   ],
   "source": [
    "lalonde_notreat.re75.describe()"
   ]
  },
  {
   "cell_type": "markdown",
   "metadata": {},
   "source": [
    "* Even if the major components of these distributions are people that do not earn any money, we can clearly see that in the treated group the average of earnings in those two years were lower than the one of the other group. That makes sense, the treament goal was to improve the job position of the 'patient', and it's reasonable that the ones chosen were the ones with lower income."
   ]
  },
  {
   "cell_type": "markdown",
   "metadata": {},
   "source": [
    "#### re78"
   ]
  },
  {
   "cell_type": "code",
   "execution_count": 82,
   "metadata": {},
   "outputs": [
    {
     "data": {
      "image/png": "[encoded data removed]",
      "text/plain": [
       "<matplotlib.figure.Figure at 0x1a223d0a20>"
      ]
     },
     "metadata": {},
     "output_type": "display_data"
    }
   ],
   "source": [
    "fig, axs = plt.subplots(1, 2, figsize=(20,12))\n",
    "\n",
    "lalonde_treat.re78.hist(ax=axs[0])\n",
    "lalonde_notreat.re78.hist(ax=axs[1])\n",
    "axs[0].set_xlabel(\"re78\")\n",
    "axs[0].set_title(\"treated\")\n",
    "axs[1].set_xlabel(\"re78\")\n",
    "axs[1].set_title(\"not treated\")\n",
    "axs[0].set_ylabel(\"count\")\n",
    "plt.show()"
   ]
  },
  {
   "cell_type": "code",
   "execution_count": 22,
   "metadata": {},
   "outputs": [
    {
     "data": {
      "text/plain": [
       "count      185.000000\n",
       "mean      6349.143530\n",
       "std       7867.402218\n",
       "min          0.000000\n",
       "25%        485.229800\n",
       "50%       4232.309000\n",
       "75%       9642.999000\n",
       "max      60307.930000\n",
       "Name: re78, dtype: float64"
      ]
     },
     "execution_count": 22,
     "metadata": {},
     "output_type": "execute_result"
    }
   ],
   "source": [
    "lalonde_treat.re78.describe()"
   ]
  },
  {
   "cell_type": "code",
   "execution_count": 23,
   "metadata": {},
   "outputs": [
    {
     "data": {
      "text/plain": [
       "count      429.000000\n",
       "mean      6984.169742\n",
       "std       7294.161791\n",
       "min          0.000000\n",
       "25%        220.181300\n",
       "50%       4975.505000\n",
       "75%      11688.820000\n",
       "max      25564.670000\n",
       "Name: re78, dtype: float64"
      ]
     },
     "execution_count": 23,
     "metadata": {},
     "output_type": "execute_result"
    }
   ],
   "source": [
    "lalonde_notreat.re78.describe()"
   ]
  },
  {
   "cell_type": "markdown",
   "metadata": {},
   "source": [
    "* For completeness, we reported the same distributions of re78 that we already showed in part 1."
   ]
  },
  {
   "cell_type": "markdown",
   "metadata": {},
   "source": [
    "* Taking a closer look to the data we can see some inconsistencies in what we are doing: we are not comparing people we the same features and seeing the different results between them. The two groups, treated and control, are very different in a lot of different aspects, so it's difficult to say that we are looking in the right way. And that's why the results show us that people in the control group have an actual income that is higher than the one of the people in the treated group, because these results are wrong."
   ]
  },
  {
   "cell_type": "markdown",
   "metadata": {},
   "source": [
    "## Part 3\n",
    "\n",
    "Task: A propensity score model\n",
    "\n",
    "Use logistic regression to estimate propensity scores for all points in the dataset. You may use sklearn to fit the logistic regression model and apply it to each data point to obtain propensity scores.\n",
    "\n",
    "Note: you do not need a train/test split here. Train and apply the model on the entire dataset. If you're wondering why this is the right thing to do in this situation, recall that the propensity score model is not used in order to make predictions about unseen data. Its sole purpose is to balance the dataset across treatment groups. (See p. 74 of Rosenbaum's book for an explanation why slight overfitting is even good for propensity scores. If you want even more information, read this article.)"
   ]
  },
  {
   "cell_type": "code",
   "execution_count": 93,
   "metadata": {
    "collapsed": true
   },
   "outputs": [],
   "source": [
    "'''\n",
    "Gain 2%\n",
    "'''\n",
    "def normalize(x_par):\n",
    "    \n",
    "    x = x_par\n",
    "    \n",
    "    for column in x.columns:\n",
    "        x[column] = (x[column] - x[column].mean())/x[column].std()\n",
    "        \n",
    "    return x"
   ]
  },
  {
   "cell_type": "markdown",
   "metadata": {},
   "source": [
    "* Here we fit/train logistic regression in order to obtain a propensity score model. The propensity score is the probability that a patient is being treated given some features (covariates). Suppose that we have a binary treatment T, an outcome Y, and background variables X. The propensity score is defined as the conditional probability of treatment given background variables:"
   ]
  },
  {
   "cell_type": "code",
   "execution_count": 121,
   "metadata": {},
   "outputs": [
    {
     "data": {
      "text/latex": [
       "\\begin{align}\n",
       "p(x)\\ {\\stackrel  {{\\mathrm  {def}}}{=}}\\ \\Pr(T=1|X=x).\n",
       "\\end{align}"
      ],
      "text/plain": [
       "<IPython.core.display.Latex object>"
      ]
     },
     "metadata": {},
     "output_type": "display_data"
    }
   ],
   "source": [
    "%%latex\n",
    "\\begin{align}\n",
    "p(x)\\ {\\stackrel  {{\\mathrm  {def}}}{=}}\\ \\Pr(T=1|X=x).\n",
    "\\end{align}"
   ]
  },
  {
   "cell_type": "markdown",
   "metadata": {},
   "source": [
    "###### We should work a little bit more on the data maybe if we want to obtain a better score.\n",
    "* We also normalize the data because we obtain a better score. Of course we don't use the columns id and treat because they are not features - treat is the label - and also re78 because it refers to something that happened after being treated or not."
   ]
  },
  {
   "cell_type": "code",
   "execution_count": 95,
   "metadata": {},
   "outputs": [
    {
     "name": "stderr",
     "output_type": "stream",
     "text": [
      "/Users/lorenzotara/anaconda/lib/python3.6/site-packages/ipykernel_launcher.py:9: SettingWithCopyWarning: \n",
      "A value is trying to be set on a copy of a slice from a DataFrame.\n",
      "Try using .loc[row_indexer,col_indexer] = value instead\n",
      "\n",
      "See the caveats in the documentation: http://pandas.pydata.org/pandas-docs/stable/indexing.html#indexing-view-versus-copy\n",
      "  if __name__ == '__main__':\n"
     ]
    },
    {
     "data": {
      "text/plain": [
       "82.247557003257327"
      ]
     },
     "execution_count": 95,
     "metadata": {},
     "output_type": "execute_result"
    }
   ],
   "source": [
    "from sklearn import linear_model\n",
    "\n",
    "logistic = linear_model.LogisticRegression()\n",
    "y = lalonde.treat\n",
    "X = lalonde.drop(['id','treat', 're78'], axis=1)\n",
    "#X = pd.concat([X, np.log(X.age).rename(\"age_log\")], axis=1)\n",
    "#X = pd.concat([X, np.log(X.re78+0.1).rename(\"age_log\")], axis=1)\n",
    "\n",
    "#X = build_poly(X, 2)\n",
    "X[['age', 'educ', 're74', 're75']] = normalize(X[['age', 'educ', 're74', 're75']])\n",
    "\n",
    "logistic.fit(X, y)\n",
    "prediction = logistic.predict(X)\n",
    "accuracy = sum(prediction == y) / len(y)\n",
    "accuracy *100"
   ]
  },
  {
   "cell_type": "markdown",
   "metadata": {},
   "source": [
    "* The variable pred_proba is a ndarray of two dimensions: the first dimension is the probability that the patient is not treated (0), the second one is the propensity score, that is the probability that the patient is treated (1)."
   ]
  },
  {
   "cell_type": "code",
   "execution_count": 96,
   "metadata": {},
   "outputs": [
    {
     "data": {
      "text/plain": [
       "array([[ 0.41006396,  0.58993604],\n",
       "       [ 0.79200651,  0.20799349],\n",
       "       [ 0.31303876,  0.68696124],\n",
       "       [ 0.24798312,  0.75201688],\n",
       "       [ 0.30438622,  0.69561378],\n",
       "       [ 0.31068461,  0.68931539],\n",
       "       [ 0.33432901,  0.66567099],\n",
       "       [ 0.23551152,  0.76448848]])"
      ]
     },
     "execution_count": 96,
     "metadata": {},
     "output_type": "execute_result"
    }
   ],
   "source": [
    "pred_proba = logistic.predict_proba(X)\n",
    "pred_proba[:8]"
   ]
  },
  {
   "cell_type": "markdown",
   "metadata": {},
   "source": [
    "## Part 4\n",
    "\n",
    "Task: Balancing the dataset via matching\n",
    "\n",
    "Use the propensity scores to match each data point from the treated group with exactly one data point from the control group, while ensuring that each data point from the control group is matched with at most one data point from the treated group. (Hint: you may explore the networkx package in Python for predefined matching functions.)\n",
    "\n",
    "Your matching should maximize the similarity between matched subjects, as captured by their propensity scores. In other words, the sum (over all matched pairs) of absolute propensity-score differences between the two matched subjects should be minimized.\n",
    "\n",
    "After matching, you have as many treated as you have control subjects. Compare the outcomes (re78) between the two groups (treated and control).\n",
    "\n",
    "Also, compare again the feature-value distributions between the two groups, as you've done in part 2 above, but now only for the matched subjects. What do you observe? Are you closer to being able to draw valid conclusions now than you were before?"
   ]
  },
  {
   "cell_type": "markdown",
   "metadata": {},
   "source": [
    "* First we just take the propensity score of all the samples we have."
   ]
  },
  {
   "cell_type": "code",
   "execution_count": 97,
   "metadata": {},
   "outputs": [
    {
     "data": {
      "text/plain": [
       "array([ 0.58993604,  0.20799349,  0.68696124,  0.75201688,  0.69561378,\n",
       "        0.68931539,  0.66567099,  0.76448848,  0.76189468,  0.06050355])"
      ]
     },
     "execution_count": 97,
     "metadata": {},
     "output_type": "execute_result"
    }
   ],
   "source": [
    "from sklearn.preprocessing import StandardScaler\n",
    "from sklearn.neighbors import NearestNeighbors\n",
    "\n",
    "pscore = pred_proba[:,1]\n",
    "pscore[:10]"
   ]
  },
  {
   "cell_type": "markdown",
   "metadata": {},
   "source": [
    "* We add the propensity score to the total dataframe: matching_df."
   ]
  },
  {
   "cell_type": "code",
   "execution_count": 98,
   "metadata": {},
   "outputs": [
    {
     "data": {
      "text/html": [
       "<div>\n",
       "<style>\n",
       "    .dataframe thead tr:only-child th {\n",
       "        text-align: right;\n",
       "    }\n",
       "\n",
       "    .dataframe thead th {\n",
       "        text-align: left;\n",
       "    }\n",
       "\n",
       "    .dataframe tbody tr th {\n",
       "        vertical-align: top;\n",
       "    }\n",
       "</style>\n",
       "<table border=\"1\" class=\"dataframe\">\n",
       "  <thead>\n",
       "    <tr style=\"text-align: right;\">\n",
       "      <th></th>\n",
       "      <th>id</th>\n",
       "      <th>treat</th>\n",
       "      <th>age</th>\n",
       "      <th>educ</th>\n",
       "      <th>black</th>\n",
       "      <th>hispan</th>\n",
       "      <th>married</th>\n",
       "      <th>nodegree</th>\n",
       "      <th>re74</th>\n",
       "      <th>re75</th>\n",
       "      <th>re78</th>\n",
       "      <th>propensity</th>\n",
       "    </tr>\n",
       "  </thead>\n",
       "  <tbody>\n",
       "    <tr>\n",
       "      <th>0</th>\n",
       "      <td>NSW1</td>\n",
       "      <td>1</td>\n",
       "      <td>37</td>\n",
       "      <td>11</td>\n",
       "      <td>1</td>\n",
       "      <td>0</td>\n",
       "      <td>1</td>\n",
       "      <td>1</td>\n",
       "      <td>0.0</td>\n",
       "      <td>0.0</td>\n",
       "      <td>9930.0460</td>\n",
       "      <td>0.589936</td>\n",
       "    </tr>\n",
       "    <tr>\n",
       "      <th>1</th>\n",
       "      <td>NSW2</td>\n",
       "      <td>1</td>\n",
       "      <td>22</td>\n",
       "      <td>9</td>\n",
       "      <td>0</td>\n",
       "      <td>1</td>\n",
       "      <td>0</td>\n",
       "      <td>1</td>\n",
       "      <td>0.0</td>\n",
       "      <td>0.0</td>\n",
       "      <td>3595.8940</td>\n",
       "      <td>0.207993</td>\n",
       "    </tr>\n",
       "    <tr>\n",
       "      <th>2</th>\n",
       "      <td>NSW3</td>\n",
       "      <td>1</td>\n",
       "      <td>30</td>\n",
       "      <td>12</td>\n",
       "      <td>1</td>\n",
       "      <td>0</td>\n",
       "      <td>0</td>\n",
       "      <td>0</td>\n",
       "      <td>0.0</td>\n",
       "      <td>0.0</td>\n",
       "      <td>24909.4500</td>\n",
       "      <td>0.686961</td>\n",
       "    </tr>\n",
       "    <tr>\n",
       "      <th>3</th>\n",
       "      <td>NSW4</td>\n",
       "      <td>1</td>\n",
       "      <td>27</td>\n",
       "      <td>11</td>\n",
       "      <td>1</td>\n",
       "      <td>0</td>\n",
       "      <td>0</td>\n",
       "      <td>1</td>\n",
       "      <td>0.0</td>\n",
       "      <td>0.0</td>\n",
       "      <td>7506.1460</td>\n",
       "      <td>0.752017</td>\n",
       "    </tr>\n",
       "    <tr>\n",
       "      <th>4</th>\n",
       "      <td>NSW5</td>\n",
       "      <td>1</td>\n",
       "      <td>33</td>\n",
       "      <td>8</td>\n",
       "      <td>1</td>\n",
       "      <td>0</td>\n",
       "      <td>0</td>\n",
       "      <td>1</td>\n",
       "      <td>0.0</td>\n",
       "      <td>0.0</td>\n",
       "      <td>289.7899</td>\n",
       "      <td>0.695614</td>\n",
       "    </tr>\n",
       "  </tbody>\n",
       "</table>\n",
       "</div>"
      ],
      "text/plain": [
       "     id  treat  age  educ  black  hispan  married  nodegree  re74  re75  \\\n",
       "0  NSW1      1   37    11      1       0        1         1   0.0   0.0   \n",
       "1  NSW2      1   22     9      0       1        0         1   0.0   0.0   \n",
       "2  NSW3      1   30    12      1       0        0         0   0.0   0.0   \n",
       "3  NSW4      1   27    11      1       0        0         1   0.0   0.0   \n",
       "4  NSW5      1   33     8      1       0        0         1   0.0   0.0   \n",
       "\n",
       "         re78  propensity  \n",
       "0   9930.0460    0.589936  \n",
       "1   3595.8940    0.207993  \n",
       "2  24909.4500    0.686961  \n",
       "3   7506.1460    0.752017  \n",
       "4    289.7899    0.695614  "
      ]
     },
     "execution_count": 98,
     "metadata": {},
     "output_type": "execute_result"
    }
   ],
   "source": [
    "matching_df = lalonde\n",
    "matching_df['propensity'] = pscore\n",
    "matching_df.head()"
   ]
  },
  {
   "cell_type": "markdown",
   "metadata": {},
   "source": [
    "* We save the propensity score of the treated and of the not treated in two different variables."
   ]
  },
  {
   "cell_type": "code",
   "execution_count": 99,
   "metadata": {},
   "outputs": [
    {
     "data": {
      "text/plain": [
       "(0    0.589936\n",
       " 1    0.207993\n",
       " 2    0.686961\n",
       " 3    0.752017\n",
       " 4    0.695614\n",
       " Name: propensity, dtype: float64, 185    0.040064\n",
       " 186    0.026162\n",
       " 187    0.035043\n",
       " 188    0.047173\n",
       " 189    0.407903\n",
       " Name: propensity, dtype: float64)"
      ]
     },
     "execution_count": 99,
     "metadata": {},
     "output_type": "execute_result"
    }
   ],
   "source": [
    "propensity_treat = matching_df[matching_df.treat == 1].propensity\n",
    "propensity_notreat = matching_df[matching_df.treat == 0].propensity\n",
    "propensity_treat.head(), propensity_notreat.head()"
   ]
  },
  {
   "cell_type": "markdown",
   "metadata": {},
   "source": [
    "* In order to have comparable data we have to find for every 'patient' in the treated group the persone in the control group that is the most similar to him considering only the propensity score. Working in this way, we will get two different, but comparable, dataframes, one composed by treated workers and the other one composed by the matches of the first df on the control group df.\n",
    "* Said so, we are going to search for the nearest neighbor of a treated in the non treated taking account of only the propensity score."
   ]
  },
  {
   "cell_type": "code",
   "execution_count": 164,
   "metadata": {},
   "outputs": [
    {
     "data": {
      "text/plain": [
       "(          id  treat  age  educ  black  hispan  married  nodegree      re74  \\\n",
       " 475  PSID291      0   16     6      1       0        0         1     0.000   \n",
       " 594  PSID410      0   42    16      0       0        0         0     0.000   \n",
       " 565  PSID381      0   21    13      1       0        0         0     0.000   \n",
       " 596  PSID412      0   53    12      1       0        0         0     0.000   \n",
       " 324  PSID140      0   19     9      1       0        0         1  1079.556   \n",
       " \n",
       "            re75      re78  propensity  \n",
       " 475    44.75806      0.00    0.585095  \n",
       " 594     0.00000  23764.80    0.207170  \n",
       " 565     0.00000  17941.08    0.686556  \n",
       " 596     0.00000      0.00    0.750716  \n",
       " 324  2873.46800  14344.29    0.697579  ,\n",
       "      id  treat  age  educ  black  hispan  married  nodegree  re74  re75  \\\n",
       " 0  NSW1      1   37    11      1       0        1         1   0.0   0.0   \n",
       " 1  NSW2      1   22     9      0       1        0         1   0.0   0.0   \n",
       " 2  NSW3      1   30    12      1       0        0         0   0.0   0.0   \n",
       " 3  NSW4      1   27    11      1       0        0         1   0.0   0.0   \n",
       " 4  NSW5      1   33     8      1       0        0         1   0.0   0.0   \n",
       " \n",
       "          re78  propensity  \n",
       " 0   9930.0460    0.589936  \n",
       " 1   3595.8940    0.207993  \n",
       " 2  24909.4500    0.686961  \n",
       " 3   7506.1460    0.752017  \n",
       " 4    289.7899    0.695614  )"
      ]
     },
     "execution_count": 164,
     "metadata": {},
     "output_type": "execute_result"
    }
   ],
   "source": [
    "nbrs = NearestNeighbors(n_neighbors=1, algorithm='ball_tree').fit(propensity_notreat.values.reshape(-1,1))\n",
    "'''\n",
    "distances is an array that contains the distance between the propensity score of the treated patient \n",
    "and his nearest neighbor in the not treated patients dataset\n",
    "'''\n",
    "distances, indices = nbrs.kneighbors(propensity_treat.values.reshape(-1,1))\n",
    "'''\n",
    "These are the indices that refers to the position (not the real index!!!)\n",
    "of the neighbor in the list propensity_notreat.values.reshape(-1,1) \n",
    "because NearestNeighbors needs to have a list of list\n",
    "'''\n",
    "indices = indices.reshape(indices.shape[0])\n",
    "\n",
    "matches = matching_df[matching_df.treat == 0].iloc[indices]\n",
    "treated = matching_df[matching_df.treat == 1]\n",
    "matches.head(), treated.head()"
   ]
  },
  {
   "cell_type": "markdown",
   "metadata": {},
   "source": [
    "### Comparing distributions between treated and matches"
   ]
  },
  {
   "cell_type": "markdown",
   "metadata": {},
   "source": [
    "#### re78"
   ]
  },
  {
   "cell_type": "code",
   "execution_count": 101,
   "metadata": {},
   "outputs": [
    {
     "data": {
      "image/png": "[encoded data removed]",
      "text/plain": [
       "<matplotlib.figure.Figure at 0x1a21d309e8>"
      ]
     },
     "metadata": {},
     "output_type": "display_data"
    }
   ],
   "source": [
    "fig, axs = plt.subplots(1, 2, figsize=(20,12), sharex=True, sharey=True)\n",
    "\n",
    "treated.re78.hist(ax=axs[0])\n",
    "matches.re78.hist(ax=axs[1])\n",
    "axs[0].set_xlabel(\"re78\")\n",
    "axs[0].set_title(\"treated\")\n",
    "axs[1].set_xlabel(\"re78\")\n",
    "axs[1].set_title(\"not treated - matches\")\n",
    "axs[0].set_ylabel(\"count\")\n",
    "plt.show()"
   ]
  },
  {
   "cell_type": "code",
   "execution_count": 32,
   "metadata": {},
   "outputs": [
    {
     "data": {
      "text/plain": [
       "count      185.000000\n",
       "mean      6349.143530\n",
       "std       7867.402218\n",
       "min          0.000000\n",
       "25%        485.229800\n",
       "50%       4232.309000\n",
       "75%       9642.999000\n",
       "max      60307.930000\n",
       "Name: re78, dtype: float64"
      ]
     },
     "execution_count": 32,
     "metadata": {},
     "output_type": "execute_result"
    }
   ],
   "source": [
    "treated.re78.describe()"
   ]
  },
  {
   "cell_type": "code",
   "execution_count": 33,
   "metadata": {},
   "outputs": [
    {
     "data": {
      "text/plain": [
       "count      185.000000\n",
       "mean      4660.510105\n",
       "std       6320.127154\n",
       "min          0.000000\n",
       "25%          0.000000\n",
       "50%        803.883300\n",
       "75%       7314.747000\n",
       "max      20243.380000\n",
       "Name: re78, dtype: float64"
      ]
     },
     "execution_count": 33,
     "metadata": {},
     "output_type": "execute_result"
    }
   ],
   "source": [
    "matches.re78.describe()"
   ]
  },
  {
   "cell_type": "markdown",
   "metadata": {},
   "source": [
    "* Now that we have comparable data, we have also complete different results: now it's clear that the treatment worked! Let's see some statistics: the mean of the treated is way higher than the control group (~50% more), the median of the treatment is 4232.31, the one of the control is 803.88, there is a huge gap between the two."
   ]
  },
  {
   "cell_type": "markdown",
   "metadata": {},
   "source": [
    "#### Age"
   ]
  },
  {
   "cell_type": "code",
   "execution_count": 111,
   "metadata": {},
   "outputs": [
    {
     "data": {
      "image/png": "[encoded data removed]",
      "text/plain": [
       "<matplotlib.figure.Figure at 0x118768b00>"
      ]
     },
     "metadata": {},
     "output_type": "display_data"
    }
   ],
   "source": [
    "fig, axs = plt.subplots(1, 2, figsize=(20,12), sharey=True)\n",
    "\n",
    "treated.age.hist(ax=axs[0])\n",
    "matches.age.hist(ax=axs[1])\n",
    "axs[0].set_xlabel(\"age\")\n",
    "axs[0].set_title(\"treated\")\n",
    "axs[1].set_xlabel(\"age\")\n",
    "axs[1].set_title(\"not treated - matches\")\n",
    "axs[0].set_ylabel(\"count\")\n",
    "plt.show()"
   ]
  },
  {
   "cell_type": "code",
   "execution_count": 103,
   "metadata": {},
   "outputs": [
    {
     "data": {
      "text/plain": [
       "count    185.000000\n",
       "mean      25.816216\n",
       "std        7.155019\n",
       "min       17.000000\n",
       "25%       20.000000\n",
       "50%       25.000000\n",
       "75%       29.000000\n",
       "max       48.000000\n",
       "Name: age, dtype: float64"
      ]
     },
     "execution_count": 103,
     "metadata": {},
     "output_type": "execute_result"
    }
   ],
   "source": [
    "treated.age.describe()"
   ]
  },
  {
   "cell_type": "code",
   "execution_count": 104,
   "metadata": {},
   "outputs": [
    {
     "data": {
      "text/plain": [
       "count    185.000000\n",
       "mean      25.118919\n",
       "std       11.572405\n",
       "min       16.000000\n",
       "25%       17.000000\n",
       "50%       20.000000\n",
       "75%       31.000000\n",
       "max       55.000000\n",
       "Name: age, dtype: float64"
      ]
     },
     "execution_count": 104,
     "metadata": {},
     "output_type": "execute_result"
    }
   ],
   "source": [
    "matches.age.describe()"
   ]
  },
  {
   "cell_type": "markdown",
   "metadata": {},
   "source": [
    "* For what concerns the ages of the people in the two groups, we can say a couple of new things: people that are too young, between 17 and 20 years old, have more chances of not being treated. Instead, people in range [20,30] years old seems to be more suitable for the treatment program. Probably age is a feature to take account of."
   ]
  },
  {
   "cell_type": "markdown",
   "metadata": {},
   "source": [
    "#### Education"
   ]
  },
  {
   "cell_type": "code",
   "execution_count": 112,
   "metadata": {},
   "outputs": [
    {
     "data": {
      "image/png": "[encoded data removed]",
      "text/plain": [
       "<matplotlib.figure.Figure at 0x11f8a1c50>"
      ]
     },
     "metadata": {},
     "output_type": "display_data"
    }
   ],
   "source": [
    "fig, axs = plt.subplots(1, 2, figsize=(20,12))\n",
    "\n",
    "treated.educ.hist(ax=axs[0])\n",
    "matches.educ.hist(ax=axs[1])\n",
    "axs[0].set_xlabel(\"years of education\")\n",
    "axs[0].set_title(\"treated\")\n",
    "axs[1].set_xlabel(\"years of education\")\n",
    "axs[1].set_title(\"not treated - matches\")\n",
    "axs[0].set_ylabel(\"count\")\n",
    "plt.show()"
   ]
  },
  {
   "cell_type": "code",
   "execution_count": 113,
   "metadata": {},
   "outputs": [
    {
     "data": {
      "text/plain": [
       "count    185.000000\n",
       "mean      10.345946\n",
       "std        2.010650\n",
       "min        4.000000\n",
       "25%        9.000000\n",
       "50%       11.000000\n",
       "75%       12.000000\n",
       "max       16.000000\n",
       "Name: educ, dtype: float64"
      ]
     },
     "execution_count": 113,
     "metadata": {},
     "output_type": "execute_result"
    }
   ],
   "source": [
    "treated.educ.describe()"
   ]
  },
  {
   "cell_type": "code",
   "execution_count": 114,
   "metadata": {},
   "outputs": [
    {
     "data": {
      "text/plain": [
       "count    185.000000\n",
       "mean       9.918919\n",
       "std        2.907808\n",
       "min        1.000000\n",
       "25%        8.000000\n",
       "50%       11.000000\n",
       "75%       12.000000\n",
       "max       17.000000\n",
       "Name: educ, dtype: float64"
      ]
     },
     "execution_count": 114,
     "metadata": {},
     "output_type": "execute_result"
    }
   ],
   "source": [
    "matches.educ.describe()"
   ]
  },
  {
   "cell_type": "markdown",
   "metadata": {},
   "source": [
    "* The two distributions are very similar as they were before, for this reason education probably is not an important feature."
   ]
  },
  {
   "cell_type": "markdown",
   "metadata": {},
   "source": [
    "#### Categories"
   ]
  },
  {
   "cell_type": "code",
   "execution_count": 115,
   "metadata": {},
   "outputs": [
    {
     "data": {
      "image/png": "[encoded data removed]",
      "text/plain": [
       "<matplotlib.figure.Figure at 0x11fca09b0>"
      ]
     },
     "metadata": {},
     "output_type": "display_data"
    }
   ],
   "source": [
    "fig, axs = plt.subplots(4, 2, figsize=(20,12), sharey=True)\n",
    "\n",
    "treated.black.hist(ax=axs[0,0])\n",
    "matches.black.hist(ax=axs[0,1])\n",
    "axs[0,0].set_xticks(np.array([0,1]))\n",
    "axs[0,0].set_xticklabels(['not black', 'black'])\n",
    "axs[0,0].set_title(\"treated\")\n",
    "axs[0,1].set_xticks(np.array([0,1]))\n",
    "axs[0,1].set_xticklabels(['not black', 'black'])\n",
    "axs[0,1].set_title(\"not treated - matches\")\n",
    "axs[0,0].set_ylabel(\"count\")\n",
    "\n",
    "treated.hispan.hist(ax=axs[1,0])\n",
    "matches.hispan.hist(ax=axs[1,1])\n",
    "axs[1,0].set_xticks(np.array([0,1]))\n",
    "axs[1,0].set_xticklabels(['not hispanic', 'hispanic'])\n",
    "axs[1,0].set_title(\"treated\")\n",
    "axs[1,1].set_xticks(np.array([0,1]))\n",
    "axs[1,1].set_xticklabels(['not hispanic', 'hispanic'])\n",
    "axs[1,1].set_title(\"not treated - matches\")\n",
    "axs[1,0].set_ylabel(\"count\")\n",
    "\n",
    "treated.married.hist(ax=axs[2,0])\n",
    "matches.married.hist(ax=axs[2,1])\n",
    "axs[2,0].set_xticks(np.array([0,1]))\n",
    "axs[2,0].set_xticklabels(['not married', 'married'])\n",
    "axs[2,0].set_title(\"treated\")\n",
    "axs[2,1].set_xticks(np.array([0,1]))\n",
    "axs[2,1].set_xticklabels(['not married', 'married'])\n",
    "axs[2,1].set_title(\"not treated - matches\")\n",
    "axs[2,0].set_ylabel(\"count\")\n",
    "\n",
    "treated.nodegree.hist(ax=axs[3,0])\n",
    "matches.nodegree.hist(ax=axs[3,1])\n",
    "axs[3,0].set_xticks(np.array([0,1]))\n",
    "axs[3,0].set_xticklabels(['with degree', 'without degree'])\n",
    "axs[3,0].set_title(\"treated\")\n",
    "axs[3,1].set_xticks(np.array([0,1]))\n",
    "axs[3,1].set_xticklabels(['with degree', 'without degree'])\n",
    "axs[3,1].set_title(\"not treated - matches\")\n",
    "axs[3,0].set_ylabel(\"count\")\n",
    "\n",
    "plt.show()"
   ]
  },
  {
   "cell_type": "markdown",
   "metadata": {},
   "source": [
    "* Do you remember when in Part 2 we asked this question: \"From these graphs two things are clear: if a person is african-american or if it is without a degree has more chances to be chosen for the treatment. Now the question is: these data are a consequence or a reason for being chosen to be part of the treatment? We will answer to this question later in the study.\" As already stated, the results were wrong, because we were looking at the data in the wrong way, so the question was wrong as well! This is a good example of the importance of looking at the data in a good and scientific way, trying to go as deeper as you can.\n",
    "* So, the answer is that we can see that there are no differences in the categories, the two distributions are almost identical. The categorical features are not important for the propensity score."
   ]
  },
  {
   "cell_type": "markdown",
   "metadata": {},
   "source": [
    "#### re74, re75"
   ]
  },
  {
   "cell_type": "code",
   "execution_count": 116,
   "metadata": {},
   "outputs": [
    {
     "data": {
      "image/png": "[encoded data removed]",
      "text/plain": [
       "<matplotlib.figure.Figure at 0x11fd438d0>"
      ]
     },
     "metadata": {},
     "output_type": "display_data"
    }
   ],
   "source": [
    "fig, axs = plt.subplots(2, 2, figsize=(20,12), sharex=True, sharey=True)\n",
    "\n",
    "treated.re74.hist(ax=axs[0,0])\n",
    "matches.re74.hist(ax=axs[0,1])\n",
    "treated.re75.hist(ax=axs[1,0])\n",
    "matches.re75.hist(ax=axs[1,1])\n",
    "axs[0,0].set_xlabel(\"re74\")\n",
    "axs[0,0].set_title(\"treated\")\n",
    "axs[0,1].set_xlabel(\"re74\")\n",
    "axs[0,1].set_title(\"not treated - matches\")\n",
    "axs[0,0].set_ylabel(\"count\")\n",
    "axs[1,0].set_xlabel(\"re75\")\n",
    "axs[1,0].set_title(\"treated\")\n",
    "axs[1,1].set_xlabel(\"re75\")\n",
    "axs[1,1].set_title(\"not treated - matches\")\n",
    "axs[1,0].set_ylabel(\"count\")\n",
    "plt.show()"
   ]
  },
  {
   "cell_type": "code",
   "execution_count": 122,
   "metadata": {},
   "outputs": [
    {
     "data": {
      "text/plain": [
       "count      185.000000\n",
       "mean      2095.573689\n",
       "std       4886.620353\n",
       "min          0.000000\n",
       "25%          0.000000\n",
       "50%          0.000000\n",
       "75%       1291.468000\n",
       "max      35040.070000\n",
       "Name: re74, dtype: float64"
      ]
     },
     "execution_count": 122,
     "metadata": {},
     "output_type": "execute_result"
    }
   ],
   "source": [
    "treated.re74.describe()"
   ]
  },
  {
   "cell_type": "code",
   "execution_count": 123,
   "metadata": {},
   "outputs": [
    {
     "data": {
      "text/plain": [
       "count      185.000000\n",
       "mean      1749.868894\n",
       "std       3800.081692\n",
       "min          0.000000\n",
       "25%          0.000000\n",
       "50%          0.000000\n",
       "75%       1714.358000\n",
       "max      17135.750000\n",
       "Name: re74, dtype: float64"
      ]
     },
     "execution_count": 123,
     "metadata": {},
     "output_type": "execute_result"
    }
   ],
   "source": [
    "matches.re74.describe()"
   ]
  },
  {
   "cell_type": "code",
   "execution_count": 124,
   "metadata": {
    "scrolled": true
   },
   "outputs": [
    {
     "data": {
      "text/plain": [
       "count      185.000000\n",
       "mean      1532.055314\n",
       "std       3219.250870\n",
       "min          0.000000\n",
       "25%          0.000000\n",
       "50%          0.000000\n",
       "75%       1817.284000\n",
       "max      25142.240000\n",
       "Name: re75, dtype: float64"
      ]
     },
     "execution_count": 124,
     "metadata": {},
     "output_type": "execute_result"
    }
   ],
   "source": [
    "treated.re75.describe()"
   ]
  },
  {
   "cell_type": "code",
   "execution_count": 125,
   "metadata": {
    "scrolled": false
   },
   "outputs": [
    {
     "data": {
      "text/plain": [
       "count      185.00000\n",
       "mean      1455.60965\n",
       "std       2402.83917\n",
       "min          0.00000\n",
       "25%          0.00000\n",
       "50%        297.19350\n",
       "75%       1623.82300\n",
       "max      12396.19000\n",
       "Name: re75, dtype: float64"
      ]
     },
     "execution_count": 125,
     "metadata": {},
     "output_type": "execute_result"
    }
   ],
   "source": [
    "matches.re75.describe()"
   ]
  },
  {
   "cell_type": "markdown",
   "metadata": {},
   "source": [
    "* We can clearly see that the distributions between the two groups are imbalanced, so probably we will have to work more on these ones (see part 5)."
   ]
  },
  {
   "cell_type": "markdown",
   "metadata": {},
   "source": [
    "* We can say that now we are able to draw more valid conclusions than before, because, using the matches we found from the treated group, we are comparing two dataframes where the data have similar features values. Like we already said, doing this comparison, we have found that the treatment actually worked, increasing the income of the people that participated to the experiment."
   ]
  },
  {
   "cell_type": "markdown",
   "metadata": {},
   "source": [
    "## Part 5\n",
    "\n",
    "Task: Balancing the groups further\n",
    "\n",
    "Based on your comparison of feature-value distributions from part 4, are you fully satisfied with your matching? Would you say your dataset is sufficiently balanced? If not, in what ways could the \"balanced\" dataset you have obtained still not allow you to draw valid conclusions?\n",
    "\n",
    "Improve your matching by explicitly making sure that you match only subjects that have the same value for the problematic feature. Argue with numbers and plots that the two groups (treated and control) are now better balanced than after part 4."
   ]
  },
  {
   "cell_type": "markdown",
   "metadata": {},
   "source": [
    "* Answer: Based on your comparison of feature-value distributions from part 4, are you fully satisfied with your matching? Would you say your dataset is sufficiently balanced? If not, in what ways could the \"balanced\" dataset you have obtained still not allow you to draw valid conclusions?\n",
    "##### Even if our conclusions were more reliable than before, we can still see some imbalance between the two datasets and, as suggested, we can make sure that the features (age, ???education???NO) with imbalanced distributions will match better than before."
   ]
  },
  {
   "cell_type": "markdown",
   "metadata": {},
   "source": [
    "* Improve your matching by explicitly making sure that you match only subjects that have the same value for the problematic feature. Argue with numbers and plots that the two groups (treated and control) are now better balanced than after part 4."
   ]
  },
  {
   "cell_type": "markdown",
   "metadata": {},
   "source": [
    "* We believe that the 'problematic features' are also the earnings of the person the previous year of the training and also his age. We thought that these two features are the critical ones because earnings and age are what define a job's situation of a person... REVIEW"
   ]
  },
  {
   "cell_type": "code",
   "execution_count": 126,
   "metadata": {},
   "outputs": [
    {
     "data": {
      "text/html": [
       "<div>\n",
       "<style>\n",
       "    .dataframe thead tr:only-child th {\n",
       "        text-align: right;\n",
       "    }\n",
       "\n",
       "    .dataframe thead th {\n",
       "        text-align: left;\n",
       "    }\n",
       "\n",
       "    .dataframe tbody tr th {\n",
       "        vertical-align: top;\n",
       "    }\n",
       "</style>\n",
       "<table border=\"1\" class=\"dataframe\">\n",
       "  <thead>\n",
       "    <tr style=\"text-align: right;\">\n",
       "      <th></th>\n",
       "      <th>id</th>\n",
       "      <th>treat</th>\n",
       "      <th>age</th>\n",
       "      <th>educ</th>\n",
       "      <th>black</th>\n",
       "      <th>hispan</th>\n",
       "      <th>married</th>\n",
       "      <th>nodegree</th>\n",
       "      <th>re74</th>\n",
       "      <th>re75</th>\n",
       "      <th>re78</th>\n",
       "      <th>propensity</th>\n",
       "    </tr>\n",
       "  </thead>\n",
       "  <tbody>\n",
       "    <tr>\n",
       "      <th>0</th>\n",
       "      <td>NSW1</td>\n",
       "      <td>1</td>\n",
       "      <td>37</td>\n",
       "      <td>11</td>\n",
       "      <td>1</td>\n",
       "      <td>0</td>\n",
       "      <td>1</td>\n",
       "      <td>1</td>\n",
       "      <td>0.0</td>\n",
       "      <td>0.0</td>\n",
       "      <td>9930.0460</td>\n",
       "      <td>0.589936</td>\n",
       "    </tr>\n",
       "    <tr>\n",
       "      <th>1</th>\n",
       "      <td>NSW2</td>\n",
       "      <td>1</td>\n",
       "      <td>22</td>\n",
       "      <td>9</td>\n",
       "      <td>0</td>\n",
       "      <td>1</td>\n",
       "      <td>0</td>\n",
       "      <td>1</td>\n",
       "      <td>0.0</td>\n",
       "      <td>0.0</td>\n",
       "      <td>3595.8940</td>\n",
       "      <td>0.207993</td>\n",
       "    </tr>\n",
       "    <tr>\n",
       "      <th>2</th>\n",
       "      <td>NSW3</td>\n",
       "      <td>1</td>\n",
       "      <td>30</td>\n",
       "      <td>12</td>\n",
       "      <td>1</td>\n",
       "      <td>0</td>\n",
       "      <td>0</td>\n",
       "      <td>0</td>\n",
       "      <td>0.0</td>\n",
       "      <td>0.0</td>\n",
       "      <td>24909.4500</td>\n",
       "      <td>0.686961</td>\n",
       "    </tr>\n",
       "    <tr>\n",
       "      <th>3</th>\n",
       "      <td>NSW4</td>\n",
       "      <td>1</td>\n",
       "      <td>27</td>\n",
       "      <td>11</td>\n",
       "      <td>1</td>\n",
       "      <td>0</td>\n",
       "      <td>0</td>\n",
       "      <td>1</td>\n",
       "      <td>0.0</td>\n",
       "      <td>0.0</td>\n",
       "      <td>7506.1460</td>\n",
       "      <td>0.752017</td>\n",
       "    </tr>\n",
       "    <tr>\n",
       "      <th>4</th>\n",
       "      <td>NSW5</td>\n",
       "      <td>1</td>\n",
       "      <td>33</td>\n",
       "      <td>8</td>\n",
       "      <td>1</td>\n",
       "      <td>0</td>\n",
       "      <td>0</td>\n",
       "      <td>1</td>\n",
       "      <td>0.0</td>\n",
       "      <td>0.0</td>\n",
       "      <td>289.7899</td>\n",
       "      <td>0.695614</td>\n",
       "    </tr>\n",
       "  </tbody>\n",
       "</table>\n",
       "</div>"
      ],
      "text/plain": [
       "     id  treat  age  educ  black  hispan  married  nodegree  re74  re75  \\\n",
       "0  NSW1      1   37    11      1       0        1         1   0.0   0.0   \n",
       "1  NSW2      1   22     9      0       1        0         1   0.0   0.0   \n",
       "2  NSW3      1   30    12      1       0        0         0   0.0   0.0   \n",
       "3  NSW4      1   27    11      1       0        0         1   0.0   0.0   \n",
       "4  NSW5      1   33     8      1       0        0         1   0.0   0.0   \n",
       "\n",
       "         re78  propensity  \n",
       "0   9930.0460    0.589936  \n",
       "1   3595.8940    0.207993  \n",
       "2  24909.4500    0.686961  \n",
       "3   7506.1460    0.752017  \n",
       "4    289.7899    0.695614  "
      ]
     },
     "execution_count": 126,
     "metadata": {},
     "output_type": "execute_result"
    }
   ],
   "source": [
    "matching_df.head()"
   ]
  },
  {
   "cell_type": "code",
   "execution_count": 165,
   "metadata": {},
   "outputs": [
    {
     "data": {
      "text/plain": [
       "(   re74  re75  propensity\n",
       " 0   0.0   0.0    0.589936\n",
       " 1   0.0   0.0    0.207993\n",
       " 2   0.0   0.0    0.686961\n",
       " 3   0.0   0.0    0.752017\n",
       " 4   0.0   0.0    0.695614,          re74      re75  propensity\n",
       " 185  20166.73  18347.23    0.040064\n",
       " 186  25862.32  17806.55    0.026162\n",
       " 187  25862.32  15316.21    0.035043\n",
       " 188  21787.05  14265.29    0.047173\n",
       " 189  14829.69  13776.53    0.407903)"
      ]
     },
     "execution_count": 165,
     "metadata": {},
     "output_type": "execute_result"
    }
   ],
   "source": [
    "# treated_features = matching_df[matching_df.treat == 1][['age', 're75', 'propensity']]\n",
    "# notreated_features = matching_df[matching_df.treat == 0][['age', 're75', 'propensity']]\n",
    "# treated_features.head(), notreated_features.head()\n",
    "\n",
    "# treated_features = matching_df[matching_df.treat == 1][['age', 'propensity']]\n",
    "# notreated_features = matching_df[matching_df.treat == 0][['age', 'propensity']]\n",
    "\n",
    "treated_features = matching_df[matching_df.treat == 1][['re74', 're75', 'propensity']]\n",
    "notreated_features = matching_df[matching_df.treat == 0][['re74', 're75', 'propensity']]\n",
    "\n",
    "treated_features.head(), notreated_features.head()"
   ]
  },
  {
   "cell_type": "markdown",
   "metadata": {},
   "source": [
    "* Here we use again 'nearest neighbor' in order to find the matches, this time considering not only propensity, but also age and re75."
   ]
  },
  {
   "cell_type": "code",
   "execution_count": 166,
   "metadata": {},
   "outputs": [
    {
     "data": {
      "text/plain": [
       "(     age  re75  propensity\n",
       " 552   40   0.0    0.600105\n",
       " 594   42   0.0    0.207170\n",
       " 565   21   0.0    0.686556\n",
       " 596   53   0.0    0.750716\n",
       " 590   16   0.0    0.697742,    age  re75  propensity\n",
       " 0   37   0.0    0.589936\n",
       " 1   22   0.0    0.207993\n",
       " 2   30   0.0    0.686961\n",
       " 3   27   0.0    0.752017\n",
       " 4   33   0.0    0.695614)"
      ]
     },
     "execution_count": 166,
     "metadata": {},
     "output_type": "execute_result"
    }
   ],
   "source": [
    "nbrs = NearestNeighbors(n_neighbors=1, algorithm='ball_tree').fit(notreated_features)\n",
    "'''\n",
    "distances is an array that contains the distance between the treated patient \n",
    "and his nearest neighbor in the not treated patients dataset\n",
    "'''\n",
    "distances, indices = nbrs.kneighbors(treated_features)\n",
    "'''\n",
    "These are the indices that refers to the position (not the real index!!!)\n",
    "of the neighbor in the list propensity_notreat.values.reshape(-1,1)\n",
    "'''\n",
    "indices = indices.reshape(indices.shape[0])\n",
    "\n",
    "matches_critical = matching_df[matching_df.treat == 0].iloc[indices]\n",
    "treated_critical = matching_df[matching_df.treat == 1]\n",
    "matches_critical[['age','re75','propensity']].head(), treated_critical[['age','re75','propensity']].head()"
   ]
  },
  {
   "cell_type": "markdown",
   "metadata": {},
   "source": [
    "### Comparing distributions between treated and matches with critical features\n",
    "\n",
    "* First we are going to compare the final income of the treated group and the control group.\n",
    "* We should find more balance between the two groups than before because we didn't use only propensity score, but also critical features."
   ]
  },
  {
   "cell_type": "markdown",
   "metadata": {},
   "source": [
    "#### re78"
   ]
  },
  {
   "cell_type": "code",
   "execution_count": 167,
   "metadata": {
    "scrolled": false
   },
   "outputs": [
    {
     "data": {
      "image/png": "[encoded data removed]",
      "text/plain": [
       "<matplotlib.figure.Figure at 0x11ee7a0f0>"
      ]
     },
     "metadata": {},
     "output_type": "display_data"
    }
   ],
   "source": [
    "fig, axs = plt.subplots(1, 2, figsize=(20,12), sharex=True, sharey=True)\n",
    "\n",
    "treated_critical.re78.hist(ax=axs[0])\n",
    "matches_critical.re78.hist(ax=axs[1])\n",
    "axs[0].set_xlabel(\"re78\")\n",
    "axs[0].set_title(\"treated with problematic features\")\n",
    "axs[1].set_xlabel(\"re78\")\n",
    "axs[1].set_title(\"not treated with problematic features - matches\")\n",
    "axs[0].set_ylabel(\"count\")\n",
    "plt.show()"
   ]
  },
  {
   "cell_type": "code",
   "execution_count": 168,
   "metadata": {},
   "outputs": [
    {
     "data": {
      "text/plain": [
       "count      185.000000\n",
       "mean      6349.143530\n",
       "std       7867.402218\n",
       "min          0.000000\n",
       "25%        485.229800\n",
       "50%       4232.309000\n",
       "75%       9642.999000\n",
       "max      60307.930000\n",
       "Name: re78, dtype: float64"
      ]
     },
     "execution_count": 168,
     "metadata": {},
     "output_type": "execute_result"
    }
   ],
   "source": [
    "treated_critical.re78.describe()"
   ]
  },
  {
   "cell_type": "code",
   "execution_count": 169,
   "metadata": {},
   "outputs": [
    {
     "data": {
      "text/plain": [
       "count      185.000000\n",
       "mean      5054.783492\n",
       "std       7062.459657\n",
       "min          0.000000\n",
       "25%          0.000000\n",
       "50%       1454.083000\n",
       "75%       9166.338000\n",
       "max      25564.670000\n",
       "Name: re78, dtype: float64"
      ]
     },
     "execution_count": 169,
     "metadata": {},
     "output_type": "execute_result"
    }
   ],
   "source": [
    "matches_critical.re78.describe()"
   ]
  },
  {
   "cell_type": "markdown",
   "metadata": {},
   "source": [
    "#### Age"
   ]
  },
  {
   "cell_type": "code",
   "execution_count": 170,
   "metadata": {},
   "outputs": [
    {
     "data": {
      "image/png": "[encoded data removed]",
      "text/plain": [
       "<matplotlib.figure.Figure at 0x11ef00b70>"
      ]
     },
     "metadata": {},
     "output_type": "display_data"
    }
   ],
   "source": [
    "fig, axs = plt.subplots(1, 2, figsize=(20,12), sharex=True, sharey=True)\n",
    "\n",
    "treated_critical.age.hist(ax=axs[0])\n",
    "matches_critical.age.hist(ax=axs[1])\n",
    "axs[0].set_xlabel(\"age\")\n",
    "axs[0].set_title(\"treated with problematic features\")\n",
    "axs[1].set_xlabel(\"age\")\n",
    "axs[1].set_title(\"not treated with problematic features - matches\")\n",
    "axs[0].set_ylabel(\"count\")\n",
    "plt.show()"
   ]
  },
  {
   "cell_type": "code",
   "execution_count": 176,
   "metadata": {},
   "outputs": [
    {
     "data": {
      "text/plain": [
       "count    185.000000\n",
       "mean      25.816216\n",
       "std        7.155019\n",
       "min       17.000000\n",
       "25%       20.000000\n",
       "50%       25.000000\n",
       "75%       29.000000\n",
       "max       48.000000\n",
       "Name: age, dtype: float64"
      ]
     },
     "execution_count": 176,
     "metadata": {},
     "output_type": "execute_result"
    }
   ],
   "source": [
    "treated_critical.age.describe()"
   ]
  },
  {
   "cell_type": "code",
   "execution_count": 177,
   "metadata": {},
   "outputs": [
    {
     "data": {
      "text/plain": [
       "count    185.000000\n",
       "mean      29.664865\n",
       "std       12.796319\n",
       "min       16.000000\n",
       "25%       19.000000\n",
       "50%       24.000000\n",
       "75%       40.000000\n",
       "max       55.000000\n",
       "Name: age, dtype: float64"
      ]
     },
     "execution_count": 177,
     "metadata": {},
     "output_type": "execute_result"
    }
   ],
   "source": [
    "matches_critical.age.describe()"
   ]
  },
  {
   "cell_type": "markdown",
   "metadata": {},
   "source": [
    "#### Education"
   ]
  },
  {
   "cell_type": "code",
   "execution_count": 171,
   "metadata": {},
   "outputs": [
    {
     "data": {
      "image/png": "[encoded data removed]",
      "text/plain": [
       "<matplotlib.figure.Figure at 0x1a229f9668>"
      ]
     },
     "metadata": {},
     "output_type": "display_data"
    }
   ],
   "source": [
    "fig, axs = plt.subplots(1, 2, figsize=(20,12), sharex=True, sharey=True)\n",
    "\n",
    "treated_critical.educ.hist(ax=axs[0])\n",
    "matches_critical.educ.hist(ax=axs[1])\n",
    "axs[0].set_xlabel(\"years of education\")\n",
    "axs[0].set_title(\"treated with problematic features\")\n",
    "axs[1].set_xlabel(\"years of education\")\n",
    "axs[1].set_title(\"not treated with problematic features - matches\")\n",
    "axs[0].set_ylabel(\"count\")\n",
    "plt.show()"
   ]
  },
  {
   "cell_type": "markdown",
   "metadata": {},
   "source": [
    "#### Categories"
   ]
  },
  {
   "cell_type": "code",
   "execution_count": 172,
   "metadata": {},
   "outputs": [
    {
     "data": {
      "image/png": "[encoded data removed]",
      "text/plain": [
       "<matplotlib.figure.Figure at 0x11f372358>"
      ]
     },
     "metadata": {},
     "output_type": "display_data"
    }
   ],
   "source": [
    "fig, axs = plt.subplots(4, 2, figsize=(20,12), sharey=True)\n",
    "\n",
    "treated_critical.black.hist(ax=axs[0,0])\n",
    "matches_critical.black.hist(ax=axs[0,1])\n",
    "axs[0,0].set_xticks(np.array([0,1]))\n",
    "axs[0,0].set_xticklabels(['not black', 'black'])\n",
    "axs[0,0].set_title(\"treated with problematic features\")\n",
    "axs[0,1].set_xticks(np.array([0,1]))\n",
    "axs[0,1].set_xticklabels(['not black', 'black'])\n",
    "axs[0,1].set_title(\"not treated with problematic features - matches\")\n",
    "axs[0,0].set_ylabel(\"count\")\n",
    "\n",
    "treated_critical.hispan.hist(ax=axs[1,0])\n",
    "matches_critical.hispan.hist(ax=axs[1,1])\n",
    "axs[1,0].set_xticks(np.array([0,1]))\n",
    "axs[1,0].set_xticklabels(['not hispanic', 'hispanic'])\n",
    "axs[1,0].set_title(\"treated with problematic features\")\n",
    "axs[1,1].set_xticks(np.array([0,1]))\n",
    "axs[1,1].set_xticklabels(['not hispanic', 'hispanic'])\n",
    "axs[1,1].set_title(\"not treated with problematic features - matches\")\n",
    "axs[1,0].set_ylabel(\"count\")\n",
    "\n",
    "treated_critical.married.hist(ax=axs[2,0])\n",
    "matches_critical.married.hist(ax=axs[2,1])\n",
    "axs[2,0].set_xticks(np.array([0,1]))\n",
    "axs[2,0].set_xticklabels(['not married', 'married'])\n",
    "axs[2,0].set_title(\"treated with problematic features\")\n",
    "axs[2,1].set_xticks(np.array([0,1]))\n",
    "axs[2,1].set_xticklabels(['not married', 'married'])\n",
    "axs[2,1].set_title(\"not treated with problematic features - matches\")\n",
    "axs[2,0].set_ylabel(\"count\")\n",
    "\n",
    "treated_critical.nodegree.hist(ax=axs[3,0])\n",
    "matches_critical.nodegree.hist(ax=axs[3,1])\n",
    "axs[3,0].set_xticks(np.array([0,1]))\n",
    "axs[3,0].set_xticklabels(['with degree', 'without degree'])\n",
    "axs[3,0].set_title(\"treated with problematic features\")\n",
    "axs[3,1].set_xticks(np.array([0,1]))\n",
    "axs[3,1].set_xticklabels(['with degree', 'without degree'])\n",
    "axs[3,1].set_title(\"not treated with problematic features - matches\")\n",
    "axs[3,0].set_ylabel(\"count\")\n",
    "\n",
    "plt.show()"
   ]
  },
  {
   "cell_type": "markdown",
   "metadata": {},
   "source": [
    "#### re74, re75"
   ]
  },
  {
   "cell_type": "code",
   "execution_count": 173,
   "metadata": {},
   "outputs": [
    {
     "data": {
      "image/png": "[encoded data removed]",
      "text/plain": [
       "<matplotlib.figure.Figure at 0x1a221970f0>"
      ]
     },
     "metadata": {},
     "output_type": "display_data"
    }
   ],
   "source": [
    "fig, axs = plt.subplots(2, 2, figsize=(20,12), sharex=True, sharey=True)\n",
    "\n",
    "treated_critical.re74.hist(ax=axs[0,0])\n",
    "matches_critical.re74.hist(ax=axs[0,1])\n",
    "treated_critical.re75.hist(ax=axs[1,0])\n",
    "matches_critical.re75.hist(ax=axs[1,1])\n",
    "axs[0,0].set_xlabel(\"re74\")\n",
    "axs[0,0].set_title(\"treated with problematic features\")\n",
    "axs[0,1].set_xlabel(\"re74\")\n",
    "axs[0,1].set_title(\"not treated with problematic features - matches\")\n",
    "axs[0,0].set_ylabel(\"count\")\n",
    "axs[1,0].set_xlabel(\"re75\")\n",
    "axs[1,0].set_title(\"treated with problematic features\")\n",
    "axs[1,1].set_xlabel(\"re75\")\n",
    "axs[1,1].set_title(\"not treated with problematic features - matches\")\n",
    "axs[1,0].set_ylabel(\"count\")\n",
    "plt.show()"
   ]
  },
  {
   "cell_type": "code",
   "execution_count": 174,
   "metadata": {},
   "outputs": [
    {
     "data": {
      "text/html": [
       "<div>\n",
       "<style>\n",
       "    .dataframe thead tr:only-child th {\n",
       "        text-align: right;\n",
       "    }\n",
       "\n",
       "    .dataframe thead th {\n",
       "        text-align: left;\n",
       "    }\n",
       "\n",
       "    .dataframe tbody tr th {\n",
       "        vertical-align: top;\n",
       "    }\n",
       "</style>\n",
       "<table border=\"1\" class=\"dataframe\">\n",
       "  <thead>\n",
       "    <tr style=\"text-align: right;\">\n",
       "      <th></th>\n",
       "      <th>treat</th>\n",
       "      <th>age</th>\n",
       "      <th>educ</th>\n",
       "      <th>black</th>\n",
       "      <th>hispan</th>\n",
       "      <th>married</th>\n",
       "      <th>nodegree</th>\n",
       "      <th>re74</th>\n",
       "      <th>re75</th>\n",
       "      <th>re78</th>\n",
       "      <th>propensity</th>\n",
       "    </tr>\n",
       "  </thead>\n",
       "  <tbody>\n",
       "    <tr>\n",
       "      <th>count</th>\n",
       "      <td>185.0</td>\n",
       "      <td>185.000000</td>\n",
       "      <td>185.000000</td>\n",
       "      <td>185.000000</td>\n",
       "      <td>185.000000</td>\n",
       "      <td>185.000000</td>\n",
       "      <td>185.000000</td>\n",
       "      <td>185.000000</td>\n",
       "      <td>185.000000</td>\n",
       "      <td>185.000000</td>\n",
       "      <td>185.000000</td>\n",
       "    </tr>\n",
       "    <tr>\n",
       "      <th>mean</th>\n",
       "      <td>1.0</td>\n",
       "      <td>25.816216</td>\n",
       "      <td>10.345946</td>\n",
       "      <td>0.843243</td>\n",
       "      <td>0.059459</td>\n",
       "      <td>0.189189</td>\n",
       "      <td>0.708108</td>\n",
       "      <td>2095.573689</td>\n",
       "      <td>1532.055314</td>\n",
       "      <td>6349.143530</td>\n",
       "      <td>0.569691</td>\n",
       "    </tr>\n",
       "    <tr>\n",
       "      <th>std</th>\n",
       "      <td>0.0</td>\n",
       "      <td>7.155019</td>\n",
       "      <td>2.010650</td>\n",
       "      <td>0.364558</td>\n",
       "      <td>0.237124</td>\n",
       "      <td>0.392722</td>\n",
       "      <td>0.455867</td>\n",
       "      <td>4886.620353</td>\n",
       "      <td>3219.250870</td>\n",
       "      <td>7867.402218</td>\n",
       "      <td>0.211655</td>\n",
       "    </tr>\n",
       "    <tr>\n",
       "      <th>min</th>\n",
       "      <td>1.0</td>\n",
       "      <td>17.000000</td>\n",
       "      <td>4.000000</td>\n",
       "      <td>0.000000</td>\n",
       "      <td>0.000000</td>\n",
       "      <td>0.000000</td>\n",
       "      <td>0.000000</td>\n",
       "      <td>0.000000</td>\n",
       "      <td>0.000000</td>\n",
       "      <td>0.000000</td>\n",
       "      <td>0.036555</td>\n",
       "    </tr>\n",
       "    <tr>\n",
       "      <th>25%</th>\n",
       "      <td>1.0</td>\n",
       "      <td>20.000000</td>\n",
       "      <td>9.000000</td>\n",
       "      <td>1.000000</td>\n",
       "      <td>0.000000</td>\n",
       "      <td>0.000000</td>\n",
       "      <td>0.000000</td>\n",
       "      <td>0.000000</td>\n",
       "      <td>0.000000</td>\n",
       "      <td>485.229800</td>\n",
       "      <td>0.519606</td>\n",
       "    </tr>\n",
       "    <tr>\n",
       "      <th>50%</th>\n",
       "      <td>1.0</td>\n",
       "      <td>25.000000</td>\n",
       "      <td>11.000000</td>\n",
       "      <td>1.000000</td>\n",
       "      <td>0.000000</td>\n",
       "      <td>0.000000</td>\n",
       "      <td>1.000000</td>\n",
       "      <td>0.000000</td>\n",
       "      <td>0.000000</td>\n",
       "      <td>4232.309000</td>\n",
       "      <td>0.662079</td>\n",
       "    </tr>\n",
       "    <tr>\n",
       "      <th>75%</th>\n",
       "      <td>1.0</td>\n",
       "      <td>29.000000</td>\n",
       "      <td>12.000000</td>\n",
       "      <td>1.000000</td>\n",
       "      <td>0.000000</td>\n",
       "      <td>0.000000</td>\n",
       "      <td>1.000000</td>\n",
       "      <td>1291.468000</td>\n",
       "      <td>1817.284000</td>\n",
       "      <td>9642.999000</td>\n",
       "      <td>0.715502</td>\n",
       "    </tr>\n",
       "    <tr>\n",
       "      <th>max</th>\n",
       "      <td>1.0</td>\n",
       "      <td>48.000000</td>\n",
       "      <td>16.000000</td>\n",
       "      <td>1.000000</td>\n",
       "      <td>1.000000</td>\n",
       "      <td>1.000000</td>\n",
       "      <td>1.000000</td>\n",
       "      <td>35040.070000</td>\n",
       "      <td>25142.240000</td>\n",
       "      <td>60307.930000</td>\n",
       "      <td>0.833513</td>\n",
       "    </tr>\n",
       "  </tbody>\n",
       "</table>\n",
       "</div>"
      ],
      "text/plain": [
       "       treat         age        educ       black      hispan     married  \\\n",
       "count  185.0  185.000000  185.000000  185.000000  185.000000  185.000000   \n",
       "mean     1.0   25.816216   10.345946    0.843243    0.059459    0.189189   \n",
       "std      0.0    7.155019    2.010650    0.364558    0.237124    0.392722   \n",
       "min      1.0   17.000000    4.000000    0.000000    0.000000    0.000000   \n",
       "25%      1.0   20.000000    9.000000    1.000000    0.000000    0.000000   \n",
       "50%      1.0   25.000000   11.000000    1.000000    0.000000    0.000000   \n",
       "75%      1.0   29.000000   12.000000    1.000000    0.000000    0.000000   \n",
       "max      1.0   48.000000   16.000000    1.000000    1.000000    1.000000   \n",
       "\n",
       "         nodegree          re74          re75          re78  propensity  \n",
       "count  185.000000    185.000000    185.000000    185.000000  185.000000  \n",
       "mean     0.708108   2095.573689   1532.055314   6349.143530    0.569691  \n",
       "std      0.455867   4886.620353   3219.250870   7867.402218    0.211655  \n",
       "min      0.000000      0.000000      0.000000      0.000000    0.036555  \n",
       "25%      0.000000      0.000000      0.000000    485.229800    0.519606  \n",
       "50%      1.000000      0.000000      0.000000   4232.309000    0.662079  \n",
       "75%      1.000000   1291.468000   1817.284000   9642.999000    0.715502  \n",
       "max      1.000000  35040.070000  25142.240000  60307.930000    0.833513  "
      ]
     },
     "execution_count": 174,
     "metadata": {},
     "output_type": "execute_result"
    }
   ],
   "source": [
    "treated_critical.describe()"
   ]
  },
  {
   "cell_type": "code",
   "execution_count": 175,
   "metadata": {},
   "outputs": [
    {
     "data": {
      "text/html": [
       "<div>\n",
       "<style>\n",
       "    .dataframe thead tr:only-child th {\n",
       "        text-align: right;\n",
       "    }\n",
       "\n",
       "    .dataframe thead th {\n",
       "        text-align: left;\n",
       "    }\n",
       "\n",
       "    .dataframe tbody tr th {\n",
       "        vertical-align: top;\n",
       "    }\n",
       "</style>\n",
       "<table border=\"1\" class=\"dataframe\">\n",
       "  <thead>\n",
       "    <tr style=\"text-align: right;\">\n",
       "      <th></th>\n",
       "      <th>treat</th>\n",
       "      <th>age</th>\n",
       "      <th>educ</th>\n",
       "      <th>black</th>\n",
       "      <th>hispan</th>\n",
       "      <th>married</th>\n",
       "      <th>nodegree</th>\n",
       "      <th>re74</th>\n",
       "      <th>re75</th>\n",
       "      <th>re78</th>\n",
       "      <th>propensity</th>\n",
       "    </tr>\n",
       "  </thead>\n",
       "  <tbody>\n",
       "    <tr>\n",
       "      <th>count</th>\n",
       "      <td>185.0</td>\n",
       "      <td>185.000000</td>\n",
       "      <td>185.000000</td>\n",
       "      <td>185.000000</td>\n",
       "      <td>185.000000</td>\n",
       "      <td>185.000000</td>\n",
       "      <td>185.000000</td>\n",
       "      <td>185.000000</td>\n",
       "      <td>185.000000</td>\n",
       "      <td>185.000000</td>\n",
       "      <td>185.000000</td>\n",
       "    </tr>\n",
       "    <tr>\n",
       "      <th>mean</th>\n",
       "      <td>0.0</td>\n",
       "      <td>29.664865</td>\n",
       "      <td>10.583784</td>\n",
       "      <td>0.578378</td>\n",
       "      <td>0.086486</td>\n",
       "      <td>0.313514</td>\n",
       "      <td>0.621622</td>\n",
       "      <td>2048.810458</td>\n",
       "      <td>1418.516125</td>\n",
       "      <td>5054.783492</td>\n",
       "      <td>0.431244</td>\n",
       "    </tr>\n",
       "    <tr>\n",
       "      <th>std</th>\n",
       "      <td>0.0</td>\n",
       "      <td>12.796319</td>\n",
       "      <td>2.280531</td>\n",
       "      <td>0.495159</td>\n",
       "      <td>0.281844</td>\n",
       "      <td>0.465180</td>\n",
       "      <td>0.486299</td>\n",
       "      <td>4656.477253</td>\n",
       "      <td>2773.106753</td>\n",
       "      <td>7062.459657</td>\n",
       "      <td>0.281652</td>\n",
       "    </tr>\n",
       "    <tr>\n",
       "      <th>min</th>\n",
       "      <td>0.0</td>\n",
       "      <td>16.000000</td>\n",
       "      <td>2.000000</td>\n",
       "      <td>0.000000</td>\n",
       "      <td>0.000000</td>\n",
       "      <td>0.000000</td>\n",
       "      <td>0.000000</td>\n",
       "      <td>0.000000</td>\n",
       "      <td>0.000000</td>\n",
       "      <td>0.000000</td>\n",
       "      <td>0.019498</td>\n",
       "    </tr>\n",
       "    <tr>\n",
       "      <th>25%</th>\n",
       "      <td>0.0</td>\n",
       "      <td>19.000000</td>\n",
       "      <td>9.000000</td>\n",
       "      <td>0.000000</td>\n",
       "      <td>0.000000</td>\n",
       "      <td>0.000000</td>\n",
       "      <td>0.000000</td>\n",
       "      <td>0.000000</td>\n",
       "      <td>0.000000</td>\n",
       "      <td>0.000000</td>\n",
       "      <td>0.118378</td>\n",
       "    </tr>\n",
       "    <tr>\n",
       "      <th>50%</th>\n",
       "      <td>0.0</td>\n",
       "      <td>24.000000</td>\n",
       "      <td>11.000000</td>\n",
       "      <td>1.000000</td>\n",
       "      <td>0.000000</td>\n",
       "      <td>0.000000</td>\n",
       "      <td>1.000000</td>\n",
       "      <td>0.000000</td>\n",
       "      <td>0.000000</td>\n",
       "      <td>1454.083000</td>\n",
       "      <td>0.559726</td>\n",
       "    </tr>\n",
       "    <tr>\n",
       "      <th>75%</th>\n",
       "      <td>0.0</td>\n",
       "      <td>40.000000</td>\n",
       "      <td>12.000000</td>\n",
       "      <td>1.000000</td>\n",
       "      <td>0.000000</td>\n",
       "      <td>1.000000</td>\n",
       "      <td>1.000000</td>\n",
       "      <td>803.299400</td>\n",
       "      <td>1906.694000</td>\n",
       "      <td>9166.338000</td>\n",
       "      <td>0.700650</td>\n",
       "    </tr>\n",
       "    <tr>\n",
       "      <th>max</th>\n",
       "      <td>0.0</td>\n",
       "      <td>55.000000</td>\n",
       "      <td>17.000000</td>\n",
       "      <td>1.000000</td>\n",
       "      <td>1.000000</td>\n",
       "      <td>1.000000</td>\n",
       "      <td>1.000000</td>\n",
       "      <td>25862.320000</td>\n",
       "      <td>18347.230000</td>\n",
       "      <td>25564.670000</td>\n",
       "      <td>0.750716</td>\n",
       "    </tr>\n",
       "  </tbody>\n",
       "</table>\n",
       "</div>"
      ],
      "text/plain": [
       "       treat         age        educ       black      hispan     married  \\\n",
       "count  185.0  185.000000  185.000000  185.000000  185.000000  185.000000   \n",
       "mean     0.0   29.664865   10.583784    0.578378    0.086486    0.313514   \n",
       "std      0.0   12.796319    2.280531    0.495159    0.281844    0.465180   \n",
       "min      0.0   16.000000    2.000000    0.000000    0.000000    0.000000   \n",
       "25%      0.0   19.000000    9.000000    0.000000    0.000000    0.000000   \n",
       "50%      0.0   24.000000   11.000000    1.000000    0.000000    0.000000   \n",
       "75%      0.0   40.000000   12.000000    1.000000    0.000000    1.000000   \n",
       "max      0.0   55.000000   17.000000    1.000000    1.000000    1.000000   \n",
       "\n",
       "         nodegree          re74          re75          re78  propensity  \n",
       "count  185.000000    185.000000    185.000000    185.000000  185.000000  \n",
       "mean     0.621622   2048.810458   1418.516125   5054.783492    0.431244  \n",
       "std      0.486299   4656.477253   2773.106753   7062.459657    0.281652  \n",
       "min      0.000000      0.000000      0.000000      0.000000    0.019498  \n",
       "25%      0.000000      0.000000      0.000000      0.000000    0.118378  \n",
       "50%      1.000000      0.000000      0.000000   1454.083000    0.559726  \n",
       "75%      1.000000    803.299400   1906.694000   9166.338000    0.700650  \n",
       "max      1.000000  25862.320000  18347.230000  25564.670000    0.750716  "
      ]
     },
     "execution_count": 175,
     "metadata": {},
     "output_type": "execute_result"
    }
   ],
   "source": [
    "matches_critical.describe()"
   ]
  },
  {
   "cell_type": "markdown",
   "metadata": {},
   "source": [
    "#### SAY SOMETHING ABOUT THESE BALANCED PLOTS"
   ]
  },
  {
   "cell_type": "markdown",
   "metadata": {},
   "source": [
    "## Part 6\n",
    "\n",
    "Task: A less naive analysis\n",
    "\n",
    "Compare the outcomes (re78) between treated and control subjects, as you've done in part 1, but now only for the matched dataset you've obtained from part 5. What do you conclude about the effectiveness of the job training program?"
   ]
  },
  {
   "cell_type": "markdown",
   "metadata": {},
   "source": [
    "* In this section we come back on point 1, in order to show the differcens between the first section and the 5th one."
   ]
  },
  {
   "cell_type": "code",
   "execution_count": 156,
   "metadata": {},
   "outputs": [
    {
     "data": {
      "image/png": "[encoded data removed]",
      "text/plain": [
       "<matplotlib.figure.Figure at 0x1a22377ac8>"
      ]
     },
     "metadata": {},
     "output_type": "display_data"
    }
   ],
   "source": [
    "fig, ax = plt.subplots()\n",
    "ax.hist(lalonde.re78)\n",
    "ax.set_title(\"re78 distribution on entire dataset\")\n",
    "plt.show()"
   ]
  },
  {
   "cell_type": "markdown",
   "metadata": {},
   "source": [
    "* Here we show the distributions of re78 first on treated subjects dataset and then on the not treated subjects dataset."
   ]
  },
  {
   "cell_type": "code",
   "execution_count": 157,
   "metadata": {
    "scrolled": true
   },
   "outputs": [
    {
     "data": {
      "image/png": "[encoded data removed]",
      "text/plain": [
       "<matplotlib.figure.Figure at 0x11887f1d0>"
      ]
     },
     "metadata": {},
     "output_type": "display_data"
    }
   ],
   "source": [
    "lalonde_treat = lalonde[lalonde.treat == 1]\n",
    "lalonde_notreat = lalonde[lalonde.treat == 0]\n",
    "\n",
    "fig, axs = plt.subplots(1, 3, figsize=(18,6))\n",
    "\n",
    "axs[0].hist(lalonde_treat.re78)\n",
    "axs[0].set_title(\"re78 distribution on treated\")\n",
    "axs[1].hist(lalonde_notreat.re78)\n",
    "axs[1].set_title(\"re78 distribution on not treated\")\n",
    "axs[2].hist(matches_critical.re78)\n",
    "axs[2].set_title(\"re78 distribution on not treated with problematic features - matches\")\n",
    "plt.show()"
   ]
  },
  {
   "cell_type": "code",
   "execution_count": 159,
   "metadata": {
    "scrolled": true
   },
   "outputs": [
    {
     "data": {
      "image/png": "[encoded data removed]",
      "text/plain": [
       "<matplotlib.figure.Figure at 0x1a22366588>"
      ]
     },
     "metadata": {},
     "output_type": "display_data"
    }
   ],
   "source": [
    "fig, axs = plt.subplots(1, 3, figsize=(18,6), sharey=True)\n",
    "\n",
    "lalonde_treat[['re78']].boxplot(ax=axs[0], fontsize=15, grid=False)\n",
    "axs[0].set_title(\"re78 distribution on treated\")\n",
    "lalonde_notreat[['re78']].boxplot(ax=axs[1], fontsize=15, grid=False)\n",
    "axs[1].set_title(\"re78 distribution on not treated\")\n",
    "matches_critical[['re78']].boxplot(ax=axs[2], fontsize=15, grid=False)\n",
    "axs[2].set_title(\"re78 distribution on not treated with problematic features - matches\")\n",
    "plt.show()"
   ]
  },
  {
   "cell_type": "code",
   "execution_count": 160,
   "metadata": {
    "scrolled": true
   },
   "outputs": [
    {
     "data": {
      "text/plain": [
       "count      185.000000\n",
       "mean      6349.143530\n",
       "std       7867.402218\n",
       "min          0.000000\n",
       "25%        485.229800\n",
       "50%       4232.309000\n",
       "75%       9642.999000\n",
       "max      60307.930000\n",
       "Name: re78, dtype: float64"
      ]
     },
     "execution_count": 160,
     "metadata": {},
     "output_type": "execute_result"
    }
   ],
   "source": [
    "lalonde_treat.re78.describe()"
   ]
  },
  {
   "cell_type": "code",
   "execution_count": 161,
   "metadata": {
    "scrolled": true
   },
   "outputs": [
    {
     "data": {
      "text/plain": [
       "count      429.000000\n",
       "mean      6984.169742\n",
       "std       7294.161791\n",
       "min          0.000000\n",
       "25%        220.181300\n",
       "50%       4975.505000\n",
       "75%      11688.820000\n",
       "max      25564.670000\n",
       "Name: re78, dtype: float64"
      ]
     },
     "execution_count": 161,
     "metadata": {},
     "output_type": "execute_result"
    }
   ],
   "source": [
    "lalonde_notreat.re78.describe()"
   ]
  },
  {
   "cell_type": "code",
   "execution_count": 162,
   "metadata": {},
   "outputs": [
    {
     "data": {
      "text/plain": [
       "count      185.000000\n",
       "mean      5988.922367\n",
       "std       6620.291734\n",
       "min          0.000000\n",
       "25%        461.050700\n",
       "50%       3392.860000\n",
       "75%      10122.430000\n",
       "max      25564.670000\n",
       "Name: re78, dtype: float64"
      ]
     },
     "execution_count": 162,
     "metadata": {},
     "output_type": "execute_result"
    }
   ],
   "source": [
    "matches_critical.re78.describe()"
   ]
  },
  {
   "cell_type": "markdown",
   "metadata": {},
   "source": [
    "### With this more complete analysis we can conclude that... What do you conclude about the effectiveness of the job training program?... TODO!!!"
   ]
  }
 ],
 "metadata": {
  "kernelspec": {
   "display_name": "Python 3",
   "language": "python",
   "name": "python3"
  },
  "language_info": {
   "codemirror_mode": {
    "name": "ipython",
    "version": 3
   },
   "file_extension": ".py",
   "mimetype": "text/x-python",
   "name": "python",
   "nbconvert_exporter": "python",
   "pygments_lexer": "ipython3",
   "version": "3.6.1"
  }
 },
 "nbformat": 4,
 "nbformat_minor": 2
}
